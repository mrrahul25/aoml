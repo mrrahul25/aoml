{
 "cells": [
  {
   "cell_type": "code",
   "execution_count": 1,
   "metadata": {
    "_cell_guid": "b1076dfc-b9ad-4769-8c92-a6c4dae69d19",
    "_uuid": "8f2839f25d086af736a60e9eeb907d3b93b6e0e5",
    "execution": {
     "iopub.execute_input": "2020-10-30T04:22:28.753044Z",
     "iopub.status.busy": "2020-10-30T04:22:28.750570Z",
     "iopub.status.idle": "2020-10-30T04:22:39.779210Z",
     "shell.execute_reply": "2020-10-30T04:22:39.778572Z"
    },
    "papermill": {
     "duration": 11.054253,
     "end_time": "2020-10-30T04:22:39.779353",
     "exception": false,
     "start_time": "2020-10-30T04:22:28.725100",
     "status": "completed"
    },
    "tags": []
   },
   "outputs": [
    {
     "name": "stdout",
     "output_type": "stream",
     "text": [
      "Collecting chart_studio\r\n",
      "  Downloading chart_studio-1.1.0-py3-none-any.whl (64 kB)\r\n",
      "\u001b[K     |████████████████████████████████| 64 kB 1.2 MB/s \r\n",
      "\u001b[?25hRequirement already satisfied: requests in /opt/conda/lib/python3.7/site-packages (from chart_studio) (2.23.0)\r\n",
      "Requirement already satisfied: plotly in /opt/conda/lib/python3.7/site-packages (from chart_studio) (4.8.1)\r\n",
      "Requirement already satisfied: six in /opt/conda/lib/python3.7/site-packages (from chart_studio) (1.14.0)\r\n",
      "Requirement already satisfied: retrying>=1.3.3 in /opt/conda/lib/python3.7/site-packages (from chart_studio) (1.3.3)\r\n",
      "Requirement already satisfied: chardet<4,>=3.0.2 in /opt/conda/lib/python3.7/site-packages (from requests->chart_studio) (3.0.4)\r\n",
      "Requirement already satisfied: idna<3,>=2.5 in /opt/conda/lib/python3.7/site-packages (from requests->chart_studio) (2.9)\r\n",
      "Requirement already satisfied: urllib3!=1.25.0,!=1.25.1,<1.26,>=1.21.1 in /opt/conda/lib/python3.7/site-packages (from requests->chart_studio) (1.24.3)\r\n",
      "Requirement already satisfied: certifi>=2017.4.17 in /opt/conda/lib/python3.7/site-packages (from requests->chart_studio) (2020.6.20)\r\n",
      "Installing collected packages: chart-studio\r\n",
      "Successfully installed chart-studio-1.1.0\r\n",
      "\u001b[33mWARNING: You are using pip version 20.1.1; however, version 20.2.4 is available.\r\n",
      "You should consider upgrading via the '/opt/conda/bin/python3.7 -m pip install --upgrade pip' command.\u001b[0m\r\n"
     ]
    },
    {
     "data": {
      "text/html": [
       "        <script type=\"text/javascript\">\n",
       "        window.PlotlyConfig = {MathJaxConfig: 'local'};\n",
       "        if (window.MathJax) {MathJax.Hub.Config({SVG: {font: \"STIX-Web\"}});}\n",
       "        if (typeof require !== 'undefined') {\n",
       "        require.undef(\"plotly\");\n",
       "        requirejs.config({\n",
       "            paths: {\n",
       "                'plotly': ['https://cdn.plot.ly/plotly-latest.min']\n",
       "            }\n",
       "        });\n",
       "        require(['plotly'], function(Plotly) {\n",
       "            window._Plotly = Plotly;\n",
       "        });\n",
       "        }\n",
       "        </script>\n",
       "        "
      ]
     },
     "metadata": {},
     "output_type": "display_data"
    }
   ],
   "source": [
    "#loading\n",
    "import pandas as pd\n",
    "import numpy as np\n",
    "import missingno as msno\n",
    "# Data Visualization\n",
    "import matplotlib.pyplot as plt\n",
    "import seaborn as sns\n",
    "!pip install chart_studio\n",
    "import chart_studio.plotly as py\n",
    "import plotly.graph_objs as go\n",
    "from plotly.offline import iplot, init_notebook_mode\n",
    "import cufflinks\n",
    "cufflinks.go_offline()\n",
    "cufflinks.set_config_file(world_readable=True, theme='pearl')\n",
    "#preprocessing \n",
    "from sklearn.preprocessing import StandardScaler, LabelEncoder\n",
    "from collections import Counter\n",
    "# Classification \n",
    "from sklearn.model_selection import train_test_split\n",
    "from sklearn.metrics import confusion_matrix, classification_report, accuracy_score\n",
    "from sklearn.svm import SVC\n",
    "from sklearn.ensemble import RandomForestClassifier\n",
    "from xgboost import XGBClassifier"
   ]
  },
  {
   "cell_type": "code",
   "execution_count": 2,
   "metadata": {
    "_cell_guid": "79c7e3d0-c299-4dcb-8224-4455121ee9b0",
    "_uuid": "d629ff2d2480ee46fbb7e2d37f6b5fab8052498a",
    "execution": {
     "iopub.execute_input": "2020-10-30T04:22:39.831797Z",
     "iopub.status.busy": "2020-10-30T04:22:39.828317Z",
     "iopub.status.idle": "2020-10-30T04:22:41.550562Z",
     "shell.execute_reply": "2020-10-30T04:22:41.550008Z"
    },
    "papermill": {
     "duration": 1.750704,
     "end_time": "2020-10-30T04:22:41.550679",
     "exception": false,
     "start_time": "2020-10-30T04:22:39.799975",
     "status": "completed"
    },
    "tags": []
   },
   "outputs": [
    {
     "data": {
      "text/html": [
       "<div>\n",
       "<style scoped>\n",
       "    .dataframe tbody tr th:only-of-type {\n",
       "        vertical-align: middle;\n",
       "    }\n",
       "\n",
       "    .dataframe tbody tr th {\n",
       "        vertical-align: top;\n",
       "    }\n",
       "\n",
       "    .dataframe thead th {\n",
       "        text-align: right;\n",
       "    }\n",
       "</style>\n",
       "<table border=\"1\" class=\"dataframe\">\n",
       "  <thead>\n",
       "    <tr style=\"text-align: right;\">\n",
       "      <th></th>\n",
       "      <th>City</th>\n",
       "      <th>Date</th>\n",
       "      <th>PM2.5</th>\n",
       "      <th>PM10</th>\n",
       "      <th>NO</th>\n",
       "      <th>NO2</th>\n",
       "      <th>NOx</th>\n",
       "      <th>NH3</th>\n",
       "      <th>CO</th>\n",
       "      <th>SO2</th>\n",
       "      <th>O3</th>\n",
       "      <th>Benzene</th>\n",
       "      <th>Toluene</th>\n",
       "      <th>Xylene</th>\n",
       "      <th>AQI</th>\n",
       "      <th>Air_quality</th>\n",
       "    </tr>\n",
       "  </thead>\n",
       "  <tbody>\n",
       "    <tr>\n",
       "      <th>0</th>\n",
       "      <td>Ahmedabad</td>\n",
       "      <td>2015-01-01</td>\n",
       "      <td>NaN</td>\n",
       "      <td>NaN</td>\n",
       "      <td>0.92</td>\n",
       "      <td>18.22</td>\n",
       "      <td>17.15</td>\n",
       "      <td>NaN</td>\n",
       "      <td>0.92</td>\n",
       "      <td>27.64</td>\n",
       "      <td>133.36</td>\n",
       "      <td>0.00</td>\n",
       "      <td>0.02</td>\n",
       "      <td>0.00</td>\n",
       "      <td>NaN</td>\n",
       "      <td>NaN</td>\n",
       "    </tr>\n",
       "    <tr>\n",
       "      <th>1</th>\n",
       "      <td>Ahmedabad</td>\n",
       "      <td>2015-01-02</td>\n",
       "      <td>NaN</td>\n",
       "      <td>NaN</td>\n",
       "      <td>0.97</td>\n",
       "      <td>15.69</td>\n",
       "      <td>16.46</td>\n",
       "      <td>NaN</td>\n",
       "      <td>0.97</td>\n",
       "      <td>24.55</td>\n",
       "      <td>34.06</td>\n",
       "      <td>3.68</td>\n",
       "      <td>5.50</td>\n",
       "      <td>3.77</td>\n",
       "      <td>NaN</td>\n",
       "      <td>NaN</td>\n",
       "    </tr>\n",
       "    <tr>\n",
       "      <th>2</th>\n",
       "      <td>Ahmedabad</td>\n",
       "      <td>2015-01-03</td>\n",
       "      <td>NaN</td>\n",
       "      <td>NaN</td>\n",
       "      <td>17.40</td>\n",
       "      <td>19.30</td>\n",
       "      <td>29.70</td>\n",
       "      <td>NaN</td>\n",
       "      <td>17.40</td>\n",
       "      <td>29.07</td>\n",
       "      <td>30.70</td>\n",
       "      <td>6.80</td>\n",
       "      <td>16.40</td>\n",
       "      <td>2.25</td>\n",
       "      <td>NaN</td>\n",
       "      <td>NaN</td>\n",
       "    </tr>\n",
       "    <tr>\n",
       "      <th>3</th>\n",
       "      <td>Ahmedabad</td>\n",
       "      <td>2015-01-04</td>\n",
       "      <td>NaN</td>\n",
       "      <td>NaN</td>\n",
       "      <td>1.70</td>\n",
       "      <td>18.48</td>\n",
       "      <td>17.97</td>\n",
       "      <td>NaN</td>\n",
       "      <td>1.70</td>\n",
       "      <td>18.59</td>\n",
       "      <td>36.08</td>\n",
       "      <td>4.43</td>\n",
       "      <td>10.14</td>\n",
       "      <td>1.00</td>\n",
       "      <td>NaN</td>\n",
       "      <td>NaN</td>\n",
       "    </tr>\n",
       "    <tr>\n",
       "      <th>4</th>\n",
       "      <td>Ahmedabad</td>\n",
       "      <td>2015-01-05</td>\n",
       "      <td>NaN</td>\n",
       "      <td>NaN</td>\n",
       "      <td>22.10</td>\n",
       "      <td>21.42</td>\n",
       "      <td>37.76</td>\n",
       "      <td>NaN</td>\n",
       "      <td>22.10</td>\n",
       "      <td>39.33</td>\n",
       "      <td>39.31</td>\n",
       "      <td>7.01</td>\n",
       "      <td>18.89</td>\n",
       "      <td>2.78</td>\n",
       "      <td>NaN</td>\n",
       "      <td>NaN</td>\n",
       "    </tr>\n",
       "  </tbody>\n",
       "</table>\n",
       "</div>"
      ],
      "text/plain": [
       "        City       Date  PM2.5  PM10     NO    NO2    NOx  NH3     CO    SO2  \\\n",
       "0  Ahmedabad 2015-01-01    NaN   NaN   0.92  18.22  17.15  NaN   0.92  27.64   \n",
       "1  Ahmedabad 2015-01-02    NaN   NaN   0.97  15.69  16.46  NaN   0.97  24.55   \n",
       "2  Ahmedabad 2015-01-03    NaN   NaN  17.40  19.30  29.70  NaN  17.40  29.07   \n",
       "3  Ahmedabad 2015-01-04    NaN   NaN   1.70  18.48  17.97  NaN   1.70  18.59   \n",
       "4  Ahmedabad 2015-01-05    NaN   NaN  22.10  21.42  37.76  NaN  22.10  39.33   \n",
       "\n",
       "       O3  Benzene  Toluene  Xylene  AQI Air_quality  \n",
       "0  133.36     0.00     0.02    0.00  NaN         NaN  \n",
       "1   34.06     3.68     5.50    3.77  NaN         NaN  \n",
       "2   30.70     6.80    16.40    2.25  NaN         NaN  \n",
       "3   36.08     4.43    10.14    1.00  NaN         NaN  \n",
       "4   39.31     7.01    18.89    2.78  NaN         NaN  "
      ]
     },
     "execution_count": 2,
     "metadata": {},
     "output_type": "execute_result"
    }
   ],
   "source": [
    "data = pd.read_csv(\"../data/air-quality-pre-and-post-covid19-pandemic/City_day.csv\")\n",
    "data['Date'] = pd.to_datetime(data['Date'])\n",
    "data.head()"
   ]
  },
  {
   "cell_type": "code",
   "execution_count": 3,
   "metadata": {
    "execution": {
     "iopub.execute_input": "2020-10-30T04:22:41.596841Z",
     "iopub.status.busy": "2020-10-30T04:22:41.596165Z",
     "iopub.status.idle": "2020-10-30T04:22:41.617446Z",
     "shell.execute_reply": "2020-10-30T04:22:41.616863Z"
    },
    "papermill": {
     "duration": 0.046322,
     "end_time": "2020-10-30T04:22:41.617585",
     "exception": false,
     "start_time": "2020-10-30T04:22:41.571263",
     "status": "completed"
    },
    "tags": []
   },
   "outputs": [
    {
     "name": "stdout",
     "output_type": "stream",
     "text": [
      "<class 'pandas.core.frame.DataFrame'>\n",
      "RangeIndex: 26219 entries, 0 to 26218\n",
      "Data columns (total 16 columns):\n",
      " #   Column       Non-Null Count  Dtype         \n",
      "---  ------       --------------  -----         \n",
      " 0   City         26219 non-null  object        \n",
      " 1   Date         26219 non-null  datetime64[ns]\n",
      " 2   PM2.5        21930 non-null  float64       \n",
      " 3   PM10         15453 non-null  float64       \n",
      " 4   NO           22986 non-null  float64       \n",
      " 5   NO2          23002 non-null  float64       \n",
      " 6   NOx          22176 non-null  float64       \n",
      " 7   NH3          16372 non-null  float64       \n",
      " 8   CO           24258 non-null  float64       \n",
      " 9   SO2          22675 non-null  float64       \n",
      " 10  O3           22559 non-null  float64       \n",
      " 11  Benzene      20932 non-null  float64       \n",
      " 12  Toluene      18664 non-null  float64       \n",
      " 13  Xylene       9412 non-null   float64       \n",
      " 14  AQI          21937 non-null  float64       \n",
      " 15  Air_quality  21937 non-null  object        \n",
      "dtypes: datetime64[ns](1), float64(13), object(2)\n",
      "memory usage: 3.2+ MB\n"
     ]
    }
   ],
   "source": [
    "data.info()"
   ]
  },
  {
   "cell_type": "code",
   "execution_count": 4,
   "metadata": {
    "execution": {
     "iopub.execute_input": "2020-10-30T04:22:41.706650Z",
     "iopub.status.busy": "2020-10-30T04:22:41.705879Z",
     "iopub.status.idle": "2020-10-30T04:22:42.405526Z",
     "shell.execute_reply": "2020-10-30T04:22:42.404793Z"
    },
    "papermill": {
     "duration": 0.725003,
     "end_time": "2020-10-30T04:22:42.405787",
     "exception": false,
     "start_time": "2020-10-30T04:22:41.680784",
     "status": "completed"
    },
    "tags": []
   },
   "outputs": [
    {
     "data": {
      "text/plain": [
       "<matplotlib.axes._subplots.AxesSubplot at 0x7ff0ee8e2f90>"
      ]
     },
     "execution_count": 4,
     "metadata": {},
     "output_type": "execute_result"
    },
    {
     "data": {
      "image/png": "[encoded data removed]",
      "text/plain": [
       "<Figure size 1440x864 with 2 Axes>"
      ]
     },
     "metadata": {
      "needs_background": "light"
     },
     "output_type": "display_data"
    }
   ],
   "source": [
    "msno.heatmap(data)"
   ]
  },
  {
   "cell_type": "code",
   "execution_count": 5,
   "metadata": {
    "execution": {
     "iopub.execute_input": "2020-10-30T04:22:42.463435Z",
     "iopub.status.busy": "2020-10-30T04:22:42.462521Z",
     "iopub.status.idle": "2020-10-30T04:22:42.483610Z",
     "shell.execute_reply": "2020-10-30T04:22:42.482924Z"
    },
    "papermill": {
     "duration": 0.053564,
     "end_time": "2020-10-30T04:22:42.483729",
     "exception": false,
     "start_time": "2020-10-30T04:22:42.430165",
     "status": "completed"
    },
    "tags": []
   },
   "outputs": [],
   "source": [
    "df1 = data.copy()\n",
    "df1['PM2.5']=df1['PM2.5'].fillna((df1['PM2.5'].median()))\n",
    "df1['PM10']=df1['PM10'].fillna((df1['PM10'].median()))\n",
    "df1['NO']=df1['NO'].fillna((df1['NO'].median()))\n",
    "df1['NO2']=df1['NO2'].fillna((df1['NO2'].median()))\n",
    "df1['NOx']=df1['NOx'].fillna((df1['NOx'].median()))\n",
    "df1['NH3']=df1['NH3'].fillna((df1['NH3'].median()))\n",
    "df1['CO']=df1['CO'].fillna((df1['CO'].median()))\n",
    "df1['SO2']=df1['SO2'].fillna((df1['SO2'].median()))\n",
    "df1['O3']=df1['O3'].fillna((df1['O3'].median()))\n",
    "df1['Benzene']=df1['Benzene'].fillna((df1['Benzene'].median()))\n",
    "df1['Toluene']=df1['Toluene'].fillna((df1['Toluene'].median()))\n",
    "df1['Xylene']=df1['Xylene'].fillna((df1['Xylene'].median()))\n",
    "df1['AQI']=df1['AQI'].fillna((df1['AQI'].median()))\n",
    "df1['Air_quality']=df1['Air_quality'].fillna('Moderate')"
   ]
  },
  {
   "cell_type": "code",
   "execution_count": 6,
   "metadata": {
    "execution": {
     "iopub.execute_input": "2020-10-30T04:22:42.585695Z",
     "iopub.status.busy": "2020-10-30T04:22:42.584642Z",
     "iopub.status.idle": "2020-10-30T04:22:42.618825Z",
     "shell.execute_reply": "2020-10-30T04:22:42.619579Z"
    },
    "papermill": {
     "duration": 0.065533,
     "end_time": "2020-10-30T04:22:42.619784",
     "exception": false,
     "start_time": "2020-10-30T04:22:42.554251",
     "status": "completed"
    },
    "tags": []
   },
   "outputs": [
    {
     "name": "stdout",
     "output_type": "stream",
     "text": [
      "<class 'pandas.core.frame.DataFrame'>\n",
      "Int64Index: 23424 entries, 0 to 26097\n",
      "Data columns (total 6 columns):\n",
      " #   Column                        Non-Null Count  Dtype         \n",
      "---  ------                        --------------  -----         \n",
      " 0   City                          23424 non-null  object        \n",
      " 1   Date                          23424 non-null  datetime64[ns]\n",
      " 2   AQI                           23424 non-null  float64       \n",
      " 3   Air_quality                   23424 non-null  object        \n",
      " 4   Vehicular Pollution content   23424 non-null  float64       \n",
      " 5   Industrial Pollution content  23424 non-null  float64       \n",
      "dtypes: datetime64[ns](1), float64(3), object(2)\n",
      "memory usage: 1.3+ MB\n"
     ]
    }
   ],
   "source": [
    "df = df1.copy()\n",
    "df = df[df['Date'] <= ('01-01-2020')] \n",
    "df['Vehicular Pollution content'] = df['PM2.5']+df['PM10']+df['NO']+df['NO2']+df['NOx']+df['NH3']+df['CO']\n",
    "df['Industrial Pollution content'] = df['SO2']+df['O3']+df['Benzene']+df['Toluene']+df['Xylene']\n",
    "df = df.drop(['PM2.5', 'PM10', 'NO', 'NO2', 'NOx', 'NH3', 'CO', 'SO2',\n",
    "       'O3','Benzene','Toluene','Xylene'],axis=1)\n",
    "df.info()"
   ]
  },
  {
   "cell_type": "code",
   "execution_count": 9,
   "metadata": {
    "execution": {
     "iopub.execute_input": "2020-10-30T04:22:45.402744Z",
     "iopub.status.busy": "2020-10-30T04:22:45.401969Z",
     "iopub.status.idle": "2020-10-30T04:22:45.491040Z",
     "shell.execute_reply": "2020-10-30T04:22:45.491543Z"
    },
    "papermill": {
     "duration": 0.377596,
     "end_time": "2020-10-30T04:22:45.491690",
     "exception": false,
     "start_time": "2020-10-30T04:22:45.114094",
     "status": "completed"
    },
    "tags": []
   },
   "outputs": [
    {
     "data": {
      "application/vnd.plotly.v1+json": {
       "config": {
        "linkText": "Export to plot.ly",
        "plotlyServerURL": "https://plot.ly",
        "showLink": true
       },
       "data": [
        {
         "marker": {
          "color": "rgba(255, 153, 51, 0.6)",
          "line": {
           "color": "rgba(255, 153, 51, 1.0)",
           "width": 1
          }
         },
         "name": "Industrial Pollution content",
         "orientation": "v",
         "text": "",
         "type": "bar",
         "x": [
          "Brajrajnagar",
          "Shillong",
          "Chandigarh",
          "Amritsar",
          "Thiruvananthapuram",
          "Talcher",
          "Chennai",
          "Mumbai",
          "Bengaluru",
          "Guwahati"
         ],
         "y": [
          34.167870370370395,
          38.08085937499997,
          38.56483606557378,
          43.549364773821004,
          44.20739784946236,
          44.40179004037681,
          44.97402298850576,
          46.16828680897683,
          46.584258347017006,
          47.67078125000002
         ]
        }
       ],
       "layout": {
        "legend": {
         "bgcolor": "#F5F6F9",
         "font": {
          "color": "#4D5663"
         }
        },
        "paper_bgcolor": "#F5F6F9",
        "plot_bgcolor": "#F5F6F9",
        "template": {
         "data": {
          "bar": [
           {
            "error_x": {
             "color": "#2a3f5f"
            },
            "error_y": {
             "color": "#2a3f5f"
            },
            "marker": {
             "line": {
              "color": "#E5ECF6",
              "width": 0.5
             }
            },
            "type": "bar"
           }
          ],
          "barpolar": [
           {
            "marker": {
             "line": {
              "color": "#E5ECF6",
              "width": 0.5
             }
            },
            "type": "barpolar"
           }
          ],
          "carpet": [
           {
            "aaxis": {
             "endlinecolor": "#2a3f5f",
             "gridcolor": "white",
             "linecolor": "white",
             "minorgridcolor": "white",
             "startlinecolor": "#2a3f5f"
            },
            "baxis": {
             "endlinecolor": "#2a3f5f",
             "gridcolor": "white",
             "linecolor": "white",
             "minorgridcolor": "white",
             "startlinecolor": "#2a3f5f"
            },
            "type": "carpet"
           }
          ],
          "choropleth": [
           {
            "colorbar": {
             "outlinewidth": 0,
             "ticks": ""
            },
            "type": "choropleth"
           }
          ],
          "contour": [
           {
            "colorbar": {
             "outlinewidth": 0,
             "ticks": ""
            },
            "colorscale": [
             [
              0,
              "#0d0887"
             ],
             [
              0.1111111111111111,
              "#46039f"
             ],
             [
              0.2222222222222222,
              "#7201a8"
             ],
             [
              0.3333333333333333,
              "#9c179e"
             ],
             [
              0.4444444444444444,
              "#bd3786"
             ],
             [
              0.5555555555555556,
              "#d8576b"
             ],
             [
              0.6666666666666666,
              "#ed7953"
             ],
             [
              0.7777777777777778,
              "#fb9f3a"
             ],
             [
              0.8888888888888888,
              "#fdca26"
             ],
             [
              1,
              "#f0f921"
             ]
            ],
            "type": "contour"
           }
          ],
          "contourcarpet": [
           {
            "colorbar": {
             "outlinewidth": 0,
             "ticks": ""
            },
            "type": "contourcarpet"
           }
          ],
          "heatmap": [
           {
            "colorbar": {
             "outlinewidth": 0,
             "ticks": ""
            },
            "colorscale": [
             [
              0,
              "#0d0887"
             ],
             [
              0.1111111111111111,
              "#46039f"
             ],
             [
              0.2222222222222222,
              "#7201a8"
             ],
             [
              0.3333333333333333,
              "#9c179e"
             ],
             [
              0.4444444444444444,
              "#bd3786"
             ],
             [
              0.5555555555555556,
              "#d8576b"
             ],
             [
              0.6666666666666666,
              "#ed7953"
             ],
             [
              0.7777777777777778,
              "#fb9f3a"
             ],
             [
              0.8888888888888888,
              "#fdca26"
             ],
             [
              1,
              "#f0f921"
             ]
            ],
            "type": "heatmap"
           }
          ],
          "heatmapgl": [
           {
            "colorbar": {
             "outlinewidth": 0,
             "ticks": ""
            },
            "colorscale": [
             [
              0,
              "#0d0887"
             ],
             [
              0.1111111111111111,
              "#46039f"
             ],
             [
              0.2222222222222222,
              "#7201a8"
             ],
             [
              0.3333333333333333,
              "#9c179e"
             ],
             [
              0.4444444444444444,
              "#bd3786"
             ],
             [
              0.5555555555555556,
              "#d8576b"
             ],
             [
              0.6666666666666666,
              "#ed7953"
             ],
             [
              0.7777777777777778,
              "#fb9f3a"
             ],
             [
              0.8888888888888888,
              "#fdca26"
             ],
             [
              1,
              "#f0f921"
             ]
            ],
            "type": "heatmapgl"
           }
          ],
          "histogram": [
           {
            "marker": {
             "colorbar": {
              "outlinewidth": 0,
              "ticks": ""
             }
            },
            "type": "histogram"
           }
          ],
          "histogram2d": [
           {
            "colorbar": {
             "outlinewidth": 0,
             "ticks": ""
            },
            "colorscale": [
             [
              0,
              "#0d0887"
             ],
             [
              0.1111111111111111,
              "#46039f"
             ],
             [
              0.2222222222222222,
              "#7201a8"
             ],
             [
              0.3333333333333333,
              "#9c179e"
             ],
             [
              0.4444444444444444,
              "#bd3786"
             ],
             [
              0.5555555555555556,
              "#d8576b"
             ],
             [
              0.6666666666666666,
              "#ed7953"
             ],
             [
              0.7777777777777778,
              "#fb9f3a"
             ],
             [
              0.8888888888888888,
              "#fdca26"
             ],
             [
              1,
              "#f0f921"
             ]
            ],
            "type": "histogram2d"
           }
          ],
          "histogram2dcontour": [
           {
            "colorbar": {
             "outlinewidth": 0,
             "ticks": ""
            },
            "colorscale": [
             [
              0,
              "#0d0887"
             ],
             [
              0.1111111111111111,
              "#46039f"
             ],
             [
              0.2222222222222222,
              "#7201a8"
             ],
             [
              0.3333333333333333,
              "#9c179e"
             ],
             [
              0.4444444444444444,
              "#bd3786"
             ],
             [
              0.5555555555555556,
              "#d8576b"
             ],
             [
              0.6666666666666666,
              "#ed7953"
             ],
             [
              0.7777777777777778,
              "#fb9f3a"
             ],
             [
              0.8888888888888888,
              "#fdca26"
             ],
             [
              1,
              "#f0f921"
             ]
            ],
            "type": "histogram2dcontour"
           }
          ],
          "mesh3d": [
           {
            "colorbar": {
             "outlinewidth": 0,
             "ticks": ""
            },
            "type": "mesh3d"
           }
          ],
          "parcoords": [
           {
            "line": {
             "colorbar": {
              "outlinewidth": 0,
              "ticks": ""
             }
            },
            "type": "parcoords"
           }
          ],
          "pie": [
           {
            "automargin": true,
            "type": "pie"
           }
          ],
          "scatter": [
           {
            "marker": {
             "colorbar": {
              "outlinewidth": 0,
              "ticks": ""
             }
            },
            "type": "scatter"
           }
          ],
          "scatter3d": [
           {
            "line": {
             "colorbar": {
              "outlinewidth": 0,
              "ticks": ""
             }
            },
            "marker": {
             "colorbar": {
              "outlinewidth": 0,
              "ticks": ""
             }
            },
            "type": "scatter3d"
           }
          ],
          "scattercarpet": [
           {
            "marker": {
             "colorbar": {
              "outlinewidth": 0,
              "ticks": ""
             }
            },
            "type": "scattercarpet"
           }
          ],
          "scattergeo": [
           {
            "marker": {
             "colorbar": {
              "outlinewidth": 0,
              "ticks": ""
             }
            },
            "type": "scattergeo"
           }
          ],
          "scattergl": [
           {
            "marker": {
             "colorbar": {
              "outlinewidth": 0,
              "ticks": ""
             }
            },
            "type": "scattergl"
           }
          ],
          "scattermapbox": [
           {
            "marker": {
             "colorbar": {
              "outlinewidth": 0,
              "ticks": ""
             }
            },
            "type": "scattermapbox"
           }
          ],
          "scatterpolar": [
           {
            "marker": {
             "colorbar": {
              "outlinewidth": 0,
              "ticks": ""
             }
            },
            "type": "scatterpolar"
           }
          ],
          "scatterpolargl": [
           {
            "marker": {
             "colorbar": {
              "outlinewidth": 0,
              "ticks": ""
             }
            },
            "type": "scatterpolargl"
           }
          ],
          "scatterternary": [
           {
            "marker": {
             "colorbar": {
              "outlinewidth": 0,
              "ticks": ""
             }
            },
            "type": "scatterternary"
           }
          ],
          "surface": [
           {
            "colorbar": {
             "outlinewidth": 0,
             "ticks": ""
            },
            "colorscale": [
             [
              0,
              "#0d0887"
             ],
             [
              0.1111111111111111,
              "#46039f"
             ],
             [
              0.2222222222222222,
              "#7201a8"
             ],
             [
              0.3333333333333333,
              "#9c179e"
             ],
             [
              0.4444444444444444,
              "#bd3786"
             ],
             [
              0.5555555555555556,
              "#d8576b"
             ],
             [
              0.6666666666666666,
              "#ed7953"
             ],
             [
              0.7777777777777778,
              "#fb9f3a"
             ],
             [
              0.8888888888888888,
              "#fdca26"
             ],
             [
              1,
              "#f0f921"
             ]
            ],
            "type": "surface"
           }
          ],
          "table": [
           {
            "cells": {
             "fill": {
              "color": "#EBF0F8"
             },
             "line": {
              "color": "white"
             }
            },
            "header": {
             "fill": {
              "color": "#C8D4E3"
             },
             "line": {
              "color": "white"
             }
            },
            "type": "table"
           }
          ]
         },
         "layout": {
          "annotationdefaults": {
           "arrowcolor": "#2a3f5f",
           "arrowhead": 0,
           "arrowwidth": 1
          },
          "coloraxis": {
           "colorbar": {
            "outlinewidth": 0,
            "ticks": ""
           }
          },
          "colorscale": {
           "diverging": [
            [
             0,
             "#8e0152"
            ],
            [
             0.1,
             "#c51b7d"
            ],
            [
             0.2,
             "#de77ae"
            ],
            [
             0.3,
             "#f1b6da"
            ],
            [
             0.4,
             "#fde0ef"
            ],
            [
             0.5,
             "#f7f7f7"
            ],
            [
             0.6,
             "#e6f5d0"
            ],
            [
             0.7,
             "#b8e186"
            ],
            [
             0.8,
             "#7fbc41"
            ],
            [
             0.9,
             "#4d9221"
            ],
            [
             1,
             "#276419"
            ]
           ],
           "sequential": [
            [
             0,
             "#0d0887"
            ],
            [
             0.1111111111111111,
             "#46039f"
            ],
            [
             0.2222222222222222,
             "#7201a8"
            ],
            [
             0.3333333333333333,
             "#9c179e"
            ],
            [
             0.4444444444444444,
             "#bd3786"
            ],
            [
             0.5555555555555556,
             "#d8576b"
            ],
            [
             0.6666666666666666,
             "#ed7953"
            ],
            [
             0.7777777777777778,
             "#fb9f3a"
            ],
            [
             0.8888888888888888,
             "#fdca26"
            ],
            [
             1,
             "#f0f921"
            ]
           ],
           "sequentialminus": [
            [
             0,
             "#0d0887"
            ],
            [
             0.1111111111111111,
             "#46039f"
            ],
            [
             0.2222222222222222,
             "#7201a8"
            ],
            [
             0.3333333333333333,
             "#9c179e"
            ],
            [
             0.4444444444444444,
             "#bd3786"
            ],
            [
             0.5555555555555556,
             "#d8576b"
            ],
            [
             0.6666666666666666,
             "#ed7953"
            ],
            [
             0.7777777777777778,
             "#fb9f3a"
            ],
            [
             0.8888888888888888,
             "#fdca26"
            ],
            [
             1,
             "#f0f921"
            ]
           ]
          },
          "colorway": [
           "#636efa",
           "#EF553B",
           "#00cc96",
           "#ab63fa",
           "#FFA15A",
           "#19d3f3",
           "#FF6692",
           "#B6E880",
           "#FF97FF",
           "#FECB52"
          ],
          "font": {
           "color": "#2a3f5f"
          },
          "geo": {
           "bgcolor": "white",
           "lakecolor": "white",
           "landcolor": "#E5ECF6",
           "showlakes": true,
           "showland": true,
           "subunitcolor": "white"
          },
          "hoverlabel": {
           "align": "left"
          },
          "hovermode": "closest",
          "mapbox": {
           "style": "light"
          },
          "paper_bgcolor": "white",
          "plot_bgcolor": "#E5ECF6",
          "polar": {
           "angularaxis": {
            "gridcolor": "white",
            "linecolor": "white",
            "ticks": ""
           },
           "bgcolor": "#E5ECF6",
           "radialaxis": {
            "gridcolor": "white",
            "linecolor": "white",
            "ticks": ""
           }
          },
          "scene": {
           "xaxis": {
            "backgroundcolor": "#E5ECF6",
            "gridcolor": "white",
            "gridwidth": 2,
            "linecolor": "white",
            "showbackground": true,
            "ticks": "",
            "zerolinecolor": "white"
           },
           "yaxis": {
            "backgroundcolor": "#E5ECF6",
            "gridcolor": "white",
            "gridwidth": 2,
            "linecolor": "white",
            "showbackground": true,
            "ticks": "",
            "zerolinecolor": "white"
           },
           "zaxis": {
            "backgroundcolor": "#E5ECF6",
            "gridcolor": "white",
            "gridwidth": 2,
            "linecolor": "white",
            "showbackground": true,
            "ticks": "",
            "zerolinecolor": "white"
           }
          },
          "shapedefaults": {
           "line": {
            "color": "#2a3f5f"
           }
          },
          "ternary": {
           "aaxis": {
            "gridcolor": "white",
            "linecolor": "white",
            "ticks": ""
           },
           "baxis": {
            "gridcolor": "white",
            "linecolor": "white",
            "ticks": ""
           },
           "bgcolor": "#E5ECF6",
           "caxis": {
            "gridcolor": "white",
            "linecolor": "white",
            "ticks": ""
           }
          },
          "title": {
           "x": 0.05
          },
          "xaxis": {
           "automargin": true,
           "gridcolor": "white",
           "linecolor": "white",
           "ticks": "",
           "title": {
            "standoff": 15
           },
           "zerolinecolor": "white",
           "zerolinewidth": 2
          },
          "yaxis": {
           "automargin": true,
           "gridcolor": "white",
           "linecolor": "white",
           "ticks": "",
           "title": {
            "standoff": 15
           },
           "zerolinecolor": "white",
           "zerolinewidth": 2
          }
         }
        },
        "title": {
         "font": {
          "color": "#4D5663"
         },
         "text": " Minimum polluted cities( Industrial Pollution content )"
        },
        "xaxis": {
         "gridcolor": "#E1E5ED",
         "linecolor": "black",
         "showgrid": true,
         "tickfont": {
          "color": "#4D5663"
         },
         "title": {
          "font": {
           "color": "#4D5663"
          },
          "text": "Industrial Pollution content"
         },
         "zerolinecolor": "#E1E5ED"
        },
        "yaxis": {
         "gridcolor": "#E1E5ED",
         "linecolor": "black",
         "showgrid": true,
         "tickfont": {
          "color": "#4D5663"
         },
         "title": {
          "font": {
           "color": "#4D5663"
          },
          "text": "Cities"
         },
         "zerolinecolor": "#E1E5ED"
        }
       }
      },
      "text/html": [
       "<div>\n",
       "        \n",
       "        \n",
       "            <div id=\"67dc9ca3-3e86-4f96-a202-a7f8f742c7c9\" class=\"plotly-graph-div\" style=\"height:525px; width:100%;\"></div>\n",
       "            <script type=\"text/javascript\">\n",
       "                require([\"plotly\"], function(Plotly) {\n",
       "                    window.PLOTLYENV=window.PLOTLYENV || {};\n",
       "                    window.PLOTLYENV.BASE_URL='https://plot.ly';\n",
       "                    \n",
       "                if (document.getElementById(\"67dc9ca3-3e86-4f96-a202-a7f8f742c7c9\")) {\n",
       "                    Plotly.newPlot(\n",
       "                        '67dc9ca3-3e86-4f96-a202-a7f8f742c7c9',\n",
       "                        [{\"marker\": {\"color\": \"rgba(255, 153, 51, 0.6)\", \"line\": {\"color\": \"rgba(255, 153, 51, 1.0)\", \"width\": 1}}, \"name\": \"Industrial Pollution content\", \"orientation\": \"v\", \"text\": \"\", \"type\": \"bar\", \"x\": [\"Brajrajnagar\", \"Shillong\", \"Chandigarh\", \"Amritsar\", \"Thiruvananthapuram\", \"Talcher\", \"Chennai\", \"Mumbai\", \"Bengaluru\", \"Guwahati\"], \"y\": [34.167870370370395, 38.08085937499997, 38.56483606557378, 43.549364773821004, 44.20739784946236, 44.40179004037681, 44.97402298850576, 46.16828680897683, 46.584258347017006, 47.67078125000002]}],\n",
       "                        {\"legend\": {\"bgcolor\": \"#F5F6F9\", \"font\": {\"color\": \"#4D5663\"}}, \"paper_bgcolor\": \"#F5F6F9\", \"plot_bgcolor\": \"#F5F6F9\", \"template\": {\"data\": {\"bar\": [{\"error_x\": {\"color\": \"#2a3f5f\"}, \"error_y\": {\"color\": \"#2a3f5f\"}, \"marker\": {\"line\": {\"color\": \"#E5ECF6\", \"width\": 0.5}}, \"type\": \"bar\"}], \"barpolar\": [{\"marker\": {\"line\": {\"color\": \"#E5ECF6\", \"width\": 0.5}}, \"type\": \"barpolar\"}], \"carpet\": [{\"aaxis\": {\"endlinecolor\": \"#2a3f5f\", \"gridcolor\": \"white\", \"linecolor\": \"white\", \"minorgridcolor\": \"white\", \"startlinecolor\": \"#2a3f5f\"}, \"baxis\": {\"endlinecolor\": \"#2a3f5f\", \"gridcolor\": \"white\", \"linecolor\": \"white\", \"minorgridcolor\": \"white\", \"startlinecolor\": \"#2a3f5f\"}, \"type\": \"carpet\"}], \"choropleth\": [{\"colorbar\": {\"outlinewidth\": 0, \"ticks\": \"\"}, \"type\": \"choropleth\"}], \"contour\": [{\"colorbar\": {\"outlinewidth\": 0, \"ticks\": \"\"}, \"colorscale\": [[0.0, \"#0d0887\"], [0.1111111111111111, \"#46039f\"], [0.2222222222222222, \"#7201a8\"], [0.3333333333333333, \"#9c179e\"], [0.4444444444444444, \"#bd3786\"], [0.5555555555555556, \"#d8576b\"], [0.6666666666666666, \"#ed7953\"], [0.7777777777777778, \"#fb9f3a\"], [0.8888888888888888, \"#fdca26\"], [1.0, \"#f0f921\"]], \"type\": \"contour\"}], \"contourcarpet\": [{\"colorbar\": {\"outlinewidth\": 0, \"ticks\": \"\"}, \"type\": \"contourcarpet\"}], \"heatmap\": [{\"colorbar\": {\"outlinewidth\": 0, \"ticks\": \"\"}, \"colorscale\": [[0.0, \"#0d0887\"], [0.1111111111111111, \"#46039f\"], [0.2222222222222222, \"#7201a8\"], [0.3333333333333333, \"#9c179e\"], [0.4444444444444444, \"#bd3786\"], [0.5555555555555556, \"#d8576b\"], [0.6666666666666666, \"#ed7953\"], [0.7777777777777778, \"#fb9f3a\"], [0.8888888888888888, \"#fdca26\"], [1.0, \"#f0f921\"]], \"type\": \"heatmap\"}], \"heatmapgl\": [{\"colorbar\": {\"outlinewidth\": 0, \"ticks\": \"\"}, \"colorscale\": [[0.0, \"#0d0887\"], [0.1111111111111111, \"#46039f\"], [0.2222222222222222, \"#7201a8\"], [0.3333333333333333, \"#9c179e\"], [0.4444444444444444, \"#bd3786\"], [0.5555555555555556, \"#d8576b\"], [0.6666666666666666, \"#ed7953\"], [0.7777777777777778, \"#fb9f3a\"], [0.8888888888888888, \"#fdca26\"], [1.0, \"#f0f921\"]], \"type\": \"heatmapgl\"}], \"histogram\": [{\"marker\": {\"colorbar\": {\"outlinewidth\": 0, \"ticks\": \"\"}}, \"type\": \"histogram\"}], \"histogram2d\": [{\"colorbar\": {\"outlinewidth\": 0, \"ticks\": \"\"}, \"colorscale\": [[0.0, \"#0d0887\"], [0.1111111111111111, \"#46039f\"], [0.2222222222222222, \"#7201a8\"], [0.3333333333333333, \"#9c179e\"], [0.4444444444444444, \"#bd3786\"], [0.5555555555555556, \"#d8576b\"], [0.6666666666666666, \"#ed7953\"], [0.7777777777777778, \"#fb9f3a\"], [0.8888888888888888, \"#fdca26\"], [1.0, \"#f0f921\"]], \"type\": \"histogram2d\"}], \"histogram2dcontour\": [{\"colorbar\": {\"outlinewidth\": 0, \"ticks\": \"\"}, \"colorscale\": [[0.0, \"#0d0887\"], [0.1111111111111111, \"#46039f\"], [0.2222222222222222, \"#7201a8\"], [0.3333333333333333, \"#9c179e\"], [0.4444444444444444, \"#bd3786\"], [0.5555555555555556, \"#d8576b\"], [0.6666666666666666, \"#ed7953\"], [0.7777777777777778, \"#fb9f3a\"], [0.8888888888888888, \"#fdca26\"], [1.0, \"#f0f921\"]], \"type\": \"histogram2dcontour\"}], \"mesh3d\": [{\"colorbar\": {\"outlinewidth\": 0, \"ticks\": \"\"}, \"type\": \"mesh3d\"}], \"parcoords\": [{\"line\": {\"colorbar\": {\"outlinewidth\": 0, \"ticks\": \"\"}}, \"type\": \"parcoords\"}], \"pie\": [{\"automargin\": true, \"type\": \"pie\"}], \"scatter\": [{\"marker\": {\"colorbar\": {\"outlinewidth\": 0, \"ticks\": \"\"}}, \"type\": \"scatter\"}], \"scatter3d\": [{\"line\": {\"colorbar\": {\"outlinewidth\": 0, \"ticks\": \"\"}}, \"marker\": {\"colorbar\": {\"outlinewidth\": 0, \"ticks\": \"\"}}, \"type\": \"scatter3d\"}], \"scattercarpet\": [{\"marker\": {\"colorbar\": {\"outlinewidth\": 0, \"ticks\": \"\"}}, \"type\": \"scattercarpet\"}], \"scattergeo\": [{\"marker\": {\"colorbar\": {\"outlinewidth\": 0, \"ticks\": \"\"}}, \"type\": \"scattergeo\"}], \"scattergl\": [{\"marker\": {\"colorbar\": {\"outlinewidth\": 0, \"ticks\": \"\"}}, \"type\": \"scattergl\"}], \"scattermapbox\": [{\"marker\": {\"colorbar\": {\"outlinewidth\": 0, \"ticks\": \"\"}}, \"type\": \"scattermapbox\"}], \"scatterpolar\": [{\"marker\": {\"colorbar\": {\"outlinewidth\": 0, \"ticks\": \"\"}}, \"type\": \"scatterpolar\"}], \"scatterpolargl\": [{\"marker\": {\"colorbar\": {\"outlinewidth\": 0, \"ticks\": \"\"}}, \"type\": \"scatterpolargl\"}], \"scatterternary\": [{\"marker\": {\"colorbar\": {\"outlinewidth\": 0, \"ticks\": \"\"}}, \"type\": \"scatterternary\"}], \"surface\": [{\"colorbar\": {\"outlinewidth\": 0, \"ticks\": \"\"}, \"colorscale\": [[0.0, \"#0d0887\"], [0.1111111111111111, \"#46039f\"], [0.2222222222222222, \"#7201a8\"], [0.3333333333333333, \"#9c179e\"], [0.4444444444444444, \"#bd3786\"], [0.5555555555555556, \"#d8576b\"], [0.6666666666666666, \"#ed7953\"], [0.7777777777777778, \"#fb9f3a\"], [0.8888888888888888, \"#fdca26\"], [1.0, \"#f0f921\"]], \"type\": \"surface\"}], \"table\": [{\"cells\": {\"fill\": {\"color\": \"#EBF0F8\"}, \"line\": {\"color\": \"white\"}}, \"header\": {\"fill\": {\"color\": \"#C8D4E3\"}, \"line\": {\"color\": \"white\"}}, \"type\": \"table\"}]}, \"layout\": {\"annotationdefaults\": {\"arrowcolor\": \"#2a3f5f\", \"arrowhead\": 0, \"arrowwidth\": 1}, \"coloraxis\": {\"colorbar\": {\"outlinewidth\": 0, \"ticks\": \"\"}}, \"colorscale\": {\"diverging\": [[0, \"#8e0152\"], [0.1, \"#c51b7d\"], [0.2, \"#de77ae\"], [0.3, \"#f1b6da\"], [0.4, \"#fde0ef\"], [0.5, \"#f7f7f7\"], [0.6, \"#e6f5d0\"], [0.7, \"#b8e186\"], [0.8, \"#7fbc41\"], [0.9, \"#4d9221\"], [1, \"#276419\"]], \"sequential\": [[0.0, \"#0d0887\"], [0.1111111111111111, \"#46039f\"], [0.2222222222222222, \"#7201a8\"], [0.3333333333333333, \"#9c179e\"], [0.4444444444444444, \"#bd3786\"], [0.5555555555555556, \"#d8576b\"], [0.6666666666666666, \"#ed7953\"], [0.7777777777777778, \"#fb9f3a\"], [0.8888888888888888, \"#fdca26\"], [1.0, \"#f0f921\"]], \"sequentialminus\": [[0.0, \"#0d0887\"], [0.1111111111111111, \"#46039f\"], [0.2222222222222222, \"#7201a8\"], [0.3333333333333333, \"#9c179e\"], [0.4444444444444444, \"#bd3786\"], [0.5555555555555556, \"#d8576b\"], [0.6666666666666666, \"#ed7953\"], [0.7777777777777778, \"#fb9f3a\"], [0.8888888888888888, \"#fdca26\"], [1.0, \"#f0f921\"]]}, \"colorway\": [\"#636efa\", \"#EF553B\", \"#00cc96\", \"#ab63fa\", \"#FFA15A\", \"#19d3f3\", \"#FF6692\", \"#B6E880\", \"#FF97FF\", \"#FECB52\"], \"font\": {\"color\": \"#2a3f5f\"}, \"geo\": {\"bgcolor\": \"white\", \"lakecolor\": \"white\", \"landcolor\": \"#E5ECF6\", \"showlakes\": true, \"showland\": true, \"subunitcolor\": \"white\"}, \"hoverlabel\": {\"align\": \"left\"}, \"hovermode\": \"closest\", \"mapbox\": {\"style\": \"light\"}, \"paper_bgcolor\": \"white\", \"plot_bgcolor\": \"#E5ECF6\", \"polar\": {\"angularaxis\": {\"gridcolor\": \"white\", \"linecolor\": \"white\", \"ticks\": \"\"}, \"bgcolor\": \"#E5ECF6\", \"radialaxis\": {\"gridcolor\": \"white\", \"linecolor\": \"white\", \"ticks\": \"\"}}, \"scene\": {\"xaxis\": {\"backgroundcolor\": \"#E5ECF6\", \"gridcolor\": \"white\", \"gridwidth\": 2, \"linecolor\": \"white\", \"showbackground\": true, \"ticks\": \"\", \"zerolinecolor\": \"white\"}, \"yaxis\": {\"backgroundcolor\": \"#E5ECF6\", \"gridcolor\": \"white\", \"gridwidth\": 2, \"linecolor\": \"white\", \"showbackground\": true, \"ticks\": \"\", \"zerolinecolor\": \"white\"}, \"zaxis\": {\"backgroundcolor\": \"#E5ECF6\", \"gridcolor\": \"white\", \"gridwidth\": 2, \"linecolor\": \"white\", \"showbackground\": true, \"ticks\": \"\", \"zerolinecolor\": \"white\"}}, \"shapedefaults\": {\"line\": {\"color\": \"#2a3f5f\"}}, \"ternary\": {\"aaxis\": {\"gridcolor\": \"white\", \"linecolor\": \"white\", \"ticks\": \"\"}, \"baxis\": {\"gridcolor\": \"white\", \"linecolor\": \"white\", \"ticks\": \"\"}, \"bgcolor\": \"#E5ECF6\", \"caxis\": {\"gridcolor\": \"white\", \"linecolor\": \"white\", \"ticks\": \"\"}}, \"title\": {\"x\": 0.05}, \"xaxis\": {\"automargin\": true, \"gridcolor\": \"white\", \"linecolor\": \"white\", \"ticks\": \"\", \"title\": {\"standoff\": 15}, \"zerolinecolor\": \"white\", \"zerolinewidth\": 2}, \"yaxis\": {\"automargin\": true, \"gridcolor\": \"white\", \"linecolor\": \"white\", \"ticks\": \"\", \"title\": {\"standoff\": 15}, \"zerolinecolor\": \"white\", \"zerolinewidth\": 2}}}, \"title\": {\"font\": {\"color\": \"#4D5663\"}, \"text\": \" Minimum polluted cities( Industrial Pollution content )\"}, \"xaxis\": {\"gridcolor\": \"#E1E5ED\", \"linecolor\": \"black\", \"showgrid\": true, \"tickfont\": {\"color\": \"#4D5663\"}, \"title\": {\"font\": {\"color\": \"#4D5663\"}, \"text\": \"Industrial Pollution content\"}, \"zerolinecolor\": \"#E1E5ED\"}, \"yaxis\": {\"gridcolor\": \"#E1E5ED\", \"linecolor\": \"black\", \"showgrid\": true, \"tickfont\": {\"color\": \"#4D5663\"}, \"title\": {\"font\": {\"color\": \"#4D5663\"}, \"text\": \"Cities\"}, \"zerolinecolor\": \"#E1E5ED\"}},\n",
       "                        {\"showLink\": true, \"linkText\": \"Export to plot.ly\", \"plotlyServerURL\": \"https://plot.ly\", \"responsive\": true}\n",
       "                    ).then(function(){\n",
       "                            \n",
       "var gd = document.getElementById('67dc9ca3-3e86-4f96-a202-a7f8f742c7c9');\n",
       "var x = new MutationObserver(function (mutations, observer) {{\n",
       "        var display = window.getComputedStyle(gd).display;\n",
       "        if (!display || display === 'none') {{\n",
       "            console.log([gd, 'removed!']);\n",
       "            Plotly.purge(gd);\n",
       "            observer.disconnect();\n",
       "        }}\n",
       "}});\n",
       "\n",
       "// Listen for the removal of the full notebook cells\n",
       "var notebookContainer = gd.closest('#notebook-container');\n",
       "if (notebookContainer) {{\n",
       "    x.observe(notebookContainer, {childList: true});\n",
       "}}\n",
       "\n",
       "// Listen for the clearing of the current output cell\n",
       "var outputEl = gd.closest('.output');\n",
       "if (outputEl) {{\n",
       "    x.observe(outputEl, {childList: true});\n",
       "}}\n",
       "\n",
       "                        })\n",
       "                };\n",
       "                });\n",
       "            </script>\n",
       "        </div>"
      ]
     },
     "metadata": {},
     "output_type": "display_data"
    },
    {
     "data": {
      "application/vnd.plotly.v1+json": {
       "config": {
        "linkText": "Export to plot.ly",
        "plotlyServerURL": "https://plot.ly",
        "showLink": true
       },
       "data": [
        {
         "marker": {
          "color": "rgba(255, 153, 51, 0.6)",
          "line": {
           "color": "rgba(255, 153, 51, 1.0)",
           "width": 1
          }
         },
         "name": "Vehicular Pollution content",
         "orientation": "v",
         "text": "",
         "type": "bar",
         "x": [
          "Thiruvananthapuram",
          "Shillong",
          "Amaravati",
          "Bengaluru",
          "Hyderabad",
          "Chandigarh",
          "Chennai",
          "Jorapokhar",
          "Mumbai",
          "Guwahati"
         ],
         "y": [
          109.1806559139785,
          121.5323437500001,
          187.83395318595572,
          208.4493158182812,
          216.399259868421,
          237.17270491803276,
          248.9971209633279,
          252.39733535967616,
          252.9305473453724,
          255.13431250000008
         ]
        }
       ],
       "layout": {
        "legend": {
         "bgcolor": "#F5F6F9",
         "font": {
          "color": "#4D5663"
         }
        },
        "paper_bgcolor": "#F5F6F9",
        "plot_bgcolor": "#F5F6F9",
        "template": {
         "data": {
          "bar": [
           {
            "error_x": {
             "color": "#2a3f5f"
            },
            "error_y": {
             "color": "#2a3f5f"
            },
            "marker": {
             "line": {
              "color": "#E5ECF6",
              "width": 0.5
             }
            },
            "type": "bar"
           }
          ],
          "barpolar": [
           {
            "marker": {
             "line": {
              "color": "#E5ECF6",
              "width": 0.5
             }
            },
            "type": "barpolar"
           }
          ],
          "carpet": [
           {
            "aaxis": {
             "endlinecolor": "#2a3f5f",
             "gridcolor": "white",
             "linecolor": "white",
             "minorgridcolor": "white",
             "startlinecolor": "#2a3f5f"
            },
            "baxis": {
             "endlinecolor": "#2a3f5f",
             "gridcolor": "white",
             "linecolor": "white",
             "minorgridcolor": "white",
             "startlinecolor": "#2a3f5f"
            },
            "type": "carpet"
           }
          ],
          "choropleth": [
           {
            "colorbar": {
             "outlinewidth": 0,
             "ticks": ""
            },
            "type": "choropleth"
           }
          ],
          "contour": [
           {
            "colorbar": {
             "outlinewidth": 0,
             "ticks": ""
            },
            "colorscale": [
             [
              0,
              "#0d0887"
             ],
             [
              0.1111111111111111,
              "#46039f"
             ],
             [
              0.2222222222222222,
              "#7201a8"
             ],
             [
              0.3333333333333333,
              "#9c179e"
             ],
             [
              0.4444444444444444,
              "#bd3786"
             ],
             [
              0.5555555555555556,
              "#d8576b"
             ],
             [
              0.6666666666666666,
              "#ed7953"
             ],
             [
              0.7777777777777778,
              "#fb9f3a"
             ],
             [
              0.8888888888888888,
              "#fdca26"
             ],
             [
              1,
              "#f0f921"
             ]
            ],
            "type": "contour"
           }
          ],
          "contourcarpet": [
           {
            "colorbar": {
             "outlinewidth": 0,
             "ticks": ""
            },
            "type": "contourcarpet"
           }
          ],
          "heatmap": [
           {
            "colorbar": {
             "outlinewidth": 0,
             "ticks": ""
            },
            "colorscale": [
             [
              0,
              "#0d0887"
             ],
             [
              0.1111111111111111,
              "#46039f"
             ],
             [
              0.2222222222222222,
              "#7201a8"
             ],
             [
              0.3333333333333333,
              "#9c179e"
             ],
             [
              0.4444444444444444,
              "#bd3786"
             ],
             [
              0.5555555555555556,
              "#d8576b"
             ],
             [
              0.6666666666666666,
              "#ed7953"
             ],
             [
              0.7777777777777778,
              "#fb9f3a"
             ],
             [
              0.8888888888888888,
              "#fdca26"
             ],
             [
              1,
              "#f0f921"
             ]
            ],
            "type": "heatmap"
           }
          ],
          "heatmapgl": [
           {
            "colorbar": {
             "outlinewidth": 0,
             "ticks": ""
            },
            "colorscale": [
             [
              0,
              "#0d0887"
             ],
             [
              0.1111111111111111,
              "#46039f"
             ],
             [
              0.2222222222222222,
              "#7201a8"
             ],
             [
              0.3333333333333333,
              "#9c179e"
             ],
             [
              0.4444444444444444,
              "#bd3786"
             ],
             [
              0.5555555555555556,
              "#d8576b"
             ],
             [
              0.6666666666666666,
              "#ed7953"
             ],
             [
              0.7777777777777778,
              "#fb9f3a"
             ],
             [
              0.8888888888888888,
              "#fdca26"
             ],
             [
              1,
              "#f0f921"
             ]
            ],
            "type": "heatmapgl"
           }
          ],
          "histogram": [
           {
            "marker": {
             "colorbar": {
              "outlinewidth": 0,
              "ticks": ""
             }
            },
            "type": "histogram"
           }
          ],
          "histogram2d": [
           {
            "colorbar": {
             "outlinewidth": 0,
             "ticks": ""
            },
            "colorscale": [
             [
              0,
              "#0d0887"
             ],
             [
              0.1111111111111111,
              "#46039f"
             ],
             [
              0.2222222222222222,
              "#7201a8"
             ],
             [
              0.3333333333333333,
              "#9c179e"
             ],
             [
              0.4444444444444444,
              "#bd3786"
             ],
             [
              0.5555555555555556,
              "#d8576b"
             ],
             [
              0.6666666666666666,
              "#ed7953"
             ],
             [
              0.7777777777777778,
              "#fb9f3a"
             ],
             [
              0.8888888888888888,
              "#fdca26"
             ],
             [
              1,
              "#f0f921"
             ]
            ],
            "type": "histogram2d"
           }
          ],
          "histogram2dcontour": [
           {
            "colorbar": {
             "outlinewidth": 0,
             "ticks": ""
            },
            "colorscale": [
             [
              0,
              "#0d0887"
             ],
             [
              0.1111111111111111,
              "#46039f"
             ],
             [
              0.2222222222222222,
              "#7201a8"
             ],
             [
              0.3333333333333333,
              "#9c179e"
             ],
             [
              0.4444444444444444,
              "#bd3786"
             ],
             [
              0.5555555555555556,
              "#d8576b"
             ],
             [
              0.6666666666666666,
              "#ed7953"
             ],
             [
              0.7777777777777778,
              "#fb9f3a"
             ],
             [
              0.8888888888888888,
              "#fdca26"
             ],
             [
              1,
              "#f0f921"
             ]
            ],
            "type": "histogram2dcontour"
           }
          ],
          "mesh3d": [
           {
            "colorbar": {
             "outlinewidth": 0,
             "ticks": ""
            },
            "type": "mesh3d"
           }
          ],
          "parcoords": [
           {
            "line": {
             "colorbar": {
              "outlinewidth": 0,
              "ticks": ""
             }
            },
            "type": "parcoords"
           }
          ],
          "pie": [
           {
            "automargin": true,
            "type": "pie"
           }
          ],
          "scatter": [
           {
            "marker": {
             "colorbar": {
              "outlinewidth": 0,
              "ticks": ""
             }
            },
            "type": "scatter"
           }
          ],
          "scatter3d": [
           {
            "line": {
             "colorbar": {
              "outlinewidth": 0,
              "ticks": ""
             }
            },
            "marker": {
             "colorbar": {
              "outlinewidth": 0,
              "ticks": ""
             }
            },
            "type": "scatter3d"
           }
          ],
          "scattercarpet": [
           {
            "marker": {
             "colorbar": {
              "outlinewidth": 0,
              "ticks": ""
             }
            },
            "type": "scattercarpet"
           }
          ],
          "scattergeo": [
           {
            "marker": {
             "colorbar": {
              "outlinewidth": 0,
              "ticks": ""
             }
            },
            "type": "scattergeo"
           }
          ],
          "scattergl": [
           {
            "marker": {
             "colorbar": {
              "outlinewidth": 0,
              "ticks": ""
             }
            },
            "type": "scattergl"
           }
          ],
          "scattermapbox": [
           {
            "marker": {
             "colorbar": {
              "outlinewidth": 0,
              "ticks": ""
             }
            },
            "type": "scattermapbox"
           }
          ],
          "scatterpolar": [
           {
            "marker": {
             "colorbar": {
              "outlinewidth": 0,
              "ticks": ""
             }
            },
            "type": "scatterpolar"
           }
          ],
          "scatterpolargl": [
           {
            "marker": {
             "colorbar": {
              "outlinewidth": 0,
              "ticks": ""
             }
            },
            "type": "scatterpolargl"
           }
          ],
          "scatterternary": [
           {
            "marker": {
             "colorbar": {
              "outlinewidth": 0,
              "ticks": ""
             }
            },
            "type": "scatterternary"
           }
          ],
          "surface": [
           {
            "colorbar": {
             "outlinewidth": 0,
             "ticks": ""
            },
            "colorscale": [
             [
              0,
              "#0d0887"
             ],
             [
              0.1111111111111111,
              "#46039f"
             ],
             [
              0.2222222222222222,
              "#7201a8"
             ],
             [
              0.3333333333333333,
              "#9c179e"
             ],
             [
              0.4444444444444444,
              "#bd3786"
             ],
             [
              0.5555555555555556,
              "#d8576b"
             ],
             [
              0.6666666666666666,
              "#ed7953"
             ],
             [
              0.7777777777777778,
              "#fb9f3a"
             ],
             [
              0.8888888888888888,
              "#fdca26"
             ],
             [
              1,
              "#f0f921"
             ]
            ],
            "type": "surface"
           }
          ],
          "table": [
           {
            "cells": {
             "fill": {
              "color": "#EBF0F8"
             },
             "line": {
              "color": "white"
             }
            },
            "header": {
             "fill": {
              "color": "#C8D4E3"
             },
             "line": {
              "color": "white"
             }
            },
            "type": "table"
           }
          ]
         },
         "layout": {
          "annotationdefaults": {
           "arrowcolor": "#2a3f5f",
           "arrowhead": 0,
           "arrowwidth": 1
          },
          "coloraxis": {
           "colorbar": {
            "outlinewidth": 0,
            "ticks": ""
           }
          },
          "colorscale": {
           "diverging": [
            [
             0,
             "#8e0152"
            ],
            [
             0.1,
             "#c51b7d"
            ],
            [
             0.2,
             "#de77ae"
            ],
            [
             0.3,
             "#f1b6da"
            ],
            [
             0.4,
             "#fde0ef"
            ],
            [
             0.5,
             "#f7f7f7"
            ],
            [
             0.6,
             "#e6f5d0"
            ],
            [
             0.7,
             "#b8e186"
            ],
            [
             0.8,
             "#7fbc41"
            ],
            [
             0.9,
             "#4d9221"
            ],
            [
             1,
             "#276419"
            ]
           ],
           "sequential": [
            [
             0,
             "#0d0887"
            ],
            [
             0.1111111111111111,
             "#46039f"
            ],
            [
             0.2222222222222222,
             "#7201a8"
            ],
            [
             0.3333333333333333,
             "#9c179e"
            ],
            [
             0.4444444444444444,
             "#bd3786"
            ],
            [
             0.5555555555555556,
             "#d8576b"
            ],
            [
             0.6666666666666666,
             "#ed7953"
            ],
            [
             0.7777777777777778,
             "#fb9f3a"
            ],
            [
             0.8888888888888888,
             "#fdca26"
            ],
            [
             1,
             "#f0f921"
            ]
           ],
           "sequentialminus": [
            [
             0,
             "#0d0887"
            ],
            [
             0.1111111111111111,
             "#46039f"
            ],
            [
             0.2222222222222222,
             "#7201a8"
            ],
            [
             0.3333333333333333,
             "#9c179e"
            ],
            [
             0.4444444444444444,
             "#bd3786"
            ],
            [
             0.5555555555555556,
             "#d8576b"
            ],
            [
             0.6666666666666666,
             "#ed7953"
            ],
            [
             0.7777777777777778,
             "#fb9f3a"
            ],
            [
             0.8888888888888888,
             "#fdca26"
            ],
            [
             1,
             "#f0f921"
            ]
           ]
          },
          "colorway": [
           "#636efa",
           "#EF553B",
           "#00cc96",
           "#ab63fa",
           "#FFA15A",
           "#19d3f3",
           "#FF6692",
           "#B6E880",
           "#FF97FF",
           "#FECB52"
          ],
          "font": {
           "color": "#2a3f5f"
          },
          "geo": {
           "bgcolor": "white",
           "lakecolor": "white",
           "landcolor": "#E5ECF6",
           "showlakes": true,
           "showland": true,
           "subunitcolor": "white"
          },
          "hoverlabel": {
           "align": "left"
          },
          "hovermode": "closest",
          "mapbox": {
           "style": "light"
          },
          "paper_bgcolor": "white",
          "plot_bgcolor": "#E5ECF6",
          "polar": {
           "angularaxis": {
            "gridcolor": "white",
            "linecolor": "white",
            "ticks": ""
           },
           "bgcolor": "#E5ECF6",
           "radialaxis": {
            "gridcolor": "white",
            "linecolor": "white",
            "ticks": ""
           }
          },
          "scene": {
           "xaxis": {
            "backgroundcolor": "#E5ECF6",
            "gridcolor": "white",
            "gridwidth": 2,
            "linecolor": "white",
            "showbackground": true,
            "ticks": "",
            "zerolinecolor": "white"
           },
           "yaxis": {
            "backgroundcolor": "#E5ECF6",
            "gridcolor": "white",
            "gridwidth": 2,
            "linecolor": "white",
            "showbackground": true,
            "ticks": "",
            "zerolinecolor": "white"
           },
           "zaxis": {
            "backgroundcolor": "#E5ECF6",
            "gridcolor": "white",
            "gridwidth": 2,
            "linecolor": "white",
            "showbackground": true,
            "ticks": "",
            "zerolinecolor": "white"
           }
          },
          "shapedefaults": {
           "line": {
            "color": "#2a3f5f"
           }
          },
          "ternary": {
           "aaxis": {
            "gridcolor": "white",
            "linecolor": "white",
            "ticks": ""
           },
           "baxis": {
            "gridcolor": "white",
            "linecolor": "white",
            "ticks": ""
           },
           "bgcolor": "#E5ECF6",
           "caxis": {
            "gridcolor": "white",
            "linecolor": "white",
            "ticks": ""
           }
          },
          "title": {
           "x": 0.05
          },
          "xaxis": {
           "automargin": true,
           "gridcolor": "white",
           "linecolor": "white",
           "ticks": "",
           "title": {
            "standoff": 15
           },
           "zerolinecolor": "white",
           "zerolinewidth": 2
          },
          "yaxis": {
           "automargin": true,
           "gridcolor": "white",
           "linecolor": "white",
           "ticks": "",
           "title": {
            "standoff": 15
           },
           "zerolinecolor": "white",
           "zerolinewidth": 2
          }
         }
        },
        "title": {
         "font": {
          "color": "#4D5663"
         },
         "text": " Minimum polluted cities( Vehicular Pollution content )"
        },
        "xaxis": {
         "gridcolor": "#E1E5ED",
         "linecolor": "black",
         "showgrid": true,
         "tickfont": {
          "color": "#4D5663"
         },
         "title": {
          "font": {
           "color": "#4D5663"
          },
          "text": "Vehicular Pollution content"
         },
         "zerolinecolor": "#E1E5ED"
        },
        "yaxis": {
         "gridcolor": "#E1E5ED",
         "linecolor": "black",
         "showgrid": true,
         "tickfont": {
          "color": "#4D5663"
         },
         "title": {
          "font": {
           "color": "#4D5663"
          },
          "text": "Cities"
         },
         "zerolinecolor": "#E1E5ED"
        }
       }
      },
      "text/html": [
       "<div>\n",
       "        \n",
       "        \n",
       "            <div id=\"628eea7e-9836-461c-b7a3-9a2a9badd7e0\" class=\"plotly-graph-div\" style=\"height:525px; width:100%;\"></div>\n",
       "            <script type=\"text/javascript\">\n",
       "                require([\"plotly\"], function(Plotly) {\n",
       "                    window.PLOTLYENV=window.PLOTLYENV || {};\n",
       "                    window.PLOTLYENV.BASE_URL='https://plot.ly';\n",
       "                    \n",
       "                if (document.getElementById(\"628eea7e-9836-461c-b7a3-9a2a9badd7e0\")) {\n",
       "                    Plotly.newPlot(\n",
       "                        '628eea7e-9836-461c-b7a3-9a2a9badd7e0',\n",
       "                        [{\"marker\": {\"color\": \"rgba(255, 153, 51, 0.6)\", \"line\": {\"color\": \"rgba(255, 153, 51, 1.0)\", \"width\": 1}}, \"name\": \"Vehicular Pollution content\", \"orientation\": \"v\", \"text\": \"\", \"type\": \"bar\", \"x\": [\"Thiruvananthapuram\", \"Shillong\", \"Amaravati\", \"Bengaluru\", \"Hyderabad\", \"Chandigarh\", \"Chennai\", \"Jorapokhar\", \"Mumbai\", \"Guwahati\"], \"y\": [109.1806559139785, 121.5323437500001, 187.83395318595572, 208.4493158182812, 216.399259868421, 237.17270491803276, 248.9971209633279, 252.39733535967616, 252.9305473453724, 255.13431250000008]}],\n",
       "                        {\"legend\": {\"bgcolor\": \"#F5F6F9\", \"font\": {\"color\": \"#4D5663\"}}, \"paper_bgcolor\": \"#F5F6F9\", \"plot_bgcolor\": \"#F5F6F9\", \"template\": {\"data\": {\"bar\": [{\"error_x\": {\"color\": \"#2a3f5f\"}, \"error_y\": {\"color\": \"#2a3f5f\"}, \"marker\": {\"line\": {\"color\": \"#E5ECF6\", \"width\": 0.5}}, \"type\": \"bar\"}], \"barpolar\": [{\"marker\": {\"line\": {\"color\": \"#E5ECF6\", \"width\": 0.5}}, \"type\": \"barpolar\"}], \"carpet\": [{\"aaxis\": {\"endlinecolor\": \"#2a3f5f\", \"gridcolor\": \"white\", \"linecolor\": \"white\", \"minorgridcolor\": \"white\", \"startlinecolor\": \"#2a3f5f\"}, \"baxis\": {\"endlinecolor\": \"#2a3f5f\", \"gridcolor\": \"white\", \"linecolor\": \"white\", \"minorgridcolor\": \"white\", \"startlinecolor\": \"#2a3f5f\"}, \"type\": \"carpet\"}], \"choropleth\": [{\"colorbar\": {\"outlinewidth\": 0, \"ticks\": \"\"}, \"type\": \"choropleth\"}], \"contour\": [{\"colorbar\": {\"outlinewidth\": 0, \"ticks\": \"\"}, \"colorscale\": [[0.0, \"#0d0887\"], [0.1111111111111111, \"#46039f\"], [0.2222222222222222, \"#7201a8\"], [0.3333333333333333, \"#9c179e\"], [0.4444444444444444, \"#bd3786\"], [0.5555555555555556, \"#d8576b\"], [0.6666666666666666, \"#ed7953\"], [0.7777777777777778, \"#fb9f3a\"], [0.8888888888888888, \"#fdca26\"], [1.0, \"#f0f921\"]], \"type\": \"contour\"}], \"contourcarpet\": [{\"colorbar\": {\"outlinewidth\": 0, \"ticks\": \"\"}, \"type\": \"contourcarpet\"}], \"heatmap\": [{\"colorbar\": {\"outlinewidth\": 0, \"ticks\": \"\"}, \"colorscale\": [[0.0, \"#0d0887\"], [0.1111111111111111, \"#46039f\"], [0.2222222222222222, \"#7201a8\"], [0.3333333333333333, \"#9c179e\"], [0.4444444444444444, \"#bd3786\"], [0.5555555555555556, \"#d8576b\"], [0.6666666666666666, \"#ed7953\"], [0.7777777777777778, \"#fb9f3a\"], [0.8888888888888888, \"#fdca26\"], [1.0, \"#f0f921\"]], \"type\": \"heatmap\"}], \"heatmapgl\": [{\"colorbar\": {\"outlinewidth\": 0, \"ticks\": \"\"}, \"colorscale\": [[0.0, \"#0d0887\"], [0.1111111111111111, \"#46039f\"], [0.2222222222222222, \"#7201a8\"], [0.3333333333333333, \"#9c179e\"], [0.4444444444444444, \"#bd3786\"], [0.5555555555555556, \"#d8576b\"], [0.6666666666666666, \"#ed7953\"], [0.7777777777777778, \"#fb9f3a\"], [0.8888888888888888, \"#fdca26\"], [1.0, \"#f0f921\"]], \"type\": \"heatmapgl\"}], \"histogram\": [{\"marker\": {\"colorbar\": {\"outlinewidth\": 0, \"ticks\": \"\"}}, \"type\": \"histogram\"}], \"histogram2d\": [{\"colorbar\": {\"outlinewidth\": 0, \"ticks\": \"\"}, \"colorscale\": [[0.0, \"#0d0887\"], [0.1111111111111111, \"#46039f\"], [0.2222222222222222, \"#7201a8\"], [0.3333333333333333, \"#9c179e\"], [0.4444444444444444, \"#bd3786\"], [0.5555555555555556, \"#d8576b\"], [0.6666666666666666, \"#ed7953\"], [0.7777777777777778, \"#fb9f3a\"], [0.8888888888888888, \"#fdca26\"], [1.0, \"#f0f921\"]], \"type\": \"histogram2d\"}], \"histogram2dcontour\": [{\"colorbar\": {\"outlinewidth\": 0, \"ticks\": \"\"}, \"colorscale\": [[0.0, \"#0d0887\"], [0.1111111111111111, \"#46039f\"], [0.2222222222222222, \"#7201a8\"], [0.3333333333333333, \"#9c179e\"], [0.4444444444444444, \"#bd3786\"], [0.5555555555555556, \"#d8576b\"], [0.6666666666666666, \"#ed7953\"], [0.7777777777777778, \"#fb9f3a\"], [0.8888888888888888, \"#fdca26\"], [1.0, \"#f0f921\"]], \"type\": \"histogram2dcontour\"}], \"mesh3d\": [{\"colorbar\": {\"outlinewidth\": 0, \"ticks\": \"\"}, \"type\": \"mesh3d\"}], \"parcoords\": [{\"line\": {\"colorbar\": {\"outlinewidth\": 0, \"ticks\": \"\"}}, \"type\": \"parcoords\"}], \"pie\": [{\"automargin\": true, \"type\": \"pie\"}], \"scatter\": [{\"marker\": {\"colorbar\": {\"outlinewidth\": 0, \"ticks\": \"\"}}, \"type\": \"scatter\"}], \"scatter3d\": [{\"line\": {\"colorbar\": {\"outlinewidth\": 0, \"ticks\": \"\"}}, \"marker\": {\"colorbar\": {\"outlinewidth\": 0, \"ticks\": \"\"}}, \"type\": \"scatter3d\"}], \"scattercarpet\": [{\"marker\": {\"colorbar\": {\"outlinewidth\": 0, \"ticks\": \"\"}}, \"type\": \"scattercarpet\"}], \"scattergeo\": [{\"marker\": {\"colorbar\": {\"outlinewidth\": 0, \"ticks\": \"\"}}, \"type\": \"scattergeo\"}], \"scattergl\": [{\"marker\": {\"colorbar\": {\"outlinewidth\": 0, \"ticks\": \"\"}}, \"type\": \"scattergl\"}], \"scattermapbox\": [{\"marker\": {\"colorbar\": {\"outlinewidth\": 0, \"ticks\": \"\"}}, \"type\": \"scattermapbox\"}], \"scatterpolar\": [{\"marker\": {\"colorbar\": {\"outlinewidth\": 0, \"ticks\": \"\"}}, \"type\": \"scatterpolar\"}], \"scatterpolargl\": [{\"marker\": {\"colorbar\": {\"outlinewidth\": 0, \"ticks\": \"\"}}, \"type\": \"scatterpolargl\"}], \"scatterternary\": [{\"marker\": {\"colorbar\": {\"outlinewidth\": 0, \"ticks\": \"\"}}, \"type\": \"scatterternary\"}], \"surface\": [{\"colorbar\": {\"outlinewidth\": 0, \"ticks\": \"\"}, \"colorscale\": [[0.0, \"#0d0887\"], [0.1111111111111111, \"#46039f\"], [0.2222222222222222, \"#7201a8\"], [0.3333333333333333, \"#9c179e\"], [0.4444444444444444, \"#bd3786\"], [0.5555555555555556, \"#d8576b\"], [0.6666666666666666, \"#ed7953\"], [0.7777777777777778, \"#fb9f3a\"], [0.8888888888888888, \"#fdca26\"], [1.0, \"#f0f921\"]], \"type\": \"surface\"}], \"table\": [{\"cells\": {\"fill\": {\"color\": \"#EBF0F8\"}, \"line\": {\"color\": \"white\"}}, \"header\": {\"fill\": {\"color\": \"#C8D4E3\"}, \"line\": {\"color\": \"white\"}}, \"type\": \"table\"}]}, \"layout\": {\"annotationdefaults\": {\"arrowcolor\": \"#2a3f5f\", \"arrowhead\": 0, \"arrowwidth\": 1}, \"coloraxis\": {\"colorbar\": {\"outlinewidth\": 0, \"ticks\": \"\"}}, \"colorscale\": {\"diverging\": [[0, \"#8e0152\"], [0.1, \"#c51b7d\"], [0.2, \"#de77ae\"], [0.3, \"#f1b6da\"], [0.4, \"#fde0ef\"], [0.5, \"#f7f7f7\"], [0.6, \"#e6f5d0\"], [0.7, \"#b8e186\"], [0.8, \"#7fbc41\"], [0.9, \"#4d9221\"], [1, \"#276419\"]], \"sequential\": [[0.0, \"#0d0887\"], [0.1111111111111111, \"#46039f\"], [0.2222222222222222, \"#7201a8\"], [0.3333333333333333, \"#9c179e\"], [0.4444444444444444, \"#bd3786\"], [0.5555555555555556, \"#d8576b\"], [0.6666666666666666, \"#ed7953\"], [0.7777777777777778, \"#fb9f3a\"], [0.8888888888888888, \"#fdca26\"], [1.0, \"#f0f921\"]], \"sequentialminus\": [[0.0, \"#0d0887\"], [0.1111111111111111, \"#46039f\"], [0.2222222222222222, \"#7201a8\"], [0.3333333333333333, \"#9c179e\"], [0.4444444444444444, \"#bd3786\"], [0.5555555555555556, \"#d8576b\"], [0.6666666666666666, \"#ed7953\"], [0.7777777777777778, \"#fb9f3a\"], [0.8888888888888888, \"#fdca26\"], [1.0, \"#f0f921\"]]}, \"colorway\": [\"#636efa\", \"#EF553B\", \"#00cc96\", \"#ab63fa\", \"#FFA15A\", \"#19d3f3\", \"#FF6692\", \"#B6E880\", \"#FF97FF\", \"#FECB52\"], \"font\": {\"color\": \"#2a3f5f\"}, \"geo\": {\"bgcolor\": \"white\", \"lakecolor\": \"white\", \"landcolor\": \"#E5ECF6\", \"showlakes\": true, \"showland\": true, \"subunitcolor\": \"white\"}, \"hoverlabel\": {\"align\": \"left\"}, \"hovermode\": \"closest\", \"mapbox\": {\"style\": \"light\"}, \"paper_bgcolor\": \"white\", \"plot_bgcolor\": \"#E5ECF6\", \"polar\": {\"angularaxis\": {\"gridcolor\": \"white\", \"linecolor\": \"white\", \"ticks\": \"\"}, \"bgcolor\": \"#E5ECF6\", \"radialaxis\": {\"gridcolor\": \"white\", \"linecolor\": \"white\", \"ticks\": \"\"}}, \"scene\": {\"xaxis\": {\"backgroundcolor\": \"#E5ECF6\", \"gridcolor\": \"white\", \"gridwidth\": 2, \"linecolor\": \"white\", \"showbackground\": true, \"ticks\": \"\", \"zerolinecolor\": \"white\"}, \"yaxis\": {\"backgroundcolor\": \"#E5ECF6\", \"gridcolor\": \"white\", \"gridwidth\": 2, \"linecolor\": \"white\", \"showbackground\": true, \"ticks\": \"\", \"zerolinecolor\": \"white\"}, \"zaxis\": {\"backgroundcolor\": \"#E5ECF6\", \"gridcolor\": \"white\", \"gridwidth\": 2, \"linecolor\": \"white\", \"showbackground\": true, \"ticks\": \"\", \"zerolinecolor\": \"white\"}}, \"shapedefaults\": {\"line\": {\"color\": \"#2a3f5f\"}}, \"ternary\": {\"aaxis\": {\"gridcolor\": \"white\", \"linecolor\": \"white\", \"ticks\": \"\"}, \"baxis\": {\"gridcolor\": \"white\", \"linecolor\": \"white\", \"ticks\": \"\"}, \"bgcolor\": \"#E5ECF6\", \"caxis\": {\"gridcolor\": \"white\", \"linecolor\": \"white\", \"ticks\": \"\"}}, \"title\": {\"x\": 0.05}, \"xaxis\": {\"automargin\": true, \"gridcolor\": \"white\", \"linecolor\": \"white\", \"ticks\": \"\", \"title\": {\"standoff\": 15}, \"zerolinecolor\": \"white\", \"zerolinewidth\": 2}, \"yaxis\": {\"automargin\": true, \"gridcolor\": \"white\", \"linecolor\": \"white\", \"ticks\": \"\", \"title\": {\"standoff\": 15}, \"zerolinecolor\": \"white\", \"zerolinewidth\": 2}}}, \"title\": {\"font\": {\"color\": \"#4D5663\"}, \"text\": \" Minimum polluted cities( Vehicular Pollution content )\"}, \"xaxis\": {\"gridcolor\": \"#E1E5ED\", \"linecolor\": \"black\", \"showgrid\": true, \"tickfont\": {\"color\": \"#4D5663\"}, \"title\": {\"font\": {\"color\": \"#4D5663\"}, \"text\": \"Vehicular Pollution content\"}, \"zerolinecolor\": \"#E1E5ED\"}, \"yaxis\": {\"gridcolor\": \"#E1E5ED\", \"linecolor\": \"black\", \"showgrid\": true, \"tickfont\": {\"color\": \"#4D5663\"}, \"title\": {\"font\": {\"color\": \"#4D5663\"}, \"text\": \"Cities\"}, \"zerolinecolor\": \"#E1E5ED\"}},\n",
       "                        {\"showLink\": true, \"linkText\": \"Export to plot.ly\", \"plotlyServerURL\": \"https://plot.ly\", \"responsive\": true}\n",
       "                    ).then(function(){\n",
       "                            \n",
       "var gd = document.getElementById('628eea7e-9836-461c-b7a3-9a2a9badd7e0');\n",
       "var x = new MutationObserver(function (mutations, observer) {{\n",
       "        var display = window.getComputedStyle(gd).display;\n",
       "        if (!display || display === 'none') {{\n",
       "            console.log([gd, 'removed!']);\n",
       "            Plotly.purge(gd);\n",
       "            observer.disconnect();\n",
       "        }}\n",
       "}});\n",
       "\n",
       "// Listen for the removal of the full notebook cells\n",
       "var notebookContainer = gd.closest('#notebook-container');\n",
       "if (notebookContainer) {{\n",
       "    x.observe(notebookContainer, {childList: true});\n",
       "}}\n",
       "\n",
       "// Listen for the clearing of the current output cell\n",
       "var outputEl = gd.closest('.output');\n",
       "if (outputEl) {{\n",
       "    x.observe(outputEl, {childList: true});\n",
       "}}\n",
       "\n",
       "                        })\n",
       "                };\n",
       "                });\n",
       "            </script>\n",
       "        </div>"
      ]
     },
     "metadata": {},
     "output_type": "display_data"
    }
   ],
   "source": [
    "def min_bar_plot(var):\n",
    "    x1 = df[['City',var]].groupby([\"City\"]).mean().sort_values(by = var,\n",
    "    ascending = True).head(10).iplot(kind='bar', yTitle='Cities',xTitle=var, linecolor='black',title='{2} {1} {0}'.format(\")\",var,' Minimum polluted cities('))\n",
    "p1 = min_bar_plot('Industrial Pollution content')\n",
    "p2 = min_bar_plot('Vehicular Pollution content')"
   ]
  },
  {
   "cell_type": "code",
   "execution_count": 10,
   "metadata": {
    "execution": {
     "iopub.execute_input": "2020-10-30T04:22:46.066010Z",
     "iopub.status.busy": "2020-10-30T04:22:46.065348Z",
     "iopub.status.idle": "2020-10-30T04:22:46.152428Z",
     "shell.execute_reply": "2020-10-30T04:22:46.153246Z"
    },
    "papermill": {
     "duration": 0.378246,
     "end_time": "2020-10-30T04:22:46.153460",
     "exception": false,
     "start_time": "2020-10-30T04:22:45.775214",
     "status": "completed"
    },
    "tags": []
   },
   "outputs": [
    {
     "data": {
      "application/vnd.plotly.v1+json": {
       "config": {
        "linkText": "Export to plot.ly",
        "plotlyServerURL": "https://plot.ly",
        "showLink": true
       },
       "data": [
        {
         "marker": {
          "color": "rgba(255, 153, 51, 0.6)",
          "line": {
           "color": "rgba(255, 153, 51, 1.0)",
           "width": 1
          }
         },
         "name": "Ahmedabad",
         "orientation": "v",
         "text": "",
         "type": "bar",
         "x": [
          "Moderate",
          "Severe",
          "Poor",
          "Very Poor",
          "Satisfactory",
          "Good"
         ],
         "y": [
          42,
          33,
          12,
          11,
          1,
          0
         ]
        },
        {
         "marker": {
          "color": "rgba(55, 128, 191, 0.6)",
          "line": {
           "color": "rgba(55, 128, 191, 1.0)",
           "width": 1
          }
         },
         "name": "Delhi",
         "orientation": "v",
         "text": "",
         "type": "bar",
         "x": [
          "Moderate",
          "Severe",
          "Poor",
          "Very Poor",
          "Satisfactory",
          "Good"
         ],
         "y": [
          24,
          12,
          28,
          27,
          7,
          1
         ]
        },
        {
         "marker": {
          "color": "rgba(50, 171, 96, 0.6)",
          "line": {
           "color": "rgba(50, 171, 96, 1.0)",
           "width": 1
          }
         },
         "name": "Kolkata",
         "orientation": "v",
         "text": "",
         "type": "bar",
         "x": [
          "Moderate",
          "Severe",
          "Poor",
          "Very Poor",
          "Satisfactory",
          "Good"
         ],
         "y": [
          29,
          2,
          16,
          9,
          33,
          10
         ]
        },
        {
         "marker": {
          "color": "rgba(128, 0, 128, 0.6)",
          "line": {
           "color": "rgba(128, 0, 128, 1.0)",
           "width": 1
          }
         },
         "name": "Mumbai",
         "orientation": "v",
         "text": "",
         "type": "bar",
         "x": [
          "Moderate",
          "Severe",
          "Poor",
          "Very Poor",
          "Satisfactory",
          "Good"
         ],
         "y": [
          79,
          "",
          2,
          0,
          18,
          1
         ]
        },
        {
         "marker": {
          "color": "rgba(219, 64, 82, 0.6)",
          "line": {
           "color": "rgba(219, 64, 82, 1.0)",
           "width": 1
          }
         },
         "name": "Bengaluru",
         "orientation": "v",
         "text": "",
         "type": "bar",
         "x": [
          "Moderate",
          "Severe",
          "Poor",
          "Very Poor",
          "Satisfactory",
          "Good"
         ],
         "y": [
          38,
          "",
          2,
          0,
          54,
          5
         ]
        }
       ],
       "layout": {
        "legend": {
         "bgcolor": "#F5F6F9",
         "font": {
          "color": "#4D5663"
         }
        },
        "paper_bgcolor": "#F5F6F9",
        "plot_bgcolor": "#F5F6F9",
        "template": {
         "data": {
          "bar": [
           {
            "error_x": {
             "color": "#2a3f5f"
            },
            "error_y": {
             "color": "#2a3f5f"
            },
            "marker": {
             "line": {
              "color": "#E5ECF6",
              "width": 0.5
             }
            },
            "type": "bar"
           }
          ],
          "barpolar": [
           {
            "marker": {
             "line": {
              "color": "#E5ECF6",
              "width": 0.5
             }
            },
            "type": "barpolar"
           }
          ],
          "carpet": [
           {
            "aaxis": {
             "endlinecolor": "#2a3f5f",
             "gridcolor": "white",
             "linecolor": "white",
             "minorgridcolor": "white",
             "startlinecolor": "#2a3f5f"
            },
            "baxis": {
             "endlinecolor": "#2a3f5f",
             "gridcolor": "white",
             "linecolor": "white",
             "minorgridcolor": "white",
             "startlinecolor": "#2a3f5f"
            },
            "type": "carpet"
           }
          ],
          "choropleth": [
           {
            "colorbar": {
             "outlinewidth": 0,
             "ticks": ""
            },
            "type": "choropleth"
           }
          ],
          "contour": [
           {
            "colorbar": {
             "outlinewidth": 0,
             "ticks": ""
            },
            "colorscale": [
             [
              0,
              "#0d0887"
             ],
             [
              0.1111111111111111,
              "#46039f"
             ],
             [
              0.2222222222222222,
              "#7201a8"
             ],
             [
              0.3333333333333333,
              "#9c179e"
             ],
             [
              0.4444444444444444,
              "#bd3786"
             ],
             [
              0.5555555555555556,
              "#d8576b"
             ],
             [
              0.6666666666666666,
              "#ed7953"
             ],
             [
              0.7777777777777778,
              "#fb9f3a"
             ],
             [
              0.8888888888888888,
              "#fdca26"
             ],
             [
              1,
              "#f0f921"
             ]
            ],
            "type": "contour"
           }
          ],
          "contourcarpet": [
           {
            "colorbar": {
             "outlinewidth": 0,
             "ticks": ""
            },
            "type": "contourcarpet"
           }
          ],
          "heatmap": [
           {
            "colorbar": {
             "outlinewidth": 0,
             "ticks": ""
            },
            "colorscale": [
             [
              0,
              "#0d0887"
             ],
             [
              0.1111111111111111,
              "#46039f"
             ],
             [
              0.2222222222222222,
              "#7201a8"
             ],
             [
              0.3333333333333333,
              "#9c179e"
             ],
             [
              0.4444444444444444,
              "#bd3786"
             ],
             [
              0.5555555555555556,
              "#d8576b"
             ],
             [
              0.6666666666666666,
              "#ed7953"
             ],
             [
              0.7777777777777778,
              "#fb9f3a"
             ],
             [
              0.8888888888888888,
              "#fdca26"
             ],
             [
              1,
              "#f0f921"
             ]
            ],
            "type": "heatmap"
           }
          ],
          "heatmapgl": [
           {
            "colorbar": {
             "outlinewidth": 0,
             "ticks": ""
            },
            "colorscale": [
             [
              0,
              "#0d0887"
             ],
             [
              0.1111111111111111,
              "#46039f"
             ],
             [
              0.2222222222222222,
              "#7201a8"
             ],
             [
              0.3333333333333333,
              "#9c179e"
             ],
             [
              0.4444444444444444,
              "#bd3786"
             ],
             [
              0.5555555555555556,
              "#d8576b"
             ],
             [
              0.6666666666666666,
              "#ed7953"
             ],
             [
              0.7777777777777778,
              "#fb9f3a"
             ],
             [
              0.8888888888888888,
              "#fdca26"
             ],
             [
              1,
              "#f0f921"
             ]
            ],
            "type": "heatmapgl"
           }
          ],
          "histogram": [
           {
            "marker": {
             "colorbar": {
              "outlinewidth": 0,
              "ticks": ""
             }
            },
            "type": "histogram"
           }
          ],
          "histogram2d": [
           {
            "colorbar": {
             "outlinewidth": 0,
             "ticks": ""
            },
            "colorscale": [
             [
              0,
              "#0d0887"
             ],
             [
              0.1111111111111111,
              "#46039f"
             ],
             [
              0.2222222222222222,
              "#7201a8"
             ],
             [
              0.3333333333333333,
              "#9c179e"
             ],
             [
              0.4444444444444444,
              "#bd3786"
             ],
             [
              0.5555555555555556,
              "#d8576b"
             ],
             [
              0.6666666666666666,
              "#ed7953"
             ],
             [
              0.7777777777777778,
              "#fb9f3a"
             ],
             [
              0.8888888888888888,
              "#fdca26"
             ],
             [
              1,
              "#f0f921"
             ]
            ],
            "type": "histogram2d"
           }
          ],
          "histogram2dcontour": [
           {
            "colorbar": {
             "outlinewidth": 0,
             "ticks": ""
            },
            "colorscale": [
             [
              0,
              "#0d0887"
             ],
             [
              0.1111111111111111,
              "#46039f"
             ],
             [
              0.2222222222222222,
              "#7201a8"
             ],
             [
              0.3333333333333333,
              "#9c179e"
             ],
             [
              0.4444444444444444,
              "#bd3786"
             ],
             [
              0.5555555555555556,
              "#d8576b"
             ],
             [
              0.6666666666666666,
              "#ed7953"
             ],
             [
              0.7777777777777778,
              "#fb9f3a"
             ],
             [
              0.8888888888888888,
              "#fdca26"
             ],
             [
              1,
              "#f0f921"
             ]
            ],
            "type": "histogram2dcontour"
           }
          ],
          "mesh3d": [
           {
            "colorbar": {
             "outlinewidth": 0,
             "ticks": ""
            },
            "type": "mesh3d"
           }
          ],
          "parcoords": [
           {
            "line": {
             "colorbar": {
              "outlinewidth": 0,
              "ticks": ""
             }
            },
            "type": "parcoords"
           }
          ],
          "pie": [
           {
            "automargin": true,
            "type": "pie"
           }
          ],
          "scatter": [
           {
            "marker": {
             "colorbar": {
              "outlinewidth": 0,
              "ticks": ""
             }
            },
            "type": "scatter"
           }
          ],
          "scatter3d": [
           {
            "line": {
             "colorbar": {
              "outlinewidth": 0,
              "ticks": ""
             }
            },
            "marker": {
             "colorbar": {
              "outlinewidth": 0,
              "ticks": ""
             }
            },
            "type": "scatter3d"
           }
          ],
          "scattercarpet": [
           {
            "marker": {
             "colorbar": {
              "outlinewidth": 0,
              "ticks": ""
             }
            },
            "type": "scattercarpet"
           }
          ],
          "scattergeo": [
           {
            "marker": {
             "colorbar": {
              "outlinewidth": 0,
              "ticks": ""
             }
            },
            "type": "scattergeo"
           }
          ],
          "scattergl": [
           {
            "marker": {
             "colorbar": {
              "outlinewidth": 0,
              "ticks": ""
             }
            },
            "type": "scattergl"
           }
          ],
          "scattermapbox": [
           {
            "marker": {
             "colorbar": {
              "outlinewidth": 0,
              "ticks": ""
             }
            },
            "type": "scattermapbox"
           }
          ],
          "scatterpolar": [
           {
            "marker": {
             "colorbar": {
              "outlinewidth": 0,
              "ticks": ""
             }
            },
            "type": "scatterpolar"
           }
          ],
          "scatterpolargl": [
           {
            "marker": {
             "colorbar": {
              "outlinewidth": 0,
              "ticks": ""
             }
            },
            "type": "scatterpolargl"
           }
          ],
          "scatterternary": [
           {
            "marker": {
             "colorbar": {
              "outlinewidth": 0,
              "ticks": ""
             }
            },
            "type": "scatterternary"
           }
          ],
          "surface": [
           {
            "colorbar": {
             "outlinewidth": 0,
             "ticks": ""
            },
            "colorscale": [
             [
              0,
              "#0d0887"
             ],
             [
              0.1111111111111111,
              "#46039f"
             ],
             [
              0.2222222222222222,
              "#7201a8"
             ],
             [
              0.3333333333333333,
              "#9c179e"
             ],
             [
              0.4444444444444444,
              "#bd3786"
             ],
             [
              0.5555555555555556,
              "#d8576b"
             ],
             [
              0.6666666666666666,
              "#ed7953"
             ],
             [
              0.7777777777777778,
              "#fb9f3a"
             ],
             [
              0.8888888888888888,
              "#fdca26"
             ],
             [
              1,
              "#f0f921"
             ]
            ],
            "type": "surface"
           }
          ],
          "table": [
           {
            "cells": {
             "fill": {
              "color": "#EBF0F8"
             },
             "line": {
              "color": "white"
             }
            },
            "header": {
             "fill": {
              "color": "#C8D4E3"
             },
             "line": {
              "color": "white"
             }
            },
            "type": "table"
           }
          ]
         },
         "layout": {
          "annotationdefaults": {
           "arrowcolor": "#2a3f5f",
           "arrowhead": 0,
           "arrowwidth": 1
          },
          "coloraxis": {
           "colorbar": {
            "outlinewidth": 0,
            "ticks": ""
           }
          },
          "colorscale": {
           "diverging": [
            [
             0,
             "#8e0152"
            ],
            [
             0.1,
             "#c51b7d"
            ],
            [
             0.2,
             "#de77ae"
            ],
            [
             0.3,
             "#f1b6da"
            ],
            [
             0.4,
             "#fde0ef"
            ],
            [
             0.5,
             "#f7f7f7"
            ],
            [
             0.6,
             "#e6f5d0"
            ],
            [
             0.7,
             "#b8e186"
            ],
            [
             0.8,
             "#7fbc41"
            ],
            [
             0.9,
             "#4d9221"
            ],
            [
             1,
             "#276419"
            ]
           ],
           "sequential": [
            [
             0,
             "#0d0887"
            ],
            [
             0.1111111111111111,
             "#46039f"
            ],
            [
             0.2222222222222222,
             "#7201a8"
            ],
            [
             0.3333333333333333,
             "#9c179e"
            ],
            [
             0.4444444444444444,
             "#bd3786"
            ],
            [
             0.5555555555555556,
             "#d8576b"
            ],
            [
             0.6666666666666666,
             "#ed7953"
            ],
            [
             0.7777777777777778,
             "#fb9f3a"
            ],
            [
             0.8888888888888888,
             "#fdca26"
            ],
            [
             1,
             "#f0f921"
            ]
           ],
           "sequentialminus": [
            [
             0,
             "#0d0887"
            ],
            [
             0.1111111111111111,
             "#46039f"
            ],
            [
             0.2222222222222222,
             "#7201a8"
            ],
            [
             0.3333333333333333,
             "#9c179e"
            ],
            [
             0.4444444444444444,
             "#bd3786"
            ],
            [
             0.5555555555555556,
             "#d8576b"
            ],
            [
             0.6666666666666666,
             "#ed7953"
            ],
            [
             0.7777777777777778,
             "#fb9f3a"
            ],
            [
             0.8888888888888888,
             "#fdca26"
            ],
            [
             1,
             "#f0f921"
            ]
           ]
          },
          "colorway": [
           "#636efa",
           "#EF553B",
           "#00cc96",
           "#ab63fa",
           "#FFA15A",
           "#19d3f3",
           "#FF6692",
           "#B6E880",
           "#FF97FF",
           "#FECB52"
          ],
          "font": {
           "color": "#2a3f5f"
          },
          "geo": {
           "bgcolor": "white",
           "lakecolor": "white",
           "landcolor": "#E5ECF6",
           "showlakes": true,
           "showland": true,
           "subunitcolor": "white"
          },
          "hoverlabel": {
           "align": "left"
          },
          "hovermode": "closest",
          "mapbox": {
           "style": "light"
          },
          "paper_bgcolor": "white",
          "plot_bgcolor": "#E5ECF6",
          "polar": {
           "angularaxis": {
            "gridcolor": "white",
            "linecolor": "white",
            "ticks": ""
           },
           "bgcolor": "#E5ECF6",
           "radialaxis": {
            "gridcolor": "white",
            "linecolor": "white",
            "ticks": ""
           }
          },
          "scene": {
           "xaxis": {
            "backgroundcolor": "#E5ECF6",
            "gridcolor": "white",
            "gridwidth": 2,
            "linecolor": "white",
            "showbackground": true,
            "ticks": "",
            "zerolinecolor": "white"
           },
           "yaxis": {
            "backgroundcolor": "#E5ECF6",
            "gridcolor": "white",
            "gridwidth": 2,
            "linecolor": "white",
            "showbackground": true,
            "ticks": "",
            "zerolinecolor": "white"
           },
           "zaxis": {
            "backgroundcolor": "#E5ECF6",
            "gridcolor": "white",
            "gridwidth": 2,
            "linecolor": "white",
            "showbackground": true,
            "ticks": "",
            "zerolinecolor": "white"
           }
          },
          "shapedefaults": {
           "line": {
            "color": "#2a3f5f"
           }
          },
          "ternary": {
           "aaxis": {
            "gridcolor": "white",
            "linecolor": "white",
            "ticks": ""
           },
           "baxis": {
            "gridcolor": "white",
            "linecolor": "white",
            "ticks": ""
           },
           "bgcolor": "#E5ECF6",
           "caxis": {
            "gridcolor": "white",
            "linecolor": "white",
            "ticks": ""
           }
          },
          "title": {
           "x": 0.05
          },
          "xaxis": {
           "automargin": true,
           "gridcolor": "white",
           "linecolor": "white",
           "ticks": "",
           "title": {
            "standoff": 15
           },
           "zerolinecolor": "white",
           "zerolinewidth": 2
          },
          "yaxis": {
           "automargin": true,
           "gridcolor": "white",
           "linecolor": "white",
           "ticks": "",
           "title": {
            "standoff": 15
           },
           "zerolinecolor": "white",
           "zerolinewidth": 2
          }
         }
        },
        "title": {
         "font": {
          "color": "#4D5663"
         },
         "text": "Satisfaction level of people(Pre COVID19)"
        },
        "xaxis": {
         "gridcolor": "#E1E5ED",
         "linecolor": "black",
         "showgrid": true,
         "tickfont": {
          "color": "#4D5663"
         },
         "title": {
          "font": {
           "color": "#4D5663"
          },
          "text": "Satisfaction level"
         },
         "zerolinecolor": "#E1E5ED"
        },
        "yaxis": {
         "gridcolor": "#E1E5ED",
         "linecolor": "black",
         "showgrid": true,
         "tickfont": {
          "color": "#4D5663"
         },
         "title": {
          "font": {
           "color": "#4D5663"
          },
          "text": "percentage of satisfaction"
         },
         "zerolinecolor": "#E1E5ED"
        }
       }
      },
      "text/html": [
       "<div>\n",
       "        \n",
       "        \n",
       "            <div id=\"c6ab64aa-afa9-458f-a2c2-a0d754dcf2b5\" class=\"plotly-graph-div\" style=\"height:525px; width:100%;\"></div>\n",
       "            <script type=\"text/javascript\">\n",
       "                require([\"plotly\"], function(Plotly) {\n",
       "                    window.PLOTLYENV=window.PLOTLYENV || {};\n",
       "                    window.PLOTLYENV.BASE_URL='https://plot.ly';\n",
       "                    \n",
       "                if (document.getElementById(\"c6ab64aa-afa9-458f-a2c2-a0d754dcf2b5\")) {\n",
       "                    Plotly.newPlot(\n",
       "                        'c6ab64aa-afa9-458f-a2c2-a0d754dcf2b5',\n",
       "                        [{\"marker\": {\"color\": \"rgba(255, 153, 51, 0.6)\", \"line\": {\"color\": \"rgba(255, 153, 51, 1.0)\", \"width\": 1}}, \"name\": \"Ahmedabad\", \"orientation\": \"v\", \"text\": \"\", \"type\": \"bar\", \"x\": [\"Moderate\", \"Severe\", \"Poor\", \"Very Poor\", \"Satisfactory\", \"Good\"], \"y\": [42.0, 33.0, 12.0, 11.0, 1.0, 0.0]}, {\"marker\": {\"color\": \"rgba(55, 128, 191, 0.6)\", \"line\": {\"color\": \"rgba(55, 128, 191, 1.0)\", \"width\": 1}}, \"name\": \"Delhi\", \"orientation\": \"v\", \"text\": \"\", \"type\": \"bar\", \"x\": [\"Moderate\", \"Severe\", \"Poor\", \"Very Poor\", \"Satisfactory\", \"Good\"], \"y\": [24.0, 12.0, 28.0, 27.0, 7.0, 1.0]}, {\"marker\": {\"color\": \"rgba(50, 171, 96, 0.6)\", \"line\": {\"color\": \"rgba(50, 171, 96, 1.0)\", \"width\": 1}}, \"name\": \"Kolkata\", \"orientation\": \"v\", \"text\": \"\", \"type\": \"bar\", \"x\": [\"Moderate\", \"Severe\", \"Poor\", \"Very Poor\", \"Satisfactory\", \"Good\"], \"y\": [29.0, 2.0, 16.0, 9.0, 33.0, 10.0]}, {\"marker\": {\"color\": \"rgba(128, 0, 128, 0.6)\", \"line\": {\"color\": \"rgba(128, 0, 128, 1.0)\", \"width\": 1}}, \"name\": \"Mumbai\", \"orientation\": \"v\", \"text\": \"\", \"type\": \"bar\", \"x\": [\"Moderate\", \"Severe\", \"Poor\", \"Very Poor\", \"Satisfactory\", \"Good\"], \"y\": [79.0, \"\", 2.0, 0.0, 18.0, 1.0]}, {\"marker\": {\"color\": \"rgba(219, 64, 82, 0.6)\", \"line\": {\"color\": \"rgba(219, 64, 82, 1.0)\", \"width\": 1}}, \"name\": \"Bengaluru\", \"orientation\": \"v\", \"text\": \"\", \"type\": \"bar\", \"x\": [\"Moderate\", \"Severe\", \"Poor\", \"Very Poor\", \"Satisfactory\", \"Good\"], \"y\": [38.0, \"\", 2.0, 0.0, 54.0, 5.0]}],\n",
       "                        {\"legend\": {\"bgcolor\": \"#F5F6F9\", \"font\": {\"color\": \"#4D5663\"}}, \"paper_bgcolor\": \"#F5F6F9\", \"plot_bgcolor\": \"#F5F6F9\", \"template\": {\"data\": {\"bar\": [{\"error_x\": {\"color\": \"#2a3f5f\"}, \"error_y\": {\"color\": \"#2a3f5f\"}, \"marker\": {\"line\": {\"color\": \"#E5ECF6\", \"width\": 0.5}}, \"type\": \"bar\"}], \"barpolar\": [{\"marker\": {\"line\": {\"color\": \"#E5ECF6\", \"width\": 0.5}}, \"type\": \"barpolar\"}], \"carpet\": [{\"aaxis\": {\"endlinecolor\": \"#2a3f5f\", \"gridcolor\": \"white\", \"linecolor\": \"white\", \"minorgridcolor\": \"white\", \"startlinecolor\": \"#2a3f5f\"}, \"baxis\": {\"endlinecolor\": \"#2a3f5f\", \"gridcolor\": \"white\", \"linecolor\": \"white\", \"minorgridcolor\": \"white\", \"startlinecolor\": \"#2a3f5f\"}, \"type\": \"carpet\"}], \"choropleth\": [{\"colorbar\": {\"outlinewidth\": 0, \"ticks\": \"\"}, \"type\": \"choropleth\"}], \"contour\": [{\"colorbar\": {\"outlinewidth\": 0, \"ticks\": \"\"}, \"colorscale\": [[0.0, \"#0d0887\"], [0.1111111111111111, \"#46039f\"], [0.2222222222222222, \"#7201a8\"], [0.3333333333333333, \"#9c179e\"], [0.4444444444444444, \"#bd3786\"], [0.5555555555555556, \"#d8576b\"], [0.6666666666666666, \"#ed7953\"], [0.7777777777777778, \"#fb9f3a\"], [0.8888888888888888, \"#fdca26\"], [1.0, \"#f0f921\"]], \"type\": \"contour\"}], \"contourcarpet\": [{\"colorbar\": {\"outlinewidth\": 0, \"ticks\": \"\"}, \"type\": \"contourcarpet\"}], \"heatmap\": [{\"colorbar\": {\"outlinewidth\": 0, \"ticks\": \"\"}, \"colorscale\": [[0.0, \"#0d0887\"], [0.1111111111111111, \"#46039f\"], [0.2222222222222222, \"#7201a8\"], [0.3333333333333333, \"#9c179e\"], [0.4444444444444444, \"#bd3786\"], [0.5555555555555556, \"#d8576b\"], [0.6666666666666666, \"#ed7953\"], [0.7777777777777778, \"#fb9f3a\"], [0.8888888888888888, \"#fdca26\"], [1.0, \"#f0f921\"]], \"type\": \"heatmap\"}], \"heatmapgl\": [{\"colorbar\": {\"outlinewidth\": 0, \"ticks\": \"\"}, \"colorscale\": [[0.0, \"#0d0887\"], [0.1111111111111111, \"#46039f\"], [0.2222222222222222, \"#7201a8\"], [0.3333333333333333, \"#9c179e\"], [0.4444444444444444, \"#bd3786\"], [0.5555555555555556, \"#d8576b\"], [0.6666666666666666, \"#ed7953\"], [0.7777777777777778, \"#fb9f3a\"], [0.8888888888888888, \"#fdca26\"], [1.0, \"#f0f921\"]], \"type\": \"heatmapgl\"}], \"histogram\": [{\"marker\": {\"colorbar\": {\"outlinewidth\": 0, \"ticks\": \"\"}}, \"type\": \"histogram\"}], \"histogram2d\": [{\"colorbar\": {\"outlinewidth\": 0, \"ticks\": \"\"}, \"colorscale\": [[0.0, \"#0d0887\"], [0.1111111111111111, \"#46039f\"], [0.2222222222222222, \"#7201a8\"], [0.3333333333333333, \"#9c179e\"], [0.4444444444444444, \"#bd3786\"], [0.5555555555555556, \"#d8576b\"], [0.6666666666666666, \"#ed7953\"], [0.7777777777777778, \"#fb9f3a\"], [0.8888888888888888, \"#fdca26\"], [1.0, \"#f0f921\"]], \"type\": \"histogram2d\"}], \"histogram2dcontour\": [{\"colorbar\": {\"outlinewidth\": 0, \"ticks\": \"\"}, \"colorscale\": [[0.0, \"#0d0887\"], [0.1111111111111111, \"#46039f\"], [0.2222222222222222, \"#7201a8\"], [0.3333333333333333, \"#9c179e\"], [0.4444444444444444, \"#bd3786\"], [0.5555555555555556, \"#d8576b\"], [0.6666666666666666, \"#ed7953\"], [0.7777777777777778, \"#fb9f3a\"], [0.8888888888888888, \"#fdca26\"], [1.0, \"#f0f921\"]], \"type\": \"histogram2dcontour\"}], \"mesh3d\": [{\"colorbar\": {\"outlinewidth\": 0, \"ticks\": \"\"}, \"type\": \"mesh3d\"}], \"parcoords\": [{\"line\": {\"colorbar\": {\"outlinewidth\": 0, \"ticks\": \"\"}}, \"type\": \"parcoords\"}], \"pie\": [{\"automargin\": true, \"type\": \"pie\"}], \"scatter\": [{\"marker\": {\"colorbar\": {\"outlinewidth\": 0, \"ticks\": \"\"}}, \"type\": \"scatter\"}], \"scatter3d\": [{\"line\": {\"colorbar\": {\"outlinewidth\": 0, \"ticks\": \"\"}}, \"marker\": {\"colorbar\": {\"outlinewidth\": 0, \"ticks\": \"\"}}, \"type\": \"scatter3d\"}], \"scattercarpet\": [{\"marker\": {\"colorbar\": {\"outlinewidth\": 0, \"ticks\": \"\"}}, \"type\": \"scattercarpet\"}], \"scattergeo\": [{\"marker\": {\"colorbar\": {\"outlinewidth\": 0, \"ticks\": \"\"}}, \"type\": \"scattergeo\"}], \"scattergl\": [{\"marker\": {\"colorbar\": {\"outlinewidth\": 0, \"ticks\": \"\"}}, \"type\": \"scattergl\"}], \"scattermapbox\": [{\"marker\": {\"colorbar\": {\"outlinewidth\": 0, \"ticks\": \"\"}}, \"type\": \"scattermapbox\"}], \"scatterpolar\": [{\"marker\": {\"colorbar\": {\"outlinewidth\": 0, \"ticks\": \"\"}}, \"type\": \"scatterpolar\"}], \"scatterpolargl\": [{\"marker\": {\"colorbar\": {\"outlinewidth\": 0, \"ticks\": \"\"}}, \"type\": \"scatterpolargl\"}], \"scatterternary\": [{\"marker\": {\"colorbar\": {\"outlinewidth\": 0, \"ticks\": \"\"}}, \"type\": \"scatterternary\"}], \"surface\": [{\"colorbar\": {\"outlinewidth\": 0, \"ticks\": \"\"}, \"colorscale\": [[0.0, \"#0d0887\"], [0.1111111111111111, \"#46039f\"], [0.2222222222222222, \"#7201a8\"], [0.3333333333333333, \"#9c179e\"], [0.4444444444444444, \"#bd3786\"], [0.5555555555555556, \"#d8576b\"], [0.6666666666666666, \"#ed7953\"], [0.7777777777777778, \"#fb9f3a\"], [0.8888888888888888, \"#fdca26\"], [1.0, \"#f0f921\"]], \"type\": \"surface\"}], \"table\": [{\"cells\": {\"fill\": {\"color\": \"#EBF0F8\"}, \"line\": {\"color\": \"white\"}}, \"header\": {\"fill\": {\"color\": \"#C8D4E3\"}, \"line\": {\"color\": \"white\"}}, \"type\": \"table\"}]}, \"layout\": {\"annotationdefaults\": {\"arrowcolor\": \"#2a3f5f\", \"arrowhead\": 0, \"arrowwidth\": 1}, \"coloraxis\": {\"colorbar\": {\"outlinewidth\": 0, \"ticks\": \"\"}}, \"colorscale\": {\"diverging\": [[0, \"#8e0152\"], [0.1, \"#c51b7d\"], [0.2, \"#de77ae\"], [0.3, \"#f1b6da\"], [0.4, \"#fde0ef\"], [0.5, \"#f7f7f7\"], [0.6, \"#e6f5d0\"], [0.7, \"#b8e186\"], [0.8, \"#7fbc41\"], [0.9, \"#4d9221\"], [1, \"#276419\"]], \"sequential\": [[0.0, \"#0d0887\"], [0.1111111111111111, \"#46039f\"], [0.2222222222222222, \"#7201a8\"], [0.3333333333333333, \"#9c179e\"], [0.4444444444444444, \"#bd3786\"], [0.5555555555555556, \"#d8576b\"], [0.6666666666666666, \"#ed7953\"], [0.7777777777777778, \"#fb9f3a\"], [0.8888888888888888, \"#fdca26\"], [1.0, \"#f0f921\"]], \"sequentialminus\": [[0.0, \"#0d0887\"], [0.1111111111111111, \"#46039f\"], [0.2222222222222222, \"#7201a8\"], [0.3333333333333333, \"#9c179e\"], [0.4444444444444444, \"#bd3786\"], [0.5555555555555556, \"#d8576b\"], [0.6666666666666666, \"#ed7953\"], [0.7777777777777778, \"#fb9f3a\"], [0.8888888888888888, \"#fdca26\"], [1.0, \"#f0f921\"]]}, \"colorway\": [\"#636efa\", \"#EF553B\", \"#00cc96\", \"#ab63fa\", \"#FFA15A\", \"#19d3f3\", \"#FF6692\", \"#B6E880\", \"#FF97FF\", \"#FECB52\"], \"font\": {\"color\": \"#2a3f5f\"}, \"geo\": {\"bgcolor\": \"white\", \"lakecolor\": \"white\", \"landcolor\": \"#E5ECF6\", \"showlakes\": true, \"showland\": true, \"subunitcolor\": \"white\"}, \"hoverlabel\": {\"align\": \"left\"}, \"hovermode\": \"closest\", \"mapbox\": {\"style\": \"light\"}, \"paper_bgcolor\": \"white\", \"plot_bgcolor\": \"#E5ECF6\", \"polar\": {\"angularaxis\": {\"gridcolor\": \"white\", \"linecolor\": \"white\", \"ticks\": \"\"}, \"bgcolor\": \"#E5ECF6\", \"radialaxis\": {\"gridcolor\": \"white\", \"linecolor\": \"white\", \"ticks\": \"\"}}, \"scene\": {\"xaxis\": {\"backgroundcolor\": \"#E5ECF6\", \"gridcolor\": \"white\", \"gridwidth\": 2, \"linecolor\": \"white\", \"showbackground\": true, \"ticks\": \"\", \"zerolinecolor\": \"white\"}, \"yaxis\": {\"backgroundcolor\": \"#E5ECF6\", \"gridcolor\": \"white\", \"gridwidth\": 2, \"linecolor\": \"white\", \"showbackground\": true, \"ticks\": \"\", \"zerolinecolor\": \"white\"}, \"zaxis\": {\"backgroundcolor\": \"#E5ECF6\", \"gridcolor\": \"white\", \"gridwidth\": 2, \"linecolor\": \"white\", \"showbackground\": true, \"ticks\": \"\", \"zerolinecolor\": \"white\"}}, \"shapedefaults\": {\"line\": {\"color\": \"#2a3f5f\"}}, \"ternary\": {\"aaxis\": {\"gridcolor\": \"white\", \"linecolor\": \"white\", \"ticks\": \"\"}, \"baxis\": {\"gridcolor\": \"white\", \"linecolor\": \"white\", \"ticks\": \"\"}, \"bgcolor\": \"#E5ECF6\", \"caxis\": {\"gridcolor\": \"white\", \"linecolor\": \"white\", \"ticks\": \"\"}}, \"title\": {\"x\": 0.05}, \"xaxis\": {\"automargin\": true, \"gridcolor\": \"white\", \"linecolor\": \"white\", \"ticks\": \"\", \"title\": {\"standoff\": 15}, \"zerolinecolor\": \"white\", \"zerolinewidth\": 2}, \"yaxis\": {\"automargin\": true, \"gridcolor\": \"white\", \"linecolor\": \"white\", \"ticks\": \"\", \"title\": {\"standoff\": 15}, \"zerolinecolor\": \"white\", \"zerolinewidth\": 2}}}, \"title\": {\"font\": {\"color\": \"#4D5663\"}, \"text\": \"Satisfaction level of people(Pre COVID19)\"}, \"xaxis\": {\"gridcolor\": \"#E1E5ED\", \"linecolor\": \"black\", \"showgrid\": true, \"tickfont\": {\"color\": \"#4D5663\"}, \"title\": {\"font\": {\"color\": \"#4D5663\"}, \"text\": \"Satisfaction level\"}, \"zerolinecolor\": \"#E1E5ED\"}, \"yaxis\": {\"gridcolor\": \"#E1E5ED\", \"linecolor\": \"black\", \"showgrid\": true, \"tickfont\": {\"color\": \"#4D5663\"}, \"title\": {\"font\": {\"color\": \"#4D5663\"}, \"text\": \"percentage of satisfaction\"}, \"zerolinecolor\": \"#E1E5ED\"}},\n",
       "                        {\"showLink\": true, \"linkText\": \"Export to plot.ly\", \"plotlyServerURL\": \"https://plot.ly\", \"responsive\": true}\n",
       "                    ).then(function(){\n",
       "                            \n",
       "var gd = document.getElementById('c6ab64aa-afa9-458f-a2c2-a0d754dcf2b5');\n",
       "var x = new MutationObserver(function (mutations, observer) {{\n",
       "        var display = window.getComputedStyle(gd).display;\n",
       "        if (!display || display === 'none') {{\n",
       "            console.log([gd, 'removed!']);\n",
       "            Plotly.purge(gd);\n",
       "            observer.disconnect();\n",
       "        }}\n",
       "}});\n",
       "\n",
       "// Listen for the removal of the full notebook cells\n",
       "var notebookContainer = gd.closest('#notebook-container');\n",
       "if (notebookContainer) {{\n",
       "    x.observe(notebookContainer, {childList: true});\n",
       "}}\n",
       "\n",
       "// Listen for the clearing of the current output cell\n",
       "var outputEl = gd.closest('.output');\n",
       "if (outputEl) {{\n",
       "    x.observe(outputEl, {childList: true});\n",
       "}}\n",
       "\n",
       "                        })\n",
       "                };\n",
       "                });\n",
       "            </script>\n",
       "        </div>"
      ]
     },
     "metadata": {},
     "output_type": "display_data"
    }
   ],
   "source": [
    "def al(var):\n",
    "    cities = [var]\n",
    "    filtered_city_day = df1[df1['Date'] <= '2020-04-01']\n",
    "    AQI = filtered_city_day[filtered_city_day.City.isin(cities)][['City','Air_quality']]\n",
    "    AQI[var] = AQI['Air_quality']\n",
    "    k = AQI[var].value_counts()\n",
    "    m = pd.DataFrame((round((k/sum(k))*100)))\n",
    "    return m\n",
    "c11 = al('Ahmedabad')\n",
    "c22 = al('Delhi')\n",
    "c33 = al('Kolkata')\n",
    "c44 = al('Mumbai')\n",
    "c55 = al('Bengaluru')\n",
    "df_row = pd.concat([c11,c22,c33,c44,c55],axis=1)\n",
    "df_row.iplot(kind='bar', align='center',xTitle='Satisfaction level', yTitle='percentage of satisfaction' ,linecolor='black', title='Satisfaction level of people(Pre COVID19)')"
   ]
  },
  {
   "cell_type": "markdown",
   "metadata": {
    "papermill": {
     "duration": 0.284439,
     "end_time": "2020-10-30T04:22:46.737047",
     "exception": false,
     "start_time": "2020-10-30T04:22:46.452608",
     "status": "completed"
    },
    "tags": []
   },
   "source": [
    "## Post Corona [2020 >]"
   ]
  },
  {
   "cell_type": "code",
   "execution_count": 11,
   "metadata": {
    "execution": {
     "iopub.execute_input": "2020-10-30T04:22:47.321827Z",
     "iopub.status.busy": "2020-10-30T04:22:47.321098Z",
     "iopub.status.idle": "2020-10-30T04:22:47.338621Z",
     "shell.execute_reply": "2020-10-30T04:22:47.337751Z"
    },
    "papermill": {
     "duration": 0.313967,
     "end_time": "2020-10-30T04:22:47.338802",
     "exception": false,
     "start_time": "2020-10-30T04:22:47.024835",
     "status": "completed"
    },
    "tags": []
   },
   "outputs": [
    {
     "name": "stdout",
     "output_type": "stream",
     "text": [
      "<class 'pandas.core.frame.DataFrame'>\n",
      "Int64Index: 2795 entries, 1827 to 26218\n",
      "Data columns (total 6 columns):\n",
      " #   Column                        Non-Null Count  Dtype         \n",
      "---  ------                        --------------  -----         \n",
      " 0   City                          2795 non-null   object        \n",
      " 1   Date                          2795 non-null   datetime64[ns]\n",
      " 2   AQI                           2795 non-null   float64       \n",
      " 3   Air_quality                   2795 non-null   object        \n",
      " 4   Vehicular Pollution content   2795 non-null   float64       \n",
      " 5   Industrial Pollution content  2795 non-null   float64       \n",
      "dtypes: datetime64[ns](1), float64(3), object(2)\n",
      "memory usage: 152.9+ KB\n"
     ]
    }
   ],
   "source": [
    "df = df1.copy()\n",
    "df = df[df['Date'] > ('01-01-2020')] \n",
    "df['Vehicular Pollution content'] = df['PM2.5']+df['PM10']+df['NO']+df['NO2']+df['NOx']+df['NH3']+df['CO']\n",
    "df['Industrial Pollution content'] = df['SO2']+df['O3']+df['Benzene']+df['Toluene']+df['Xylene']\n",
    "df = df.drop(['PM2.5', 'PM10', 'NO', 'NO2', 'NOx', 'NH3', 'CO', 'SO2',\n",
    "       'O3','Benzene','Toluene','Xylene'],axis=1)\n",
    "df.info()"
   ]
  },
  {
   "cell_type": "code",
   "execution_count": 12,
   "metadata": {
    "execution": {
     "iopub.execute_input": "2020-10-30T04:22:47.938783Z",
     "iopub.status.busy": "2020-10-30T04:22:47.937960Z",
     "iopub.status.idle": "2020-10-30T04:22:48.077008Z",
     "shell.execute_reply": "2020-10-30T04:22:48.077633Z"
    },
    "papermill": {
     "duration": 0.441691,
     "end_time": "2020-10-30T04:22:48.077789",
     "exception": false,
     "start_time": "2020-10-30T04:22:47.636098",
     "status": "completed"
    },
    "tags": []
   },
   "outputs": [
    {
     "data": {
      "application/vnd.plotly.v1+json": {
       "config": {
        "linkText": "Export to plot.ly",
        "plotlyServerURL": "https://plot.ly",
        "showLink": true
       },
       "data": [
        {
         "line": {
          "color": "rgba(255, 153, 51, 1.0)",
          "dash": "solid",
          "shape": "linear",
          "width": 1.3
         },
         "mode": "lines",
         "name": "Vehicular Pollution content",
         "text": "",
         "type": "scatter",
         "x": [
          1827,
          1828,
          1829,
          1830,
          1831,
          1832,
          1833,
          1834,
          1835,
          1836,
          1837,
          1838,
          1839,
          1840,
          1841,
          1842,
          1843,
          1844,
          1845,
          1846,
          1847,
          1848,
          1849,
          1850,
          1851,
          1852,
          1853,
          1854,
          1855,
          1856,
          1857,
          1858,
          1859,
          1860,
          1861,
          1862,
          1863,
          1864,
          1865,
          1866,
          1867,
          1868,
          1869,
          1870,
          1871,
          1872,
          1873,
          1874,
          1875,
          1876,
          1877,
          1878,
          1879,
          1880,
          1881,
          1882,
          1883,
          1884,
          1885,
          1886,
          1887,
          1888,
          1889,
          1890,
          1891,
          1892,
          1893,
          1894,
          1895,
          1896,
          1897,
          1898,
          1899,
          1900,
          1901,
          1902,
          1903,
          1904,
          1905,
          1906,
          1907,
          1908,
          1909,
          1910,
          1911,
          1912,
          1913,
          1914,
          1915,
          1916,
          1917,
          1918,
          1919,
          1920,
          1921,
          1922,
          1923,
          1924,
          1925,
          1926,
          1927,
          1928,
          1929,
          1930,
          1931,
          1932,
          1933,
          1934,
          1935,
          1936,
          1937,
          1938,
          1939,
          1940,
          1941,
          1942,
          1943,
          1944,
          1945,
          1946,
          1947,
          1948,
          1949,
          1950,
          1951,
          1952,
          1953,
          1954,
          1955,
          1956,
          1957,
          1958,
          1959,
          1960,
          1961,
          1962,
          1963,
          1964,
          1965,
          1966,
          1967,
          1968,
          1969,
          1970,
          1971,
          1972,
          1973,
          1974,
          1975,
          1976,
          1977,
          1978,
          1979,
          1980,
          1981,
          1982,
          1983,
          1984,
          1985,
          1986,
          1987,
          1988,
          1989,
          1990,
          1991,
          1992,
          1993,
          1994,
          1995,
          1996,
          1997,
          1998,
          1999,
          2769,
          2770,
          2771,
          2772,
          2773,
          2774,
          2775,
          2776,
          2777,
          2778,
          2779,
          2780,
          2781,
          2782,
          2783,
          2784,
          2785,
          2786,
          2787,
          2788,
          2789,
          2790,
          2791,
          2792,
          2793,
          2794,
          2795,
          2796,
          2797,
          2798,
          2799,
          2800,
          2801,
          2802,
          2803,
          2804,
          2805,
          2806,
          2807,
          2808,
          2809,
          2810,
          2811,
          2812,
          2813,
          2814,
          2815,
          2816,
          2817,
          2818,
          2819,
          2820,
          2821,
          2822,
          2823,
          2824,
          2825,
          2826,
          2827,
          2828,
          2829,
          2830,
          2831,
          2832,
          2833,
          2834,
          2835,
          2836,
          2837,
          2838,
          2839,
          2840,
          2841,
          2842,
          2843,
          2844,
          2845,
          2846,
          2847,
          2848,
          2849,
          2850,
          2851,
          2852,
          2853,
          2854,
          2855,
          2856,
          2857,
          2858,
          2859,
          2860,
          2861,
          2862,
          2863,
          2864,
          2865,
          2866,
          2867,
          2868,
          2869,
          2870,
          2871,
          2872,
          2873,
          2874,
          2875,
          2876,
          2877,
          2878,
          2879,
          2880,
          2881,
          2882,
          2883,
          2884,
          2885,
          2886,
          2887,
          2888,
          2889,
          3929,
          3930,
          3931,
          3932,
          3933,
          3934,
          3935,
          3936,
          3937,
          3938,
          3939,
          3940,
          3941,
          3942,
          3943,
          3944,
          3945,
          3946,
          3947,
          3948,
          3949,
          3950,
          3951,
          3952,
          3953,
          3954,
          3955,
          3956,
          3957,
          3958,
          3959,
          3960,
          3961,
          3962,
          3963,
          3964,
          3965,
          3966,
          3967,
          3968,
          3969,
          3970,
          3971,
          3972,
          3973,
          3974,
          3975,
          3976,
          3977,
          3978,
          3979,
          3980,
          3981,
          3982,
          3983,
          3984,
          3985,
          3986,
          3987,
          3988,
          3989,
          3990,
          3991,
          3992,
          3993,
          3994,
          3995,
          3996,
          3997,
          3998,
          3999,
          4000,
          4001,
          4002,
          4003,
          4004,
          4005,
          4006,
          4007,
          4008,
          4009,
          4010,
          4011,
          4012,
          4013,
          4014,
          4015,
          4016,
          4017,
          4018,
          4019,
          4020,
          4021,
          4022,
          4023,
          4024,
          4025,
          4026,
          4027,
          4028,
          4029,
          4030,
          4031,
          4032,
          4033,
          4034,
          4035,
          4036,
          4037,
          4038,
          4039,
          4040,
          4041,
          4042,
          4043,
          4044,
          4045,
          4046,
          4047,
          4048,
          4049,
          5877,
          5878,
          5879,
          5880,
          5881,
          5882,
          5883,
          5884,
          5885,
          5886,
          5887,
          5888,
          5889,
          5890,
          5891,
          5892,
          5893,
          5894,
          5895,
          5896,
          5897,
          5898,
          5899,
          5900,
          5901,
          5902,
          5903,
          5904,
          5905,
          5906,
          5907,
          5908,
          5909,
          5910,
          5911,
          5912,
          5913,
          5914,
          5915,
          5916,
          5917,
          5918,
          5919,
          5920,
          5921,
          5922,
          5923,
          5924,
          5925,
          5926,
          5927,
          5928,
          5929,
          5930,
          5931,
          5932,
          5933,
          5934,
          5935,
          5936,
          5937,
          5938,
          5939,
          5940,
          5941,
          5942,
          5943,
          5944,
          5945,
          5946,
          5947,
          5948,
          5949,
          5950,
          5951,
          5952,
          5953,
          5954,
          5955,
          5956,
          5957,
          5958,
          5959,
          5960,
          5961,
          5962,
          5963,
          5964,
          5965,
          5966,
          5967,
          5968,
          5969,
          5970,
          5971,
          5972,
          5973,
          5974,
          5975,
          5976,
          5977,
          5978,
          5979,
          5980,
          5981,
          5982,
          5983,
          5984,
          5985,
          5986,
          5987,
          5988,
          5989,
          5990,
          5991,
          5992,
          5993,
          5994,
          5995,
          5996,
          5997,
          6105,
          6106,
          6107,
          6108,
          6109,
          6110,
          6111,
          6112,
          6113,
          6114,
          6115,
          6116,
          6117,
          6118,
          6119,
          6120,
          6121,
          6122,
          6123,
          6124,
          6125,
          6126,
          6127,
          6128,
          6129,
          6130,
          6131,
          6132,
          6133,
          6134,
          6135,
          6136,
          6137,
          6138,
          6139,
          6140,
          6141,
          6142,
          6143,
          6144,
          6145,
          6146,
          6147,
          6148,
          6149,
          6150,
          6151,
          6152,
          6153,
          6154,
          6155,
          6156,
          6157,
          6158,
          6159,
          6160,
          6161,
          6162,
          6163,
          6164,
          6165,
          6166,
          6167,
          6168,
          6169,
          6170,
          6171,
          6172,
          6173,
          6174,
          6175,
          6176,
          6177,
          6178,
          6179,
          6180,
          6181,
          6182,
          6183,
          6184,
          6185,
          6186,
          6187,
          6188,
          6189,
          6190,
          6191,
          6192,
          6193,
          6194,
          6195,
          6196,
          6197,
          6198,
          6199,
          6200,
          6201,
          6202,
          6203,
          6204,
          6205,
          6206,
          6207,
          6208,
          6209,
          6210,
          6211,
          6212,
          6213,
          6214,
          6215,
          6216,
          6217,
          6218,
          6219,
          6220,
          6221,
          6222,
          6223,
          6224,
          6225,
          6982,
          6983,
          6984,
          6985,
          6986,
          6987,
          6988,
          6989,
          6990,
          6991,
          6992,
          6993,
          6994,
          6995,
          6996,
          6997,
          6998,
          6999,
          7000,
          7001,
          7002,
          7003,
          7004,
          7005,
          7006,
          7007,
          7008,
          7009,
          7010,
          7011,
          7012,
          7013,
          7014,
          7015,
          7016,
          7017,
          7018,
          7019,
          7020,
          7021,
          7022,
          7023,
          7024,
          7025,
          7026,
          7027,
          7028,
          7029,
          7030,
          7031,
          7032,
          7033,
          7034,
          7035,
          7036,
          7037,
          7038,
          7039,
          7040,
          7041,
          7042,
          7043,
          7044,
          7045,
          7046,
          7047,
          7048,
          7049,
          7050,
          7051,
          7052,
          7053,
          7054,
          7055,
          7056,
          7057,
          7058,
          7059,
          7060,
          7061,
          7062,
          7063,
          7064,
          7065,
          7066,
          7067,
          7068,
          7069,
          7070,
          7071,
          7072,
          7073,
          7074,
          7075,
          7076,
          7077,
          7078,
          7079,
          7080,
          7081,
          7082,
          7083,
          7084,
          7085,
          7086,
          7087,
          7088,
          7089,
          7090,
          7091,
          7092,
          7093,
          7094,
          7095,
          7096,
          7097,
          7098,
          7099,
          7100,
          7101,
          7102,
          7225,
          7226,
          7227,
          7228,
          7229,
          7230,
          7231,
          7232,
          7233,
          7234,
          7235,
          7236,
          7237,
          7238,
          7239,
          7240,
          7241,
          7242,
          7243,
          7244,
          7245,
          7246,
          7247,
          7248,
          7249,
          7250,
          7251,
          7252,
          7253,
          7254,
          7255,
          7256,
          7257,
          7258,
          7259,
          7260,
          7261,
          7262,
          7263,
          7264,
          7265,
          7266,
          7267,
          7268,
          7269,
          7270,
          7271,
          7272,
          7273,
          7274,
          7275,
          7276,
          7277,
          7278,
          7279,
          7280,
          7281,
          7282,
          7283,
          7284,
          7285,
          7286,
          7287,
          7288,
          7289,
          7290,
          7291,
          7292,
          7293,
          7294,
          7295,
          7296,
          7297,
          7298,
          7299,
          7300,
          7301,
          7302,
          7303,
          7304,
          7305,
          7306,
          7307,
          7308,
          7309,
          7310,
          7311,
          7312,
          7313,
          7314,
          7315,
          7316,
          7317,
          7318,
          7319,
          7320,
          7321,
          7322,
          7323,
          7324,
          7325,
          7326,
          7327,
          7328,
          7329,
          7330,
          7331,
          7332,
          7333,
          7334,
          7335,
          7336,
          7337,
          7338,
          7339,
          7340,
          7341,
          7342,
          7343,
          7344,
          7345,
          9173,
          9174,
          9175,
          9176,
          9177,
          9178,
          9179,
          9180,
          9181,
          9182,
          9183,
          9184,
          9185,
          9186,
          9187,
          9188,
          9189,
          9190,
          9191,
          9192,
          9193,
          9194,
          9195,
          9196,
          9197,
          9198,
          9199,
          9200,
          9201,
          9202,
          9203,
          9204,
          9205,
          9206,
          9207,
          9208,
          9209,
          9210,
          9211,
          9212,
          9213,
          9214,
          9215,
          9216,
          9217,
          9218,
          9219,
          9220,
          9221,
          9222,
          9223,
          9224,
          9225,
          9226,
          9227,
          9228,
          9229,
          9230,
          9231,
          9232,
          9233,
          9234,
          9235,
          9236,
          9237,
          9238,
          9239,
          9240,
          9241,
          9242,
          9243,
          9244,
          9245,
          9246,
          9247,
          9248,
          9249,
          9250,
          9251,
          9252,
          9253,
          9254,
          9255,
          9256,
          9257,
          9258,
          9259,
          9260,
          9261,
          9262,
          9263,
          9264,
          9265,
          9266,
          9267,
          9268,
          9269,
          9270,
          9271,
          9272,
          9273,
          9274,
          9275,
          9276,
          9277,
          9278,
          9279,
          9280,
          9281,
          9282,
          9283,
          9284,
          9285,
          9286,
          9287,
          9288,
          9289,
          9290,
          9291,
          9292,
          9293,
          11121,
          11122,
          11123,
          11124,
          11125,
          11126,
          11127,
          11128,
          11129,
          11130,
          11131,
          11132,
          11133,
          11134,
          11135,
          11136,
          11137,
          11138,
          11139,
          11140,
          11141,
          11142,
          11143,
          11144,
          11145,
          11146,
          11147,
          11148,
          11149,
          11150,
          11151,
          11152,
          11153,
          11154,
          11155,
          11156,
          11157,
          11158,
          11159,
          11160,
          11161,
          11162,
          11163,
          11164,
          11165,
          11166,
          11167,
          11168,
          11169,
          11170,
          11171,
          11172,
          11173,
          11174,
          11175,
          11176,
          11177,
          11178,
          11179,
          11180,
          11181,
          11182,
          11183,
          11184,
          11185,
          11186,
          11187,
          11188,
          11189,
          11190,
          11191,
          11192,
          11193,
          11194,
          11195,
          11196,
          11197,
          11198,
          11199,
          11200,
          11201,
          11202,
          11203,
          11204,
          11205,
          11206,
          11207,
          11208,
          11209,
          11210,
          11211,
          11212,
          11213,
          11214,
          11215,
          11216,
          11217,
          11218,
          11219,
          11220,
          11221,
          11222,
          11223,
          11224,
          11225,
          11226,
          11227,
          11228,
          11229,
          11230,
          11231,
          11232,
          11233,
          11234,
          11235,
          11236,
          11237,
          11238,
          11239,
          11240,
          11241,
          11242,
          11243,
          11244,
          11245,
          11246,
          11247,
          11248,
          11249,
          11250,
          11251,
          11252,
          11253,
          11254,
          11255,
          11256,
          11257,
          11258,
          11259,
          11260,
          11261,
          11262,
          11263,
          11264,
          11265,
          11266,
          11267,
          11268,
          11269,
          11270,
          11271,
          11272,
          11273,
          11274,
          11275,
          11276,
          11277,
          11278,
          11279,
          11280,
          11281,
          11282,
          11283,
          11284,
          11285,
          11286,
          11287,
          11288,
          11289,
          11290,
          11291,
          11292,
          11293,
          11294,
          11295,
          11296,
          11297,
          11298,
          11299,
          11300,
          11301,
          11302,
          11303,
          11304,
          11305,
          11306,
          11307,
          11308,
          11309,
          11310,
          11311,
          11312,
          11313,
          11314,
          11315,
          11316,
          11317,
          11318,
          11319,
          11320,
          11321,
          11322,
          11323,
          11324,
          11325,
          11326,
          11327,
          11328,
          11329,
          11330,
          11331,
          11332,
          11333,
          11334,
          11335,
          11336,
          11337,
          11338,
          11339,
          11340,
          11341,
          11342,
          12840,
          12841,
          12842,
          12843,
          12844,
          12845,
          12846,
          12847,
          12848,
          12849,
          12850,
          12851,
          12852,
          12853,
          12854,
          12855,
          12856,
          12857,
          12858,
          12859,
          12860,
          12861,
          12862,
          12863,
          12864,
          12865,
          12866,
          12867,
          12868,
          12869,
          12870,
          12871,
          12872,
          12873,
          12874,
          12875,
          12876,
          12877,
          12878,
          12879,
          12880,
          12881,
          12882,
          12883,
          12884,
          12885,
          12886,
          12887,
          12888,
          12889,
          12890,
          12891,
          12892,
          12893,
          12894,
          12895,
          12896,
          12897,
          12898,
          12899,
          12900,
          12901,
          12902,
          12903,
          12904,
          12905,
          12906,
          12907,
          12908,
          12909,
          12910,
          12911,
          12912,
          12913,
          12914,
          12915,
          12916,
          12917,
          12918,
          12919,
          12920,
          12921,
          12922,
          12923,
          12924,
          12925,
          12926,
          12927,
          12928,
          12929,
          12930,
          12931,
          12932,
          12933,
          12934,
          12935,
          12936,
          12937,
          12938,
          12939,
          12940,
          12941,
          12942,
          12943,
          12944,
          12945,
          12946,
          12947,
          12948,
          12949,
          12950,
          12951,
          12952,
          12953,
          12954,
          12955,
          12956,
          12957,
          12958,
          12959,
          12960,
          13281,
          13282,
          13283,
          13284,
          13285,
          13286,
          13287,
          13288,
          13289,
          13290,
          13291,
          13292,
          13293,
          13294,
          13295,
          13296,
          13297,
          13298,
          13299,
          13300,
          13301,
          13302,
          13303,
          13304,
          13305,
          13306,
          13307,
          13308,
          13309,
          13310,
          13311,
          13312,
          13313,
          13314,
          13315,
          13316,
          13317,
          13318,
          13319,
          13320,
          13321,
          13322,
          13323,
          13324,
          13325,
          13326,
          13327,
          13328,
          13329,
          13330,
          13331,
          13332,
          13333,
          13334,
          13335,
          13336,
          13337,
          13338,
          13339,
          13340,
          13341,
          13342,
          13343,
          13344,
          13345,
          13346,
          13347,
          13348,
          13349,
          13350,
          13351,
          13352,
          13353,
          13354,
          13355,
          13356,
          13357,
          13358,
          13359,
          13360,
          13361,
          13362,
          13363,
          13364,
          13365,
          13366,
          13367,
          13368,
          13369,
          13370,
          13371,
          13372,
          13373,
          13374,
          13375,
          13376,
          13377,
          13378,
          13379,
          13380,
          13381,
          13382,
          13383,
          13384,
          13385,
          13386,
          13387,
          13388,
          13389,
          13390,
          13391,
          13392,
          13393,
          13394,
          13395,
          13396,
          13397,
          13398,
          13399,
          13400,
          13401,
          15226,
          15227,
          15228,
          15229,
          15230,
          15231,
          15232,
          15233,
          15234,
          15235,
          15236,
          15237,
          15238,
          15239,
          15240,
          15241,
          15242,
          15243,
          15244,
          15245,
          15246,
          15247,
          15248,
          15249,
          15250,
          15251,
          15252,
          15253,
          15254,
          15255,
          15256,
          15257,
          15258,
          15259,
          15260,
          15261,
          15262,
          15263,
          15264,
          15265,
          15266,
          15267,
          15268,
          15269,
          15270,
          15271,
          15272,
          15273,
          15274,
          15275,
          15276,
          15277,
          15278,
          15279,
          15280,
          15281,
          15282,
          15283,
          15284,
          15285,
          15286,
          15287,
          15288,
          15289,
          15290,
          15291,
          15292,
          15293,
          15294,
          15295,
          15296,
          15297,
          15298,
          15299,
          15300,
          15301,
          15302,
          15303,
          15304,
          15305,
          15306,
          15307,
          15308,
          15309,
          15310,
          15311,
          15312,
          15313,
          15314,
          15315,
          15316,
          15317,
          15318,
          15319,
          15320,
          15321,
          15322,
          15323,
          15324,
          15325,
          15326,
          15327,
          15328,
          15329,
          15330,
          15331,
          15332,
          15333,
          15334,
          15335,
          15336,
          15337,
          15338,
          15339,
          15340,
          15341,
          15342,
          15343,
          15344,
          15345,
          15346,
          16279,
          16280,
          16281,
          16282,
          16283,
          16284,
          16285,
          16286,
          16287,
          16288,
          16289,
          16290,
          16291,
          16292,
          16293,
          16294,
          16295,
          16296,
          16297,
          16298,
          16299,
          16300,
          16301,
          16302,
          16303,
          16304,
          16305,
          16306,
          16307,
          16308,
          16309,
          16310,
          16311,
          16312,
          16313,
          16314,
          16315,
          16316,
          16317,
          16318,
          16319,
          16320,
          16321,
          16322,
          16323,
          16324,
          16325,
          16326,
          16327,
          16328,
          16329,
          16330,
          16331,
          16332,
          16333,
          16334,
          16335,
          16336,
          16337,
          16338,
          16339,
          16340,
          16341,
          16342,
          16343,
          16344,
          16345,
          16346,
          16347,
          16348,
          16349,
          16350,
          16351,
          16352,
          16353,
          16354,
          16355,
          16356,
          16357,
          16358,
          16359,
          16360,
          16361,
          16362,
          16363,
          16364,
          16365,
          16366,
          16367,
          16368,
          16369,
          16370,
          16371,
          16372,
          16373,
          16374,
          16375,
          16376,
          16377,
          16378,
          16379,
          16380,
          16381,
          16382,
          16383,
          16384,
          16385,
          16386,
          16387,
          16388,
          16389,
          16390,
          16391,
          16392,
          16393,
          16394,
          16395,
          16396,
          16397,
          16398,
          16399,
          17387,
          17388,
          17389,
          17390,
          17391,
          17392,
          17393,
          17394,
          17395,
          17396,
          17397,
          17398,
          17399,
          17400,
          17401,
          17402,
          17403,
          17404,
          17405,
          17406,
          17407,
          17408,
          17409,
          17410,
          17411,
          17412,
          17413,
          17414,
          17415,
          17416,
          17417,
          17418,
          17419,
          17420,
          17421,
          17422,
          17423,
          17424,
          17425,
          17426,
          17427,
          17428,
          17429,
          17430,
          17431,
          17432,
          17433,
          17434,
          17435,
          17436,
          17437,
          17438,
          17439,
          17440,
          17441,
          17442,
          17443,
          17444,
          17445,
          17446,
          17447,
          17448,
          17449,
          17450,
          17451,
          17452,
          17453,
          17454,
          17455,
          17456,
          17457,
          17458,
          17459,
          17460,
          17461,
          17462,
          17463,
          17464,
          17465,
          17466,
          17467,
          17468,
          17469,
          17470,
          17471,
          17472,
          17473,
          17474,
          17475,
          17476,
          17477,
          17478,
          17479,
          17480,
          17481,
          17482,
          17483,
          17484,
          17485,
          17486,
          17487,
          17488,
          17489,
          17490,
          17491,
          17492,
          17493,
          17494,
          17495,
          17496,
          17497,
          17498,
          17499,
          17500,
          17501,
          17502,
          17503,
          17504,
          17505,
          17506,
          17507,
          17508,
          17509,
          17510,
          17511,
          17512,
          17513,
          17514,
          17515,
          17516,
          17517,
          17518,
          17519,
          17520,
          17521,
          17522,
          17523,
          17524,
          17525,
          17526,
          17527,
          17528,
          17529,
          17530,
          17531,
          17532,
          17533,
          17534,
          17535,
          17536,
          17537,
          17538,
          17539,
          17540,
          17541,
          17542,
          17543,
          17544,
          17545,
          17546,
          17547,
          17548,
          17549,
          17550,
          17551,
          17552,
          17553,
          17554,
          17555,
          17556,
          17557,
          17558,
          17559,
          17560,
          17561,
          17562,
          17563,
          17564,
          17565,
          17566,
          17567,
          17568,
          17569,
          17570,
          17571,
          17572,
          17573,
          17574,
          17575,
          17576,
          17577,
          17578,
          17579,
          17580,
          17581,
          17582,
          17583,
          17584,
          17585,
          17586,
          17587,
          17588,
          17589,
          17590,
          17591,
          17592,
          17593,
          17594,
          17595,
          17596,
          17597,
          17598,
          17599,
          17600,
          17601,
          17602,
          17603,
          17604,
          17605,
          17606,
          17607,
          17608,
          18241,
          18242,
          18243,
          18244,
          18245,
          18246,
          18247,
          18248,
          18249,
          18250,
          18251,
          18252,
          18253,
          18254,
          18255,
          18256,
          18257,
          18258,
          18259,
          18260,
          18261,
          18262,
          18263,
          18264,
          18265,
          18266,
          18267,
          18268,
          18269,
          18270,
          18271,
          18272,
          18273,
          18274,
          18275,
          18276,
          18277,
          18278,
          18279,
          18280,
          18281,
          18282,
          18283,
          18284,
          18285,
          18286,
          18287,
          18288,
          18289,
          18290,
          18291,
          18292,
          18293,
          18294,
          18295,
          18296,
          18297,
          18298,
          18299,
          18300,
          18301,
          18302,
          18303,
          18304,
          18305,
          18306,
          18307,
          18308,
          18309,
          18310,
          18311,
          18312,
          18313,
          18314,
          18315,
          18316,
          18317,
          18318,
          18319,
          18320,
          18321,
          18322,
          18323,
          18324,
          18325,
          18326,
          18327,
          18328,
          18329,
          18330,
          18331,
          18332,
          18333,
          18334,
          18335,
          18336,
          18337,
          18338,
          18339,
          18340,
          18341,
          18342,
          18343,
          18344,
          18345,
          18346,
          18347,
          18348,
          18349,
          18350,
          18351,
          18352,
          18353,
          18354,
          18355,
          18356,
          18357,
          18358,
          18359,
          18360,
          18361,
          20189,
          20190,
          20191,
          20192,
          20193,
          20194,
          20195,
          20196,
          20197,
          20198,
          20199,
          20200,
          20201,
          20202,
          20203,
          20204,
          20205,
          20206,
          20207,
          20208,
          20209,
          20210,
          20211,
          20212,
          20213,
          20214,
          20215,
          20216,
          20217,
          20218,
          20219,
          20220,
          20221,
          20222,
          20223,
          20224,
          20225,
          20226,
          20227,
          20228,
          20229,
          20230,
          20231,
          20232,
          20233,
          20234,
          20235,
          20236,
          20237,
          20238,
          20239,
          20240,
          20241,
          20242,
          20243,
          20244,
          20245,
          20246,
          20247,
          20248,
          20249,
          20250,
          20251,
          20252,
          20253,
          20254,
          20255,
          20256,
          20257,
          20258,
          20259,
          20260,
          20261,
          20262,
          20263,
          20264,
          20265,
          20266,
          20267,
          20268,
          20269,
          20270,
          20271,
          20272,
          20273,
          20274,
          20275,
          20276,
          20277,
          20278,
          20279,
          20280,
          20281,
          20282,
          20283,
          20284,
          20285,
          20286,
          20287,
          20288,
          20289,
          20290,
          20291,
          20292,
          20293,
          20294,
          20295,
          20296,
          20297,
          20298,
          20299,
          20300,
          20301,
          20302,
          20303,
          20304,
          20305,
          20306,
          20307,
          20308,
          20309,
          22137,
          22138,
          22139,
          22140,
          22141,
          22142,
          22143,
          22144,
          22145,
          22146,
          22147,
          22148,
          22149,
          22150,
          22151,
          22152,
          22153,
          22154,
          22155,
          22156,
          22157,
          22158,
          22159,
          22160,
          22161,
          22162,
          22163,
          22164,
          22165,
          22166,
          22167,
          22168,
          22169,
          22170,
          22171,
          22172,
          22173,
          22174,
          22175,
          22176,
          22177,
          22178,
          22179,
          22180,
          22181,
          22182,
          22183,
          22184,
          22185,
          22186,
          22187,
          22188,
          22189,
          22190,
          22191,
          22192,
          22193,
          22194,
          22195,
          22196,
          22197,
          22198,
          22199,
          22200,
          22201,
          22202,
          22203,
          22204,
          22205,
          22206,
          22207,
          22208,
          22209,
          22210,
          22211,
          22212,
          22213,
          22214,
          22215,
          22216,
          22217,
          22218,
          22219,
          22220,
          22221,
          22222,
          22223,
          22224,
          22225,
          22226,
          22227,
          22228,
          22229,
          22230,
          22231,
          22232,
          22233,
          22234,
          22235,
          22236,
          22237,
          22238,
          22239,
          22240,
          22241,
          22242,
          22243,
          22244,
          22245,
          22246,
          22247,
          22248,
          22249,
          22250,
          22251,
          22252,
          22253,
          22254,
          22255,
          22256,
          22257,
          23934,
          23935,
          23936,
          23937,
          23938,
          23939,
          23940,
          23941,
          23942,
          23943,
          23944,
          23945,
          23946,
          23947,
          23948,
          23949,
          23950,
          23951,
          23952,
          23953,
          23954,
          23955,
          23956,
          23957,
          23958,
          23959,
          23960,
          23961,
          23962,
          23963,
          23964,
          23965,
          23966,
          23967,
          23968,
          23969,
          23970,
          23971,
          23972,
          23973,
          23974,
          23975,
          23976,
          23977,
          23978,
          23979,
          23980,
          23981,
          23982,
          23983,
          23984,
          23985,
          23986,
          23987,
          23988,
          23989,
          23990,
          23991,
          23992,
          23993,
          23994,
          23995,
          23996,
          23997,
          23998,
          23999,
          24000,
          24001,
          24002,
          24003,
          24004,
          24005,
          24006,
          24007,
          24008,
          24009,
          24010,
          24011,
          24012,
          24013,
          24014,
          24015,
          24016,
          24017,
          24018,
          24019,
          24020,
          24021,
          24022,
          24023,
          24024,
          24025,
          24026,
          24027,
          24028,
          24029,
          24030,
          24031,
          24032,
          24033,
          24034,
          24035,
          24036,
          24037,
          24038,
          24039,
          24040,
          24041,
          24042,
          24043,
          24044,
          24045,
          24046,
          24047,
          24048,
          24049,
          24050,
          24051,
          24052,
          24053,
          24054,
          24183,
          24184,
          24185,
          24186,
          24187,
          24188,
          24189,
          24190,
          24191,
          24192,
          24193,
          24194,
          24195,
          24196,
          24197,
          24198,
          24199,
          24200,
          24201,
          24202,
          24203,
          24204,
          24205,
          24206,
          24207,
          24208,
          24209,
          24210,
          24211,
          24212,
          24213,
          24214,
          24215,
          24216,
          24217,
          24218,
          24219,
          24220,
          24221,
          24222,
          24223,
          24224,
          24225,
          24226,
          24227,
          24228,
          24229,
          24230,
          24231,
          24232,
          24233,
          24234,
          24235,
          24236,
          24237,
          24238,
          24239,
          24240,
          24241,
          24242,
          24243,
          24244,
          24245,
          24246,
          24247,
          24248,
          24249,
          24250,
          24251,
          24252,
          24253,
          24254,
          24255,
          24256,
          24257,
          24258,
          24259,
          24260,
          24261,
          24262,
          24263,
          24264,
          24265,
          24266,
          24267,
          24268,
          24269,
          24270,
          24271,
          24272,
          24273,
          24274,
          24275,
          24276,
          24277,
          24278,
          24279,
          24280,
          24281,
          24282,
          24283,
          24284,
          24285,
          24286,
          24287,
          24288,
          24289,
          24290,
          24291,
          24292,
          24293,
          24294,
          24295,
          24296,
          24297,
          24298,
          24299,
          24300,
          24301,
          24302,
          24303,
          25047,
          25048,
          25049,
          25050,
          25051,
          25052,
          25053,
          25054,
          25055,
          25056,
          25057,
          25058,
          25059,
          25060,
          25061,
          25062,
          25063,
          25064,
          25065,
          25066,
          25067,
          25068,
          25069,
          25070,
          25071,
          25072,
          25073,
          25074,
          25075,
          25076,
          25077,
          25078,
          25079,
          25080,
          25081,
          25082,
          25083,
          25084,
          25085,
          25086,
          25087,
          25088,
          25089,
          25090,
          25091,
          25092,
          25093,
          25094,
          25095,
          25096,
          25097,
          25098,
          25099,
          25100,
          25101,
          25102,
          25103,
          25104,
          25105,
          25106,
          25107,
          25108,
          25109,
          25110,
          25111,
          25112,
          25113,
          25114,
          25115,
          25116,
          25117,
          25118,
          25119,
          25120,
          25121,
          25122,
          25123,
          25124,
          25125,
          25126,
          25127,
          25128,
          25129,
          25130,
          25131,
          25132,
          25133,
          25134,
          25135,
          25136,
          25137,
          25138,
          25139,
          25140,
          25141,
          25142,
          25143,
          25144,
          25145,
          25146,
          25147,
          25148,
          25149,
          25150,
          25151,
          25152,
          25153,
          25154,
          25155,
          25156,
          25157,
          25158,
          25159,
          25160,
          25161,
          25162,
          25163,
          25164,
          25165,
          25166,
          25167,
          26098,
          26099,
          26100,
          26101,
          26102,
          26103,
          26104,
          26105,
          26106,
          26107,
          26108,
          26109,
          26110,
          26111,
          26112,
          26113,
          26114,
          26115,
          26116,
          26117,
          26118,
          26119,
          26120,
          26121,
          26122,
          26123,
          26124,
          26125,
          26126,
          26127,
          26128,
          26129,
          26130,
          26131,
          26132,
          26133,
          26134,
          26135,
          26136,
          26137,
          26138,
          26139,
          26140,
          26141,
          26142,
          26143,
          26144,
          26145,
          26146,
          26147,
          26148,
          26149,
          26150,
          26151,
          26152,
          26153,
          26154,
          26155,
          26156,
          26157,
          26158,
          26159,
          26160,
          26161,
          26162,
          26163,
          26164,
          26165,
          26166,
          26167,
          26168,
          26169,
          26170,
          26171,
          26172,
          26173,
          26174,
          26175,
          26176,
          26177,
          26178,
          26179,
          26180,
          26181,
          26182,
          26183,
          26184,
          26185,
          26186,
          26187,
          26188,
          26189,
          26190,
          26191,
          26192,
          26193,
          26194,
          26195,
          26196,
          26197,
          26198,
          26199,
          26200,
          26201,
          26202,
          26203,
          26204,
          26205,
          26206,
          26207,
          26208,
          26209,
          26210,
          26211,
          26212,
          26213,
          26214,
          26215,
          26216,
          26217,
          26218
         ],
         "y": [
          250.64,
          258.25,
          278.06000000000006,
          221.91,
          219.01999999999998,
          302.94,
          228.49,
          177.77,
          206.99,
          215.67999999999998,
          309.59,
          301.53,
          135.41,
          195.11,
          167.45999999999998,
          395.89,
          289.98,
          202.05,
          217.2,
          320.13,
          281.36,
          197.5,
          214.45,
          300.28,
          593.9200000000001,
          208.57000000000002,
          160.26,
          209.76999999999998,
          289.61,
          358.71000000000004,
          354.23,
          250.51,
          288.17999999999995,
          396.46,
          405.53999999999996,
          295.15,
          357.1499999999999,
          394.71999999999997,
          289.85,
          293.22999999999996,
          359.77,
          425.23,
          512.79,
          321.91999999999996,
          394.84000000000003,
          334.75999999999993,
          417.06999999999994,
          506.44000000000005,
          586.6000000000001,
          414.39,
          319.07000000000005,
          242.98999999999998,
          264.58000000000004,
          368.4599999999999,
          511.33000000000004,
          777.07,
          681.89,
          561.35,
          368.94,
          344.28,
          380.97,
          399.18,
          259.42999999999995,
          236.17000000000002,
          272.09,
          304.98,
          227.09,
          209.31,
          182.18,
          171.49,
          236.04,
          213.51,
          232.34999999999997,
          233.69000000000003,
          205.91999999999996,
          283.83,
          309.40999999999997,
          386.70000000000005,
          235.11999999999998,
          298.34999999999997,
          230.35,
          233.18999999999997,
          193.85,
          203.9,
          211.05000000000007,
          119.72000000000001,
          193.60999999999999,
          162.57000000000002,
          204.23000000000002,
          190.17,
          172.65999999999997,
          179.77,
          213.29999999999995,
          211.89,
          219.73,
          214.1,
          203.70000000000002,
          181.73,
          185.75999999999996,
          177.94,
          180.56999999999996,
          162.61,
          137.35,
          165.29,
          136.25,
          183.51000000000002,
          168.10000000000002,
          193.92999999999998,
          131.47,
          156.24,
          150.2,
          177.83999999999997,
          161.85,
          157.14999999999998,
          145.89,
          146.36999999999998,
          167.83999999999997,
          179.47,
          164.76999999999998,
          149.77,
          181.35000000000002,
          129.60999999999999,
          115.18,
          133.26999999999998,
          142.26999999999998,
          120.92,
          102.7,
          96.74,
          106.88,
          130.53,
          113.32000000000001,
          144.76000000000002,
          99.2,
          104.29999999999998,
          131.33,
          149.26999999999998,
          150.27999999999997,
          133.8,
          148.85,
          112.02000000000001,
          123.97,
          99.56,
          128.37,
          125.26,
          100.71000000000001,
          94.87000000000002,
          92.83,
          110.99000000000001,
          105.43999999999998,
          87.55,
          116.38,
          122.02,
          106.24000000000001,
          85.57999999999998,
          105.53,
          152.57,
          147.95000000000002,
          101.78,
          77.27,
          89.59,
          71.21,
          78.57,
          75.61,
          62.93,
          69.33,
          55.459999999999994,
          53.449999999999996,
          45.57,
          60.67999999999999,
          56.199999999999996,
          53.290000000000006,
          55.77,
          193.64000000000001,
          145.08999999999997,
          141.13,
          109.01,
          138.81,
          143.38000000000002,
          210.32,
          167.2,
          139.06,
          192.27,
          215.55,
          237.12,
          265.47,
          239.37999999999997,
          199.17000000000002,
          172.98999999999998,
          149.70999999999998,
          113.83000000000001,
          129.06,
          136.17999999999998,
          134.37,
          148.8,
          204.68,
          204.86,
          167.55999999999997,
          147.61,
          146.21,
          138.67000000000002,
          117.82999999999998,
          133.53,
          127.15,
          101.63,
          95.6,
          111.79999999999998,
          119.14999999999999,
          110.53999999999999,
          107.19000000000001,
          88.35000000000001,
          100.68,
          147.32,
          138.33,
          163.13000000000002,
          205.31,
          226.84999999999997,
          167.29,
          237.49000000000004,
          149.31,
          131.45,
          139.80999999999997,
          156.1,
          165.65,
          133.10999999999999,
          115.47,
          136.34,
          117.67999999999999,
          106.58999999999999,
          131.89,
          147.95000000000002,
          124.71,
          128.79000000000002,
          118.34000000000002,
          137.55,
          139.59,
          132.50000000000003,
          79.08,
          73.31,
          63.6,
          58.459999999999994,
          66.07000000000001,
          58.85,
          52.71000000000001,
          61.18,
          74.23000000000002,
          94.37,
          97.70999999999998,
          105.42000000000002,
          109.32000000000001,
          84.48999999999998,
          81.32000000000001,
          69.92,
          60.08,
          87.82,
          95.98000000000002,
          74.28999999999999,
          70.55,
          87,
          94.36000000000001,
          95.22999999999998,
          98.72000000000001,
          109.67000000000002,
          104.2,
          118.28,
          108.50999999999999,
          103.66,
          100.99000000000001,
          87.91000000000003,
          67.27000000000001,
          56.09,
          70.95,
          75.86,
          80.77,
          61.08,
          69.93,
          75.89,
          82.95,
          80.32000000000001,
          71.46000000000001,
          71.17,
          49.63000000000001,
          47.61000000000001,
          47.49000000000001,
          44.01,
          48.45,
          53.19,
          50.459999999999994,
          69.13,
          58.35999999999999,
          66.94999999999999,
          61.010000000000005,
          127.38000000000002,
          97.28999999999999,
          112.46000000000001,
          244.36,
          239.40000000000003,
          282.38,
          209.57,
          134.21,
          134.39999999999998,
          107.32000000000002,
          187.93,
          184.01000000000002,
          187.70000000000002,
          168.81,
          160.33,
          164.5,
          293.40999999999997,
          178.43,
          240.04,
          217.01,
          191.59,
          224.47,
          158.03999999999996,
          113.18999999999998,
          128.35,
          173.08,
          255.32999999999998,
          179.22,
          209.23,
          152.92,
          109.21000000000001,
          137.14000000000001,
          212.71000000000004,
          228.20000000000005,
          228.20000000000005,
          285.51000000000005,
          272.07,
          218.91,
          272.80999999999995,
          237.08,
          328.58,
          341.85,
          246.35,
          339.00000000000006,
          246.92999999999995,
          228.21999999999997,
          200.07999999999998,
          233.09999999999997,
          290.79,
          282.40999999999997,
          273.3,
          266.7,
          242.63,
          159.12,
          245.18,
          246.59,
          260.39,
          267.5,
          306.36,
          265.76,
          277.85999999999996,
          182.77,
          177.08000000000004,
          199.45,
          206.59000000000003,
          258.45,
          167.33,
          147.24,
          147.12,
          171.38,
          162.58999999999997,
          231.95999999999998,
          219.65,
          162.20000000000002,
          155.84,
          162.42999999999998,
          179.26,
          214.52,
          220.93,
          229.78999999999996,
          214.42,
          219.48999999999998,
          203.59,
          169.87999999999997,
          184.42000000000004,
          171.72000000000003,
          147.02,
          165.47,
          159.04999999999998,
          142.85000000000002,
          150.79,
          158.51999999999998,
          161.41,
          143.85000000000002,
          146.86,
          147.42,
          142.43,
          169.8,
          228.20000000000005,
          228.20000000000005,
          228.20000000000005,
          228.20000000000005,
          228.20000000000005,
          116.23,
          125.07000000000001,
          158.83,
          136.73999999999998,
          191.73,
          159.64000000000001,
          126.97,
          104.06,
          112.62999999999998,
          144.28,
          124.42,
          145.53,
          161.51000000000002,
          181.14999999999998,
          166.01000000000002,
          146.52999999999997,
          190.26,
          169.48999999999998,
          208.59,
          228.17999999999995,
          240.04,
          169.10999999999999,
          172.94,
          264.32,
          232.75,
          168.68,
          170.45,
          183.92999999999998,
          215.01000000000002,
          218.85999999999999,
          175.66,
          197.71000000000004,
          258.73,
          286.65,
          223.17000000000002,
          222.26999999999998,
          230.11,
          169.32,
          154.97,
          207.79,
          211.92999999999998,
          184.07,
          202.83,
          229.6,
          263.73,
          259.53000000000003,
          256.10999999999996,
          244.55,
          246.7,
          284.31000000000006,
          243.37,
          240.26000000000002,
          185.68000000000004,
          206.63,
          191.23000000000002,
          188.47,
          231.62,
          237.51,
          233.33999999999997,
          236.87,
          193.67999999999998,
          188,
          180.37,
          223.07000000000002,
          297.11,
          327.41,
          223.92000000000002,
          254.36000000000004,
          253.80999999999997,
          246.95999999999998,
          233.71,
          172.42000000000002,
          184.66,
          184.91,
          189.77999999999997,
          221.87000000000003,
          212.06,
          216.77,
          213.24,
          221.87999999999997,
          208,
          253.62,
          317.98,
          275.42,
          250.42,
          193.57,
          211.03999999999996,
          185.92999999999998,
          190.76,
          195.34,
          189.73,
          190.45,
          187.53000000000003,
          174.86,
          168.04999999999998,
          158.64,
          160.30999999999997,
          169.33,
          197.64000000000001,
          203.59999999999997,
          221.11999999999998,
          142.92,
          182.97000000000003,
          185.23,
          110.49000000000001,
          113.41999999999999,
          115.07999999999998,
          106.88999999999999,
          116.19999999999997,
          125.68,
          106.62,
          107.85000000000001,
          120.33000000000001,
          139.08,
          130.18,
          133.35000000000002,
          111.24,
          84.58,
          91.19999999999999,
          97.89,
          94.05,
          104.22999999999999,
          99.65,
          117.14,
          129.97,
          126.53,
          107.62,
          130.20000000000002,
          118.22,
          100.57,
          85.97,
          103.89999999999999,
          103.58999999999999,
          111.29,
          134.35999999999999,
          124.19,
          103.04,
          108.73,
          115.01,
          92.61999999999999,
          120.32999999999998,
          150.64999999999998,
          316.64,
          348.83000000000004,
          375.71,
          315.19000000000005,
          247.36,
          361.69,
          317.9,
          293.52,
          264.73,
          293.78,
          357.85,
          320.49,
          369.47,
          372.29,
          428.45000000000005,
          314.3399999999999,
          338.68000000000006,
          263.91,
          242.49,
          302.56000000000006,
          315.74999999999994,
          282.37,
          342.13,
          438.26,
          399.33000000000004,
          367.59000000000003,
          284.61999999999995,
          218.35999999999999,
          269.5,
          244.42999999999998,
          208.63,
          196.80000000000004,
          209.04,
          262.96000000000004,
          296.81,
          260.88,
          274.17,
          248.91999999999996,
          207.17000000000002,
          248.53,
          235.29000000000002,
          328.29999999999995,
          456.67,
          335.12,
          339.68999999999994,
          319,
          302.52000000000004,
          286.11,
          274.93999999999994,
          262.49999999999994,
          280.59,
          289.85,
          313.77,
          289.06,
          267.15000000000003,
          387.25,
          308.17,
          264.84,
          350.37000000000006,
          300.91,
          218.33999999999997,
          227.31000000000003,
          262.73,
          218.26999999999998,
          239.09000000000006,
          225.12,
          180.26000000000002,
          160.73000000000002,
          186.25,
          151.58,
          149.06999999999996,
          201.82999999999998,
          203.9,
          256.77000000000004,
          255.67999999999998,
          209.04,
          193.59999999999997,
          235.04000000000002,
          213.94,
          258.37999999999994,
          207.94000000000003,
          213.94,
          193.13000000000002,
          134.31,
          108.71000000000001,
          101.7,
          82.37,
          228.20000000000005,
          228.20000000000005,
          228.20000000000005,
          228.20000000000005,
          228.20000000000005,
          228.20000000000005,
          228.20000000000005,
          228.20000000000005,
          228.20000000000005,
          168.31,
          170.08999999999997,
          170.15000000000003,
          162.32000000000002,
          174.45999999999998,
          194.92000000000002,
          161.3,
          208.39,
          167.23000000000002,
          217.57,
          223.89,
          220.70000000000002,
          205.3,
          234.23,
          194.17,
          193.60999999999999,
          212.08,
          196.39000000000001,
          198.95999999999998,
          211.33,
          153.67000000000002,
          136.87,
          259.45000000000005,
          179.20000000000002,
          174.25,
          168.31,
          187.09000000000003,
          294.84,
          350.58,
          307.34999999999997,
          364.23,
          318.9100000000001,
          290.06999999999994,
          259.84999999999997,
          265.94,
          278.06,
          316.09000000000003,
          566.02,
          534.4,
          477.17999999999995,
          459.31000000000006,
          409.74,
          411.85,
          350.03000000000003,
          423.32,
          465.27000000000004,
          415.37999999999994,
          353.71000000000004,
          245.7,
          236.60000000000002,
          323.08,
          362.78999999999996,
          342.2,
          298.14,
          272.37,
          288.77000000000004,
          268.99,
          524.11,
          333.02,
          301.34999999999997,
          350.34999999999997,
          269.62,
          235.08999999999997,
          271.01,
          334.09,
          429.74,
          417.31000000000006,
          405.76000000000005,
          429.59999999999997,
          374.59000000000003,
          288.35,
          345.42999999999995,
          423.81999999999994,
          434.4700000000001,
          445.62,
          346.29,
          438.0000000000001,
          372.51,
          375.84999999999997,
          203.99,
          259.62,
          271.5,
          303.52,
          278.84000000000003,
          273.5,
          294.76,
          289.47999999999996,
          249.25,
          230.69999999999996,
          219.04999999999998,
          207.03999999999996,
          241.76999999999998,
          250.80999999999997,
          191.88,
          178.93,
          192.85,
          228.20000000000005,
          228.20000000000005,
          228.20000000000005,
          228.20000000000005,
          358.7800000000001,
          310.69,
          267.2900000000001,
          228.20000000000005,
          228.20000000000005,
          228.20000000000005,
          228.20000000000005,
          365.51,
          327.03000000000003,
          269.78999999999996,
          387.57000000000005,
          290.45000000000005,
          295.51000000000005,
          283.65,
          344.78999999999996,
          333.45000000000005,
          389.58,
          378.21999999999997,
          345.02000000000004,
          279.83000000000004,
          452.03999999999996,
          432,
          616.8999999999999,
          900.99,
          478.02,
          406.56999999999994,
          378.2799999999999,
          325.2,
          357.71999999999997,
          310.7099999999999,
          254,
          369.28,
          296.34999999999997,
          227.54000000000002,
          315.23999999999995,
          159.14999999999998,
          134.95000000000002,
          172.13,
          150.06,
          206.36999999999998,
          110.5,
          152.35,
          171.30999999999997,
          159.65,
          205.78999999999996,
          369.11999999999995,
          271.29,
          269.97,
          271.9,
          226.51999999999995,
          178.76999999999998,
          187.73,
          163.59,
          134.51,
          156.96,
          238.00999999999996,
          325.33000000000004,
          271.62,
          183.94,
          204.82999999999998,
          180.04,
          227.08999999999997,
          290.85999999999996,
          233.89000000000001,
          295.92999999999995,
          346.31999999999994,
          236.84000000000003,
          171.93,
          181.69,
          279.67999999999995,
          280.21,
          307.01,
          255.96,
          195.77999999999997,
          170.61,
          193.52,
          235.12,
          198.95999999999998,
          262.64,
          290.56,
          192.35000000000002,
          238.12,
          277.34999999999997,
          229.04999999999998,
          258.33,
          269.34999999999997,
          269.87,
          233.16000000000003,
          200.07000000000002,
          195.88,
          193.76,
          219.54,
          190.60000000000002,
          240.14,
          329.09,
          237.68999999999997,
          145.21,
          186.99,
          193.2,
          186.27,
          207.19000000000003,
          252.4,
          295.45,
          269.72,
          192.52999999999997,
          200.58,
          229.56000000000003,
          236.48,
          266.05,
          188.28,
          145.88000000000002,
          150.29,
          195.79,
          153.24,
          211.99999999999997,
          213.30999999999997,
          169.35999999999999,
          168.05999999999997,
          128.67,
          152.70000000000002,
          200.67000000000002,
          212.13,
          199.55,
          209.52,
          215.54000000000002,
          201.32000000000002,
          144.34,
          126.52,
          120.97,
          115.02,
          112.04999999999998,
          112.6,
          75.74,
          118.86999999999999,
          109.18,
          117.85999999999997,
          99.03,
          95.15999999999998,
          87.05999999999999,
          95.78999999999999,
          108.08,
          133.92999999999998,
          118.47999999999999,
          107.04,
          97.38,
          106.52,
          114.30999999999997,
          111.51,
          115.80000000000001,
          126.24,
          148.32000000000002,
          129.4,
          122.98,
          98.38,
          78.3,
          87.96,
          118.96,
          104.35,
          111.22,
          114.96,
          128.46,
          88.55,
          84.05,
          111.11999999999999,
          130.28,
          134.83,
          111.93999999999998,
          156.82999999999998,
          172.15,
          176.39,
          127.14999999999999,
          128.22,
          160.78,
          211.86,
          219.91,
          219.52,
          231.44000000000003,
          231.57000000000002,
          303.91,
          431.57000000000005,
          202.32000000000002,
          163.9,
          166.94999999999996,
          127.57000000000001,
          153.75,
          209.72,
          217.18,
          231.61,
          248.41000000000003,
          296.56,
          267.06999999999994,
          242.98000000000002,
          231.28,
          218.75000000000003,
          207.09,
          193.18,
          178.8,
          168.45000000000002,
          148.34000000000003,
          176.48,
          184.39,
          184.19,
          196.54999999999998,
          174.89000000000001,
          151.22000000000003,
          143.51,
          168.6,
          193.65,
          206.60000000000002,
          236.59,
          248.23000000000005,
          239.54999999999998,
          173.88000000000002,
          185.72,
          240.07,
          283.44,
          240.04999999999998,
          321.79,
          223.15,
          214.60999999999999,
          241.77,
          208.47,
          171.52,
          187.76999999999995,
          155.81000000000003,
          212.60999999999999,
          143.93,
          180.34,
          220.08999999999997,
          185.7,
          145.41,
          130.13,
          165.27,
          165.20000000000002,
          190.17,
          191.22000000000003,
          129.54,
          141.99,
          170.8,
          178.88,
          165.57000000000002,
          117.86999999999999,
          242.07999999999998,
          123.46000000000001,
          137.82,
          114.66,
          119.66999999999999,
          219.49999999999997,
          122.62,
          113.24,
          96.55000000000001,
          114.28000000000002,
          94.05,
          103.97999999999999,
          212.30000000000004,
          281.36999999999995,
          299.46,
          120.25999999999999,
          280.29,
          285.22999999999996,
          385.41,
          271.56000000000006,
          209.34,
          240.08,
          375.25999999999993,
          289.68,
          243.99,
          209.5,
          196.05000000000004,
          204.07999999999998,
          195.56000000000003,
          192.4,
          203.79000000000002,
          185.24000000000004,
          188.02,
          178.69000000000003,
          166.42000000000002,
          175.35000000000002,
          183.44000000000003,
          180.83999999999997,
          168,
          171.72000000000003,
          178.43,
          171.9,
          162.04,
          164.65,
          173.31,
          153.8,
          1157.1999999999998,
          919.63,
          857.9300000000002,
          609.8599999999999,
          602.21,
          456.7799999999999,
          420.06999999999994,
          337.12,
          496.95000000000005,
          606,
          847.8199999999999,
          805.14,
          427.05,
          464.9,
          506.00000000000006,
          418.88999999999993,
          508.64000000000004,
          441.47,
          526.47,
          816.1999999999999,
          736.1199999999999,
          333.30000000000007,
          380.42,
          619.48,
          781.8099999999998,
          869.48,
          395.41999999999996,
          373.15999999999997,
          424.57,
          430.11,
          511.53,
          491.98999999999995,
          599.0799999999999,
          847.69,
          609.2900000000001,
          507.07,
          655.09,
          562.3,
          586.77,
          704.5400000000001,
          775.9399999999999,
          668.77,
          408.11999999999995,
          358.43000000000006,
          395.5100000000001,
          580.7099999999999,
          697.05,
          569.18,
          730.59,
          449.96,
          243.59000000000003,
          342.93,
          473.21,
          374.88,
          519.61,
          630.7800000000001,
          471.05,
          355.70000000000005,
          282.74999999999994,
          269.73999999999995,
          544.94,
          482.33000000000004,
          461.69,
          205.3,
          166.26000000000002,
          244.02999999999997,
          389.46999999999997,
          307.77,
          351.50999999999993,
          266.25,
          346.57,
          428.81000000000006,
          241.67999999999998,
          331.33,
          344.95,
          381.58000000000004,
          394.01000000000005,
          465.78,
          463.99,
          436.65000000000003,
          321.25000000000006,
          248.92000000000002,
          258.04,
          197.78000000000003,
          198.77000000000004,
          139.85,
          126.87,
          149.60000000000002,
          165.96,
          174.78,
          174.9,
          157.2,
          164.89000000000001,
          195.81,
          232.81,
          260.11,
          198.42,
          176.16,
          184.96999999999997,
          259.34000000000003,
          255.37000000000003,
          196.66,
          276.53999999999996,
          290.11,
          337.55,
          354.8,
          184.10999999999999,
          200.4,
          190.67,
          261.19,
          203.10999999999996,
          279.23,
          270.63,
          299.47,
          196.51000000000002,
          233.35999999999999,
          150.35999999999999,
          199.27,
          255.29,
          250.21,
          290.82,
          493.18,
          228.20000000000005,
          481.03999999999996,
          510.84000000000003,
          514.3600000000001,
          582.02,
          546.15,
          359.15000000000003,
          271.40000000000003,
          269.84,
          263.54,
          252.77,
          250.08999999999997,
          264.43000000000006,
          255.89000000000001,
          191.65999999999997,
          278.55,
          347.09,
          325.97999999999996,
          311.82,
          354.94,
          350.8,
          372.44,
          310.86,
          260.95,
          277.95,
          284.05999999999995,
          275.09,
          337.75000000000006,
          280.95,
          284.20000000000005,
          258.78,
          230.50999999999996,
          248.70999999999998,
          242.58,
          262.83,
          245.92000000000002,
          250.04999999999998,
          214.60999999999999,
          210.56,
          212.42000000000002,
          189.60000000000002,
          110.32000000000001,
          127.69,
          110.77999999999999,
          78.42,
          95.32,
          89.59,
          106.29,
          104.68000000000002,
          68.21,
          90.70000000000002,
          104.64000000000001,
          119.25999999999998,
          122.66999999999999,
          140.36999999999998,
          147.17000000000002,
          130.94,
          109.89000000000001,
          111.79999999999998,
          74.79999999999998,
          80.78999999999999,
          89.27000000000001,
          62.68,
          76.17999999999999,
          100.36,
          102.07000000000002,
          228.20000000000005,
          83.39,
          82.87,
          87.2,
          99.83000000000001,
          88.36,
          82.97000000000001,
          68.24,
          50.78999999999999,
          53.49,
          76.46999999999998,
          79.17000000000002,
          63.96000000000001,
          66.25000000000001,
          62.57999999999999,
          86.37000000000003,
          90.98,
          64.62,
          65.97999999999999,
          70.51,
          65.51,
          77.76,
          61,
          292.14,
          179.7,
          201.5,
          100.33000000000001,
          114.62999999999998,
          153.63000000000002,
          129.24,
          131.17000000000002,
          114.56,
          130.96,
          113.77,
          869.8000000000002,
          677.6800000000002,
          576.1700000000001,
          518.4,
          509.18,
          325.21,
          340.70000000000005,
          228.42,
          317.55,
          389.0199999999999,
          615.44,
          544.5500000000002,
          269.35999999999996,
          349.2,
          400.03999999999996,
          294.10999999999996,
          379.98,
          313.86000000000007,
          324.85,
          481.19,
          526.7299999999999,
          229.57999999999998,
          217.07999999999998,
          405.81,
          543.59,
          499.08,
          343.34999999999997,
          219.89999999999998,
          278.98999999999995,
          282.73,
          402.23,
          284.91,
          406.97999999999996,
          466.6799999999999,
          475.59000000000003,
          336.84999999999997,
          521.2500000000001,
          396.83000000000004,
          393.09999999999997,
          516.0100000000001,
          557.27,
          497.50999999999993,
          244.66000000000003,
          252.18999999999997,
          218.2,
          365.61000000000007,
          462.04,
          359.16,
          406.92999999999995,
          317.24,
          188.95,
          228.95999999999998,
          349.59000000000003,
          274.69,
          370.6,
          486.54999999999995,
          332.20000000000005,
          273.30999999999995,
          226.92999999999998,
          168.04999999999998,
          365.83,
          439.71999999999997,
          398.51,
          189.94,
          152.10999999999999,
          208.56,
          304.53,
          261.61999999999995,
          306.65999999999997,
          235.8,
          291.34999999999997,
          350.87,
          227,
          284.46000000000004,
          325.95,
          368.13,
          418.1399999999999,
          422.83000000000004,
          390.63,
          315.66,
          359.59000000000003,
          252.21,
          273.12000000000006,
          186.09,
          183.54000000000002,
          140.39,
          133.19000000000003,
          155.18,
          158.92000000000002,
          157.72,
          154.64,
          168.71,
          141.29,
          159.05,
          209.57,
          215.41,
          180.32,
          167.11999999999998,
          161.06,
          220.58000000000004,
          234.66000000000003,
          169.34999999999997,
          245.39000000000001,
          261.21999999999997,
          323.61,
          295.08,
          173.19,
          178.18000000000004,
          169.54000000000002,
          229.1,
          173.01,
          227.62,
          236.51,
          228.33,
          158.3,
          250.06999999999996,
          135.17999999999998,
          156.76000000000002,
          229.07,
          236.07,
          228.72,
          238.78999999999996,
          251.04,
          294.87999999999994,
          407.54999999999995,
          309.6600000000001,
          633.03,
          602.3199999999999,
          506.27000000000004,
          578.7900000000001,
          648.4900000000001,
          658.0099999999999,
          643.9899999999999,
          717.64,
          1169.09,
          642.43,
          570.16,
          652.8399999999999,
          570.67,
          253.28,
          388.65999999999997,
          548.63,
          516.51,
          618.6999999999999,
          701.85,
          605.1900000000002,
          656.8100000000001,
          640.58,
          807.06,
          609.84,
          242.19000000000003,
          423.08,
          449.18,
          548.89,
          644.0199999999999,
          701.52,
          596.91,
          555.0400000000001,
          588.14,
          449.83,
          506.94,
          617.5,
          639.03,
          717.8,
          645.33,
          658.84,
          696.5600000000001,
          739.9799999999999,
          659.53,
          305.73999999999995,
          521.91,
          459.93999999999994,
          560.87,
          549.83,
          393.71999999999997,
          320.02,
          127.96000000000001,
          216.22000000000003,
          399.99,
          524.66,
          581.84,
          470.21000000000004,
          308.53000000000003,
          163.34,
          205.01,
          234.29000000000002,
          358.48,
          322.16,
          352.17999999999995,
          389.3,
          407.09999999999997,
          440.39,
          372.7300000000001,
          408.90999999999997,
          291.56,
          312.54,
          422.02,
          488.08000000000004,
          484.25,
          404.39000000000004,
          372.12,
          328.52,
          301.59999999999997,
          309.26000000000005,
          341.11,
          323.80999999999995,
          365.88,
          388.90000000000003,
          266.27,
          249.34999999999997,
          459.86000000000007,
          421.66,
          416.87,
          366.57000000000005,
          288.50000000000006,
          295.79,
          244.90999999999997,
          333.77,
          298.97,
          188.14000000000001,
          158.99,
          180.39,
          264.29,
          334.16999999999996,
          338.3,
          297.46000000000004,
          135.85999999999999,
          95.53,
          82.53,
          123.05,
          85.63,
          68.58000000000001,
          83.72,
          98.00999999999999,
          54.87,
          42.36,
          65.13,
          99.27000000000001,
          84.41000000000001,
          88.33999999999999,
          79.64999999999999,
          176.69,
          157.83,
          157.25,
          242.41,
          263.82,
          244.31,
          214.61,
          180.23,
          213.20000000000005,
          280.75,
          315.56,
          309.9,
          311.64,
          306.93000000000006,
          202.29,
          158.2,
          164.60000000000002,
          186.98000000000002,
          181.76000000000002,
          205.61,
          211.06,
          207.79999999999998,
          277.44,
          316.20000000000005,
          330.97999999999996,
          317.91,
          283.46999999999997,
          245.84,
          298.18,
          324.66999999999996,
          307,
          251.64,
          209.97,
          202.66,
          182.78,
          205.39999999999998,
          216.42000000000002,
          194.82999999999998,
          204.97,
          189.36,
          191.48,
          203.51000000000002,
          255.26,
          300.22,
          384.45,
          371.43,
          320.86,
          322.49,
          284.37999999999994,
          281.57,
          220.38999999999996,
          181.13,
          182.60000000000002,
          160.45,
          185.01000000000002,
          231.21000000000004,
          286,
          229.77,
          218.96,
          204.34999999999997,
          207.08,
          225.23,
          217.92,
          239.03,
          293.22,
          191.51999999999998,
          207.78000000000003,
          168.09,
          171.70000000000002,
          146.9,
          178.43,
          196.44000000000003,
          173.88,
          191.48999999999998,
          187.94000000000003,
          176.83,
          171.65999999999997,
          174.35999999999999,
          224.16,
          169.17000000000002,
          207.76999999999998,
          182.27,
          157.51,
          130.31,
          131.4,
          131.15000000000003,
          142.11,
          138.14,
          163.3,
          145.37,
          165.66000000000003,
          180.1,
          176.72,
          153.48999999999998,
          159.01,
          133.46,
          146.57000000000002,
          147.39000000000001,
          141.22,
          182.40999999999997,
          134.18,
          139.95999999999998,
          148.26000000000002,
          154.20999999999998,
          170.65,
          152.42000000000002,
          157.24,
          174.6,
          165.13,
          159.63,
          151.04,
          148.11,
          141.57999999999998,
          155.54000000000002,
          144.2,
          167.23999999999998,
          148.66,
          137.17000000000002,
          132.68999999999997,
          110.35,
          134.76,
          130.12,
          245.1,
          298.86999999999995,
          339.32,
          410.63,
          346.63,
          263.68,
          282.63,
          199.66,
          257.28000000000003,
          372.59999999999997,
          379.95000000000005,
          343.27000000000004,
          236.05,
          227,
          252.05999999999997,
          335.52000000000004,
          309.69,
          319.65,
          377.0499999999999,
          246.18,
          272.93,
          250.20000000000002,
          278.68,
          427.8,
          484.47999999999996,
          233.27000000000004,
          251.26000000000002,
          193.92,
          237.98,
          253.73000000000002,
          293.09000000000003,
          287.90999999999997,
          270.75,
          260.96999999999997,
          282.25,
          309.66999999999996,
          273.58,
          262.87,
          349.63,
          451.99,
          395.45,
          417.47,
          491.24,
          322.71000000000004,
          348.61,
          425.25,
          537.26,
          571.1400000000001,
          463.8,
          252.92,
          328.9,
          241.11,
          249.81000000000003,
          274.39,
          343.72999999999996,
          275.17,
          297.1000000000001,
          277.08,
          275.77000000000004,
          196.35000000000002,
          238.06000000000003,
          291.28000000000003,
          250.73999999999998,
          188.78,
          208.23,
          269.89,
          222.73000000000002,
          240.06,
          182.12,
          186.27,
          294.40000000000003,
          496.68000000000006,
          346.39000000000004,
          252.16000000000003,
          244.98000000000002,
          280,
          319.37999999999994,
          304.7,
          236.54999999999998,
          191.26000000000002,
          159.45999999999998,
          175.02999999999997,
          181.31,
          139.98000000000002,
          94.04999999999998,
          79.25,
          92.86,
          93.58,
          96.72999999999999,
          134.48999999999998,
          135.88,
          106.74000000000002,
          95.71,
          128.61,
          134.41,
          161.2,
          151.97999999999996,
          119.78,
          123.72000000000001,
          139.32999999999998,
          168.7,
          155.35999999999999,
          213.22,
          222.55,
          193,
          167.38999999999996,
          240.56,
          246.75000000000003,
          151.21,
          125.36000000000001,
          103.42,
          122.96,
          120.64,
          143.19,
          144.47,
          167.23,
          124.14,
          127.71999999999998,
          144.14,
          298.22999999999996,
          206.35,
          251.51,
          196.94000000000003,
          240.99,
          192.50000000000003,
          265.69000000000005,
          332.1900000000001,
          398.00000000000006,
          295.28000000000003,
          226.41000000000003,
          223.67,
          227.04,
          294.44,
          367.91,
          410.66,
          394.19000000000005,
          318.07000000000005,
          291.86000000000007,
          238.9,
          205.70000000000002,
          293.16,
          384.34000000000003,
          323.4,
          231.44000000000003,
          256.58,
          250.8,
          240.71,
          441.5299999999999,
          338.84,
          327.30000000000007,
          242.03,
          259.79,
          215.55,
          250.09,
          326.64000000000004,
          303.44000000000005,
          236.28,
          315.34000000000003,
          410.39,
          228.20000000000005,
          325.53000000000003,
          305.39000000000004,
          304.66,
          345.49,
          419.7200000000001,
          256.14000000000004,
          260.55,
          318.12,
          331.06,
          471.02000000000004,
          478.97,
          411.33,
          374.12,
          314.88000000000005,
          266.68,
          239.94000000000005,
          250.86,
          243.78000000000003,
          290.62000000000006,
          343.07,
          364.15999999999997,
          353.13,
          443.16999999999996,
          226.03000000000003,
          201.75,
          221.9,
          198.94000000000003,
          222.83000000000004,
          222.66000000000005,
          224.92000000000002,
          223.94000000000003,
          219.54000000000002,
          223.83,
          223.45000000000005,
          227.27000000000004,
          390.36,
          234.26000000000002,
          173.61,
          197.14,
          204.5,
          271.28999999999996,
          246.58,
          244.37000000000003,
          252.29000000000002,
          221.95999999999998,
          166.70000000000002,
          193.87,
          194.02000000000004,
          164.56,
          173.90999999999997,
          209.33,
          242.32000000000002,
          264.43,
          224.61,
          262.95,
          232.54999999999995,
          223.62000000000003,
          270.2899999999999,
          243.22,
          209.05000000000004,
          275.22,
          269.85,
          252.44,
          249.46,
          246.10000000000002,
          235.78,
          205.71,
          229.78,
          246.6,
          210.06000000000003,
          205.83,
          174.85000000000002,
          180,
          211.21,
          181.4,
          171.55,
          185.32000000000005,
          185.65,
          171.08000000000004,
          187.36,
          224.02,
          244.36999999999998,
          396.24,
          350.82,
          400.5,
          519.9300000000001,
          533.0300000000001,
          517.81,
          493.03999999999996,
          481.09000000000003,
          466.08000000000004,
          496.52,
          381.5799999999999,
          283.60999999999996,
          317.76,
          306.81999999999994,
          302.93,
          347.25,
          339.78000000000003,
          351.00000000000006,
          288.3,
          318.76,
          312.12,
          346.91999999999996,
          339.28,
          328.15,
          342.92,
          298.19,
          363.68,
          330.99999999999994,
          477.89,
          308.6,
          309.15000000000003,
          290.47999999999996,
          237.79999999999995,
          261.45,
          217.50999999999996,
          263.12,
          326.73,
          326.42,
          316.88,
          264.71,
          271.02000000000004,
          313.43,
          309.12,
          328.82,
          528.97,
          500.9699999999999,
          459.87,
          390.9100000000001,
          416.46999999999997,
          403.8500000000001,
          351.22999999999996,
          372.31,
          380.09,
          370.31,
          443.77000000000004,
          463.78,
          446.99,
          401.31,
          357.13,
          354.08,
          241.43,
          317.91,
          463.11,
          555.7299999999999,
          366.53999999999996,
          355.33,
          349.04,
          322.83,
          349.87,
          352.61999999999995,
          314.55,
          214.48,
          193.63,
          183.32,
          172.01,
          175.49,
          185.79999999999998,
          207.79999999999998,
          197.10999999999999,
          188.51,
          194.36999999999998,
          201.22000000000003,
          236.09,
          237.44,
          217.61999999999998,
          233.75,
          228.58,
          219.04999999999998,
          239.26999999999998,
          227.13000000000002,
          206.54000000000002,
          158.17000000000002,
          125.62,
          112.45,
          133.68000000000004,
          165.32,
          141.67000000000002,
          137.42999999999998,
          126.52000000000001,
          155.14999999999998,
          129.61999999999998,
          565.6800000000001,
          296.83,
          355.71,
          549.01,
          572.8,
          463.80999999999995,
          575.1500000000001,
          457.05999999999995,
          417.04999999999995,
          388.28000000000003,
          436.61,
          558.19,
          907.67,
          1014.37,
          790.28,
          708.98,
          563.1,
          481.3399999999999,
          332.31,
          479.26000000000005,
          640.83,
          528.52,
          489.31,
          401.84999999999997,
          630.07,
          605.3100000000001,
          574.45,
          303.38,
          321.32,
          456.39,
          438.46,
          504.8800000000001,
          445.47,
          528.68,
          561.37,
          441.02000000000004,
          448.25000000000006,
          513.36,
          435.16999999999996,
          504.72,
          680.4399999999999,
          736.8400000000001,
          634.72,
          672.98,
          488.84999999999997,
          602.5200000000001,
          581.6000000000001,
          495.25,
          395.34999999999997,
          294.68,
          504.76000000000005,
          577.72,
          489.72,
          572.88,
          411.90999999999997,
          284.64,
          293.68,
          377.22,
          439.38,
          527.41,
          509.3999999999999,
          360.03000000000003,
          242.49,
          230.71,
          234.27999999999997,
          185.01999999999998,
          236.62,
          303.68000000000006,
          315.04,
          266.71,
          279.44000000000005,
          294.9799999999999,
          247.64,
          170.05999999999997,
          306.95000000000005,
          311.86999999999995,
          373.59000000000003,
          389.64,
          232.97000000000003,
          235.13,
          112.47999999999999,
          155.53,
          144.56000000000003,
          194.39,
          157.26000000000002,
          191.15999999999997,
          186.77,
          166.37,
          177.15000000000003,
          188.54,
          183.43999999999997,
          156.95,
          169.54000000000002,
          219.21,
          176.35999999999999,
          165.65,
          163.56999999999996,
          122.25000000000001,
          114.32,
          99.82,
          99.15,
          123.50999999999999,
          111.30000000000001,
          110.84000000000002,
          116.69,
          138.66,
          104.59,
          96.95,
          83.67999999999999,
          81.32000000000001,
          81.96000000000001,
          86.5,
          79.66,
          72.03,
          83.02,
          80.96,
          83.55,
          66.61,
          90.18999999999998,
          82.19999999999999,
          84.9,
          526.5799999999999,
          426.23999999999995,
          401.52,
          359.17999999999995,
          449.7300000000001,
          501.39,
          474.59000000000003,
          351.5799999999999,
          351.12999999999994,
          512.1999999999999,
          622.96,
          476.87,
          495.91,
          552.74,
          329.73999999999995,
          315.17,
          313.40999999999997,
          296.24,
          340.31,
          479.03000000000003,
          477.21999999999997,
          291.31,
          319.97,
          407.6,
          431.6600000000001,
          453.78,
          383.5900000000001,
          302.53,
          246.42000000000002,
          286.46,
          319.39,
          309.41,
          374.59,
          461.69000000000005,
          334,
          330.9,
          356.14,
          367.01,
          407.38000000000005,
          384.96,
          385.65,
          358.37,
          337.28000000000003,
          271.19999999999993,
          275.61,
          346.3,
          346.12,
          284.31,
          380.02000000000004,
          303.56,
          218.79,
          215.99,
          307.24,
          283.05,
          202.6,
          218.18000000000004,
          229.87,
          262.43,
          268.49000000000007,
          248.47,
          263.32,
          268.15,
          289.78,
          257.78000000000003,
          207.44000000000003,
          194.31,
          226.33000000000004,
          213.51000000000002,
          261.75,
          237.34,
          237.87,
          206.24000000000004,
          224.74,
          235.64000000000001,
          261.3,
          313.39000000000004,
          303.33000000000004,
          315.6700000000001,
          351.81,
          271.31,
          235.54000000000002,
          243.47000000000003,
          276.5,
          259.64,
          209.26000000000005,
          210.57999999999998,
          202.89999999999998,
          197.2,
          205.97000000000003,
          211.85999999999999,
          245.92000000000002,
          212.95000000000002,
          201.85999999999999,
          202.60000000000002,
          220.20000000000002,
          210.43,
          207.26,
          217.51999999999998,
          208.88,
          223.37,
          240.66000000000003,
          231.72,
          232.93999999999997,
          246.13,
          212.45999999999998,
          233.11000000000004,
          237.38000000000005,
          235.86999999999998,
          236.95000000000002,
          219.6,
          213.9,
          225.52,
          248.82999999999998,
          236.24999999999997,
          225.91000000000003,
          203.09,
          187.56000000000003,
          201.17,
          203.35000000000002,
          210.77,
          220.19000000000003,
          409.22,
          386.25000000000006,
          375.74000000000007,
          406.6700000000001,
          358.56999999999994,
          448.81000000000006,
          308.8299999999999,
          313.29999999999995,
          355.16,
          410.56999999999994,
          509.32,
          309.07,
          247.64999999999998,
          236.4,
          230.13000000000002,
          308,
          428.94000000000005,
          503.81,
          485.06000000000006,
          544,
          499.55999999999995,
          469.59999999999997,
          413.53,
          480.28,
          517.84,
          301.03,
          221.58999999999997,
          204.57999999999998,
          339.02,
          389.82,
          414.67,
          462.69,
          412.93999999999994,
          363.92,
          401.88999999999993,
          302.5,
          347.54999999999995,
          368.60999999999996,
          324.02000000000004,
          310.65000000000003,
          352.84000000000003,
          382.98,
          431.95000000000005,
          391.80000000000007,
          391.23,
          401.95,
          528.7099999999999,
          517.87,
          558.9000000000001,
          402.38,
          289.84,
          408.2200000000001,
          486.4400000000001,
          477.51,
          396.89000000000004,
          330.17,
          392.0199999999999,
          555.67,
          525.9599999999999,
          305.47999999999996,
          371.33000000000004,
          296.37999999999994,
          277.02,
          248.5,
          223.97,
          249.15999999999997,
          271.51,
          283.19,
          265.51,
          171.19,
          199.75000000000003,
          233.43,
          266.19,
          411.96999999999997,
          464.6000000000001,
          557.28,
          404.10999999999996,
          253.45999999999998,
          221.82,
          187.31,
          129.92000000000004,
          144.62,
          188.72,
          164.51000000000002,
          149.75,
          139.77,
          145.73999999999998,
          132.62999999999997,
          131.97,
          136.63,
          124.28999999999999,
          148.04000000000002,
          149.05999999999995,
          146.45999999999998,
          147.29000000000002,
          116.86000000000001,
          148.78000000000003,
          177.65,
          173.63,
          157.24,
          159.02999999999997,
          159.92999999999998,
          153.44,
          165.11,
          150.03,
          125.62,
          127.28999999999999,
          122.92,
          134,
          163.69,
          128.57,
          125.38,
          132.54999999999998,
          122.24000000000001,
          110.85,
          127.12999999999998,
          110.97,
          119.24,
          138.84,
          124.33999999999999,
          104.21999999999998,
          671.46,
          522.3199999999999,
          360.8900000000001,
          317.4,
          428.05,
          611.26,
          616.05,
          383.17,
          351.11,
          372.77000000000004,
          410.74999999999994,
          491.4699999999999,
          537.75,
          613.64,
          572.03,
          515.08,
          390.74999999999994,
          379.80999999999995,
          394.84999999999997,
          603.02,
          559.1099999999999,
          496.29,
          396.29,
          557.08,
          643.4499999999998,
          668.6999999999999,
          680.32,
          573.63,
          553.19,
          386.67,
          446.97999999999996,
          391.05000000000007,
          453.64,
          689.43,
          554.61,
          627.92,
          718.1899999999999,
          639.38,
          562.33,
          539.9,
          559.07,
          455.9699999999999,
          558.04,
          586.9499999999999,
          468.08,
          591.76,
          602.93,
          514.4599999999999,
          579.0600000000001,
          625.02,
          490.48999999999995,
          361.86,
          452.88,
          349.8299999999999,
          296.8,
          319.85,
          390.40999999999997,
          514.3,
          607.6199999999999,
          571.19,
          521.43,
          590.8,
          551.9100000000001,
          463.28000000000003,
          322.86,
          392.28,
          466.34999999999997,
          406.81,
          521.51,
          407.19,
          428.53999999999996,
          396.41,
          257.1,
          290.22,
          352.64,
          401.1,
          438.67,
          431.65000000000003,
          410.81000000000006,
          578.07,
          395.88000000000005,
          314.4,
          383.25,
          377.87,
          355.84,
          364.31,
          283.36,
          211.12,
          228.17000000000002,
          334.48,
          363.95,
          335.62000000000006,
          284.79,
          317.05,
          333.63000000000005,
          375.2300000000001,
          322.17999999999995,
          380.96000000000004,
          358.65,
          313.66,
          378.84000000000003,
          362.95000000000005,
          311.18,
          316.85,
          299.94,
          276.26,
          290.73,
          299.85,
          290.27,
          264.10999999999996,
          226.83999999999997,
          218.92,
          256.68,
          247.43,
          231.89000000000001,
          218.07000000000002,
          229.57000000000002,
          200.10999999999999,
          230.30999999999997,
          247.19000000000003,
          272.05999999999995,
          125.16999999999999,
          113.57000000000001,
          160.04,
          121.18,
          119.67,
          120.75,
          116.80999999999999,
          129.61999999999998,
          93.81,
          61.50999999999999,
          48.75,
          103.86999999999999,
          92.29,
          97.33,
          60.28999999999999,
          86.72999999999999,
          85.75,
          61.080000000000005,
          76.40999999999998,
          57.019999999999996,
          50.769999999999996,
          50.98,
          94.08999999999999,
          105.58999999999999,
          108.28,
          113.21000000000001,
          150.62,
          148.88999999999996,
          107.70000000000002,
          104.10999999999999,
          116.66,
          124.5,
          154.28,
          121.72000000000001,
          138.27,
          108.87,
          151.01000000000002,
          125.05000000000001,
          69.13000000000001,
          119.35000000000001,
          109.25999999999999,
          104.10000000000001,
          122.99,
          137,
          197.1,
          155.12999999999997,
          187.93000000000004,
          181.35999999999999,
          221.13000000000002,
          165.30000000000004,
          145.76999999999998,
          228.20000000000005,
          228.20000000000005,
          82.25999999999999,
          63.78,
          55.71,
          52.960000000000015,
          49.12,
          52.62,
          72.13999999999999,
          91.3,
          74.41000000000001,
          93.42999999999999,
          68.44,
          71.41999999999999,
          69.86,
          64.35000000000001,
          79.9,
          108.56000000000002,
          70.71000000000001,
          83.80999999999999,
          101.49,
          136.97000000000003,
          76.50999999999999,
          72.45,
          105.13,
          125.59999999999998,
          134.94000000000003,
          134.08,
          147.46,
          59.529999999999994,
          58.26,
          76.96000000000001,
          120.52,
          107.44,
          116.88,
          101.25999999999999,
          95.36999999999998,
          149.95,
          164.23999999999998,
          135.20000000000002,
          117.58000000000001,
          107.82000000000001,
          81.51000000000002,
          202.97000000000003,
          228.20000000000005,
          228.20000000000005,
          228.20000000000005,
          228.20000000000005,
          202.97000000000003,
          202.97000000000003,
          202.97000000000003,
          202.97000000000003,
          202.97000000000003,
          202.97000000000003,
          202.97000000000003,
          202.97000000000003,
          202.97000000000003,
          202.97000000000003,
          202.97000000000003,
          202.97000000000003,
          202.97000000000003,
          202.97000000000003,
          202.97000000000003,
          202.97000000000003,
          202.97000000000003,
          202.97000000000003,
          202.97000000000003,
          202.97000000000003,
          28.669999999999998,
          23.489999999999995,
          422.87,
          415.96000000000004,
          251.19999999999996,
          334.27000000000004,
          435.83000000000004,
          659.13,
          419.14,
          375.03,
          375.71999999999997,
          449.96000000000004,
          478.98,
          593.57,
          821.0400000000001,
          528.0700000000002,
          443.62000000000006,
          472.24999999999994,
          437.60999999999996,
          508.61999999999995,
          416.94,
          439.88000000000005,
          598.69,
          559.4,
          825.4200000000001,
          743.67,
          600.6,
          565.1500000000001,
          324.21000000000004,
          375.98,
          307.58,
          356.04,
          340.41,
          295.56,
          223.46000000000004,
          231.88000000000002,
          230.31,
          330.93,
          141.24999999999997,
          132.27,
          98.64,
          351.7300000000001,
          393.2100000000001,
          360.81,
          403.45000000000005,
          416.17999999999995,
          367.16,
          444.09000000000003,
          456.26,
          331.63,
          308.84000000000003,
          208.93000000000004,
          122.49000000000001,
          168.35000000000002,
          219.37999999999997,
          171.3,
          101.63,
          151.41,
          210.26000000000005,
          230.13000000000002,
          238.83,
          256.37,
          276.7,
          182.26,
          164.07000000000002,
          85.64999999999999,
          306.54999999999995,
          69.5,
          93.45000000000002,
          117.53,
          106.52,
          63.419999999999995,
          85.53999999999999,
          93.39999999999999,
          67.61000000000001,
          228.20000000000005,
          228.20000000000005,
          228.20000000000005,
          133.6,
          145.97000000000003,
          404.61000000000007,
          200.01999999999998,
          141.37,
          114.75,
          186.87,
          268.06,
          374.31,
          229.89000000000004,
          234.41000000000003,
          209.61999999999998,
          156.32,
          196.3,
          288.47,
          138.49999999999997,
          222.43000000000004,
          174.01,
          148.31,
          268.71000000000004,
          172.29999999999998,
          137.25000000000003,
          128.99,
          130.28000000000003,
          185.33,
          167.52,
          204.94,
          215.48000000000002,
          168.62,
          164.75999999999996,
          127.04,
          225.93,
          168.29999999999995,
          128.57999999999998,
          154.36,
          120.74,
          112.94999999999999,
          108.97999999999999,
          94.06000000000002,
          129.64,
          133.44,
          109.03999999999999,
          142.01000000000002,
          112.39000000000001,
          180.55,
          160.18,
          181.18999999999997,
          149.09999999999997,
          126.92,
          190.79000000000002,
          175.35000000000002,
          103.43,
          157.12,
          180.70000000000002,
          169.14,
          147.29999999999998,
          190.45000000000002,
          205.70999999999998,
          220.18000000000004,
          198.63,
          176.71999999999997,
          168.39999999999998,
          156.41000000000003,
          166.83,
          146.27,
          146.61,
          149.92000000000002,
          153.52999999999997,
          162.29999999999998,
          136.77,
          146.27,
          180.24999999999997,
          214.75000000000003,
          197.42,
          196.29,
          173.92999999999998,
          145.79000000000002,
          176.93,
          149.14,
          159.58,
          145.51,
          144.54,
          159.13,
          151.26999999999998,
          306.09000000000003,
          177.02,
          158.57000000000002,
          179.35999999999999,
          170.78,
          174.83,
          187.8,
          216.60999999999999,
          174.5,
          177.51999999999998,
          197.98999999999995,
          178.11999999999998,
          191.79999999999995,
          147.92000000000002,
          172.67000000000002,
          175.88000000000002,
          168.74,
          166.38000000000002,
          186.94999999999996,
          239.31999999999996,
          141.84,
          161.32999999999998,
          160.23,
          214.50000000000003,
          194.65,
          156.11999999999998,
          136.13,
          121.57999999999998,
          125.27,
          150.62000000000003,
          136.76000000000002,
          141.67000000000004,
          136.81000000000003,
          135.97,
          122.17999999999998,
          137.77,
          153.91000000000003,
          117.63000000000001,
          125.76,
          142.36,
          132.92,
          117.80000000000001,
          116.28000000000002,
          94.33,
          102.84999999999998,
          103.1,
          110.15,
          111.51,
          92.69999999999999,
          104.35,
          101.72999999999999,
          98.02,
          112.19,
          112.29999999999998,
          115.00999999999999,
          104.42999999999999,
          82.24,
          87.3,
          87.72,
          90.33,
          88.74,
          99.22,
          91.27999999999999,
          104.79,
          99.98999999999998,
          79.47999999999999,
          70.55999999999999,
          70.1,
          60.980000000000004,
          56.910000000000004,
          70.10000000000001,
          78.13999999999999,
          78.81,
          83.63,
          81.92999999999999,
          94.67,
          109.76,
          81.60000000000001,
          104.41,
          88.64999999999999,
          104.41999999999999,
          80.11
         ]
        }
       ],
       "layout": {
        "legend": {
         "bgcolor": "#F5F6F9",
         "font": {
          "color": "#4D5663"
         }
        },
        "paper_bgcolor": "#F5F6F9",
        "plot_bgcolor": "#F5F6F9",
        "template": {
         "data": {
          "bar": [
           {
            "error_x": {
             "color": "#2a3f5f"
            },
            "error_y": {
             "color": "#2a3f5f"
            },
            "marker": {
             "line": {
              "color": "#E5ECF6",
              "width": 0.5
             }
            },
            "type": "bar"
           }
          ],
          "barpolar": [
           {
            "marker": {
             "line": {
              "color": "#E5ECF6",
              "width": 0.5
             }
            },
            "type": "barpolar"
           }
          ],
          "carpet": [
           {
            "aaxis": {
             "endlinecolor": "#2a3f5f",
             "gridcolor": "white",
             "linecolor": "white",
             "minorgridcolor": "white",
             "startlinecolor": "#2a3f5f"
            },
            "baxis": {
             "endlinecolor": "#2a3f5f",
             "gridcolor": "white",
             "linecolor": "white",
             "minorgridcolor": "white",
             "startlinecolor": "#2a3f5f"
            },
            "type": "carpet"
           }
          ],
          "choropleth": [
           {
            "colorbar": {
             "outlinewidth": 0,
             "ticks": ""
            },
            "type": "choropleth"
           }
          ],
          "contour": [
           {
            "colorbar": {
             "outlinewidth": 0,
             "ticks": ""
            },
            "colorscale": [
             [
              0,
              "#0d0887"
             ],
             [
              0.1111111111111111,
              "#46039f"
             ],
             [
              0.2222222222222222,
              "#7201a8"
             ],
             [
              0.3333333333333333,
              "#9c179e"
             ],
             [
              0.4444444444444444,
              "#bd3786"
             ],
             [
              0.5555555555555556,
              "#d8576b"
             ],
             [
              0.6666666666666666,
              "#ed7953"
             ],
             [
              0.7777777777777778,
              "#fb9f3a"
             ],
             [
              0.8888888888888888,
              "#fdca26"
             ],
             [
              1,
              "#f0f921"
             ]
            ],
            "type": "contour"
           }
          ],
          "contourcarpet": [
           {
            "colorbar": {
             "outlinewidth": 0,
             "ticks": ""
            },
            "type": "contourcarpet"
           }
          ],
          "heatmap": [
           {
            "colorbar": {
             "outlinewidth": 0,
             "ticks": ""
            },
            "colorscale": [
             [
              0,
              "#0d0887"
             ],
             [
              0.1111111111111111,
              "#46039f"
             ],
             [
              0.2222222222222222,
              "#7201a8"
             ],
             [
              0.3333333333333333,
              "#9c179e"
             ],
             [
              0.4444444444444444,
              "#bd3786"
             ],
             [
              0.5555555555555556,
              "#d8576b"
             ],
             [
              0.6666666666666666,
              "#ed7953"
             ],
             [
              0.7777777777777778,
              "#fb9f3a"
             ],
             [
              0.8888888888888888,
              "#fdca26"
             ],
             [
              1,
              "#f0f921"
             ]
            ],
            "type": "heatmap"
           }
          ],
          "heatmapgl": [
           {
            "colorbar": {
             "outlinewidth": 0,
             "ticks": ""
            },
            "colorscale": [
             [
              0,
              "#0d0887"
             ],
             [
              0.1111111111111111,
              "#46039f"
             ],
             [
              0.2222222222222222,
              "#7201a8"
             ],
             [
              0.3333333333333333,
              "#9c179e"
             ],
             [
              0.4444444444444444,
              "#bd3786"
             ],
             [
              0.5555555555555556,
              "#d8576b"
             ],
             [
              0.6666666666666666,
              "#ed7953"
             ],
             [
              0.7777777777777778,
              "#fb9f3a"
             ],
             [
              0.8888888888888888,
              "#fdca26"
             ],
             [
              1,
              "#f0f921"
             ]
            ],
            "type": "heatmapgl"
           }
          ],
          "histogram": [
           {
            "marker": {
             "colorbar": {
              "outlinewidth": 0,
              "ticks": ""
             }
            },
            "type": "histogram"
           }
          ],
          "histogram2d": [
           {
            "colorbar": {
             "outlinewidth": 0,
             "ticks": ""
            },
            "colorscale": [
             [
              0,
              "#0d0887"
             ],
             [
              0.1111111111111111,
              "#46039f"
             ],
             [
              0.2222222222222222,
              "#7201a8"
             ],
             [
              0.3333333333333333,
              "#9c179e"
             ],
             [
              0.4444444444444444,
              "#bd3786"
             ],
             [
              0.5555555555555556,
              "#d8576b"
             ],
             [
              0.6666666666666666,
              "#ed7953"
             ],
             [
              0.7777777777777778,
              "#fb9f3a"
             ],
             [
              0.8888888888888888,
              "#fdca26"
             ],
             [
              1,
              "#f0f921"
             ]
            ],
            "type": "histogram2d"
           }
          ],
          "histogram2dcontour": [
           {
            "colorbar": {
             "outlinewidth": 0,
             "ticks": ""
            },
            "colorscale": [
             [
              0,
              "#0d0887"
             ],
             [
              0.1111111111111111,
              "#46039f"
             ],
             [
              0.2222222222222222,
              "#7201a8"
             ],
             [
              0.3333333333333333,
              "#9c179e"
             ],
             [
              0.4444444444444444,
              "#bd3786"
             ],
             [
              0.5555555555555556,
              "#d8576b"
             ],
             [
              0.6666666666666666,
              "#ed7953"
             ],
             [
              0.7777777777777778,
              "#fb9f3a"
             ],
             [
              0.8888888888888888,
              "#fdca26"
             ],
             [
              1,
              "#f0f921"
             ]
            ],
            "type": "histogram2dcontour"
           }
          ],
          "mesh3d": [
           {
            "colorbar": {
             "outlinewidth": 0,
             "ticks": ""
            },
            "type": "mesh3d"
           }
          ],
          "parcoords": [
           {
            "line": {
             "colorbar": {
              "outlinewidth": 0,
              "ticks": ""
             }
            },
            "type": "parcoords"
           }
          ],
          "pie": [
           {
            "automargin": true,
            "type": "pie"
           }
          ],
          "scatter": [
           {
            "marker": {
             "colorbar": {
              "outlinewidth": 0,
              "ticks": ""
             }
            },
            "type": "scatter"
           }
          ],
          "scatter3d": [
           {
            "line": {
             "colorbar": {
              "outlinewidth": 0,
              "ticks": ""
             }
            },
            "marker": {
             "colorbar": {
              "outlinewidth": 0,
              "ticks": ""
             }
            },
            "type": "scatter3d"
           }
          ],
          "scattercarpet": [
           {
            "marker": {
             "colorbar": {
              "outlinewidth": 0,
              "ticks": ""
             }
            },
            "type": "scattercarpet"
           }
          ],
          "scattergeo": [
           {
            "marker": {
             "colorbar": {
              "outlinewidth": 0,
              "ticks": ""
             }
            },
            "type": "scattergeo"
           }
          ],
          "scattergl": [
           {
            "marker": {
             "colorbar": {
              "outlinewidth": 0,
              "ticks": ""
             }
            },
            "type": "scattergl"
           }
          ],
          "scattermapbox": [
           {
            "marker": {
             "colorbar": {
              "outlinewidth": 0,
              "ticks": ""
             }
            },
            "type": "scattermapbox"
           }
          ],
          "scatterpolar": [
           {
            "marker": {
             "colorbar": {
              "outlinewidth": 0,
              "ticks": ""
             }
            },
            "type": "scatterpolar"
           }
          ],
          "scatterpolargl": [
           {
            "marker": {
             "colorbar": {
              "outlinewidth": 0,
              "ticks": ""
             }
            },
            "type": "scatterpolargl"
           }
          ],
          "scatterternary": [
           {
            "marker": {
             "colorbar": {
              "outlinewidth": 0,
              "ticks": ""
             }
            },
            "type": "scatterternary"
           }
          ],
          "surface": [
           {
            "colorbar": {
             "outlinewidth": 0,
             "ticks": ""
            },
            "colorscale": [
             [
              0,
              "#0d0887"
             ],
             [
              0.1111111111111111,
              "#46039f"
             ],
             [
              0.2222222222222222,
              "#7201a8"
             ],
             [
              0.3333333333333333,
              "#9c179e"
             ],
             [
              0.4444444444444444,
              "#bd3786"
             ],
             [
              0.5555555555555556,
              "#d8576b"
             ],
             [
              0.6666666666666666,
              "#ed7953"
             ],
             [
              0.7777777777777778,
              "#fb9f3a"
             ],
             [
              0.8888888888888888,
              "#fdca26"
             ],
             [
              1,
              "#f0f921"
             ]
            ],
            "type": "surface"
           }
          ],
          "table": [
           {
            "cells": {
             "fill": {
              "color": "#EBF0F8"
             },
             "line": {
              "color": "white"
             }
            },
            "header": {
             "fill": {
              "color": "#C8D4E3"
             },
             "line": {
              "color": "white"
             }
            },
            "type": "table"
           }
          ]
         },
         "layout": {
          "annotationdefaults": {
           "arrowcolor": "#2a3f5f",
           "arrowhead": 0,
           "arrowwidth": 1
          },
          "coloraxis": {
           "colorbar": {
            "outlinewidth": 0,
            "ticks": ""
           }
          },
          "colorscale": {
           "diverging": [
            [
             0,
             "#8e0152"
            ],
            [
             0.1,
             "#c51b7d"
            ],
            [
             0.2,
             "#de77ae"
            ],
            [
             0.3,
             "#f1b6da"
            ],
            [
             0.4,
             "#fde0ef"
            ],
            [
             0.5,
             "#f7f7f7"
            ],
            [
             0.6,
             "#e6f5d0"
            ],
            [
             0.7,
             "#b8e186"
            ],
            [
             0.8,
             "#7fbc41"
            ],
            [
             0.9,
             "#4d9221"
            ],
            [
             1,
             "#276419"
            ]
           ],
           "sequential": [
            [
             0,
             "#0d0887"
            ],
            [
             0.1111111111111111,
             "#46039f"
            ],
            [
             0.2222222222222222,
             "#7201a8"
            ],
            [
             0.3333333333333333,
             "#9c179e"
            ],
            [
             0.4444444444444444,
             "#bd3786"
            ],
            [
             0.5555555555555556,
             "#d8576b"
            ],
            [
             0.6666666666666666,
             "#ed7953"
            ],
            [
             0.7777777777777778,
             "#fb9f3a"
            ],
            [
             0.8888888888888888,
             "#fdca26"
            ],
            [
             1,
             "#f0f921"
            ]
           ],
           "sequentialminus": [
            [
             0,
             "#0d0887"
            ],
            [
             0.1111111111111111,
             "#46039f"
            ],
            [
             0.2222222222222222,
             "#7201a8"
            ],
            [
             0.3333333333333333,
             "#9c179e"
            ],
            [
             0.4444444444444444,
             "#bd3786"
            ],
            [
             0.5555555555555556,
             "#d8576b"
            ],
            [
             0.6666666666666666,
             "#ed7953"
            ],
            [
             0.7777777777777778,
             "#fb9f3a"
            ],
            [
             0.8888888888888888,
             "#fdca26"
            ],
            [
             1,
             "#f0f921"
            ]
           ]
          },
          "colorway": [
           "#636efa",
           "#EF553B",
           "#00cc96",
           "#ab63fa",
           "#FFA15A",
           "#19d3f3",
           "#FF6692",
           "#B6E880",
           "#FF97FF",
           "#FECB52"
          ],
          "font": {
           "color": "#2a3f5f"
          },
          "geo": {
           "bgcolor": "white",
           "lakecolor": "white",
           "landcolor": "#E5ECF6",
           "showlakes": true,
           "showland": true,
           "subunitcolor": "white"
          },
          "hoverlabel": {
           "align": "left"
          },
          "hovermode": "closest",
          "mapbox": {
           "style": "light"
          },
          "paper_bgcolor": "white",
          "plot_bgcolor": "#E5ECF6",
          "polar": {
           "angularaxis": {
            "gridcolor": "white",
            "linecolor": "white",
            "ticks": ""
           },
           "bgcolor": "#E5ECF6",
           "radialaxis": {
            "gridcolor": "white",
            "linecolor": "white",
            "ticks": ""
           }
          },
          "scene": {
           "xaxis": {
            "backgroundcolor": "#E5ECF6",
            "gridcolor": "white",
            "gridwidth": 2,
            "linecolor": "white",
            "showbackground": true,
            "ticks": "",
            "zerolinecolor": "white"
           },
           "yaxis": {
            "backgroundcolor": "#E5ECF6",
            "gridcolor": "white",
            "gridwidth": 2,
            "linecolor": "white",
            "showbackground": true,
            "ticks": "",
            "zerolinecolor": "white"
           },
           "zaxis": {
            "backgroundcolor": "#E5ECF6",
            "gridcolor": "white",
            "gridwidth": 2,
            "linecolor": "white",
            "showbackground": true,
            "ticks": "",
            "zerolinecolor": "white"
           }
          },
          "shapedefaults": {
           "line": {
            "color": "#2a3f5f"
           }
          },
          "ternary": {
           "aaxis": {
            "gridcolor": "white",
            "linecolor": "white",
            "ticks": ""
           },
           "baxis": {
            "gridcolor": "white",
            "linecolor": "white",
            "ticks": ""
           },
           "bgcolor": "#E5ECF6",
           "caxis": {
            "gridcolor": "white",
            "linecolor": "white",
            "ticks": ""
           }
          },
          "title": {
           "x": 0.05
          },
          "xaxis": {
           "automargin": true,
           "gridcolor": "white",
           "linecolor": "white",
           "ticks": "",
           "title": {
            "standoff": 15
           },
           "zerolinecolor": "white",
           "zerolinewidth": 2
          },
          "yaxis": {
           "automargin": true,
           "gridcolor": "white",
           "linecolor": "white",
           "ticks": "",
           "title": {
            "standoff": 15
           },
           "zerolinecolor": "white",
           "zerolinewidth": 2
          }
         }
        },
        "title": {
         "font": {
          "color": "#4D5663"
         },
         "text": "Vehicular Pollution content"
        },
        "xaxis": {
         "gridcolor": "#E1E5ED",
         "linecolor": "black",
         "showgrid": true,
         "tickfont": {
          "color": "#4D5663"
         },
         "title": {
          "font": {
           "color": "#4D5663"
          },
          "text": "Cities"
         },
         "zerolinecolor": "#E1E5ED"
        },
        "yaxis": {
         "gridcolor": "#E1E5ED",
         "linecolor": "black",
         "showgrid": true,
         "tickfont": {
          "color": "#4D5663"
         },
         "title": {
          "font": {
           "color": "#4D5663"
          },
          "text": "Vehicular Pollution content"
         },
         "zerolinecolor": "#E1E5ED"
        }
       }
      },
      "text/html": [
       "<div>\n",
       "        \n",
       "        \n",
       "            <div id=\"caf6ee7b-9768-40ae-a41c-86a02616c2f6\" class=\"plotly-graph-div\" style=\"height:525px; width:100%;\"></div>\n",
       "            <script type=\"text/javascript\">\n",
       "                require([\"plotly\"], function(Plotly) {\n",
       "                    window.PLOTLYENV=window.PLOTLYENV || {};\n",
       "                    window.PLOTLYENV.BASE_URL='https://plot.ly';\n",
       "                    \n",
       "                if (document.getElementById(\"caf6ee7b-9768-40ae-a41c-86a02616c2f6\")) {\n",
       "                    Plotly.newPlot(\n",
       "                        'caf6ee7b-9768-40ae-a41c-86a02616c2f6',\n",
       "                        [{\"line\": {\"color\": \"rgba(255, 153, 51, 1.0)\", \"dash\": \"solid\", \"shape\": \"linear\", \"width\": 1.3}, \"mode\": \"lines\", \"name\": \"Vehicular Pollution content\", \"text\": \"\", \"type\": \"scatter\", \"x\": [1827, 1828, 1829, 1830, 1831, 1832, 1833, 1834, 1835, 1836, 1837, 1838, 1839, 1840, 1841, 1842, 1843, 1844, 1845, 1846, 1847, 1848, 1849, 1850, 1851, 1852, 1853, 1854, 1855, 1856, 1857, 1858, 1859, 1860, 1861, 1862, 1863, 1864, 1865, 1866, 1867, 1868, 1869, 1870, 1871, 1872, 1873, 1874, 1875, 1876, 1877, 1878, 1879, 1880, 1881, 1882, 1883, 1884, 1885, 1886, 1887, 1888, 1889, 1890, 1891, 1892, 1893, 1894, 1895, 1896, 1897, 1898, 1899, 1900, 1901, 1902, 1903, 1904, 1905, 1906, 1907, 1908, 1909, 1910, 1911, 1912, 1913, 1914, 1915, 1916, 1917, 1918, 1919, 1920, 1921, 1922, 1923, 1924, 1925, 1926, 1927, 1928, 1929, 1930, 1931, 1932, 1933, 1934, 1935, 1936, 1937, 1938, 1939, 1940, 1941, 1942, 1943, 1944, 1945, 1946, 1947, 1948, 1949, 1950, 1951, 1952, 1953, 1954, 1955, 1956, 1957, 1958, 1959, 1960, 1961, 1962, 1963, 1964, 1965, 1966, 1967, 1968, 1969, 1970, 1971, 1972, 1973, 1974, 1975, 1976, 1977, 1978, 1979, 1980, 1981, 1982, 1983, 1984, 1985, 1986, 1987, 1988, 1989, 1990, 1991, 1992, 1993, 1994, 1995, 1996, 1997, 1998, 1999, 2769, 2770, 2771, 2772, 2773, 2774, 2775, 2776, 2777, 2778, 2779, 2780, 2781, 2782, 2783, 2784, 2785, 2786, 2787, 2788, 2789, 2790, 2791, 2792, 2793, 2794, 2795, 2796, 2797, 2798, 2799, 2800, 2801, 2802, 2803, 2804, 2805, 2806, 2807, 2808, 2809, 2810, 2811, 2812, 2813, 2814, 2815, 2816, 2817, 2818, 2819, 2820, 2821, 2822, 2823, 2824, 2825, 2826, 2827, 2828, 2829, 2830, 2831, 2832, 2833, 2834, 2835, 2836, 2837, 2838, 2839, 2840, 2841, 2842, 2843, 2844, 2845, 2846, 2847, 2848, 2849, 2850, 2851, 2852, 2853, 2854, 2855, 2856, 2857, 2858, 2859, 2860, 2861, 2862, 2863, 2864, 2865, 2866, 2867, 2868, 2869, 2870, 2871, 2872, 2873, 2874, 2875, 2876, 2877, 2878, 2879, 2880, 2881, 2882, 2883, 2884, 2885, 2886, 2887, 2888, 2889, 3929, 3930, 3931, 3932, 3933, 3934, 3935, 3936, 3937, 3938, 3939, 3940, 3941, 3942, 3943, 3944, 3945, 3946, 3947, 3948, 3949, 3950, 3951, 3952, 3953, 3954, 3955, 3956, 3957, 3958, 3959, 3960, 3961, 3962, 3963, 3964, 3965, 3966, 3967, 3968, 3969, 3970, 3971, 3972, 3973, 3974, 3975, 3976, 3977, 3978, 3979, 3980, 3981, 3982, 3983, 3984, 3985, 3986, 3987, 3988, 3989, 3990, 3991, 3992, 3993, 3994, 3995, 3996, 3997, 3998, 3999, 4000, 4001, 4002, 4003, 4004, 4005, 4006, 4007, 4008, 4009, 4010, 4011, 4012, 4013, 4014, 4015, 4016, 4017, 4018, 4019, 4020, 4021, 4022, 4023, 4024, 4025, 4026, 4027, 4028, 4029, 4030, 4031, 4032, 4033, 4034, 4035, 4036, 4037, 4038, 4039, 4040, 4041, 4042, 4043, 4044, 4045, 4046, 4047, 4048, 4049, 5877, 5878, 5879, 5880, 5881, 5882, 5883, 5884, 5885, 5886, 5887, 5888, 5889, 5890, 5891, 5892, 5893, 5894, 5895, 5896, 5897, 5898, 5899, 5900, 5901, 5902, 5903, 5904, 5905, 5906, 5907, 5908, 5909, 5910, 5911, 5912, 5913, 5914, 5915, 5916, 5917, 5918, 5919, 5920, 5921, 5922, 5923, 5924, 5925, 5926, 5927, 5928, 5929, 5930, 5931, 5932, 5933, 5934, 5935, 5936, 5937, 5938, 5939, 5940, 5941, 5942, 5943, 5944, 5945, 5946, 5947, 5948, 5949, 5950, 5951, 5952, 5953, 5954, 5955, 5956, 5957, 5958, 5959, 5960, 5961, 5962, 5963, 5964, 5965, 5966, 5967, 5968, 5969, 5970, 5971, 5972, 5973, 5974, 5975, 5976, 5977, 5978, 5979, 5980, 5981, 5982, 5983, 5984, 5985, 5986, 5987, 5988, 5989, 5990, 5991, 5992, 5993, 5994, 5995, 5996, 5997, 6105, 6106, 6107, 6108, 6109, 6110, 6111, 6112, 6113, 6114, 6115, 6116, 6117, 6118, 6119, 6120, 6121, 6122, 6123, 6124, 6125, 6126, 6127, 6128, 6129, 6130, 6131, 6132, 6133, 6134, 6135, 6136, 6137, 6138, 6139, 6140, 6141, 6142, 6143, 6144, 6145, 6146, 6147, 6148, 6149, 6150, 6151, 6152, 6153, 6154, 6155, 6156, 6157, 6158, 6159, 6160, 6161, 6162, 6163, 6164, 6165, 6166, 6167, 6168, 6169, 6170, 6171, 6172, 6173, 6174, 6175, 6176, 6177, 6178, 6179, 6180, 6181, 6182, 6183, 6184, 6185, 6186, 6187, 6188, 6189, 6190, 6191, 6192, 6193, 6194, 6195, 6196, 6197, 6198, 6199, 6200, 6201, 6202, 6203, 6204, 6205, 6206, 6207, 6208, 6209, 6210, 6211, 6212, 6213, 6214, 6215, 6216, 6217, 6218, 6219, 6220, 6221, 6222, 6223, 6224, 6225, 6982, 6983, 6984, 6985, 6986, 6987, 6988, 6989, 6990, 6991, 6992, 6993, 6994, 6995, 6996, 6997, 6998, 6999, 7000, 7001, 7002, 7003, 7004, 7005, 7006, 7007, 7008, 7009, 7010, 7011, 7012, 7013, 7014, 7015, 7016, 7017, 7018, 7019, 7020, 7021, 7022, 7023, 7024, 7025, 7026, 7027, 7028, 7029, 7030, 7031, 7032, 7033, 7034, 7035, 7036, 7037, 7038, 7039, 7040, 7041, 7042, 7043, 7044, 7045, 7046, 7047, 7048, 7049, 7050, 7051, 7052, 7053, 7054, 7055, 7056, 7057, 7058, 7059, 7060, 7061, 7062, 7063, 7064, 7065, 7066, 7067, 7068, 7069, 7070, 7071, 7072, 7073, 7074, 7075, 7076, 7077, 7078, 7079, 7080, 7081, 7082, 7083, 7084, 7085, 7086, 7087, 7088, 7089, 7090, 7091, 7092, 7093, 7094, 7095, 7096, 7097, 7098, 7099, 7100, 7101, 7102, 7225, 7226, 7227, 7228, 7229, 7230, 7231, 7232, 7233, 7234, 7235, 7236, 7237, 7238, 7239, 7240, 7241, 7242, 7243, 7244, 7245, 7246, 7247, 7248, 7249, 7250, 7251, 7252, 7253, 7254, 7255, 7256, 7257, 7258, 7259, 7260, 7261, 7262, 7263, 7264, 7265, 7266, 7267, 7268, 7269, 7270, 7271, 7272, 7273, 7274, 7275, 7276, 7277, 7278, 7279, 7280, 7281, 7282, 7283, 7284, 7285, 7286, 7287, 7288, 7289, 7290, 7291, 7292, 7293, 7294, 7295, 7296, 7297, 7298, 7299, 7300, 7301, 7302, 7303, 7304, 7305, 7306, 7307, 7308, 7309, 7310, 7311, 7312, 7313, 7314, 7315, 7316, 7317, 7318, 7319, 7320, 7321, 7322, 7323, 7324, 7325, 7326, 7327, 7328, 7329, 7330, 7331, 7332, 7333, 7334, 7335, 7336, 7337, 7338, 7339, 7340, 7341, 7342, 7343, 7344, 7345, 9173, 9174, 9175, 9176, 9177, 9178, 9179, 9180, 9181, 9182, 9183, 9184, 9185, 9186, 9187, 9188, 9189, 9190, 9191, 9192, 9193, 9194, 9195, 9196, 9197, 9198, 9199, 9200, 9201, 9202, 9203, 9204, 9205, 9206, 9207, 9208, 9209, 9210, 9211, 9212, 9213, 9214, 9215, 9216, 9217, 9218, 9219, 9220, 9221, 9222, 9223, 9224, 9225, 9226, 9227, 9228, 9229, 9230, 9231, 9232, 9233, 9234, 9235, 9236, 9237, 9238, 9239, 9240, 9241, 9242, 9243, 9244, 9245, 9246, 9247, 9248, 9249, 9250, 9251, 9252, 9253, 9254, 9255, 9256, 9257, 9258, 9259, 9260, 9261, 9262, 9263, 9264, 9265, 9266, 9267, 9268, 9269, 9270, 9271, 9272, 9273, 9274, 9275, 9276, 9277, 9278, 9279, 9280, 9281, 9282, 9283, 9284, 9285, 9286, 9287, 9288, 9289, 9290, 9291, 9292, 9293, 11121, 11122, 11123, 11124, 11125, 11126, 11127, 11128, 11129, 11130, 11131, 11132, 11133, 11134, 11135, 11136, 11137, 11138, 11139, 11140, 11141, 11142, 11143, 11144, 11145, 11146, 11147, 11148, 11149, 11150, 11151, 11152, 11153, 11154, 11155, 11156, 11157, 11158, 11159, 11160, 11161, 11162, 11163, 11164, 11165, 11166, 11167, 11168, 11169, 11170, 11171, 11172, 11173, 11174, 11175, 11176, 11177, 11178, 11179, 11180, 11181, 11182, 11183, 11184, 11185, 11186, 11187, 11188, 11189, 11190, 11191, 11192, 11193, 11194, 11195, 11196, 11197, 11198, 11199, 11200, 11201, 11202, 11203, 11204, 11205, 11206, 11207, 11208, 11209, 11210, 11211, 11212, 11213, 11214, 11215, 11216, 11217, 11218, 11219, 11220, 11221, 11222, 11223, 11224, 11225, 11226, 11227, 11228, 11229, 11230, 11231, 11232, 11233, 11234, 11235, 11236, 11237, 11238, 11239, 11240, 11241, 11242, 11243, 11244, 11245, 11246, 11247, 11248, 11249, 11250, 11251, 11252, 11253, 11254, 11255, 11256, 11257, 11258, 11259, 11260, 11261, 11262, 11263, 11264, 11265, 11266, 11267, 11268, 11269, 11270, 11271, 11272, 11273, 11274, 11275, 11276, 11277, 11278, 11279, 11280, 11281, 11282, 11283, 11284, 11285, 11286, 11287, 11288, 11289, 11290, 11291, 11292, 11293, 11294, 11295, 11296, 11297, 11298, 11299, 11300, 11301, 11302, 11303, 11304, 11305, 11306, 11307, 11308, 11309, 11310, 11311, 11312, 11313, 11314, 11315, 11316, 11317, 11318, 11319, 11320, 11321, 11322, 11323, 11324, 11325, 11326, 11327, 11328, 11329, 11330, 11331, 11332, 11333, 11334, 11335, 11336, 11337, 11338, 11339, 11340, 11341, 11342, 12840, 12841, 12842, 12843, 12844, 12845, 12846, 12847, 12848, 12849, 12850, 12851, 12852, 12853, 12854, 12855, 12856, 12857, 12858, 12859, 12860, 12861, 12862, 12863, 12864, 12865, 12866, 12867, 12868, 12869, 12870, 12871, 12872, 12873, 12874, 12875, 12876, 12877, 12878, 12879, 12880, 12881, 12882, 12883, 12884, 12885, 12886, 12887, 12888, 12889, 12890, 12891, 12892, 12893, 12894, 12895, 12896, 12897, 12898, 12899, 12900, 12901, 12902, 12903, 12904, 12905, 12906, 12907, 12908, 12909, 12910, 12911, 12912, 12913, 12914, 12915, 12916, 12917, 12918, 12919, 12920, 12921, 12922, 12923, 12924, 12925, 12926, 12927, 12928, 12929, 12930, 12931, 12932, 12933, 12934, 12935, 12936, 12937, 12938, 12939, 12940, 12941, 12942, 12943, 12944, 12945, 12946, 12947, 12948, 12949, 12950, 12951, 12952, 12953, 12954, 12955, 12956, 12957, 12958, 12959, 12960, 13281, 13282, 13283, 13284, 13285, 13286, 13287, 13288, 13289, 13290, 13291, 13292, 13293, 13294, 13295, 13296, 13297, 13298, 13299, 13300, 13301, 13302, 13303, 13304, 13305, 13306, 13307, 13308, 13309, 13310, 13311, 13312, 13313, 13314, 13315, 13316, 13317, 13318, 13319, 13320, 13321, 13322, 13323, 13324, 13325, 13326, 13327, 13328, 13329, 13330, 13331, 13332, 13333, 13334, 13335, 13336, 13337, 13338, 13339, 13340, 13341, 13342, 13343, 13344, 13345, 13346, 13347, 13348, 13349, 13350, 13351, 13352, 13353, 13354, 13355, 13356, 13357, 13358, 13359, 13360, 13361, 13362, 13363, 13364, 13365, 13366, 13367, 13368, 13369, 13370, 13371, 13372, 13373, 13374, 13375, 13376, 13377, 13378, 13379, 13380, 13381, 13382, 13383, 13384, 13385, 13386, 13387, 13388, 13389, 13390, 13391, 13392, 13393, 13394, 13395, 13396, 13397, 13398, 13399, 13400, 13401, 15226, 15227, 15228, 15229, 15230, 15231, 15232, 15233, 15234, 15235, 15236, 15237, 15238, 15239, 15240, 15241, 15242, 15243, 15244, 15245, 15246, 15247, 15248, 15249, 15250, 15251, 15252, 15253, 15254, 15255, 15256, 15257, 15258, 15259, 15260, 15261, 15262, 15263, 15264, 15265, 15266, 15267, 15268, 15269, 15270, 15271, 15272, 15273, 15274, 15275, 15276, 15277, 15278, 15279, 15280, 15281, 15282, 15283, 15284, 15285, 15286, 15287, 15288, 15289, 15290, 15291, 15292, 15293, 15294, 15295, 15296, 15297, 15298, 15299, 15300, 15301, 15302, 15303, 15304, 15305, 15306, 15307, 15308, 15309, 15310, 15311, 15312, 15313, 15314, 15315, 15316, 15317, 15318, 15319, 15320, 15321, 15322, 15323, 15324, 15325, 15326, 15327, 15328, 15329, 15330, 15331, 15332, 15333, 15334, 15335, 15336, 15337, 15338, 15339, 15340, 15341, 15342, 15343, 15344, 15345, 15346, 16279, 16280, 16281, 16282, 16283, 16284, 16285, 16286, 16287, 16288, 16289, 16290, 16291, 16292, 16293, 16294, 16295, 16296, 16297, 16298, 16299, 16300, 16301, 16302, 16303, 16304, 16305, 16306, 16307, 16308, 16309, 16310, 16311, 16312, 16313, 16314, 16315, 16316, 16317, 16318, 16319, 16320, 16321, 16322, 16323, 16324, 16325, 16326, 16327, 16328, 16329, 16330, 16331, 16332, 16333, 16334, 16335, 16336, 16337, 16338, 16339, 16340, 16341, 16342, 16343, 16344, 16345, 16346, 16347, 16348, 16349, 16350, 16351, 16352, 16353, 16354, 16355, 16356, 16357, 16358, 16359, 16360, 16361, 16362, 16363, 16364, 16365, 16366, 16367, 16368, 16369, 16370, 16371, 16372, 16373, 16374, 16375, 16376, 16377, 16378, 16379, 16380, 16381, 16382, 16383, 16384, 16385, 16386, 16387, 16388, 16389, 16390, 16391, 16392, 16393, 16394, 16395, 16396, 16397, 16398, 16399, 17387, 17388, 17389, 17390, 17391, 17392, 17393, 17394, 17395, 17396, 17397, 17398, 17399, 17400, 17401, 17402, 17403, 17404, 17405, 17406, 17407, 17408, 17409, 17410, 17411, 17412, 17413, 17414, 17415, 17416, 17417, 17418, 17419, 17420, 17421, 17422, 17423, 17424, 17425, 17426, 17427, 17428, 17429, 17430, 17431, 17432, 17433, 17434, 17435, 17436, 17437, 17438, 17439, 17440, 17441, 17442, 17443, 17444, 17445, 17446, 17447, 17448, 17449, 17450, 17451, 17452, 17453, 17454, 17455, 17456, 17457, 17458, 17459, 17460, 17461, 17462, 17463, 17464, 17465, 17466, 17467, 17468, 17469, 17470, 17471, 17472, 17473, 17474, 17475, 17476, 17477, 17478, 17479, 17480, 17481, 17482, 17483, 17484, 17485, 17486, 17487, 17488, 17489, 17490, 17491, 17492, 17493, 17494, 17495, 17496, 17497, 17498, 17499, 17500, 17501, 17502, 17503, 17504, 17505, 17506, 17507, 17508, 17509, 17510, 17511, 17512, 17513, 17514, 17515, 17516, 17517, 17518, 17519, 17520, 17521, 17522, 17523, 17524, 17525, 17526, 17527, 17528, 17529, 17530, 17531, 17532, 17533, 17534, 17535, 17536, 17537, 17538, 17539, 17540, 17541, 17542, 17543, 17544, 17545, 17546, 17547, 17548, 17549, 17550, 17551, 17552, 17553, 17554, 17555, 17556, 17557, 17558, 17559, 17560, 17561, 17562, 17563, 17564, 17565, 17566, 17567, 17568, 17569, 17570, 17571, 17572, 17573, 17574, 17575, 17576, 17577, 17578, 17579, 17580, 17581, 17582, 17583, 17584, 17585, 17586, 17587, 17588, 17589, 17590, 17591, 17592, 17593, 17594, 17595, 17596, 17597, 17598, 17599, 17600, 17601, 17602, 17603, 17604, 17605, 17606, 17607, 17608, 18241, 18242, 18243, 18244, 18245, 18246, 18247, 18248, 18249, 18250, 18251, 18252, 18253, 18254, 18255, 18256, 18257, 18258, 18259, 18260, 18261, 18262, 18263, 18264, 18265, 18266, 18267, 18268, 18269, 18270, 18271, 18272, 18273, 18274, 18275, 18276, 18277, 18278, 18279, 18280, 18281, 18282, 18283, 18284, 18285, 18286, 18287, 18288, 18289, 18290, 18291, 18292, 18293, 18294, 18295, 18296, 18297, 18298, 18299, 18300, 18301, 18302, 18303, 18304, 18305, 18306, 18307, 18308, 18309, 18310, 18311, 18312, 18313, 18314, 18315, 18316, 18317, 18318, 18319, 18320, 18321, 18322, 18323, 18324, 18325, 18326, 18327, 18328, 18329, 18330, 18331, 18332, 18333, 18334, 18335, 18336, 18337, 18338, 18339, 18340, 18341, 18342, 18343, 18344, 18345, 18346, 18347, 18348, 18349, 18350, 18351, 18352, 18353, 18354, 18355, 18356, 18357, 18358, 18359, 18360, 18361, 20189, 20190, 20191, 20192, 20193, 20194, 20195, 20196, 20197, 20198, 20199, 20200, 20201, 20202, 20203, 20204, 20205, 20206, 20207, 20208, 20209, 20210, 20211, 20212, 20213, 20214, 20215, 20216, 20217, 20218, 20219, 20220, 20221, 20222, 20223, 20224, 20225, 20226, 20227, 20228, 20229, 20230, 20231, 20232, 20233, 20234, 20235, 20236, 20237, 20238, 20239, 20240, 20241, 20242, 20243, 20244, 20245, 20246, 20247, 20248, 20249, 20250, 20251, 20252, 20253, 20254, 20255, 20256, 20257, 20258, 20259, 20260, 20261, 20262, 20263, 20264, 20265, 20266, 20267, 20268, 20269, 20270, 20271, 20272, 20273, 20274, 20275, 20276, 20277, 20278, 20279, 20280, 20281, 20282, 20283, 20284, 20285, 20286, 20287, 20288, 20289, 20290, 20291, 20292, 20293, 20294, 20295, 20296, 20297, 20298, 20299, 20300, 20301, 20302, 20303, 20304, 20305, 20306, 20307, 20308, 20309, 22137, 22138, 22139, 22140, 22141, 22142, 22143, 22144, 22145, 22146, 22147, 22148, 22149, 22150, 22151, 22152, 22153, 22154, 22155, 22156, 22157, 22158, 22159, 22160, 22161, 22162, 22163, 22164, 22165, 22166, 22167, 22168, 22169, 22170, 22171, 22172, 22173, 22174, 22175, 22176, 22177, 22178, 22179, 22180, 22181, 22182, 22183, 22184, 22185, 22186, 22187, 22188, 22189, 22190, 22191, 22192, 22193, 22194, 22195, 22196, 22197, 22198, 22199, 22200, 22201, 22202, 22203, 22204, 22205, 22206, 22207, 22208, 22209, 22210, 22211, 22212, 22213, 22214, 22215, 22216, 22217, 22218, 22219, 22220, 22221, 22222, 22223, 22224, 22225, 22226, 22227, 22228, 22229, 22230, 22231, 22232, 22233, 22234, 22235, 22236, 22237, 22238, 22239, 22240, 22241, 22242, 22243, 22244, 22245, 22246, 22247, 22248, 22249, 22250, 22251, 22252, 22253, 22254, 22255, 22256, 22257, 23934, 23935, 23936, 23937, 23938, 23939, 23940, 23941, 23942, 23943, 23944, 23945, 23946, 23947, 23948, 23949, 23950, 23951, 23952, 23953, 23954, 23955, 23956, 23957, 23958, 23959, 23960, 23961, 23962, 23963, 23964, 23965, 23966, 23967, 23968, 23969, 23970, 23971, 23972, 23973, 23974, 23975, 23976, 23977, 23978, 23979, 23980, 23981, 23982, 23983, 23984, 23985, 23986, 23987, 23988, 23989, 23990, 23991, 23992, 23993, 23994, 23995, 23996, 23997, 23998, 23999, 24000, 24001, 24002, 24003, 24004, 24005, 24006, 24007, 24008, 24009, 24010, 24011, 24012, 24013, 24014, 24015, 24016, 24017, 24018, 24019, 24020, 24021, 24022, 24023, 24024, 24025, 24026, 24027, 24028, 24029, 24030, 24031, 24032, 24033, 24034, 24035, 24036, 24037, 24038, 24039, 24040, 24041, 24042, 24043, 24044, 24045, 24046, 24047, 24048, 24049, 24050, 24051, 24052, 24053, 24054, 24183, 24184, 24185, 24186, 24187, 24188, 24189, 24190, 24191, 24192, 24193, 24194, 24195, 24196, 24197, 24198, 24199, 24200, 24201, 24202, 24203, 24204, 24205, 24206, 24207, 24208, 24209, 24210, 24211, 24212, 24213, 24214, 24215, 24216, 24217, 24218, 24219, 24220, 24221, 24222, 24223, 24224, 24225, 24226, 24227, 24228, 24229, 24230, 24231, 24232, 24233, 24234, 24235, 24236, 24237, 24238, 24239, 24240, 24241, 24242, 24243, 24244, 24245, 24246, 24247, 24248, 24249, 24250, 24251, 24252, 24253, 24254, 24255, 24256, 24257, 24258, 24259, 24260, 24261, 24262, 24263, 24264, 24265, 24266, 24267, 24268, 24269, 24270, 24271, 24272, 24273, 24274, 24275, 24276, 24277, 24278, 24279, 24280, 24281, 24282, 24283, 24284, 24285, 24286, 24287, 24288, 24289, 24290, 24291, 24292, 24293, 24294, 24295, 24296, 24297, 24298, 24299, 24300, 24301, 24302, 24303, 25047, 25048, 25049, 25050, 25051, 25052, 25053, 25054, 25055, 25056, 25057, 25058, 25059, 25060, 25061, 25062, 25063, 25064, 25065, 25066, 25067, 25068, 25069, 25070, 25071, 25072, 25073, 25074, 25075, 25076, 25077, 25078, 25079, 25080, 25081, 25082, 25083, 25084, 25085, 25086, 25087, 25088, 25089, 25090, 25091, 25092, 25093, 25094, 25095, 25096, 25097, 25098, 25099, 25100, 25101, 25102, 25103, 25104, 25105, 25106, 25107, 25108, 25109, 25110, 25111, 25112, 25113, 25114, 25115, 25116, 25117, 25118, 25119, 25120, 25121, 25122, 25123, 25124, 25125, 25126, 25127, 25128, 25129, 25130, 25131, 25132, 25133, 25134, 25135, 25136, 25137, 25138, 25139, 25140, 25141, 25142, 25143, 25144, 25145, 25146, 25147, 25148, 25149, 25150, 25151, 25152, 25153, 25154, 25155, 25156, 25157, 25158, 25159, 25160, 25161, 25162, 25163, 25164, 25165, 25166, 25167, 26098, 26099, 26100, 26101, 26102, 26103, 26104, 26105, 26106, 26107, 26108, 26109, 26110, 26111, 26112, 26113, 26114, 26115, 26116, 26117, 26118, 26119, 26120, 26121, 26122, 26123, 26124, 26125, 26126, 26127, 26128, 26129, 26130, 26131, 26132, 26133, 26134, 26135, 26136, 26137, 26138, 26139, 26140, 26141, 26142, 26143, 26144, 26145, 26146, 26147, 26148, 26149, 26150, 26151, 26152, 26153, 26154, 26155, 26156, 26157, 26158, 26159, 26160, 26161, 26162, 26163, 26164, 26165, 26166, 26167, 26168, 26169, 26170, 26171, 26172, 26173, 26174, 26175, 26176, 26177, 26178, 26179, 26180, 26181, 26182, 26183, 26184, 26185, 26186, 26187, 26188, 26189, 26190, 26191, 26192, 26193, 26194, 26195, 26196, 26197, 26198, 26199, 26200, 26201, 26202, 26203, 26204, 26205, 26206, 26207, 26208, 26209, 26210, 26211, 26212, 26213, 26214, 26215, 26216, 26217, 26218], \"y\": [250.64, 258.25, 278.06000000000006, 221.91, 219.01999999999998, 302.94, 228.49, 177.77, 206.99, 215.67999999999998, 309.59, 301.53, 135.41, 195.11, 167.45999999999998, 395.89, 289.98, 202.05, 217.2, 320.13, 281.36, 197.5, 214.45, 300.28, 593.9200000000001, 208.57000000000002, 160.26, 209.76999999999998, 289.61, 358.71000000000004, 354.23, 250.51, 288.17999999999995, 396.46, 405.53999999999996, 295.15, 357.1499999999999, 394.71999999999997, 289.85, 293.22999999999996, 359.77, 425.23, 512.79, 321.91999999999996, 394.84000000000003, 334.75999999999993, 417.06999999999994, 506.44000000000005, 586.6000000000001, 414.39, 319.07000000000005, 242.98999999999998, 264.58000000000004, 368.4599999999999, 511.33000000000004, 777.07, 681.89, 561.35, 368.94, 344.28, 380.97, 399.18, 259.42999999999995, 236.17000000000002, 272.09, 304.98, 227.09, 209.31, 182.18, 171.49, 236.04, 213.51, 232.34999999999997, 233.69000000000003, 205.91999999999996, 283.83, 309.40999999999997, 386.70000000000005, 235.11999999999998, 298.34999999999997, 230.35, 233.18999999999997, 193.85, 203.9, 211.05000000000007, 119.72000000000001, 193.60999999999999, 162.57000000000002, 204.23000000000002, 190.17, 172.65999999999997, 179.77, 213.29999999999995, 211.89, 219.73, 214.1, 203.70000000000002, 181.73, 185.75999999999996, 177.94, 180.56999999999996, 162.61, 137.35, 165.29, 136.25, 183.51000000000002, 168.10000000000002, 193.92999999999998, 131.47, 156.24, 150.2, 177.83999999999997, 161.85, 157.14999999999998, 145.89, 146.36999999999998, 167.83999999999997, 179.47, 164.76999999999998, 149.77, 181.35000000000002, 129.60999999999999, 115.18, 133.26999999999998, 142.26999999999998, 120.92, 102.7, 96.74, 106.88, 130.53, 113.32000000000001, 144.76000000000002, 99.2, 104.29999999999998, 131.33, 149.26999999999998, 150.27999999999997, 133.8, 148.85, 112.02000000000001, 123.97, 99.56, 128.37, 125.26, 100.71000000000001, 94.87000000000002, 92.83, 110.99000000000001, 105.43999999999998, 87.55, 116.38, 122.02, 106.24000000000001, 85.57999999999998, 105.53, 152.57, 147.95000000000002, 101.78, 77.27, 89.59, 71.21, 78.57, 75.61, 62.93, 69.33, 55.459999999999994, 53.449999999999996, 45.57, 60.67999999999999, 56.199999999999996, 53.290000000000006, 55.77, 193.64000000000001, 145.08999999999997, 141.13, 109.01, 138.81, 143.38000000000002, 210.32, 167.2, 139.06, 192.27, 215.55, 237.12, 265.47, 239.37999999999997, 199.17000000000002, 172.98999999999998, 149.70999999999998, 113.83000000000001, 129.06, 136.17999999999998, 134.37, 148.8, 204.68, 204.86, 167.55999999999997, 147.61, 146.21, 138.67000000000002, 117.82999999999998, 133.53, 127.15, 101.63, 95.6, 111.79999999999998, 119.14999999999999, 110.53999999999999, 107.19000000000001, 88.35000000000001, 100.68, 147.32, 138.33, 163.13000000000002, 205.31, 226.84999999999997, 167.29, 237.49000000000004, 149.31, 131.45, 139.80999999999997, 156.1, 165.65, 133.10999999999999, 115.47, 136.34, 117.67999999999999, 106.58999999999999, 131.89, 147.95000000000002, 124.71, 128.79000000000002, 118.34000000000002, 137.55, 139.59, 132.50000000000003, 79.08, 73.31, 63.6, 58.459999999999994, 66.07000000000001, 58.85, 52.71000000000001, 61.18, 74.23000000000002, 94.37, 97.70999999999998, 105.42000000000002, 109.32000000000001, 84.48999999999998, 81.32000000000001, 69.92, 60.08, 87.82, 95.98000000000002, 74.28999999999999, 70.55, 87.0, 94.36000000000001, 95.22999999999998, 98.72000000000001, 109.67000000000002, 104.2, 118.28, 108.50999999999999, 103.66, 100.99000000000001, 87.91000000000003, 67.27000000000001, 56.09, 70.95, 75.86, 80.77, 61.08, 69.93, 75.89, 82.95, 80.32000000000001, 71.46000000000001, 71.17, 49.63000000000001, 47.61000000000001, 47.49000000000001, 44.01, 48.45, 53.19, 50.459999999999994, 69.13, 58.35999999999999, 66.94999999999999, 61.010000000000005, 127.38000000000002, 97.28999999999999, 112.46000000000001, 244.36, 239.40000000000003, 282.38, 209.57, 134.21, 134.39999999999998, 107.32000000000002, 187.93, 184.01000000000002, 187.70000000000002, 168.81, 160.33, 164.5, 293.40999999999997, 178.43, 240.04, 217.01, 191.59, 224.47, 158.03999999999996, 113.18999999999998, 128.35, 173.08, 255.32999999999998, 179.22, 209.23, 152.92, 109.21000000000001, 137.14000000000001, 212.71000000000004, 228.20000000000005, 228.20000000000005, 285.51000000000005, 272.07, 218.91, 272.80999999999995, 237.08, 328.58, 341.85, 246.35, 339.00000000000006, 246.92999999999995, 228.21999999999997, 200.07999999999998, 233.09999999999997, 290.79, 282.40999999999997, 273.3, 266.7, 242.63, 159.12, 245.18, 246.59, 260.39, 267.5, 306.36, 265.76, 277.85999999999996, 182.77, 177.08000000000004, 199.45, 206.59000000000003, 258.45, 167.33, 147.24, 147.12, 171.38, 162.58999999999997, 231.95999999999998, 219.65, 162.20000000000002, 155.84, 162.42999999999998, 179.26, 214.52, 220.93, 229.78999999999996, 214.42, 219.48999999999998, 203.59, 169.87999999999997, 184.42000000000004, 171.72000000000003, 147.02, 165.47, 159.04999999999998, 142.85000000000002, 150.79, 158.51999999999998, 161.41, 143.85000000000002, 146.86, 147.42, 142.43, 169.8, 228.20000000000005, 228.20000000000005, 228.20000000000005, 228.20000000000005, 228.20000000000005, 116.23, 125.07000000000001, 158.83, 136.73999999999998, 191.73, 159.64000000000001, 126.97, 104.06, 112.62999999999998, 144.28, 124.42, 145.53, 161.51000000000002, 181.14999999999998, 166.01000000000002, 146.52999999999997, 190.26, 169.48999999999998, 208.59, 228.17999999999995, 240.04, 169.10999999999999, 172.94, 264.32, 232.75, 168.68, 170.45, 183.92999999999998, 215.01000000000002, 218.85999999999999, 175.66, 197.71000000000004, 258.73, 286.65, 223.17000000000002, 222.26999999999998, 230.11, 169.32, 154.97, 207.79, 211.92999999999998, 184.07, 202.83, 229.6, 263.73, 259.53000000000003, 256.10999999999996, 244.55, 246.7, 284.31000000000006, 243.37, 240.26000000000002, 185.68000000000004, 206.63, 191.23000000000002, 188.47, 231.62, 237.51, 233.33999999999997, 236.87, 193.67999999999998, 188.0, 180.37, 223.07000000000002, 297.11, 327.41, 223.92000000000002, 254.36000000000004, 253.80999999999997, 246.95999999999998, 233.71, 172.42000000000002, 184.66, 184.91, 189.77999999999997, 221.87000000000003, 212.06, 216.77, 213.24, 221.87999999999997, 208.0, 253.62, 317.98, 275.42, 250.42, 193.57, 211.03999999999996, 185.92999999999998, 190.76, 195.34, 189.73, 190.45, 187.53000000000003, 174.86, 168.04999999999998, 158.64, 160.30999999999997, 169.33, 197.64000000000001, 203.59999999999997, 221.11999999999998, 142.92, 182.97000000000003, 185.23, 110.49000000000001, 113.41999999999999, 115.07999999999998, 106.88999999999999, 116.19999999999997, 125.68, 106.62, 107.85000000000001, 120.33000000000001, 139.08, 130.18, 133.35000000000002, 111.24, 84.58, 91.19999999999999, 97.89, 94.05, 104.22999999999999, 99.65, 117.14, 129.97, 126.53, 107.62, 130.20000000000002, 118.22, 100.57, 85.97, 103.89999999999999, 103.58999999999999, 111.29, 134.35999999999999, 124.19, 103.04, 108.73, 115.01, 92.61999999999999, 120.32999999999998, 150.64999999999998, 316.64, 348.83000000000004, 375.71, 315.19000000000005, 247.36, 361.69, 317.9, 293.52, 264.73, 293.78, 357.85, 320.49, 369.47, 372.29, 428.45000000000005, 314.3399999999999, 338.68000000000006, 263.91, 242.49, 302.56000000000006, 315.74999999999994, 282.37, 342.13, 438.26, 399.33000000000004, 367.59000000000003, 284.61999999999995, 218.35999999999999, 269.5, 244.42999999999998, 208.63, 196.80000000000004, 209.04, 262.96000000000004, 296.81, 260.88, 274.17, 248.91999999999996, 207.17000000000002, 248.53, 235.29000000000002, 328.29999999999995, 456.67, 335.12, 339.68999999999994, 319.0, 302.52000000000004, 286.11, 274.93999999999994, 262.49999999999994, 280.59, 289.85, 313.77, 289.06, 267.15000000000003, 387.25, 308.17, 264.84, 350.37000000000006, 300.91, 218.33999999999997, 227.31000000000003, 262.73, 218.26999999999998, 239.09000000000006, 225.12, 180.26000000000002, 160.73000000000002, 186.25, 151.58, 149.06999999999996, 201.82999999999998, 203.9, 256.77000000000004, 255.67999999999998, 209.04, 193.59999999999997, 235.04000000000002, 213.94, 258.37999999999994, 207.94000000000003, 213.94, 193.13000000000002, 134.31, 108.71000000000001, 101.7, 82.37, 228.20000000000005, 228.20000000000005, 228.20000000000005, 228.20000000000005, 228.20000000000005, 228.20000000000005, 228.20000000000005, 228.20000000000005, 228.20000000000005, 168.31, 170.08999999999997, 170.15000000000003, 162.32000000000002, 174.45999999999998, 194.92000000000002, 161.3, 208.39, 167.23000000000002, 217.57, 223.89, 220.70000000000002, 205.3, 234.23, 194.17, 193.60999999999999, 212.08, 196.39000000000001, 198.95999999999998, 211.33, 153.67000000000002, 136.87, 259.45000000000005, 179.20000000000002, 174.25, 168.31, 187.09000000000003, 294.84, 350.58, 307.34999999999997, 364.23, 318.9100000000001, 290.06999999999994, 259.84999999999997, 265.94, 278.06, 316.09000000000003, 566.02, 534.4, 477.17999999999995, 459.31000000000006, 409.74, 411.85, 350.03000000000003, 423.32, 465.27000000000004, 415.37999999999994, 353.71000000000004, 245.7, 236.60000000000002, 323.08, 362.78999999999996, 342.2, 298.14, 272.37, 288.77000000000004, 268.99, 524.11, 333.02, 301.34999999999997, 350.34999999999997, 269.62, 235.08999999999997, 271.01, 334.09, 429.74, 417.31000000000006, 405.76000000000005, 429.59999999999997, 374.59000000000003, 288.35, 345.42999999999995, 423.81999999999994, 434.4700000000001, 445.62, 346.29, 438.0000000000001, 372.51, 375.84999999999997, 203.99, 259.62, 271.5, 303.52, 278.84000000000003, 273.5, 294.76, 289.47999999999996, 249.25, 230.69999999999996, 219.04999999999998, 207.03999999999996, 241.76999999999998, 250.80999999999997, 191.88, 178.93, 192.85, 228.20000000000005, 228.20000000000005, 228.20000000000005, 228.20000000000005, 358.7800000000001, 310.69, 267.2900000000001, 228.20000000000005, 228.20000000000005, 228.20000000000005, 228.20000000000005, 365.51, 327.03000000000003, 269.78999999999996, 387.57000000000005, 290.45000000000005, 295.51000000000005, 283.65, 344.78999999999996, 333.45000000000005, 389.58, 378.21999999999997, 345.02000000000004, 279.83000000000004, 452.03999999999996, 432.0, 616.8999999999999, 900.99, 478.02, 406.56999999999994, 378.2799999999999, 325.2, 357.71999999999997, 310.7099999999999, 254.0, 369.28, 296.34999999999997, 227.54000000000002, 315.23999999999995, 159.14999999999998, 134.95000000000002, 172.13, 150.06, 206.36999999999998, 110.5, 152.35, 171.30999999999997, 159.65, 205.78999999999996, 369.11999999999995, 271.29, 269.97, 271.9, 226.51999999999995, 178.76999999999998, 187.73, 163.59, 134.51, 156.96, 238.00999999999996, 325.33000000000004, 271.62, 183.94, 204.82999999999998, 180.04, 227.08999999999997, 290.85999999999996, 233.89000000000001, 295.92999999999995, 346.31999999999994, 236.84000000000003, 171.93, 181.69, 279.67999999999995, 280.21, 307.01, 255.96, 195.77999999999997, 170.61, 193.52, 235.12, 198.95999999999998, 262.64, 290.56, 192.35000000000002, 238.12, 277.34999999999997, 229.04999999999998, 258.33, 269.34999999999997, 269.87, 233.16000000000003, 200.07000000000002, 195.88, 193.76, 219.54, 190.60000000000002, 240.14, 329.09, 237.68999999999997, 145.21, 186.99, 193.2, 186.27, 207.19000000000003, 252.4, 295.45, 269.72, 192.52999999999997, 200.58, 229.56000000000003, 236.48, 266.05, 188.28, 145.88000000000002, 150.29, 195.79, 153.24, 211.99999999999997, 213.30999999999997, 169.35999999999999, 168.05999999999997, 128.67, 152.70000000000002, 200.67000000000002, 212.13, 199.55, 209.52, 215.54000000000002, 201.32000000000002, 144.34, 126.52, 120.97, 115.02, 112.04999999999998, 112.6, 75.74, 118.86999999999999, 109.18, 117.85999999999997, 99.03, 95.15999999999998, 87.05999999999999, 95.78999999999999, 108.08, 133.92999999999998, 118.47999999999999, 107.04, 97.38, 106.52, 114.30999999999997, 111.51, 115.80000000000001, 126.24, 148.32000000000002, 129.4, 122.98, 98.38, 78.3, 87.96, 118.96, 104.35, 111.22, 114.96, 128.46, 88.55, 84.05, 111.11999999999999, 130.28, 134.83, 111.93999999999998, 156.82999999999998, 172.15, 176.39, 127.14999999999999, 128.22, 160.78, 211.86, 219.91, 219.52, 231.44000000000003, 231.57000000000002, 303.91, 431.57000000000005, 202.32000000000002, 163.9, 166.94999999999996, 127.57000000000001, 153.75, 209.72, 217.18, 231.61, 248.41000000000003, 296.56, 267.06999999999994, 242.98000000000002, 231.28, 218.75000000000003, 207.09, 193.18, 178.8, 168.45000000000002, 148.34000000000003, 176.48, 184.39, 184.19, 196.54999999999998, 174.89000000000001, 151.22000000000003, 143.51, 168.6, 193.65, 206.60000000000002, 236.59, 248.23000000000005, 239.54999999999998, 173.88000000000002, 185.72, 240.07, 283.44, 240.04999999999998, 321.79, 223.15, 214.60999999999999, 241.77, 208.47, 171.52, 187.76999999999995, 155.81000000000003, 212.60999999999999, 143.93, 180.34, 220.08999999999997, 185.7, 145.41, 130.13, 165.27, 165.20000000000002, 190.17, 191.22000000000003, 129.54, 141.99, 170.8, 178.88, 165.57000000000002, 117.86999999999999, 242.07999999999998, 123.46000000000001, 137.82, 114.66, 119.66999999999999, 219.49999999999997, 122.62, 113.24, 96.55000000000001, 114.28000000000002, 94.05, 103.97999999999999, 212.30000000000004, 281.36999999999995, 299.46, 120.25999999999999, 280.29, 285.22999999999996, 385.41, 271.56000000000006, 209.34, 240.08, 375.25999999999993, 289.68, 243.99, 209.5, 196.05000000000004, 204.07999999999998, 195.56000000000003, 192.4, 203.79000000000002, 185.24000000000004, 188.02, 178.69000000000003, 166.42000000000002, 175.35000000000002, 183.44000000000003, 180.83999999999997, 168.0, 171.72000000000003, 178.43, 171.9, 162.04, 164.65, 173.31, 153.8, 1157.1999999999998, 919.63, 857.9300000000002, 609.8599999999999, 602.21, 456.7799999999999, 420.06999999999994, 337.12, 496.95000000000005, 606.0, 847.8199999999999, 805.14, 427.05, 464.9, 506.00000000000006, 418.88999999999993, 508.64000000000004, 441.47, 526.47, 816.1999999999999, 736.1199999999999, 333.30000000000007, 380.42, 619.48, 781.8099999999998, 869.48, 395.41999999999996, 373.15999999999997, 424.57, 430.11, 511.53, 491.98999999999995, 599.0799999999999, 847.69, 609.2900000000001, 507.07, 655.09, 562.3, 586.77, 704.5400000000001, 775.9399999999999, 668.77, 408.11999999999995, 358.43000000000006, 395.5100000000001, 580.7099999999999, 697.05, 569.18, 730.59, 449.96, 243.59000000000003, 342.93, 473.21, 374.88, 519.61, 630.7800000000001, 471.05, 355.70000000000005, 282.74999999999994, 269.73999999999995, 544.94, 482.33000000000004, 461.69, 205.3, 166.26000000000002, 244.02999999999997, 389.46999999999997, 307.77, 351.50999999999993, 266.25, 346.57, 428.81000000000006, 241.67999999999998, 331.33, 344.95, 381.58000000000004, 394.01000000000005, 465.78, 463.99, 436.65000000000003, 321.25000000000006, 248.92000000000002, 258.04, 197.78000000000003, 198.77000000000004, 139.85, 126.87, 149.60000000000002, 165.96, 174.78, 174.9, 157.2, 164.89000000000001, 195.81, 232.81, 260.11, 198.42, 176.16, 184.96999999999997, 259.34000000000003, 255.37000000000003, 196.66, 276.53999999999996, 290.11, 337.55, 354.8, 184.10999999999999, 200.4, 190.67, 261.19, 203.10999999999996, 279.23, 270.63, 299.47, 196.51000000000002, 233.35999999999999, 150.35999999999999, 199.27, 255.29, 250.21, 290.82, 493.18, 228.20000000000005, 481.03999999999996, 510.84000000000003, 514.3600000000001, 582.02, 546.15, 359.15000000000003, 271.40000000000003, 269.84, 263.54, 252.77, 250.08999999999997, 264.43000000000006, 255.89000000000001, 191.65999999999997, 278.55, 347.09, 325.97999999999996, 311.82, 354.94, 350.8, 372.44, 310.86, 260.95, 277.95, 284.05999999999995, 275.09, 337.75000000000006, 280.95, 284.20000000000005, 258.78, 230.50999999999996, 248.70999999999998, 242.58, 262.83, 245.92000000000002, 250.04999999999998, 214.60999999999999, 210.56, 212.42000000000002, 189.60000000000002, 110.32000000000001, 127.69, 110.77999999999999, 78.42, 95.32, 89.59, 106.29, 104.68000000000002, 68.21, 90.70000000000002, 104.64000000000001, 119.25999999999998, 122.66999999999999, 140.36999999999998, 147.17000000000002, 130.94, 109.89000000000001, 111.79999999999998, 74.79999999999998, 80.78999999999999, 89.27000000000001, 62.68, 76.17999999999999, 100.36, 102.07000000000002, 228.20000000000005, 83.39, 82.87, 87.2, 99.83000000000001, 88.36, 82.97000000000001, 68.24, 50.78999999999999, 53.49, 76.46999999999998, 79.17000000000002, 63.96000000000001, 66.25000000000001, 62.57999999999999, 86.37000000000003, 90.98, 64.62, 65.97999999999999, 70.51, 65.51, 77.76, 61.0, 292.14, 179.7, 201.5, 100.33000000000001, 114.62999999999998, 153.63000000000002, 129.24, 131.17000000000002, 114.56, 130.96, 113.77, 869.8000000000002, 677.6800000000002, 576.1700000000001, 518.4, 509.18, 325.21, 340.70000000000005, 228.42, 317.55, 389.0199999999999, 615.44, 544.5500000000002, 269.35999999999996, 349.2, 400.03999999999996, 294.10999999999996, 379.98, 313.86000000000007, 324.85, 481.19, 526.7299999999999, 229.57999999999998, 217.07999999999998, 405.81, 543.59, 499.08, 343.34999999999997, 219.89999999999998, 278.98999999999995, 282.73, 402.23, 284.91, 406.97999999999996, 466.6799999999999, 475.59000000000003, 336.84999999999997, 521.2500000000001, 396.83000000000004, 393.09999999999997, 516.0100000000001, 557.27, 497.50999999999993, 244.66000000000003, 252.18999999999997, 218.2, 365.61000000000007, 462.04, 359.16, 406.92999999999995, 317.24, 188.95, 228.95999999999998, 349.59000000000003, 274.69, 370.6, 486.54999999999995, 332.20000000000005, 273.30999999999995, 226.92999999999998, 168.04999999999998, 365.83, 439.71999999999997, 398.51, 189.94, 152.10999999999999, 208.56, 304.53, 261.61999999999995, 306.65999999999997, 235.8, 291.34999999999997, 350.87, 227.0, 284.46000000000004, 325.95, 368.13, 418.1399999999999, 422.83000000000004, 390.63, 315.66, 359.59000000000003, 252.21, 273.12000000000006, 186.09, 183.54000000000002, 140.39, 133.19000000000003, 155.18, 158.92000000000002, 157.72, 154.64, 168.71, 141.29, 159.05, 209.57, 215.41, 180.32, 167.11999999999998, 161.06, 220.58000000000004, 234.66000000000003, 169.34999999999997, 245.39000000000001, 261.21999999999997, 323.61, 295.08, 173.19, 178.18000000000004, 169.54000000000002, 229.1, 173.01, 227.62, 236.51, 228.33, 158.3, 250.06999999999996, 135.17999999999998, 156.76000000000002, 229.07, 236.07, 228.72, 238.78999999999996, 251.04, 294.87999999999994, 407.54999999999995, 309.6600000000001, 633.03, 602.3199999999999, 506.27000000000004, 578.7900000000001, 648.4900000000001, 658.0099999999999, 643.9899999999999, 717.64, 1169.09, 642.43, 570.16, 652.8399999999999, 570.67, 253.28, 388.65999999999997, 548.63, 516.51, 618.6999999999999, 701.85, 605.1900000000002, 656.8100000000001, 640.58, 807.06, 609.84, 242.19000000000003, 423.08, 449.18, 548.89, 644.0199999999999, 701.52, 596.91, 555.0400000000001, 588.14, 449.83, 506.94, 617.5, 639.03, 717.8, 645.33, 658.84, 696.5600000000001, 739.9799999999999, 659.53, 305.73999999999995, 521.91, 459.93999999999994, 560.87, 549.83, 393.71999999999997, 320.02, 127.96000000000001, 216.22000000000003, 399.99, 524.66, 581.84, 470.21000000000004, 308.53000000000003, 163.34, 205.01, 234.29000000000002, 358.48, 322.16, 352.17999999999995, 389.3, 407.09999999999997, 440.39, 372.7300000000001, 408.90999999999997, 291.56, 312.54, 422.02, 488.08000000000004, 484.25, 404.39000000000004, 372.12, 328.52, 301.59999999999997, 309.26000000000005, 341.11, 323.80999999999995, 365.88, 388.90000000000003, 266.27, 249.34999999999997, 459.86000000000007, 421.66, 416.87, 366.57000000000005, 288.50000000000006, 295.79, 244.90999999999997, 333.77, 298.97, 188.14000000000001, 158.99, 180.39, 264.29, 334.16999999999996, 338.3, 297.46000000000004, 135.85999999999999, 95.53, 82.53, 123.05, 85.63, 68.58000000000001, 83.72, 98.00999999999999, 54.87, 42.36, 65.13, 99.27000000000001, 84.41000000000001, 88.33999999999999, 79.64999999999999, 176.69, 157.83, 157.25, 242.41, 263.82, 244.31, 214.61, 180.23, 213.20000000000005, 280.75, 315.56, 309.9, 311.64, 306.93000000000006, 202.29, 158.2, 164.60000000000002, 186.98000000000002, 181.76000000000002, 205.61, 211.06, 207.79999999999998, 277.44, 316.20000000000005, 330.97999999999996, 317.91, 283.46999999999997, 245.84, 298.18, 324.66999999999996, 307.0, 251.64, 209.97, 202.66, 182.78, 205.39999999999998, 216.42000000000002, 194.82999999999998, 204.97, 189.36, 191.48, 203.51000000000002, 255.26, 300.22, 384.45, 371.43, 320.86, 322.49, 284.37999999999994, 281.57, 220.38999999999996, 181.13, 182.60000000000002, 160.45, 185.01000000000002, 231.21000000000004, 286.0, 229.77, 218.96, 204.34999999999997, 207.08, 225.23, 217.92, 239.03, 293.22, 191.51999999999998, 207.78000000000003, 168.09, 171.70000000000002, 146.9, 178.43, 196.44000000000003, 173.88, 191.48999999999998, 187.94000000000003, 176.83, 171.65999999999997, 174.35999999999999, 224.16, 169.17000000000002, 207.76999999999998, 182.27, 157.51, 130.31, 131.4, 131.15000000000003, 142.11, 138.14, 163.3, 145.37, 165.66000000000003, 180.1, 176.72, 153.48999999999998, 159.01, 133.46, 146.57000000000002, 147.39000000000001, 141.22, 182.40999999999997, 134.18, 139.95999999999998, 148.26000000000002, 154.20999999999998, 170.65, 152.42000000000002, 157.24, 174.6, 165.13, 159.63, 151.04, 148.11, 141.57999999999998, 155.54000000000002, 144.2, 167.23999999999998, 148.66, 137.17000000000002, 132.68999999999997, 110.35, 134.76, 130.12, 245.1, 298.86999999999995, 339.32, 410.63, 346.63, 263.68, 282.63, 199.66, 257.28000000000003, 372.59999999999997, 379.95000000000005, 343.27000000000004, 236.05, 227.0, 252.05999999999997, 335.52000000000004, 309.69, 319.65, 377.0499999999999, 246.18, 272.93, 250.20000000000002, 278.68, 427.8, 484.47999999999996, 233.27000000000004, 251.26000000000002, 193.92, 237.98, 253.73000000000002, 293.09000000000003, 287.90999999999997, 270.75, 260.96999999999997, 282.25, 309.66999999999996, 273.58, 262.87, 349.63, 451.99, 395.45, 417.47, 491.24, 322.71000000000004, 348.61, 425.25, 537.26, 571.1400000000001, 463.8, 252.92, 328.9, 241.11, 249.81000000000003, 274.39, 343.72999999999996, 275.17, 297.1000000000001, 277.08, 275.77000000000004, 196.35000000000002, 238.06000000000003, 291.28000000000003, 250.73999999999998, 188.78, 208.23, 269.89, 222.73000000000002, 240.06, 182.12, 186.27, 294.40000000000003, 496.68000000000006, 346.39000000000004, 252.16000000000003, 244.98000000000002, 280.0, 319.37999999999994, 304.7, 236.54999999999998, 191.26000000000002, 159.45999999999998, 175.02999999999997, 181.31, 139.98000000000002, 94.04999999999998, 79.25, 92.86, 93.58, 96.72999999999999, 134.48999999999998, 135.88, 106.74000000000002, 95.71, 128.61, 134.41, 161.2, 151.97999999999996, 119.78, 123.72000000000001, 139.32999999999998, 168.7, 155.35999999999999, 213.22, 222.55, 193.0, 167.38999999999996, 240.56, 246.75000000000003, 151.21, 125.36000000000001, 103.42, 122.96, 120.64, 143.19, 144.47, 167.23, 124.14, 127.71999999999998, 144.14, 298.22999999999996, 206.35, 251.51, 196.94000000000003, 240.99, 192.50000000000003, 265.69000000000005, 332.1900000000001, 398.00000000000006, 295.28000000000003, 226.41000000000003, 223.67, 227.04, 294.44, 367.91, 410.66, 394.19000000000005, 318.07000000000005, 291.86000000000007, 238.9, 205.70000000000002, 293.16, 384.34000000000003, 323.4, 231.44000000000003, 256.58, 250.8, 240.71, 441.5299999999999, 338.84, 327.30000000000007, 242.03, 259.79, 215.55, 250.09, 326.64000000000004, 303.44000000000005, 236.28, 315.34000000000003, 410.39, 228.20000000000005, 325.53000000000003, 305.39000000000004, 304.66, 345.49, 419.7200000000001, 256.14000000000004, 260.55, 318.12, 331.06, 471.02000000000004, 478.97, 411.33, 374.12, 314.88000000000005, 266.68, 239.94000000000005, 250.86, 243.78000000000003, 290.62000000000006, 343.07, 364.15999999999997, 353.13, 443.16999999999996, 226.03000000000003, 201.75, 221.9, 198.94000000000003, 222.83000000000004, 222.66000000000005, 224.92000000000002, 223.94000000000003, 219.54000000000002, 223.83, 223.45000000000005, 227.27000000000004, 390.36, 234.26000000000002, 173.61, 197.14, 204.5, 271.28999999999996, 246.58, 244.37000000000003, 252.29000000000002, 221.95999999999998, 166.70000000000002, 193.87, 194.02000000000004, 164.56, 173.90999999999997, 209.33, 242.32000000000002, 264.43, 224.61, 262.95, 232.54999999999995, 223.62000000000003, 270.2899999999999, 243.22, 209.05000000000004, 275.22, 269.85, 252.44, 249.46, 246.10000000000002, 235.78, 205.71, 229.78, 246.6, 210.06000000000003, 205.83, 174.85000000000002, 180.0, 211.21, 181.4, 171.55, 185.32000000000005, 185.65, 171.08000000000004, 187.36, 224.02, 244.36999999999998, 396.24, 350.82, 400.5, 519.9300000000001, 533.0300000000001, 517.81, 493.03999999999996, 481.09000000000003, 466.08000000000004, 496.52, 381.5799999999999, 283.60999999999996, 317.76, 306.81999999999994, 302.93, 347.25, 339.78000000000003, 351.00000000000006, 288.3, 318.76, 312.12, 346.91999999999996, 339.28, 328.15, 342.92, 298.19, 363.68, 330.99999999999994, 477.89, 308.6, 309.15000000000003, 290.47999999999996, 237.79999999999995, 261.45, 217.50999999999996, 263.12, 326.73, 326.42, 316.88, 264.71, 271.02000000000004, 313.43, 309.12, 328.82, 528.97, 500.9699999999999, 459.87, 390.9100000000001, 416.46999999999997, 403.8500000000001, 351.22999999999996, 372.31, 380.09, 370.31, 443.77000000000004, 463.78, 446.99, 401.31, 357.13, 354.08, 241.43, 317.91, 463.11, 555.7299999999999, 366.53999999999996, 355.33, 349.04, 322.83, 349.87, 352.61999999999995, 314.55, 214.48, 193.63, 183.32, 172.01, 175.49, 185.79999999999998, 207.79999999999998, 197.10999999999999, 188.51, 194.36999999999998, 201.22000000000003, 236.09, 237.44, 217.61999999999998, 233.75, 228.58, 219.04999999999998, 239.26999999999998, 227.13000000000002, 206.54000000000002, 158.17000000000002, 125.62, 112.45, 133.68000000000004, 165.32, 141.67000000000002, 137.42999999999998, 126.52000000000001, 155.14999999999998, 129.61999999999998, 565.6800000000001, 296.83, 355.71, 549.01, 572.8, 463.80999999999995, 575.1500000000001, 457.05999999999995, 417.04999999999995, 388.28000000000003, 436.61, 558.19, 907.67, 1014.37, 790.28, 708.98, 563.1, 481.3399999999999, 332.31, 479.26000000000005, 640.83, 528.52, 489.31, 401.84999999999997, 630.07, 605.3100000000001, 574.45, 303.38, 321.32, 456.39, 438.46, 504.8800000000001, 445.47, 528.68, 561.37, 441.02000000000004, 448.25000000000006, 513.36, 435.16999999999996, 504.72, 680.4399999999999, 736.8400000000001, 634.72, 672.98, 488.84999999999997, 602.5200000000001, 581.6000000000001, 495.25, 395.34999999999997, 294.68, 504.76000000000005, 577.72, 489.72, 572.88, 411.90999999999997, 284.64, 293.68, 377.22, 439.38, 527.41, 509.3999999999999, 360.03000000000003, 242.49, 230.71, 234.27999999999997, 185.01999999999998, 236.62, 303.68000000000006, 315.04, 266.71, 279.44000000000005, 294.9799999999999, 247.64, 170.05999999999997, 306.95000000000005, 311.86999999999995, 373.59000000000003, 389.64, 232.97000000000003, 235.13, 112.47999999999999, 155.53, 144.56000000000003, 194.39, 157.26000000000002, 191.15999999999997, 186.77, 166.37, 177.15000000000003, 188.54, 183.43999999999997, 156.95, 169.54000000000002, 219.21, 176.35999999999999, 165.65, 163.56999999999996, 122.25000000000001, 114.32, 99.82, 99.15, 123.50999999999999, 111.30000000000001, 110.84000000000002, 116.69, 138.66, 104.59, 96.95, 83.67999999999999, 81.32000000000001, 81.96000000000001, 86.5, 79.66, 72.03, 83.02, 80.96, 83.55, 66.61, 90.18999999999998, 82.19999999999999, 84.9, 526.5799999999999, 426.23999999999995, 401.52, 359.17999999999995, 449.7300000000001, 501.39, 474.59000000000003, 351.5799999999999, 351.12999999999994, 512.1999999999999, 622.96, 476.87, 495.91, 552.74, 329.73999999999995, 315.17, 313.40999999999997, 296.24, 340.31, 479.03000000000003, 477.21999999999997, 291.31, 319.97, 407.6, 431.6600000000001, 453.78, 383.5900000000001, 302.53, 246.42000000000002, 286.46, 319.39, 309.41, 374.59, 461.69000000000005, 334.0, 330.9, 356.14, 367.01, 407.38000000000005, 384.96, 385.65, 358.37, 337.28000000000003, 271.19999999999993, 275.61, 346.3, 346.12, 284.31, 380.02000000000004, 303.56, 218.79, 215.99, 307.24, 283.05, 202.6, 218.18000000000004, 229.87, 262.43, 268.49000000000007, 248.47, 263.32, 268.15, 289.78, 257.78000000000003, 207.44000000000003, 194.31, 226.33000000000004, 213.51000000000002, 261.75, 237.34, 237.87, 206.24000000000004, 224.74, 235.64000000000001, 261.3, 313.39000000000004, 303.33000000000004, 315.6700000000001, 351.81, 271.31, 235.54000000000002, 243.47000000000003, 276.5, 259.64, 209.26000000000005, 210.57999999999998, 202.89999999999998, 197.2, 205.97000000000003, 211.85999999999999, 245.92000000000002, 212.95000000000002, 201.85999999999999, 202.60000000000002, 220.20000000000002, 210.43, 207.26, 217.51999999999998, 208.88, 223.37, 240.66000000000003, 231.72, 232.93999999999997, 246.13, 212.45999999999998, 233.11000000000004, 237.38000000000005, 235.86999999999998, 236.95000000000002, 219.6, 213.9, 225.52, 248.82999999999998, 236.24999999999997, 225.91000000000003, 203.09, 187.56000000000003, 201.17, 203.35000000000002, 210.77, 220.19000000000003, 409.22, 386.25000000000006, 375.74000000000007, 406.6700000000001, 358.56999999999994, 448.81000000000006, 308.8299999999999, 313.29999999999995, 355.16, 410.56999999999994, 509.32, 309.07, 247.64999999999998, 236.4, 230.13000000000002, 308.0, 428.94000000000005, 503.81, 485.06000000000006, 544.0, 499.55999999999995, 469.59999999999997, 413.53, 480.28, 517.84, 301.03, 221.58999999999997, 204.57999999999998, 339.02, 389.82, 414.67, 462.69, 412.93999999999994, 363.92, 401.88999999999993, 302.5, 347.54999999999995, 368.60999999999996, 324.02000000000004, 310.65000000000003, 352.84000000000003, 382.98, 431.95000000000005, 391.80000000000007, 391.23, 401.95, 528.7099999999999, 517.87, 558.9000000000001, 402.38, 289.84, 408.2200000000001, 486.4400000000001, 477.51, 396.89000000000004, 330.17, 392.0199999999999, 555.67, 525.9599999999999, 305.47999999999996, 371.33000000000004, 296.37999999999994, 277.02, 248.5, 223.97, 249.15999999999997, 271.51, 283.19, 265.51, 171.19, 199.75000000000003, 233.43, 266.19, 411.96999999999997, 464.6000000000001, 557.28, 404.10999999999996, 253.45999999999998, 221.82, 187.31, 129.92000000000004, 144.62, 188.72, 164.51000000000002, 149.75, 139.77, 145.73999999999998, 132.62999999999997, 131.97, 136.63, 124.28999999999999, 148.04000000000002, 149.05999999999995, 146.45999999999998, 147.29000000000002, 116.86000000000001, 148.78000000000003, 177.65, 173.63, 157.24, 159.02999999999997, 159.92999999999998, 153.44, 165.11, 150.03, 125.62, 127.28999999999999, 122.92, 134.0, 163.69, 128.57, 125.38, 132.54999999999998, 122.24000000000001, 110.85, 127.12999999999998, 110.97, 119.24, 138.84, 124.33999999999999, 104.21999999999998, 671.46, 522.3199999999999, 360.8900000000001, 317.4, 428.05, 611.26, 616.05, 383.17, 351.11, 372.77000000000004, 410.74999999999994, 491.4699999999999, 537.75, 613.64, 572.03, 515.08, 390.74999999999994, 379.80999999999995, 394.84999999999997, 603.02, 559.1099999999999, 496.29, 396.29, 557.08, 643.4499999999998, 668.6999999999999, 680.32, 573.63, 553.19, 386.67, 446.97999999999996, 391.05000000000007, 453.64, 689.43, 554.61, 627.92, 718.1899999999999, 639.38, 562.33, 539.9, 559.07, 455.9699999999999, 558.04, 586.9499999999999, 468.08, 591.76, 602.93, 514.4599999999999, 579.0600000000001, 625.02, 490.48999999999995, 361.86, 452.88, 349.8299999999999, 296.8, 319.85, 390.40999999999997, 514.3, 607.6199999999999, 571.19, 521.43, 590.8, 551.9100000000001, 463.28000000000003, 322.86, 392.28, 466.34999999999997, 406.81, 521.51, 407.19, 428.53999999999996, 396.41, 257.1, 290.22, 352.64, 401.1, 438.67, 431.65000000000003, 410.81000000000006, 578.07, 395.88000000000005, 314.4, 383.25, 377.87, 355.84, 364.31, 283.36, 211.12, 228.17000000000002, 334.48, 363.95, 335.62000000000006, 284.79, 317.05, 333.63000000000005, 375.2300000000001, 322.17999999999995, 380.96000000000004, 358.65, 313.66, 378.84000000000003, 362.95000000000005, 311.18, 316.85, 299.94, 276.26, 290.73, 299.85, 290.27, 264.10999999999996, 226.83999999999997, 218.92, 256.68, 247.43, 231.89000000000001, 218.07000000000002, 229.57000000000002, 200.10999999999999, 230.30999999999997, 247.19000000000003, 272.05999999999995, 125.16999999999999, 113.57000000000001, 160.04, 121.18, 119.67, 120.75, 116.80999999999999, 129.61999999999998, 93.81, 61.50999999999999, 48.75, 103.86999999999999, 92.29, 97.33, 60.28999999999999, 86.72999999999999, 85.75, 61.080000000000005, 76.40999999999998, 57.019999999999996, 50.769999999999996, 50.98, 94.08999999999999, 105.58999999999999, 108.28, 113.21000000000001, 150.62, 148.88999999999996, 107.70000000000002, 104.10999999999999, 116.66, 124.5, 154.28, 121.72000000000001, 138.27, 108.87, 151.01000000000002, 125.05000000000001, 69.13000000000001, 119.35000000000001, 109.25999999999999, 104.10000000000001, 122.99, 137.0, 197.1, 155.12999999999997, 187.93000000000004, 181.35999999999999, 221.13000000000002, 165.30000000000004, 145.76999999999998, 228.20000000000005, 228.20000000000005, 82.25999999999999, 63.78, 55.71, 52.960000000000015, 49.12, 52.62, 72.13999999999999, 91.3, 74.41000000000001, 93.42999999999999, 68.44, 71.41999999999999, 69.86, 64.35000000000001, 79.9, 108.56000000000002, 70.71000000000001, 83.80999999999999, 101.49, 136.97000000000003, 76.50999999999999, 72.45, 105.13, 125.59999999999998, 134.94000000000003, 134.08, 147.46, 59.529999999999994, 58.26, 76.96000000000001, 120.52, 107.44, 116.88, 101.25999999999999, 95.36999999999998, 149.95, 164.23999999999998, 135.20000000000002, 117.58000000000001, 107.82000000000001, 81.51000000000002, 202.97000000000003, 228.20000000000005, 228.20000000000005, 228.20000000000005, 228.20000000000005, 202.97000000000003, 202.97000000000003, 202.97000000000003, 202.97000000000003, 202.97000000000003, 202.97000000000003, 202.97000000000003, 202.97000000000003, 202.97000000000003, 202.97000000000003, 202.97000000000003, 202.97000000000003, 202.97000000000003, 202.97000000000003, 202.97000000000003, 202.97000000000003, 202.97000000000003, 202.97000000000003, 202.97000000000003, 202.97000000000003, 28.669999999999998, 23.489999999999995, 422.87, 415.96000000000004, 251.19999999999996, 334.27000000000004, 435.83000000000004, 659.13, 419.14, 375.03, 375.71999999999997, 449.96000000000004, 478.98, 593.57, 821.0400000000001, 528.0700000000002, 443.62000000000006, 472.24999999999994, 437.60999999999996, 508.61999999999995, 416.94, 439.88000000000005, 598.69, 559.4, 825.4200000000001, 743.67, 600.6, 565.1500000000001, 324.21000000000004, 375.98, 307.58, 356.04, 340.41, 295.56, 223.46000000000004, 231.88000000000002, 230.31, 330.93, 141.24999999999997, 132.27, 98.64, 351.7300000000001, 393.2100000000001, 360.81, 403.45000000000005, 416.17999999999995, 367.16, 444.09000000000003, 456.26, 331.63, 308.84000000000003, 208.93000000000004, 122.49000000000001, 168.35000000000002, 219.37999999999997, 171.3, 101.63, 151.41, 210.26000000000005, 230.13000000000002, 238.83, 256.37, 276.7, 182.26, 164.07000000000002, 85.64999999999999, 306.54999999999995, 69.5, 93.45000000000002, 117.53, 106.52, 63.419999999999995, 85.53999999999999, 93.39999999999999, 67.61000000000001, 228.20000000000005, 228.20000000000005, 228.20000000000005, 133.6, 145.97000000000003, 404.61000000000007, 200.01999999999998, 141.37, 114.75, 186.87, 268.06, 374.31, 229.89000000000004, 234.41000000000003, 209.61999999999998, 156.32, 196.3, 288.47, 138.49999999999997, 222.43000000000004, 174.01, 148.31, 268.71000000000004, 172.29999999999998, 137.25000000000003, 128.99, 130.28000000000003, 185.33, 167.52, 204.94, 215.48000000000002, 168.62, 164.75999999999996, 127.04, 225.93, 168.29999999999995, 128.57999999999998, 154.36, 120.74, 112.94999999999999, 108.97999999999999, 94.06000000000002, 129.64, 133.44, 109.03999999999999, 142.01000000000002, 112.39000000000001, 180.55, 160.18, 181.18999999999997, 149.09999999999997, 126.92, 190.79000000000002, 175.35000000000002, 103.43, 157.12, 180.70000000000002, 169.14, 147.29999999999998, 190.45000000000002, 205.70999999999998, 220.18000000000004, 198.63, 176.71999999999997, 168.39999999999998, 156.41000000000003, 166.83, 146.27, 146.61, 149.92000000000002, 153.52999999999997, 162.29999999999998, 136.77, 146.27, 180.24999999999997, 214.75000000000003, 197.42, 196.29, 173.92999999999998, 145.79000000000002, 176.93, 149.14, 159.58, 145.51, 144.54, 159.13, 151.26999999999998, 306.09000000000003, 177.02, 158.57000000000002, 179.35999999999999, 170.78, 174.83, 187.8, 216.60999999999999, 174.5, 177.51999999999998, 197.98999999999995, 178.11999999999998, 191.79999999999995, 147.92000000000002, 172.67000000000002, 175.88000000000002, 168.74, 166.38000000000002, 186.94999999999996, 239.31999999999996, 141.84, 161.32999999999998, 160.23, 214.50000000000003, 194.65, 156.11999999999998, 136.13, 121.57999999999998, 125.27, 150.62000000000003, 136.76000000000002, 141.67000000000004, 136.81000000000003, 135.97, 122.17999999999998, 137.77, 153.91000000000003, 117.63000000000001, 125.76, 142.36, 132.92, 117.80000000000001, 116.28000000000002, 94.33, 102.84999999999998, 103.1, 110.15, 111.51, 92.69999999999999, 104.35, 101.72999999999999, 98.02, 112.19, 112.29999999999998, 115.00999999999999, 104.42999999999999, 82.24, 87.3, 87.72, 90.33, 88.74, 99.22, 91.27999999999999, 104.79, 99.98999999999998, 79.47999999999999, 70.55999999999999, 70.1, 60.980000000000004, 56.910000000000004, 70.10000000000001, 78.13999999999999, 78.81, 83.63, 81.92999999999999, 94.67, 109.76, 81.60000000000001, 104.41, 88.64999999999999, 104.41999999999999, 80.11]}],\n",
       "                        {\"legend\": {\"bgcolor\": \"#F5F6F9\", \"font\": {\"color\": \"#4D5663\"}}, \"paper_bgcolor\": \"#F5F6F9\", \"plot_bgcolor\": \"#F5F6F9\", \"template\": {\"data\": {\"bar\": [{\"error_x\": {\"color\": \"#2a3f5f\"}, \"error_y\": {\"color\": \"#2a3f5f\"}, \"marker\": {\"line\": {\"color\": \"#E5ECF6\", \"width\": 0.5}}, \"type\": \"bar\"}], \"barpolar\": [{\"marker\": {\"line\": {\"color\": \"#E5ECF6\", \"width\": 0.5}}, \"type\": \"barpolar\"}], \"carpet\": [{\"aaxis\": {\"endlinecolor\": \"#2a3f5f\", \"gridcolor\": \"white\", \"linecolor\": \"white\", \"minorgridcolor\": \"white\", \"startlinecolor\": \"#2a3f5f\"}, \"baxis\": {\"endlinecolor\": \"#2a3f5f\", \"gridcolor\": \"white\", \"linecolor\": \"white\", \"minorgridcolor\": \"white\", \"startlinecolor\": \"#2a3f5f\"}, \"type\": \"carpet\"}], \"choropleth\": [{\"colorbar\": {\"outlinewidth\": 0, \"ticks\": \"\"}, \"type\": \"choropleth\"}], \"contour\": [{\"colorbar\": {\"outlinewidth\": 0, \"ticks\": \"\"}, \"colorscale\": [[0.0, \"#0d0887\"], [0.1111111111111111, \"#46039f\"], [0.2222222222222222, \"#7201a8\"], [0.3333333333333333, \"#9c179e\"], [0.4444444444444444, \"#bd3786\"], [0.5555555555555556, \"#d8576b\"], [0.6666666666666666, \"#ed7953\"], [0.7777777777777778, \"#fb9f3a\"], [0.8888888888888888, \"#fdca26\"], [1.0, \"#f0f921\"]], \"type\": \"contour\"}], \"contourcarpet\": [{\"colorbar\": {\"outlinewidth\": 0, \"ticks\": \"\"}, \"type\": \"contourcarpet\"}], \"heatmap\": [{\"colorbar\": {\"outlinewidth\": 0, \"ticks\": \"\"}, \"colorscale\": [[0.0, \"#0d0887\"], [0.1111111111111111, \"#46039f\"], [0.2222222222222222, \"#7201a8\"], [0.3333333333333333, \"#9c179e\"], [0.4444444444444444, \"#bd3786\"], [0.5555555555555556, \"#d8576b\"], [0.6666666666666666, \"#ed7953\"], [0.7777777777777778, \"#fb9f3a\"], [0.8888888888888888, \"#fdca26\"], [1.0, \"#f0f921\"]], \"type\": \"heatmap\"}], \"heatmapgl\": [{\"colorbar\": {\"outlinewidth\": 0, \"ticks\": \"\"}, \"colorscale\": [[0.0, \"#0d0887\"], [0.1111111111111111, \"#46039f\"], [0.2222222222222222, \"#7201a8\"], [0.3333333333333333, \"#9c179e\"], [0.4444444444444444, \"#bd3786\"], [0.5555555555555556, \"#d8576b\"], [0.6666666666666666, \"#ed7953\"], [0.7777777777777778, \"#fb9f3a\"], [0.8888888888888888, \"#fdca26\"], [1.0, \"#f0f921\"]], \"type\": \"heatmapgl\"}], \"histogram\": [{\"marker\": {\"colorbar\": {\"outlinewidth\": 0, \"ticks\": \"\"}}, \"type\": \"histogram\"}], \"histogram2d\": [{\"colorbar\": {\"outlinewidth\": 0, \"ticks\": \"\"}, \"colorscale\": [[0.0, \"#0d0887\"], [0.1111111111111111, \"#46039f\"], [0.2222222222222222, \"#7201a8\"], [0.3333333333333333, \"#9c179e\"], [0.4444444444444444, \"#bd3786\"], [0.5555555555555556, \"#d8576b\"], [0.6666666666666666, \"#ed7953\"], [0.7777777777777778, \"#fb9f3a\"], [0.8888888888888888, \"#fdca26\"], [1.0, \"#f0f921\"]], \"type\": \"histogram2d\"}], \"histogram2dcontour\": [{\"colorbar\": {\"outlinewidth\": 0, \"ticks\": \"\"}, \"colorscale\": [[0.0, \"#0d0887\"], [0.1111111111111111, \"#46039f\"], [0.2222222222222222, \"#7201a8\"], [0.3333333333333333, \"#9c179e\"], [0.4444444444444444, \"#bd3786\"], [0.5555555555555556, \"#d8576b\"], [0.6666666666666666, \"#ed7953\"], [0.7777777777777778, \"#fb9f3a\"], [0.8888888888888888, \"#fdca26\"], [1.0, \"#f0f921\"]], \"type\": \"histogram2dcontour\"}], \"mesh3d\": [{\"colorbar\": {\"outlinewidth\": 0, \"ticks\": \"\"}, \"type\": \"mesh3d\"}], \"parcoords\": [{\"line\": {\"colorbar\": {\"outlinewidth\": 0, \"ticks\": \"\"}}, \"type\": \"parcoords\"}], \"pie\": [{\"automargin\": true, \"type\": \"pie\"}], \"scatter\": [{\"marker\": {\"colorbar\": {\"outlinewidth\": 0, \"ticks\": \"\"}}, \"type\": \"scatter\"}], \"scatter3d\": [{\"line\": {\"colorbar\": {\"outlinewidth\": 0, \"ticks\": \"\"}}, \"marker\": {\"colorbar\": {\"outlinewidth\": 0, \"ticks\": \"\"}}, \"type\": \"scatter3d\"}], \"scattercarpet\": [{\"marker\": {\"colorbar\": {\"outlinewidth\": 0, \"ticks\": \"\"}}, \"type\": \"scattercarpet\"}], \"scattergeo\": [{\"marker\": {\"colorbar\": {\"outlinewidth\": 0, \"ticks\": \"\"}}, \"type\": \"scattergeo\"}], \"scattergl\": [{\"marker\": {\"colorbar\": {\"outlinewidth\": 0, \"ticks\": \"\"}}, \"type\": \"scattergl\"}], \"scattermapbox\": [{\"marker\": {\"colorbar\": {\"outlinewidth\": 0, \"ticks\": \"\"}}, \"type\": \"scattermapbox\"}], \"scatterpolar\": [{\"marker\": {\"colorbar\": {\"outlinewidth\": 0, \"ticks\": \"\"}}, \"type\": \"scatterpolar\"}], \"scatterpolargl\": [{\"marker\": {\"colorbar\": {\"outlinewidth\": 0, \"ticks\": \"\"}}, \"type\": \"scatterpolargl\"}], \"scatterternary\": [{\"marker\": {\"colorbar\": {\"outlinewidth\": 0, \"ticks\": \"\"}}, \"type\": \"scatterternary\"}], \"surface\": [{\"colorbar\": {\"outlinewidth\": 0, \"ticks\": \"\"}, \"colorscale\": [[0.0, \"#0d0887\"], [0.1111111111111111, \"#46039f\"], [0.2222222222222222, \"#7201a8\"], [0.3333333333333333, \"#9c179e\"], [0.4444444444444444, \"#bd3786\"], [0.5555555555555556, \"#d8576b\"], [0.6666666666666666, \"#ed7953\"], [0.7777777777777778, \"#fb9f3a\"], [0.8888888888888888, \"#fdca26\"], [1.0, \"#f0f921\"]], \"type\": \"surface\"}], \"table\": [{\"cells\": {\"fill\": {\"color\": \"#EBF0F8\"}, \"line\": {\"color\": \"white\"}}, \"header\": {\"fill\": {\"color\": \"#C8D4E3\"}, \"line\": {\"color\": \"white\"}}, \"type\": \"table\"}]}, \"layout\": {\"annotationdefaults\": {\"arrowcolor\": \"#2a3f5f\", \"arrowhead\": 0, \"arrowwidth\": 1}, \"coloraxis\": {\"colorbar\": {\"outlinewidth\": 0, \"ticks\": \"\"}}, \"colorscale\": {\"diverging\": [[0, \"#8e0152\"], [0.1, \"#c51b7d\"], [0.2, \"#de77ae\"], [0.3, \"#f1b6da\"], [0.4, \"#fde0ef\"], [0.5, \"#f7f7f7\"], [0.6, \"#e6f5d0\"], [0.7, \"#b8e186\"], [0.8, \"#7fbc41\"], [0.9, \"#4d9221\"], [1, \"#276419\"]], \"sequential\": [[0.0, \"#0d0887\"], [0.1111111111111111, \"#46039f\"], [0.2222222222222222, \"#7201a8\"], [0.3333333333333333, \"#9c179e\"], [0.4444444444444444, \"#bd3786\"], [0.5555555555555556, \"#d8576b\"], [0.6666666666666666, \"#ed7953\"], [0.7777777777777778, \"#fb9f3a\"], [0.8888888888888888, \"#fdca26\"], [1.0, \"#f0f921\"]], \"sequentialminus\": [[0.0, \"#0d0887\"], [0.1111111111111111, \"#46039f\"], [0.2222222222222222, \"#7201a8\"], [0.3333333333333333, \"#9c179e\"], [0.4444444444444444, \"#bd3786\"], [0.5555555555555556, \"#d8576b\"], [0.6666666666666666, \"#ed7953\"], [0.7777777777777778, \"#fb9f3a\"], [0.8888888888888888, \"#fdca26\"], [1.0, \"#f0f921\"]]}, \"colorway\": [\"#636efa\", \"#EF553B\", \"#00cc96\", \"#ab63fa\", \"#FFA15A\", \"#19d3f3\", \"#FF6692\", \"#B6E880\", \"#FF97FF\", \"#FECB52\"], \"font\": {\"color\": \"#2a3f5f\"}, \"geo\": {\"bgcolor\": \"white\", \"lakecolor\": \"white\", \"landcolor\": \"#E5ECF6\", \"showlakes\": true, \"showland\": true, \"subunitcolor\": \"white\"}, \"hoverlabel\": {\"align\": \"left\"}, \"hovermode\": \"closest\", \"mapbox\": {\"style\": \"light\"}, \"paper_bgcolor\": \"white\", \"plot_bgcolor\": \"#E5ECF6\", \"polar\": {\"angularaxis\": {\"gridcolor\": \"white\", \"linecolor\": \"white\", \"ticks\": \"\"}, \"bgcolor\": \"#E5ECF6\", \"radialaxis\": {\"gridcolor\": \"white\", \"linecolor\": \"white\", \"ticks\": \"\"}}, \"scene\": {\"xaxis\": {\"backgroundcolor\": \"#E5ECF6\", \"gridcolor\": \"white\", \"gridwidth\": 2, \"linecolor\": \"white\", \"showbackground\": true, \"ticks\": \"\", \"zerolinecolor\": \"white\"}, \"yaxis\": {\"backgroundcolor\": \"#E5ECF6\", \"gridcolor\": \"white\", \"gridwidth\": 2, \"linecolor\": \"white\", \"showbackground\": true, \"ticks\": \"\", \"zerolinecolor\": \"white\"}, \"zaxis\": {\"backgroundcolor\": \"#E5ECF6\", \"gridcolor\": \"white\", \"gridwidth\": 2, \"linecolor\": \"white\", \"showbackground\": true, \"ticks\": \"\", \"zerolinecolor\": \"white\"}}, \"shapedefaults\": {\"line\": {\"color\": \"#2a3f5f\"}}, \"ternary\": {\"aaxis\": {\"gridcolor\": \"white\", \"linecolor\": \"white\", \"ticks\": \"\"}, \"baxis\": {\"gridcolor\": \"white\", \"linecolor\": \"white\", \"ticks\": \"\"}, \"bgcolor\": \"#E5ECF6\", \"caxis\": {\"gridcolor\": \"white\", \"linecolor\": \"white\", \"ticks\": \"\"}}, \"title\": {\"x\": 0.05}, \"xaxis\": {\"automargin\": true, \"gridcolor\": \"white\", \"linecolor\": \"white\", \"ticks\": \"\", \"title\": {\"standoff\": 15}, \"zerolinecolor\": \"white\", \"zerolinewidth\": 2}, \"yaxis\": {\"automargin\": true, \"gridcolor\": \"white\", \"linecolor\": \"white\", \"ticks\": \"\", \"title\": {\"standoff\": 15}, \"zerolinecolor\": \"white\", \"zerolinewidth\": 2}}}, \"title\": {\"font\": {\"color\": \"#4D5663\"}, \"text\": \"Vehicular Pollution content\"}, \"xaxis\": {\"gridcolor\": \"#E1E5ED\", \"linecolor\": \"black\", \"showgrid\": true, \"tickfont\": {\"color\": \"#4D5663\"}, \"title\": {\"font\": {\"color\": \"#4D5663\"}, \"text\": \"Cities\"}, \"zerolinecolor\": \"#E1E5ED\"}, \"yaxis\": {\"gridcolor\": \"#E1E5ED\", \"linecolor\": \"black\", \"showgrid\": true, \"tickfont\": {\"color\": \"#4D5663\"}, \"title\": {\"font\": {\"color\": \"#4D5663\"}, \"text\": \"Vehicular Pollution content\"}, \"zerolinecolor\": \"#E1E5ED\"}},\n",
       "                        {\"showLink\": true, \"linkText\": \"Export to plot.ly\", \"plotlyServerURL\": \"https://plot.ly\", \"responsive\": true}\n",
       "                    ).then(function(){\n",
       "                            \n",
       "var gd = document.getElementById('caf6ee7b-9768-40ae-a41c-86a02616c2f6');\n",
       "var x = new MutationObserver(function (mutations, observer) {{\n",
       "        var display = window.getComputedStyle(gd).display;\n",
       "        if (!display || display === 'none') {{\n",
       "            console.log([gd, 'removed!']);\n",
       "            Plotly.purge(gd);\n",
       "            observer.disconnect();\n",
       "        }}\n",
       "}});\n",
       "\n",
       "// Listen for the removal of the full notebook cells\n",
       "var notebookContainer = gd.closest('#notebook-container');\n",
       "if (notebookContainer) {{\n",
       "    x.observe(notebookContainer, {childList: true});\n",
       "}}\n",
       "\n",
       "// Listen for the clearing of the current output cell\n",
       "var outputEl = gd.closest('.output');\n",
       "if (outputEl) {{\n",
       "    x.observe(outputEl, {childList: true});\n",
       "}}\n",
       "\n",
       "                        })\n",
       "                };\n",
       "                });\n",
       "            </script>\n",
       "        </div>"
      ]
     },
     "metadata": {},
     "output_type": "display_data"
    },
    {
     "data": {
      "application/vnd.plotly.v1+json": {
       "config": {
        "linkText": "Export to plot.ly",
        "plotlyServerURL": "https://plot.ly",
        "showLink": true
       },
       "data": [
        {
         "line": {
          "color": "rgba(255, 153, 51, 1.0)",
          "dash": "solid",
          "shape": "linear",
          "width": 1.3
         },
         "mode": "lines",
         "name": "Industrial Pollution content",
         "text": "",
         "type": "scatter",
         "x": [
          1827,
          1828,
          1829,
          1830,
          1831,
          1832,
          1833,
          1834,
          1835,
          1836,
          1837,
          1838,
          1839,
          1840,
          1841,
          1842,
          1843,
          1844,
          1845,
          1846,
          1847,
          1848,
          1849,
          1850,
          1851,
          1852,
          1853,
          1854,
          1855,
          1856,
          1857,
          1858,
          1859,
          1860,
          1861,
          1862,
          1863,
          1864,
          1865,
          1866,
          1867,
          1868,
          1869,
          1870,
          1871,
          1872,
          1873,
          1874,
          1875,
          1876,
          1877,
          1878,
          1879,
          1880,
          1881,
          1882,
          1883,
          1884,
          1885,
          1886,
          1887,
          1888,
          1889,
          1890,
          1891,
          1892,
          1893,
          1894,
          1895,
          1896,
          1897,
          1898,
          1899,
          1900,
          1901,
          1902,
          1903,
          1904,
          1905,
          1906,
          1907,
          1908,
          1909,
          1910,
          1911,
          1912,
          1913,
          1914,
          1915,
          1916,
          1917,
          1918,
          1919,
          1920,
          1921,
          1922,
          1923,
          1924,
          1925,
          1926,
          1927,
          1928,
          1929,
          1930,
          1931,
          1932,
          1933,
          1934,
          1935,
          1936,
          1937,
          1938,
          1939,
          1940,
          1941,
          1942,
          1943,
          1944,
          1945,
          1946,
          1947,
          1948,
          1949,
          1950,
          1951,
          1952,
          1953,
          1954,
          1955,
          1956,
          1957,
          1958,
          1959,
          1960,
          1961,
          1962,
          1963,
          1964,
          1965,
          1966,
          1967,
          1968,
          1969,
          1970,
          1971,
          1972,
          1973,
          1974,
          1975,
          1976,
          1977,
          1978,
          1979,
          1980,
          1981,
          1982,
          1983,
          1984,
          1985,
          1986,
          1987,
          1988,
          1989,
          1990,
          1991,
          1992,
          1993,
          1994,
          1995,
          1996,
          1997,
          1998,
          1999,
          2769,
          2770,
          2771,
          2772,
          2773,
          2774,
          2775,
          2776,
          2777,
          2778,
          2779,
          2780,
          2781,
          2782,
          2783,
          2784,
          2785,
          2786,
          2787,
          2788,
          2789,
          2790,
          2791,
          2792,
          2793,
          2794,
          2795,
          2796,
          2797,
          2798,
          2799,
          2800,
          2801,
          2802,
          2803,
          2804,
          2805,
          2806,
          2807,
          2808,
          2809,
          2810,
          2811,
          2812,
          2813,
          2814,
          2815,
          2816,
          2817,
          2818,
          2819,
          2820,
          2821,
          2822,
          2823,
          2824,
          2825,
          2826,
          2827,
          2828,
          2829,
          2830,
          2831,
          2832,
          2833,
          2834,
          2835,
          2836,
          2837,
          2838,
          2839,
          2840,
          2841,
          2842,
          2843,
          2844,
          2845,
          2846,
          2847,
          2848,
          2849,
          2850,
          2851,
          2852,
          2853,
          2854,
          2855,
          2856,
          2857,
          2858,
          2859,
          2860,
          2861,
          2862,
          2863,
          2864,
          2865,
          2866,
          2867,
          2868,
          2869,
          2870,
          2871,
          2872,
          2873,
          2874,
          2875,
          2876,
          2877,
          2878,
          2879,
          2880,
          2881,
          2882,
          2883,
          2884,
          2885,
          2886,
          2887,
          2888,
          2889,
          3929,
          3930,
          3931,
          3932,
          3933,
          3934,
          3935,
          3936,
          3937,
          3938,
          3939,
          3940,
          3941,
          3942,
          3943,
          3944,
          3945,
          3946,
          3947,
          3948,
          3949,
          3950,
          3951,
          3952,
          3953,
          3954,
          3955,
          3956,
          3957,
          3958,
          3959,
          3960,
          3961,
          3962,
          3963,
          3964,
          3965,
          3966,
          3967,
          3968,
          3969,
          3970,
          3971,
          3972,
          3973,
          3974,
          3975,
          3976,
          3977,
          3978,
          3979,
          3980,
          3981,
          3982,
          3983,
          3984,
          3985,
          3986,
          3987,
          3988,
          3989,
          3990,
          3991,
          3992,
          3993,
          3994,
          3995,
          3996,
          3997,
          3998,
          3999,
          4000,
          4001,
          4002,
          4003,
          4004,
          4005,
          4006,
          4007,
          4008,
          4009,
          4010,
          4011,
          4012,
          4013,
          4014,
          4015,
          4016,
          4017,
          4018,
          4019,
          4020,
          4021,
          4022,
          4023,
          4024,
          4025,
          4026,
          4027,
          4028,
          4029,
          4030,
          4031,
          4032,
          4033,
          4034,
          4035,
          4036,
          4037,
          4038,
          4039,
          4040,
          4041,
          4042,
          4043,
          4044,
          4045,
          4046,
          4047,
          4048,
          4049,
          5877,
          5878,
          5879,
          5880,
          5881,
          5882,
          5883,
          5884,
          5885,
          5886,
          5887,
          5888,
          5889,
          5890,
          5891,
          5892,
          5893,
          5894,
          5895,
          5896,
          5897,
          5898,
          5899,
          5900,
          5901,
          5902,
          5903,
          5904,
          5905,
          5906,
          5907,
          5908,
          5909,
          5910,
          5911,
          5912,
          5913,
          5914,
          5915,
          5916,
          5917,
          5918,
          5919,
          5920,
          5921,
          5922,
          5923,
          5924,
          5925,
          5926,
          5927,
          5928,
          5929,
          5930,
          5931,
          5932,
          5933,
          5934,
          5935,
          5936,
          5937,
          5938,
          5939,
          5940,
          5941,
          5942,
          5943,
          5944,
          5945,
          5946,
          5947,
          5948,
          5949,
          5950,
          5951,
          5952,
          5953,
          5954,
          5955,
          5956,
          5957,
          5958,
          5959,
          5960,
          5961,
          5962,
          5963,
          5964,
          5965,
          5966,
          5967,
          5968,
          5969,
          5970,
          5971,
          5972,
          5973,
          5974,
          5975,
          5976,
          5977,
          5978,
          5979,
          5980,
          5981,
          5982,
          5983,
          5984,
          5985,
          5986,
          5987,
          5988,
          5989,
          5990,
          5991,
          5992,
          5993,
          5994,
          5995,
          5996,
          5997,
          6105,
          6106,
          6107,
          6108,
          6109,
          6110,
          6111,
          6112,
          6113,
          6114,
          6115,
          6116,
          6117,
          6118,
          6119,
          6120,
          6121,
          6122,
          6123,
          6124,
          6125,
          6126,
          6127,
          6128,
          6129,
          6130,
          6131,
          6132,
          6133,
          6134,
          6135,
          6136,
          6137,
          6138,
          6139,
          6140,
          6141,
          6142,
          6143,
          6144,
          6145,
          6146,
          6147,
          6148,
          6149,
          6150,
          6151,
          6152,
          6153,
          6154,
          6155,
          6156,
          6157,
          6158,
          6159,
          6160,
          6161,
          6162,
          6163,
          6164,
          6165,
          6166,
          6167,
          6168,
          6169,
          6170,
          6171,
          6172,
          6173,
          6174,
          6175,
          6176,
          6177,
          6178,
          6179,
          6180,
          6181,
          6182,
          6183,
          6184,
          6185,
          6186,
          6187,
          6188,
          6189,
          6190,
          6191,
          6192,
          6193,
          6194,
          6195,
          6196,
          6197,
          6198,
          6199,
          6200,
          6201,
          6202,
          6203,
          6204,
          6205,
          6206,
          6207,
          6208,
          6209,
          6210,
          6211,
          6212,
          6213,
          6214,
          6215,
          6216,
          6217,
          6218,
          6219,
          6220,
          6221,
          6222,
          6223,
          6224,
          6225,
          6982,
          6983,
          6984,
          6985,
          6986,
          6987,
          6988,
          6989,
          6990,
          6991,
          6992,
          6993,
          6994,
          6995,
          6996,
          6997,
          6998,
          6999,
          7000,
          7001,
          7002,
          7003,
          7004,
          7005,
          7006,
          7007,
          7008,
          7009,
          7010,
          7011,
          7012,
          7013,
          7014,
          7015,
          7016,
          7017,
          7018,
          7019,
          7020,
          7021,
          7022,
          7023,
          7024,
          7025,
          7026,
          7027,
          7028,
          7029,
          7030,
          7031,
          7032,
          7033,
          7034,
          7035,
          7036,
          7037,
          7038,
          7039,
          7040,
          7041,
          7042,
          7043,
          7044,
          7045,
          7046,
          7047,
          7048,
          7049,
          7050,
          7051,
          7052,
          7053,
          7054,
          7055,
          7056,
          7057,
          7058,
          7059,
          7060,
          7061,
          7062,
          7063,
          7064,
          7065,
          7066,
          7067,
          7068,
          7069,
          7070,
          7071,
          7072,
          7073,
          7074,
          7075,
          7076,
          7077,
          7078,
          7079,
          7080,
          7081,
          7082,
          7083,
          7084,
          7085,
          7086,
          7087,
          7088,
          7089,
          7090,
          7091,
          7092,
          7093,
          7094,
          7095,
          7096,
          7097,
          7098,
          7099,
          7100,
          7101,
          7102,
          7225,
          7226,
          7227,
          7228,
          7229,
          7230,
          7231,
          7232,
          7233,
          7234,
          7235,
          7236,
          7237,
          7238,
          7239,
          7240,
          7241,
          7242,
          7243,
          7244,
          7245,
          7246,
          7247,
          7248,
          7249,
          7250,
          7251,
          7252,
          7253,
          7254,
          7255,
          7256,
          7257,
          7258,
          7259,
          7260,
          7261,
          7262,
          7263,
          7264,
          7265,
          7266,
          7267,
          7268,
          7269,
          7270,
          7271,
          7272,
          7273,
          7274,
          7275,
          7276,
          7277,
          7278,
          7279,
          7280,
          7281,
          7282,
          7283,
          7284,
          7285,
          7286,
          7287,
          7288,
          7289,
          7290,
          7291,
          7292,
          7293,
          7294,
          7295,
          7296,
          7297,
          7298,
          7299,
          7300,
          7301,
          7302,
          7303,
          7304,
          7305,
          7306,
          7307,
          7308,
          7309,
          7310,
          7311,
          7312,
          7313,
          7314,
          7315,
          7316,
          7317,
          7318,
          7319,
          7320,
          7321,
          7322,
          7323,
          7324,
          7325,
          7326,
          7327,
          7328,
          7329,
          7330,
          7331,
          7332,
          7333,
          7334,
          7335,
          7336,
          7337,
          7338,
          7339,
          7340,
          7341,
          7342,
          7343,
          7344,
          7345,
          9173,
          9174,
          9175,
          9176,
          9177,
          9178,
          9179,
          9180,
          9181,
          9182,
          9183,
          9184,
          9185,
          9186,
          9187,
          9188,
          9189,
          9190,
          9191,
          9192,
          9193,
          9194,
          9195,
          9196,
          9197,
          9198,
          9199,
          9200,
          9201,
          9202,
          9203,
          9204,
          9205,
          9206,
          9207,
          9208,
          9209,
          9210,
          9211,
          9212,
          9213,
          9214,
          9215,
          9216,
          9217,
          9218,
          9219,
          9220,
          9221,
          9222,
          9223,
          9224,
          9225,
          9226,
          9227,
          9228,
          9229,
          9230,
          9231,
          9232,
          9233,
          9234,
          9235,
          9236,
          9237,
          9238,
          9239,
          9240,
          9241,
          9242,
          9243,
          9244,
          9245,
          9246,
          9247,
          9248,
          9249,
          9250,
          9251,
          9252,
          9253,
          9254,
          9255,
          9256,
          9257,
          9258,
          9259,
          9260,
          9261,
          9262,
          9263,
          9264,
          9265,
          9266,
          9267,
          9268,
          9269,
          9270,
          9271,
          9272,
          9273,
          9274,
          9275,
          9276,
          9277,
          9278,
          9279,
          9280,
          9281,
          9282,
          9283,
          9284,
          9285,
          9286,
          9287,
          9288,
          9289,
          9290,
          9291,
          9292,
          9293,
          11121,
          11122,
          11123,
          11124,
          11125,
          11126,
          11127,
          11128,
          11129,
          11130,
          11131,
          11132,
          11133,
          11134,
          11135,
          11136,
          11137,
          11138,
          11139,
          11140,
          11141,
          11142,
          11143,
          11144,
          11145,
          11146,
          11147,
          11148,
          11149,
          11150,
          11151,
          11152,
          11153,
          11154,
          11155,
          11156,
          11157,
          11158,
          11159,
          11160,
          11161,
          11162,
          11163,
          11164,
          11165,
          11166,
          11167,
          11168,
          11169,
          11170,
          11171,
          11172,
          11173,
          11174,
          11175,
          11176,
          11177,
          11178,
          11179,
          11180,
          11181,
          11182,
          11183,
          11184,
          11185,
          11186,
          11187,
          11188,
          11189,
          11190,
          11191,
          11192,
          11193,
          11194,
          11195,
          11196,
          11197,
          11198,
          11199,
          11200,
          11201,
          11202,
          11203,
          11204,
          11205,
          11206,
          11207,
          11208,
          11209,
          11210,
          11211,
          11212,
          11213,
          11214,
          11215,
          11216,
          11217,
          11218,
          11219,
          11220,
          11221,
          11222,
          11223,
          11224,
          11225,
          11226,
          11227,
          11228,
          11229,
          11230,
          11231,
          11232,
          11233,
          11234,
          11235,
          11236,
          11237,
          11238,
          11239,
          11240,
          11241,
          11242,
          11243,
          11244,
          11245,
          11246,
          11247,
          11248,
          11249,
          11250,
          11251,
          11252,
          11253,
          11254,
          11255,
          11256,
          11257,
          11258,
          11259,
          11260,
          11261,
          11262,
          11263,
          11264,
          11265,
          11266,
          11267,
          11268,
          11269,
          11270,
          11271,
          11272,
          11273,
          11274,
          11275,
          11276,
          11277,
          11278,
          11279,
          11280,
          11281,
          11282,
          11283,
          11284,
          11285,
          11286,
          11287,
          11288,
          11289,
          11290,
          11291,
          11292,
          11293,
          11294,
          11295,
          11296,
          11297,
          11298,
          11299,
          11300,
          11301,
          11302,
          11303,
          11304,
          11305,
          11306,
          11307,
          11308,
          11309,
          11310,
          11311,
          11312,
          11313,
          11314,
          11315,
          11316,
          11317,
          11318,
          11319,
          11320,
          11321,
          11322,
          11323,
          11324,
          11325,
          11326,
          11327,
          11328,
          11329,
          11330,
          11331,
          11332,
          11333,
          11334,
          11335,
          11336,
          11337,
          11338,
          11339,
          11340,
          11341,
          11342,
          12840,
          12841,
          12842,
          12843,
          12844,
          12845,
          12846,
          12847,
          12848,
          12849,
          12850,
          12851,
          12852,
          12853,
          12854,
          12855,
          12856,
          12857,
          12858,
          12859,
          12860,
          12861,
          12862,
          12863,
          12864,
          12865,
          12866,
          12867,
          12868,
          12869,
          12870,
          12871,
          12872,
          12873,
          12874,
          12875,
          12876,
          12877,
          12878,
          12879,
          12880,
          12881,
          12882,
          12883,
          12884,
          12885,
          12886,
          12887,
          12888,
          12889,
          12890,
          12891,
          12892,
          12893,
          12894,
          12895,
          12896,
          12897,
          12898,
          12899,
          12900,
          12901,
          12902,
          12903,
          12904,
          12905,
          12906,
          12907,
          12908,
          12909,
          12910,
          12911,
          12912,
          12913,
          12914,
          12915,
          12916,
          12917,
          12918,
          12919,
          12920,
          12921,
          12922,
          12923,
          12924,
          12925,
          12926,
          12927,
          12928,
          12929,
          12930,
          12931,
          12932,
          12933,
          12934,
          12935,
          12936,
          12937,
          12938,
          12939,
          12940,
          12941,
          12942,
          12943,
          12944,
          12945,
          12946,
          12947,
          12948,
          12949,
          12950,
          12951,
          12952,
          12953,
          12954,
          12955,
          12956,
          12957,
          12958,
          12959,
          12960,
          13281,
          13282,
          13283,
          13284,
          13285,
          13286,
          13287,
          13288,
          13289,
          13290,
          13291,
          13292,
          13293,
          13294,
          13295,
          13296,
          13297,
          13298,
          13299,
          13300,
          13301,
          13302,
          13303,
          13304,
          13305,
          13306,
          13307,
          13308,
          13309,
          13310,
          13311,
          13312,
          13313,
          13314,
          13315,
          13316,
          13317,
          13318,
          13319,
          13320,
          13321,
          13322,
          13323,
          13324,
          13325,
          13326,
          13327,
          13328,
          13329,
          13330,
          13331,
          13332,
          13333,
          13334,
          13335,
          13336,
          13337,
          13338,
          13339,
          13340,
          13341,
          13342,
          13343,
          13344,
          13345,
          13346,
          13347,
          13348,
          13349,
          13350,
          13351,
          13352,
          13353,
          13354,
          13355,
          13356,
          13357,
          13358,
          13359,
          13360,
          13361,
          13362,
          13363,
          13364,
          13365,
          13366,
          13367,
          13368,
          13369,
          13370,
          13371,
          13372,
          13373,
          13374,
          13375,
          13376,
          13377,
          13378,
          13379,
          13380,
          13381,
          13382,
          13383,
          13384,
          13385,
          13386,
          13387,
          13388,
          13389,
          13390,
          13391,
          13392,
          13393,
          13394,
          13395,
          13396,
          13397,
          13398,
          13399,
          13400,
          13401,
          15226,
          15227,
          15228,
          15229,
          15230,
          15231,
          15232,
          15233,
          15234,
          15235,
          15236,
          15237,
          15238,
          15239,
          15240,
          15241,
          15242,
          15243,
          15244,
          15245,
          15246,
          15247,
          15248,
          15249,
          15250,
          15251,
          15252,
          15253,
          15254,
          15255,
          15256,
          15257,
          15258,
          15259,
          15260,
          15261,
          15262,
          15263,
          15264,
          15265,
          15266,
          15267,
          15268,
          15269,
          15270,
          15271,
          15272,
          15273,
          15274,
          15275,
          15276,
          15277,
          15278,
          15279,
          15280,
          15281,
          15282,
          15283,
          15284,
          15285,
          15286,
          15287,
          15288,
          15289,
          15290,
          15291,
          15292,
          15293,
          15294,
          15295,
          15296,
          15297,
          15298,
          15299,
          15300,
          15301,
          15302,
          15303,
          15304,
          15305,
          15306,
          15307,
          15308,
          15309,
          15310,
          15311,
          15312,
          15313,
          15314,
          15315,
          15316,
          15317,
          15318,
          15319,
          15320,
          15321,
          15322,
          15323,
          15324,
          15325,
          15326,
          15327,
          15328,
          15329,
          15330,
          15331,
          15332,
          15333,
          15334,
          15335,
          15336,
          15337,
          15338,
          15339,
          15340,
          15341,
          15342,
          15343,
          15344,
          15345,
          15346,
          16279,
          16280,
          16281,
          16282,
          16283,
          16284,
          16285,
          16286,
          16287,
          16288,
          16289,
          16290,
          16291,
          16292,
          16293,
          16294,
          16295,
          16296,
          16297,
          16298,
          16299,
          16300,
          16301,
          16302,
          16303,
          16304,
          16305,
          16306,
          16307,
          16308,
          16309,
          16310,
          16311,
          16312,
          16313,
          16314,
          16315,
          16316,
          16317,
          16318,
          16319,
          16320,
          16321,
          16322,
          16323,
          16324,
          16325,
          16326,
          16327,
          16328,
          16329,
          16330,
          16331,
          16332,
          16333,
          16334,
          16335,
          16336,
          16337,
          16338,
          16339,
          16340,
          16341,
          16342,
          16343,
          16344,
          16345,
          16346,
          16347,
          16348,
          16349,
          16350,
          16351,
          16352,
          16353,
          16354,
          16355,
          16356,
          16357,
          16358,
          16359,
          16360,
          16361,
          16362,
          16363,
          16364,
          16365,
          16366,
          16367,
          16368,
          16369,
          16370,
          16371,
          16372,
          16373,
          16374,
          16375,
          16376,
          16377,
          16378,
          16379,
          16380,
          16381,
          16382,
          16383,
          16384,
          16385,
          16386,
          16387,
          16388,
          16389,
          16390,
          16391,
          16392,
          16393,
          16394,
          16395,
          16396,
          16397,
          16398,
          16399,
          17387,
          17388,
          17389,
          17390,
          17391,
          17392,
          17393,
          17394,
          17395,
          17396,
          17397,
          17398,
          17399,
          17400,
          17401,
          17402,
          17403,
          17404,
          17405,
          17406,
          17407,
          17408,
          17409,
          17410,
          17411,
          17412,
          17413,
          17414,
          17415,
          17416,
          17417,
          17418,
          17419,
          17420,
          17421,
          17422,
          17423,
          17424,
          17425,
          17426,
          17427,
          17428,
          17429,
          17430,
          17431,
          17432,
          17433,
          17434,
          17435,
          17436,
          17437,
          17438,
          17439,
          17440,
          17441,
          17442,
          17443,
          17444,
          17445,
          17446,
          17447,
          17448,
          17449,
          17450,
          17451,
          17452,
          17453,
          17454,
          17455,
          17456,
          17457,
          17458,
          17459,
          17460,
          17461,
          17462,
          17463,
          17464,
          17465,
          17466,
          17467,
          17468,
          17469,
          17470,
          17471,
          17472,
          17473,
          17474,
          17475,
          17476,
          17477,
          17478,
          17479,
          17480,
          17481,
          17482,
          17483,
          17484,
          17485,
          17486,
          17487,
          17488,
          17489,
          17490,
          17491,
          17492,
          17493,
          17494,
          17495,
          17496,
          17497,
          17498,
          17499,
          17500,
          17501,
          17502,
          17503,
          17504,
          17505,
          17506,
          17507,
          17508,
          17509,
          17510,
          17511,
          17512,
          17513,
          17514,
          17515,
          17516,
          17517,
          17518,
          17519,
          17520,
          17521,
          17522,
          17523,
          17524,
          17525,
          17526,
          17527,
          17528,
          17529,
          17530,
          17531,
          17532,
          17533,
          17534,
          17535,
          17536,
          17537,
          17538,
          17539,
          17540,
          17541,
          17542,
          17543,
          17544,
          17545,
          17546,
          17547,
          17548,
          17549,
          17550,
          17551,
          17552,
          17553,
          17554,
          17555,
          17556,
          17557,
          17558,
          17559,
          17560,
          17561,
          17562,
          17563,
          17564,
          17565,
          17566,
          17567,
          17568,
          17569,
          17570,
          17571,
          17572,
          17573,
          17574,
          17575,
          17576,
          17577,
          17578,
          17579,
          17580,
          17581,
          17582,
          17583,
          17584,
          17585,
          17586,
          17587,
          17588,
          17589,
          17590,
          17591,
          17592,
          17593,
          17594,
          17595,
          17596,
          17597,
          17598,
          17599,
          17600,
          17601,
          17602,
          17603,
          17604,
          17605,
          17606,
          17607,
          17608,
          18241,
          18242,
          18243,
          18244,
          18245,
          18246,
          18247,
          18248,
          18249,
          18250,
          18251,
          18252,
          18253,
          18254,
          18255,
          18256,
          18257,
          18258,
          18259,
          18260,
          18261,
          18262,
          18263,
          18264,
          18265,
          18266,
          18267,
          18268,
          18269,
          18270,
          18271,
          18272,
          18273,
          18274,
          18275,
          18276,
          18277,
          18278,
          18279,
          18280,
          18281,
          18282,
          18283,
          18284,
          18285,
          18286,
          18287,
          18288,
          18289,
          18290,
          18291,
          18292,
          18293,
          18294,
          18295,
          18296,
          18297,
          18298,
          18299,
          18300,
          18301,
          18302,
          18303,
          18304,
          18305,
          18306,
          18307,
          18308,
          18309,
          18310,
          18311,
          18312,
          18313,
          18314,
          18315,
          18316,
          18317,
          18318,
          18319,
          18320,
          18321,
          18322,
          18323,
          18324,
          18325,
          18326,
          18327,
          18328,
          18329,
          18330,
          18331,
          18332,
          18333,
          18334,
          18335,
          18336,
          18337,
          18338,
          18339,
          18340,
          18341,
          18342,
          18343,
          18344,
          18345,
          18346,
          18347,
          18348,
          18349,
          18350,
          18351,
          18352,
          18353,
          18354,
          18355,
          18356,
          18357,
          18358,
          18359,
          18360,
          18361,
          20189,
          20190,
          20191,
          20192,
          20193,
          20194,
          20195,
          20196,
          20197,
          20198,
          20199,
          20200,
          20201,
          20202,
          20203,
          20204,
          20205,
          20206,
          20207,
          20208,
          20209,
          20210,
          20211,
          20212,
          20213,
          20214,
          20215,
          20216,
          20217,
          20218,
          20219,
          20220,
          20221,
          20222,
          20223,
          20224,
          20225,
          20226,
          20227,
          20228,
          20229,
          20230,
          20231,
          20232,
          20233,
          20234,
          20235,
          20236,
          20237,
          20238,
          20239,
          20240,
          20241,
          20242,
          20243,
          20244,
          20245,
          20246,
          20247,
          20248,
          20249,
          20250,
          20251,
          20252,
          20253,
          20254,
          20255,
          20256,
          20257,
          20258,
          20259,
          20260,
          20261,
          20262,
          20263,
          20264,
          20265,
          20266,
          20267,
          20268,
          20269,
          20270,
          20271,
          20272,
          20273,
          20274,
          20275,
          20276,
          20277,
          20278,
          20279,
          20280,
          20281,
          20282,
          20283,
          20284,
          20285,
          20286,
          20287,
          20288,
          20289,
          20290,
          20291,
          20292,
          20293,
          20294,
          20295,
          20296,
          20297,
          20298,
          20299,
          20300,
          20301,
          20302,
          20303,
          20304,
          20305,
          20306,
          20307,
          20308,
          20309,
          22137,
          22138,
          22139,
          22140,
          22141,
          22142,
          22143,
          22144,
          22145,
          22146,
          22147,
          22148,
          22149,
          22150,
          22151,
          22152,
          22153,
          22154,
          22155,
          22156,
          22157,
          22158,
          22159,
          22160,
          22161,
          22162,
          22163,
          22164,
          22165,
          22166,
          22167,
          22168,
          22169,
          22170,
          22171,
          22172,
          22173,
          22174,
          22175,
          22176,
          22177,
          22178,
          22179,
          22180,
          22181,
          22182,
          22183,
          22184,
          22185,
          22186,
          22187,
          22188,
          22189,
          22190,
          22191,
          22192,
          22193,
          22194,
          22195,
          22196,
          22197,
          22198,
          22199,
          22200,
          22201,
          22202,
          22203,
          22204,
          22205,
          22206,
          22207,
          22208,
          22209,
          22210,
          22211,
          22212,
          22213,
          22214,
          22215,
          22216,
          22217,
          22218,
          22219,
          22220,
          22221,
          22222,
          22223,
          22224,
          22225,
          22226,
          22227,
          22228,
          22229,
          22230,
          22231,
          22232,
          22233,
          22234,
          22235,
          22236,
          22237,
          22238,
          22239,
          22240,
          22241,
          22242,
          22243,
          22244,
          22245,
          22246,
          22247,
          22248,
          22249,
          22250,
          22251,
          22252,
          22253,
          22254,
          22255,
          22256,
          22257,
          23934,
          23935,
          23936,
          23937,
          23938,
          23939,
          23940,
          23941,
          23942,
          23943,
          23944,
          23945,
          23946,
          23947,
          23948,
          23949,
          23950,
          23951,
          23952,
          23953,
          23954,
          23955,
          23956,
          23957,
          23958,
          23959,
          23960,
          23961,
          23962,
          23963,
          23964,
          23965,
          23966,
          23967,
          23968,
          23969,
          23970,
          23971,
          23972,
          23973,
          23974,
          23975,
          23976,
          23977,
          23978,
          23979,
          23980,
          23981,
          23982,
          23983,
          23984,
          23985,
          23986,
          23987,
          23988,
          23989,
          23990,
          23991,
          23992,
          23993,
          23994,
          23995,
          23996,
          23997,
          23998,
          23999,
          24000,
          24001,
          24002,
          24003,
          24004,
          24005,
          24006,
          24007,
          24008,
          24009,
          24010,
          24011,
          24012,
          24013,
          24014,
          24015,
          24016,
          24017,
          24018,
          24019,
          24020,
          24021,
          24022,
          24023,
          24024,
          24025,
          24026,
          24027,
          24028,
          24029,
          24030,
          24031,
          24032,
          24033,
          24034,
          24035,
          24036,
          24037,
          24038,
          24039,
          24040,
          24041,
          24042,
          24043,
          24044,
          24045,
          24046,
          24047,
          24048,
          24049,
          24050,
          24051,
          24052,
          24053,
          24054,
          24183,
          24184,
          24185,
          24186,
          24187,
          24188,
          24189,
          24190,
          24191,
          24192,
          24193,
          24194,
          24195,
          24196,
          24197,
          24198,
          24199,
          24200,
          24201,
          24202,
          24203,
          24204,
          24205,
          24206,
          24207,
          24208,
          24209,
          24210,
          24211,
          24212,
          24213,
          24214,
          24215,
          24216,
          24217,
          24218,
          24219,
          24220,
          24221,
          24222,
          24223,
          24224,
          24225,
          24226,
          24227,
          24228,
          24229,
          24230,
          24231,
          24232,
          24233,
          24234,
          24235,
          24236,
          24237,
          24238,
          24239,
          24240,
          24241,
          24242,
          24243,
          24244,
          24245,
          24246,
          24247,
          24248,
          24249,
          24250,
          24251,
          24252,
          24253,
          24254,
          24255,
          24256,
          24257,
          24258,
          24259,
          24260,
          24261,
          24262,
          24263,
          24264,
          24265,
          24266,
          24267,
          24268,
          24269,
          24270,
          24271,
          24272,
          24273,
          24274,
          24275,
          24276,
          24277,
          24278,
          24279,
          24280,
          24281,
          24282,
          24283,
          24284,
          24285,
          24286,
          24287,
          24288,
          24289,
          24290,
          24291,
          24292,
          24293,
          24294,
          24295,
          24296,
          24297,
          24298,
          24299,
          24300,
          24301,
          24302,
          24303,
          25047,
          25048,
          25049,
          25050,
          25051,
          25052,
          25053,
          25054,
          25055,
          25056,
          25057,
          25058,
          25059,
          25060,
          25061,
          25062,
          25063,
          25064,
          25065,
          25066,
          25067,
          25068,
          25069,
          25070,
          25071,
          25072,
          25073,
          25074,
          25075,
          25076,
          25077,
          25078,
          25079,
          25080,
          25081,
          25082,
          25083,
          25084,
          25085,
          25086,
          25087,
          25088,
          25089,
          25090,
          25091,
          25092,
          25093,
          25094,
          25095,
          25096,
          25097,
          25098,
          25099,
          25100,
          25101,
          25102,
          25103,
          25104,
          25105,
          25106,
          25107,
          25108,
          25109,
          25110,
          25111,
          25112,
          25113,
          25114,
          25115,
          25116,
          25117,
          25118,
          25119,
          25120,
          25121,
          25122,
          25123,
          25124,
          25125,
          25126,
          25127,
          25128,
          25129,
          25130,
          25131,
          25132,
          25133,
          25134,
          25135,
          25136,
          25137,
          25138,
          25139,
          25140,
          25141,
          25142,
          25143,
          25144,
          25145,
          25146,
          25147,
          25148,
          25149,
          25150,
          25151,
          25152,
          25153,
          25154,
          25155,
          25156,
          25157,
          25158,
          25159,
          25160,
          25161,
          25162,
          25163,
          25164,
          25165,
          25166,
          25167,
          26098,
          26099,
          26100,
          26101,
          26102,
          26103,
          26104,
          26105,
          26106,
          26107,
          26108,
          26109,
          26110,
          26111,
          26112,
          26113,
          26114,
          26115,
          26116,
          26117,
          26118,
          26119,
          26120,
          26121,
          26122,
          26123,
          26124,
          26125,
          26126,
          26127,
          26128,
          26129,
          26130,
          26131,
          26132,
          26133,
          26134,
          26135,
          26136,
          26137,
          26138,
          26139,
          26140,
          26141,
          26142,
          26143,
          26144,
          26145,
          26146,
          26147,
          26148,
          26149,
          26150,
          26151,
          26152,
          26153,
          26154,
          26155,
          26156,
          26157,
          26158,
          26159,
          26160,
          26161,
          26162,
          26163,
          26164,
          26165,
          26166,
          26167,
          26168,
          26169,
          26170,
          26171,
          26172,
          26173,
          26174,
          26175,
          26176,
          26177,
          26178,
          26179,
          26180,
          26181,
          26182,
          26183,
          26184,
          26185,
          26186,
          26187,
          26188,
          26189,
          26190,
          26191,
          26192,
          26193,
          26194,
          26195,
          26196,
          26197,
          26198,
          26199,
          26200,
          26201,
          26202,
          26203,
          26204,
          26205,
          26206,
          26207,
          26208,
          26209,
          26210,
          26211,
          26212,
          26213,
          26214,
          26215,
          26216,
          26217,
          26218
         ],
         "y": [
          85,
          97.88,
          100.41,
          106.39999999999999,
          98.16,
          118.66,
          90.53999999999999,
          106.83,
          86.74,
          105.42999999999999,
          119.64999999999999,
          124.51,
          85.42999999999999,
          79.18999999999998,
          70.67999999999999,
          99.48,
          137.76,
          112.77000000000001,
          106.25,
          141.69,
          107.46000000000002,
          91.75,
          83.03,
          225.01,
          182.89,
          126.06000000000002,
          99.24000000000002,
          105.35,
          163.08,
          150.77,
          136.44,
          97.25,
          111.84,
          130.32000000000002,
          135.5,
          132.81,
          141.53,
          165.04000000000002,
          98.28999999999999,
          143.77,
          130.92000000000002,
          137.87,
          132.87,
          126.11999999999999,
          149.89000000000001,
          180.56,
          157.17,
          174.75,
          197.46999999999997,
          156.38,
          125.67,
          129.20999999999998,
          121.97,
          120.97,
          143.92000000000002,
          175.45,
          164.88000000000002,
          165.48,
          167.95,
          163.04,
          166.31,
          210.32,
          147.6,
          153.14999999999998,
          158.26,
          160.75,
          114.21,
          161.26999999999998,
          94.14,
          86.65,
          121.81,
          150.08999999999997,
          139.39,
          111.1,
          132.95,
          115.91999999999999,
          174.75,
          137.04999999999998,
          90.06,
          108.67999999999999,
          90.96,
          126.21,
          123.45,
          126.99,
          101.13,
          60.75999999999999,
          86.76,
          84.96000000000002,
          101.53,
          107.9,
          80.27,
          83.23,
          125.25,
          136.48999999999998,
          148.20999999999998,
          121.24000000000001,
          107.04,
          101.00999999999999,
          109.78000000000002,
          117.19000000000001,
          130.5,
          107.43,
          106.59,
          104.89,
          100.52,
          119.91000000000001,
          82.95,
          112.88,
          78.47000000000001,
          82.55999999999999,
          78.78999999999999,
          99.31,
          101.93,
          83.87,
          69.30000000000001,
          67.96,
          107.53999999999999,
          133.22,
          125.77,
          116.77,
          52.76,
          10.160000000000002,
          7.9399999999999995,
          5.46,
          5.760000000000001,
          5.75,
          19.36,
          13.280000000000001,
          16.05,
          17.450000000000003,
          13.99,
          114.83999999999999,
          38.63,
          137.56,
          13.24,
          15.080000000000002,
          14.66,
          15.620000000000001,
          18.16,
          17.4,
          16.81,
          16.44,
          88.82,
          19.12,
          20.489999999999995,
          20.57,
          35.919999999999995,
          17.89,
          23.48,
          19.669999999999998,
          29.22,
          11.82,
          13.16,
          30.700000000000003,
          16.97,
          68.47999999999999,
          10.85,
          15.93,
          9.11,
          8.409999999999998,
          8.85,
          18.75,
          35.839999999999996,
          9.23,
          10.080000000000002,
          9.110000000000001,
          24.57,
          23.23,
          25.32,
          52.99,
          66.64,
          51.25,
          38.339999999999996,
          75.28000000000002,
          70.18,
          50.18000000000001,
          53.89,
          69.24,
          79.30999999999997,
          70.91999999999999,
          61.38,
          61.92000000000001,
          59.449999999999996,
          75.88,
          87.94,
          76.41999999999999,
          69.24000000000001,
          60.57,
          61.84,
          49.04,
          53.58,
          49.85,
          51.900000000000006,
          57.739999999999995,
          61.17999999999999,
          69.8,
          66.39,
          58.58,
          65.77,
          58.22,
          45.809999999999995,
          53.39,
          52.6,
          50.43,
          46.65,
          46.760000000000005,
          50.059999999999995,
          57.03,
          44.230000000000004,
          55.66,
          56.37,
          56.17,
          66.26,
          75.13,
          81.75,
          84.32,
          71.67999999999999,
          88.21000000000001,
          57.99,
          62.419999999999995,
          61.07,
          59.959999999999994,
          68.14,
          59.870000000000005,
          67.5,
          60.76,
          64.11,
          57.46999999999999,
          62.21999999999999,
          68.47999999999999,
          77.08,
          71.29,
          72.53,
          74.84,
          69.55,
          57.68,
          45.11000000000001,
          48.66,
          39.300000000000004,
          54.74000000000001,
          38.31,
          50.42000000000001,
          46.029999999999994,
          43.559999999999995,
          40.95,
          49.809999999999995,
          51.92,
          48.94,
          55.050000000000004,
          48.410000000000004,
          52.91000000000001,
          55.01,
          49.199999999999996,
          51.980000000000004,
          54.67,
          49.870000000000005,
          47.19,
          49.089999999999996,
          59.26,
          65.92,
          58.74,
          68.83,
          67.8,
          66.55,
          53.27,
          49.5,
          52.14,
          45.15,
          38.330000000000005,
          35,
          45.86,
          68.7,
          52.339999999999996,
          42.41,
          40.559999999999995,
          42.34,
          42.370000000000005,
          44.7,
          38.72,
          38.690000000000005,
          39.84,
          38.379999999999995,
          35.19,
          33.720000000000006,
          32.57,
          31.200000000000003,
          32.9,
          41.14,
          54.88,
          47,
          42.00999999999999,
          45.38,
          60.13,
          57.07000000000001,
          27.81,
          45.83,
          53.49,
          50.94,
          50.85,
          21.62,
          33.36,
          50.14,
          52.66,
          53.75,
          42.71,
          37.78,
          31.59,
          43.910000000000004,
          45.02,
          45.37,
          43.870000000000005,
          43.730000000000004,
          29.820000000000004,
          43.46,
          53.11000000000001,
          52.01,
          57.480000000000004,
          60.91,
          59.84,
          49.72,
          39.31,
          41.11,
          43.47,
          42.64,
          44.66,
          44.66,
          38.46,
          50.92,
          46.03,
          53.74,
          54.33,
          59.83,
          60.41000000000001,
          56.60999999999999,
          51.370000000000005,
          45.25,
          50.440000000000005,
          53.31999999999999,
          59.98,
          63.11,
          62.089999999999996,
          67.47,
          47.349999999999994,
          51.419999999999995,
          46.93,
          46.73,
          46.35,
          50.99999999999999,
          47.49,
          45.51,
          40.769999999999996,
          47.27,
          47.150000000000006,
          56.849999999999994,
          44.92999999999999,
          46.269999999999996,
          51.650000000000006,
          49.72,
          43.55,
          42.839999999999996,
          47.08,
          44.690000000000005,
          49.199999999999996,
          43.86,
          47.919999999999995,
          49.81,
          49.95,
          60.029999999999994,
          48.60999999999999,
          46.24,
          45.28,
          51.919999999999995,
          65.09,
          55.32999999999999,
          56.059999999999995,
          45.910000000000004,
          42.61,
          39.510000000000005,
          44.55,
          36.75999999999999,
          33.92,
          33.82,
          34.36,
          33.879999999999995,
          33.33,
          33.29,
          33.64,
          34.74,
          36.17,
          44.66,
          44.66,
          44.66,
          44.66,
          44.66,
          31.580000000000002,
          35.58,
          37.4,
          32.87,
          34.760000000000005,
          48.86,
          55.4,
          53.64000000000001,
          56.760000000000005,
          57.57,
          60.800000000000004,
          57.150000000000006,
          56.07,
          56.36,
          64.57000000000001,
          61.64,
          61.33,
          61.86,
          63.69,
          63.28,
          61.82,
          76.75999999999999,
          70.32,
          81.97,
          94.10999999999999,
          39.089999999999996,
          54.39,
          71.75999999999999,
          68.35,
          65.75999999999999,
          65.08999999999999,
          63.18,
          74.35,
          76.22,
          77.46,
          69.9,
          55.25,
          33.65,
          38.089999999999996,
          43.99,
          45.78,
          41.02,
          41.51,
          40.25,
          39.96,
          47.49999999999999,
          54.75,
          62.910000000000004,
          65.32,
          51.58,
          62.73,
          57.68000000000001,
          48.97,
          42.7,
          44.26,
          48.38,
          51.11,
          53.59,
          50.08,
          48.06000000000001,
          43.86,
          46.809999999999995,
          47.31000000000001,
          45.14,
          55.25999999999999,
          57.61,
          59.63999999999999,
          54.529999999999994,
          57.17,
          59.55,
          48.25,
          49.34,
          46.42999999999999,
          57.12,
          51.82000000000001,
          58.74999999999999,
          44.150000000000006,
          50.02,
          55.1,
          55.33,
          58.849999999999994,
          57.25,
          70.97,
          61.29,
          62.63,
          61.99,
          47.02,
          49.32,
          55.150000000000006,
          60.33,
          61.599999999999994,
          58.62,
          52.03,
          49.74,
          60.660000000000004,
          47.2,
          43.43,
          50.760000000000005,
          66.77999999999999,
          63.38999999999999,
          69.96,
          58.550000000000004,
          50.68000000000001,
          48.160000000000004,
          47.620000000000005,
          42.25,
          43.42,
          44.65,
          46.21999999999999,
          49.99,
          49.16,
          48.730000000000004,
          53.13,
          57.349999999999994,
          52.46,
          49.24,
          59.279999999999994,
          56.15,
          65.57999999999998,
          60.9,
          62.150000000000006,
          61.18,
          63.07,
          71.19999999999999,
          65.85999999999999,
          64.39999999999999,
          60.739999999999995,
          57.419999999999995,
          49.410000000000004,
          45.9,
          42.66,
          41.28,
          45.07,
          48.07,
          45.49,
          42.41,
          45.47,
          41.76,
          42.449999999999996,
          38.9,
          40.25,
          37.67,
          45.839999999999996,
          52.08,
          52.38999999999999,
          45.48,
          64.72,
          67.63,
          67.55,
          67.05999999999999,
          63.29,
          75.86999999999999,
          67.74,
          69.10999999999999,
          49.39,
          43.559999999999995,
          33.32,
          71.42999999999999,
          53.38999999999999,
          60.8,
          67.66,
          62.13,
          55.26,
          71.11999999999999,
          63.54,
          52.129999999999995,
          77.14,
          76.94999999999999,
          74.02999999999999,
          73.22999999999999,
          68.36999999999999,
          71.99999999999999,
          74.52,
          81.13999999999999,
          73.22,
          69.09999999999998,
          72.39999999999999,
          77.37999999999998,
          86.53999999999999,
          88.95999999999998,
          96.83999999999999,
          91.47,
          96.33999999999999,
          92.92999999999999,
          66.51999999999998,
          79.64999999999999,
          93.41,
          79.30999999999999,
          82.17999999999999,
          99.69999999999999,
          105.81999999999998,
          135.48,
          110.32,
          109.38999999999999,
          93.28999999999999,
          90.67999999999999,
          91.39999999999999,
          77.35,
          75.94999999999999,
          105.17999999999999,
          98.38,
          98.61999999999999,
          86.28,
          88.57,
          92.48,
          91.13999999999999,
          73.39999999999999,
          90.13,
          82.67999999999999,
          88.49999999999999,
          82.35,
          82.19999999999999,
          89.28,
          91.19,
          93.75,
          81.39999999999999,
          78.55999999999999,
          93.19999999999999,
          100.38999999999999,
          89.71999999999998,
          97.51999999999998,
          94,
          89.97999999999999,
          82.52999999999999,
          85.60999999999999,
          82.36999999999999,
          82.49999999999999,
          52.49,
          45.949999999999996,
          44.66,
          44.66,
          44.66,
          44.66,
          44.66,
          44.66,
          44.66,
          44.66,
          44.66,
          106.77,
          72.82999999999998,
          73.16999999999999,
          69.96999999999998,
          75.28999999999999,
          85.07,
          64.03,
          64.91999999999999,
          73.67999999999999,
          68.24999999999999,
          68.69999999999999,
          77.89999999999999,
          89.64999999999999,
          85.64999999999999,
          97.83999999999999,
          100.11999999999999,
          105.03999999999999,
          81.07,
          81.73999999999998,
          92.17,
          97.63999999999999,
          104.27,
          98.42999999999999,
          97.96,
          66.09999999999998,
          117.91999999999999,
          45.480000000000004,
          28.26,
          32.300000000000004,
          33.89,
          32.49,
          36.25,
          32.08,
          25.180000000000003,
          40.980000000000004,
          38.68,
          34.42,
          101.78999999999999,
          43.97,
          48.300000000000004,
          38.81,
          38.940000000000005,
          37.830000000000005,
          47.08,
          34.21,
          36.32,
          35.730000000000004,
          38.010000000000005,
          43.68,
          43.68,
          50.14,
          36.39,
          36.04,
          42.01,
          43.660000000000004,
          42.120000000000005,
          50.510000000000005,
          42.17,
          34.6,
          37.25,
          29.9,
          32.37,
          35.46,
          50.56,
          45.629999999999995,
          48.910000000000004,
          46.58,
          45.910000000000004,
          40.35,
          47.28,
          49.10999999999999,
          43.480000000000004,
          46.2,
          44.8,
          46.620000000000005,
          44.82000000000001,
          49.080000000000005,
          53.5,
          36.690000000000005,
          42.43000000000001,
          38.42,
          44.13999999999999,
          20.74,
          43.68,
          43.68,
          43.68,
          64.75,
          54.64,
          40.88,
          33.800000000000004,
          37.660000000000004,
          29.900000000000002,
          65.25999999999999,
          40.11000000000001,
          42.95,
          44.73,
          44.66,
          44.66,
          44.66,
          44.66,
          67.18999999999998,
          59.2,
          53.25,
          44.66,
          44.66,
          44.66,
          44.66,
          77.20999999999998,
          59,
          67.03,
          66.13,
          72.16999999999999,
          62.470000000000006,
          73.52,
          69.54999999999998,
          82.28999999999999,
          61.81,
          71.62999999999998,
          80.94999999999999,
          105.08999999999999,
          54.849999999999994,
          68.10999999999999,
          86.16,
          42.74000000000001,
          68.70999999999998,
          82.11,
          48.29,
          39.830000000000005,
          39.63,
          39.07,
          39.02,
          39.03,
          39.7,
          39.9,
          39.199999999999996,
          38.940000000000005,
          39.59,
          39.24,
          38.87,
          39.64,
          39.2,
          38.940000000000005,
          39.25,
          38.64,
          39.59,
          39.79,
          40.96000000000001,
          35.98,
          27.8,
          24.830000000000002,
          23.3,
          25.060000000000002,
          24.810000000000002,
          23.28,
          21.71,
          21.759999999999998,
          26.220000000000002,
          23.830000000000002,
          22.11,
          23.1,
          21.549999999999997,
          20.89,
          24.830000000000002,
          26.139999999999997,
          24.419999999999998,
          29.700000000000003,
          21.71,
          22.76,
          25.379999999999995,
          18.619999999999997,
          26.369999999999997,
          28.43,
          23.830000000000002,
          16.27,
          19.47,
          19.75,
          28.48,
          26.52,
          24.479999999999997,
          28.300000000000004,
          25.509999999999998,
          23.82,
          27.020000000000003,
          25.819999999999997,
          27.040000000000003,
          31.069999999999997,
          30.840000000000003,
          34.4,
          32.93,
          30.459999999999997,
          32.87,
          28.759999999999998,
          30.110000000000003,
          30.499999999999996,
          32.79,
          29.179999999999996,
          26.76,
          33.11,
          35,
          33.36,
          30.95,
          30.360000000000003,
          32.6,
          32.24,
          28.199999999999996,
          26.479999999999997,
          27.52,
          28.81,
          31.720000000000002,
          28.78,
          71.72,
          134.45000000000002,
          29.529999999999998,
          30.29,
          30.56,
          28.430000000000003,
          31.2,
          32.41,
          34,
          32.19,
          28.45,
          29.469999999999995,
          30.69,
          31.350000000000005,
          35.830000000000005,
          35.98,
          31.709999999999994,
          31.62,
          31.06,
          29.85,
          27.74,
          25.130000000000003,
          27.569999999999997,
          32.699999999999996,
          30.95,
          27.7,
          29.740000000000002,
          32.12,
          31.21,
          34.6,
          32.74,
          40.36,
          33.04,
          35.22,
          33.4,
          34.55,
          38.55,
          44.29,
          41.79,
          47.74999999999999,
          54.83,
          41.39,
          44.919999999999995,
          41.39,
          39.05,
          31.500000000000004,
          39.07,
          37.4,
          45.699999999999996,
          47.85,
          56.809999999999995,
          43.66,
          40.239999999999995,
          35.099999999999994,
          43.12,
          37.84,
          50.410000000000004,
          35.989999999999995,
          45.529999999999994,
          43.989999999999995,
          41.36,
          36.15,
          52.059999999999995,
          52.339999999999996,
          47.12,
          38.82,
          38.9,
          41.650000000000006,
          52.1,
          61.28,
          52.36,
          54.11,
          50.410000000000004,
          57.24,
          50.26,
          45.06,
          50.68,
          47.82,
          53.3,
          53.39000000000001,
          49.56,
          45.72,
          42.75,
          44.769999999999996,
          37.81,
          30.810000000000002,
          42.63,
          39.7,
          40.35,
          38.02,
          45.300000000000004,
          46.21,
          44.9,
          37.519999999999996,
          39.66,
          46.440000000000005,
          44.12,
          39.97,
          60.89,
          46.29,
          58.1,
          47.46,
          36.64,
          33.120000000000005,
          36,
          43.080000000000005,
          47.62,
          26.09,
          30.71,
          46.70000000000001,
          36.97,
          42.03,
          48.99,
          42.199999999999996,
          53.82,
          58.88,
          63.26,
          46.65,
          63.79,
          44.11,
          28.67,
          29.669999999999998,
          29.64,
          29.62,
          28.060000000000002,
          34.480000000000004,
          44.64,
          37.269999999999996,
          29.869999999999997,
          36.03,
          46.83,
          41.26,
          39.870000000000005,
          56.91,
          47.49,
          38.14,
          52.699999999999996,
          53.330000000000005,
          38.730000000000004,
          42.83,
          43.8,
          44.61,
          47.89000000000001,
          28.15,
          71.36999999999999,
          52.24999999999999,
          42.87,
          43.18,
          44.080000000000005,
          44.47,
          44.2,
          43.86,
          38.13999999999999,
          36.16,
          39.38,
          38.75,
          45.83,
          42.67,
          41.8,
          45.120000000000005,
          48.89,
          44.13,
          42.26,
          40.05,
          39.720000000000006,
          42.620000000000005,
          41.9,
          44.02000000000001,
          41.949999999999996,
          40,
          42.98,
          47.510000000000005,
          42.39,
          42.67,
          43.78,
          50.51,
          47.980000000000004,
          43.459999999999994,
          141.57000000000002,
          119.30999999999999,
          103.23,
          77.2,
          69.08,
          64.01,
          52.65,
          47.089999999999996,
          65.57,
          76.12,
          91.1,
          81.14999999999999,
          58.260000000000005,
          70.95,
          63.8,
          57.06999999999999,
          63.95,
          51.36,
          57.8,
          86.28,
          80.35000000000001,
          53.07,
          59.36000000000001,
          70.50999999999999,
          86.11,
          85.52,
          56.14,
          57.77,
          57.75,
          60.33,
          70.97999999999999,
          62.85,
          77.37,
          111.34,
          77.92000000000002,
          73.25999999999999,
          87.11,
          74.28,
          73.21,
          80.32,
          103.07000000000001,
          84.60999999999999,
          73.42999999999999,
          71.75,
          80.74,
          87.91999999999999,
          95.06,
          92.5,
          110.21000000000001,
          85.43,
          72.59,
          73.55,
          82.30000000000001,
          72.64999999999999,
          75.97,
          93.94,
          78.36999999999999,
          68.47,
          70.06000000000002,
          84.07000000000001,
          99.34,
          92.45,
          90.53999999999999,
          66.77,
          60.95,
          70.77000000000001,
          87.19,
          67.58999999999999,
          83.22,
          70.54,
          70.59,
          83.47000000000001,
          61.2,
          78.37,
          77.01,
          82.21,
          90.81999999999998,
          99.18999999999998,
          108.96000000000001,
          99.59,
          89.09,
          80.42999999999999,
          73.45,
          59.6,
          54.370000000000005,
          51.03,
          46.879999999999995,
          56.730000000000004,
          64.13,
          64.78,
          61.36,
          60.04,
          69.31,
          65.67999999999999,
          74.96000000000001,
          74.83,
          66.38,
          67.92999999999999,
          71.24,
          70.06,
          80.99,
          73.91,
          72.33,
          73.29,
          67.38,
          77.45,
          76.47,
          70.51,
          64.45,
          65.62,
          74.32000000000001,
          80.22000000000001,
          81.38000000000001,
          82.66,
          76.97,
          73.47,
          76.64999999999999,
          86.56,
          92.71000000000001,
          87.92,
          70.05000000000001,
          36,
          44.66,
          37.21,
          37.38999999999999,
          37.589999999999996,
          38.260000000000005,
          38.949999999999996,
          50.77,
          46.739999999999995,
          44.339999999999996,
          38.550000000000004,
          40.830000000000005,
          37.65,
          37.64999999999999,
          37.419999999999995,
          36.96,
          40.93,
          41.050000000000004,
          36.61,
          38.660000000000004,
          39.85,
          38.690000000000005,
          38.24,
          47.37,
          40.69,
          35.309999999999995,
          36.82,
          36.349999999999994,
          39.33,
          37.300000000000004,
          38.28,
          36.89,
          36.13,
          37.03,
          40.089999999999996,
          36.82000000000001,
          41.43000000000001,
          38.84000000000001,
          36.550000000000004,
          35.830000000000005,
          37.28,
          37.96,
          37.60999999999999,
          36.38999999999999,
          39.849999999999994,
          36.959999999999994,
          36.29,
          36.99999999999999,
          36.76,
          35.32,
          35.730000000000004,
          36.71,
          36.769999999999996,
          36.160000000000004,
          36.47,
          35.72,
          36.93000000000001,
          36.89,
          36.18,
          36.01,
          34.93000000000001,
          35.13,
          34.85,
          34.46,
          34.43,
          34.65,
          34.75,
          44.66,
          34.28,
          34.589999999999996,
          34.410000000000004,
          34.43,
          34.46000000000001,
          34.400000000000006,
          34.39,
          34.37,
          34.519999999999996,
          34.550000000000004,
          34.34,
          34.24,
          34.56,
          34.32000000000001,
          34.63,
          34.56,
          34.57,
          34.53,
          34.45,
          34.6,
          34.64,
          34.4,
          34.61,
          33.95,
          34.089999999999996,
          34.550000000000004,
          36.3,
          33.940000000000005,
          33.96000000000001,
          34.02,
          33.94,
          34.26,
          33.79,
          57.910000000000004,
          30.27,
          35.49,
          39.92,
          31.189999999999998,
          34.86,
          27.39,
          37.06,
          44.04,
          47.32,
          44.18,
          39.48,
          34.46,
          36.92,
          26.240000000000002,
          32.44,
          37.77,
          55.67999999999999,
          49.13,
          46.63,
          42.900000000000006,
          61.04,
          74.28,
          59.76,
          44.78,
          34.21,
          34.57,
          41.39,
          40.87,
          45.029999999999994,
          43.36,
          46.01,
          46.29,
          43.55,
          56.21999999999999,
          60.75,
          61.769999999999996,
          69.58999999999999,
          68.25,
          63.42,
          60.27,
          69.66999999999999,
          79.85999999999999,
          80.96999999999998,
          62.25000000000001,
          57.47,
          46.370000000000005,
          43.13,
          49.169999999999995,
          81.79999999999998,
          57.470000000000006,
          42.290000000000006,
          42.4,
          50.559999999999995,
          48.730000000000004,
          52.91,
          50.79,
          72.14999999999999,
          67.44999999999999,
          69.72999999999999,
          61.47,
          56.24,
          58.76,
          74.28999999999999,
          76.37,
          74.69,
          76.47,
          77.26,
          89.39000000000001,
          91.82000000000001,
          69.94,
          65.6,
          64.94999999999999,
          89.17000000000002,
          96.22,
          110.98,
          99.74000000000001,
          103.4,
          105.39000000000001,
          103.6,
          104.84,
          99.93,
          90.76,
          84.72,
          82.04,
          79.48,
          81.27,
          99.85999999999999,
          104.12,
          106.47,
          88.55000000000001,
          84.39000000000001,
          88.58,
          80.44,
          76.67,
          77.43,
          82.73,
          83.51,
          88.72999999999999,
          72.49999999999999,
          82.89,
          88.08,
          74.97000000000001,
          69.86999999999999,
          73.44000000000001,
          84.58,
          100.25,
          96.84,
          88.15000000000002,
          64.98,
          91.49,
          88.44999999999999,
          79.00000000000001,
          86.33999999999999,
          94.33999999999999,
          82.38,
          85.64,
          92.35,
          85.76000000000002,
          89.80999999999999,
          62.21,
          34.29,
          34.31,
          34.11,
          34.75,
          34.5,
          38.78000000000001,
          90.43999999999998,
          34.94,
          43.01,
          35.800000000000004,
          36.050000000000004,
          36.150000000000006,
          36.1,
          37.74,
          40.120000000000005,
          36.7,
          38.720000000000006,
          36.61000000000001,
          37.31,
          47.22,
          37.89,
          37.57,
          51.03,
          34.81,
          34.96,
          47.85000000000001,
          35.51,
          42.96,
          37.470000000000006,
          35.6,
          36.33,
          37.040000000000006,
          41.66,
          44.15,
          41.42000000000001,
          46.77,
          36.43,
          36.35,
          35.07,
          35.620000000000005,
          36.400000000000006,
          36.78000000000001,
          38.5,
          37.4,
          36.870000000000005,
          36.71,
          36.96,
          38.13,
          36.160000000000004,
          36.74,
          36.94,
          37.38,
          37.55,
          37.1,
          35.85,
          35.949999999999996,
          36.5,
          37.160000000000004,
          51.57,
          37.13,
          36.96,
          36.980000000000004,
          36.480000000000004,
          35.620000000000005,
          35.65,
          36.37,
          36.6,
          36.21000000000001,
          36.31,
          37.19,
          36.78,
          36.32,
          37.28000000000001,
          36.09,
          37.580000000000005,
          40.46,
          37.56,
          39.160000000000004,
          42.54,
          37.940000000000005,
          37.370000000000005,
          37.720000000000006,
          37.900000000000006,
          38.540000000000006,
          39.21,
          39.03,
          39.69,
          41.42,
          46.480000000000004,
          55.57,
          60.660000000000004,
          73.47,
          61.720000000000006,
          55.04,
          63.730000000000004,
          76.04999999999998,
          87.02,
          72.21,
          63.669999999999995,
          111.03999999999999,
          64.88,
          57.17,
          61.36,
          76.63,
          55.97,
          56.91,
          45.53,
          48.26,
          44.89,
          58.440000000000005,
          50.050000000000004,
          42.5,
          49.33,
          59.67,
          60.68000000000001,
          56.440000000000005,
          49.800000000000004,
          57.35,
          46.48,
          48.56,
          35.010000000000005,
          28.03,
          30.03,
          37.33,
          50.84,
          41.529999999999994,
          34.75,
          34.239999999999995,
          31.01,
          44.02,
          48.529999999999994,
          48.00000000000001,
          51.440000000000005,
          49.12,
          42.940000000000005,
          40.32000000000001,
          34.16,
          32.43,
          30.35,
          31.919999999999998,
          35.22,
          35.029999999999994,
          33.480000000000004,
          33.059999999999995,
          36.879999999999995,
          37.6,
          38.98,
          48,
          44.44,
          48.169999999999995,
          43.41,
          29.610000000000003,
          27.62,
          25.080000000000002,
          29.22,
          26.540000000000003,
          28.470000000000002,
          35.1,
          28.21,
          24.92,
          29.52,
          36.199999999999996,
          38.57999999999999,
          49.56,
          80.64,
          75.39,
          65.42,
          54,
          57.769999999999996,
          51.49,
          42.61000000000001,
          43.669999999999995,
          39.91000000000001,
          39.87,
          41.809999999999995,
          45.82,
          60.18,
          58.470000000000006,
          55.49000000000001,
          49.099999999999994,
          47.76,
          46.85000000000001,
          42.28,
          46.56999999999999,
          77.75999999999999,
          36.940000000000005,
          42.809999999999995,
          37.839999999999996,
          43.58,
          35.61,
          40.49999999999999,
          47.96000000000001,
          36.53000000000001,
          41.839999999999996,
          44.26,
          40.28,
          39.39,
          35.73,
          59.199999999999996,
          48.53999999999999,
          55.92,
          63.28,
          43.82000000000001,
          41.61,
          41.06,
          42.669999999999995,
          41.75,
          47.44,
          46.809999999999995,
          50.79,
          53.22,
          53.03,
          48.51,
          50.19,
          47.00000000000001,
          42.029999999999994,
          46.21000000000001,
          48.92000000000001,
          54.080000000000005,
          56.4,
          40.77,
          38.43,
          38.29,
          36.4,
          45.32,
          44.45,
          42.87,
          39.93,
          34.64,
          39.44,
          37.660000000000004,
          37.33,
          34.48,
          45.11,
          33.61999999999999,
          45.13000000000001,
          39.14,
          41.72,
          31.47,
          38.339999999999996,
          41.61,
          36.3,
          87.06,
          76.38999999999999,
          75.41999999999999,
          89.46,
          68.89,
          74.8,
          60.27,
          71.69,
          79.61999999999999,
          76.94,
          85.47,
          73.87,
          70.02,
          74.66,
          69.55999999999999,
          62.98,
          62.35,
          73.33999999999999,
          65.67999999999999,
          71.10999999999999,
          74.67999999999999,
          70.92999999999999,
          67.1,
          67.07,
          67.72999999999999,
          81.25,
          69.32,
          67.02,
          61.72,
          63.56,
          70.94999999999999,
          78.7,
          79.53,
          90.61999999999998,
          89.87999999999998,
          75.66,
          85.83999999999999,
          84.95,
          77.75999999999999,
          77.17,
          90.02,
          79.49999999999999,
          83.63999999999999,
          83.22999999999999,
          82.54999999999998,
          87.22,
          81.51999999999998,
          85.91,
          104.10999999999999,
          85.9,
          78.39,
          70.49,
          82.05,
          85.51,
          76.35999999999999,
          89.96,
          93.46,
          88.35,
          84.52,
          88.07,
          91.55999999999999,
          92.85,
          100.1,
          98.97,
          92.32,
          73.42999999999999,
          100.50999999999999,
          108.41,
          117.46,
          115.09999999999998,
          92.00999999999999,
          92.19,
          106.13999999999999,
          104.42,
          134.69,
          122.07999999999998,
          120.67999999999999,
          119.75,
          130.31999999999996,
          119.32,
          127.42999999999999,
          112.61,
          104.12999999999998,
          87.13,
          72.35999999999999,
          74.11,
          78.35999999999999,
          88.37,
          88.99,
          83.53999999999999,
          82.85999999999999,
          79.72999999999999,
          85.72,
          80.99,
          88.41,
          86.27000000000001,
          87.94,
          76.97,
          77.96999999999998,
          80.78,
          74.53,
          73.08999999999999,
          69.19,
          73.38,
          70.08999999999999,
          74.50999999999999,
          71.84,
          69.94,
          79.32,
          72.51,
          80.00999999999999,
          80.17999999999998,
          66.1,
          56.82000000000001,
          60.78,
          58.300000000000004,
          62.669999999999995,
          73.91999999999999,
          78.55,
          65.52,
          41.7,
          46.19,
          43.12,
          42.57,
          52.99999999999999,
          53.08,
          55.66,
          108.93999999999998,
          190.39999999999998,
          154.02999999999997,
          103.30999999999999,
          111.56,
          89.27999999999999,
          98.55,
          101.90999999999998,
          87.21999999999998,
          83.50999999999999,
          96.75999999999999,
          106.25999999999999,
          97.74999999999999,
          84.05,
          93.66999999999999,
          84.33999999999999,
          73.24,
          81.02,
          84.77,
          85.40999999999998,
          99.08999999999999,
          75.35999999999999,
          89.72999999999999,
          88.83,
          85.13,
          77.58999999999999,
          84.99,
          92.11,
          80.34999999999998,
          112.58,
          85.72999999999999,
          64.85999999999999,
          44.66,
          77.78999999999999,
          63.029999999999994,
          65.02999999999999,
          79.46999999999998,
          64.24,
          69.91999999999999,
          73.92,
          67.07999999999998,
          88.82,
          90.00999999999999,
          173.60999999999999,
          125.39,
          95.50999999999999,
          97.40999999999998,
          67.88999999999999,
          73.35,
          78.46,
          70.18999999999998,
          80.12999999999998,
          84.86999999999999,
          83.41999999999999,
          78.60999999999999,
          82.74999999999999,
          67.97999999999999,
          61.82,
          54.68,
          52.71,
          54.25,
          70.44,
          77.07,
          65.92999999999999,
          66.92999999999999,
          74.02,
          88.46999999999998,
          61.07,
          75.61,
          119.6,
          142.2,
          145.32,
          125.18999999999998,
          95.61,
          106.82,
          108.60999999999999,
          85.47999999999999,
          88.64,
          116.02999999999999,
          107.75,
          80.15999999999998,
          87.52,
          69.80999999999999,
          76.99,
          86.32,
          110.50999999999999,
          78.55999999999999,
          140.32999999999998,
          141.72999999999996,
          77.27,
          82.77999999999999,
          81.75999999999999,
          73.44,
          89.99,
          91.8,
          111.94999999999999,
          94.32,
          84.13,
          64.05999999999999,
          96.28999999999999,
          111.75,
          70.14,
          63.48,
          66.32,
          64.39999999999999,
          59.160000000000004,
          58.52,
          66.17999999999999,
          62.029999999999994,
          57.93,
          58.13,
          53.309999999999995,
          60.52,
          68.83,
          52.629999999999995,
          28.500000000000004,
          17.82,
          17.77,
          19.77,
          20.03,
          18.64,
          17.69,
          20.87,
          22.790000000000003,
          36.699999999999996,
          38,
          38.25,
          36.76,
          37.72,
          24.250000000000004,
          24.080000000000002,
          27.560000000000002,
          31.419999999999998,
          36.07,
          32.72,
          37.87,
          37.489999999999995,
          36.54,
          32.32,
          26.22,
          25.06,
          33.32,
          38.949999999999996,
          40.55,
          40.81999999999999,
          37,
          35.91,
          37.419999999999995,
          37.62,
          36.37,
          32.71,
          29.3,
          27.240000000000002,
          31.270000000000003,
          25.38,
          22.459999999999997,
          20.709999999999997,
          21.090000000000003,
          23.34,
          22.69,
          21.13,
          22.580000000000002,
          23.35,
          23.82,
          23.71,
          23.87,
          23.92,
          24.330000000000002,
          24.32,
          23.94,
          24.46,
          25.64,
          25.63,
          26.92,
          25.78,
          27.8,
          25.060000000000002,
          21.85,
          26.69,
          27.94,
          27.76,
          27.95,
          28.099999999999998,
          28.200000000000003,
          27.87,
          26.150000000000002,
          19.98,
          20.24,
          19.57,
          19.630000000000003,
          19.77,
          19.86,
          19.71,
          19.95,
          19.930000000000003,
          19.790000000000003,
          19.61,
          19.630000000000003,
          19.93,
          19.81,
          19.62,
          20.200000000000003,
          20.040000000000003,
          20.01,
          20.02,
          16.17,
          18.580000000000002,
          19.51,
          20.2,
          19.810000000000002,
          19.490000000000002,
          19.84,
          19.770000000000003,
          19.650000000000002,
          19.28,
          52.05,
          126.69999999999999,
          89.29,
          93.35000000000001,
          104.33,
          117.30000000000001,
          115.92999999999999,
          138.67,
          115.68,
          106.60999999999999,
          106.00999999999999,
          111.54,
          118.96,
          182.34,
          200.17999999999998,
          187.48,
          145.13000000000002,
          130.74,
          106.24000000000001,
          96.47,
          125.11999999999999,
          137.69,
          124.37,
          121.32000000000001,
          117.91,
          135.70000000000002,
          107.08999999999999,
          120.38,
          93.08,
          94.77000000000001,
          104.15,
          119.26,
          112.74000000000001,
          104.11,
          119.92000000000002,
          133.34,
          101.00999999999999,
          99.42,
          88.42,
          93.22,
          100.83,
          125.82000000000001,
          136.3,
          120.32,
          132.29,
          101.9,
          100.96,
          99.1,
          92.82,
          98.11,
          91.80000000000001,
          88.47999999999999,
          113.46,
          82.94,
          80.10000000000001,
          62.48,
          64.58,
          77.12,
          88.33000000000001,
          95.13999999999999,
          102.45,
          89.55000000000001,
          83.10999999999999,
          67.87,
          66.48,
          50.7,
          55.760000000000005,
          61.07000000000001,
          83.61,
          96.50000000000001,
          91.93,
          69.75999999999999,
          80.22,
          82.56000000000002,
          73.09,
          91.18,
          96.73,
          102.52999999999999,
          108.83,
          98.61,
          89.39000000000001,
          75.55000000000001,
          83.44000000000001,
          69.5,
          71.67,
          65.36,
          84.28,
          80.53000000000002,
          85.67,
          89.87,
          86.60000000000001,
          90.92000000000002,
          75.38000000000001,
          76.89999999999999,
          96.98,
          81.71,
          69.21000000000001,
          85.17999999999999,
          76.39,
          95.13,
          68.8,
          61.26,
          59.769999999999996,
          56.48,
          50,
          54.17000000000001,
          55.35,
          54.589999999999996,
          47.62,
          66.73,
          45.37,
          56.75,
          57.129999999999995,
          39.33,
          50.81,
          62.440000000000005,
          62.56,
          46.28,
          43.120000000000005,
          51.39999999999999,
          53.75000000000001,
          37.42999999999999,
          93.24,
          37.06,
          47.24000000000001,
          47.11,
          64.98999999999998,
          53.24999999999999,
          46.09,
          46.349999999999994,
          50.529999999999994,
          73.08999999999999,
          108.93,
          59.02,
          64.74999999999999,
          62.470000000000006,
          43.89,
          52.09,
          46.36,
          36.83,
          39.1,
          56.690000000000005,
          56.449999999999996,
          48.949999999999996,
          54.779999999999994,
          53.07,
          46.48,
          58.38999999999999,
          57.330000000000005,
          49.230000000000004,
          41.67,
          49.98,
          41.4,
          41.51,
          44.29,
          50.370000000000005,
          43.78,
          39.93,
          48.629999999999995,
          40.839999999999996,
          42.46999999999999,
          40.9,
          44.78000000000001,
          45.279999999999994,
          37.86,
          39.980000000000004,
          38.93,
          40.04,
          37.96,
          53.27,
          60.60999999999999,
          65.55999999999999,
          66.42999999999999,
          49.25999999999999,
          58.080000000000005,
          56.27,
          53.580000000000005,
          48.54,
          52.699999999999996,
          79.28999999999999,
          94.99999999999999,
          95.63999999999999,
          89.66,
          90.78,
          129.44,
          68.71,
          59.559999999999995,
          61.97,
          69.99999999999999,
          81.77,
          74.1,
          77.88,
          71.07,
          50.25999999999999,
          55.21,
          48.220000000000006,
          58.38,
          66.9,
          74.06,
          92.44999999999999,
          130,
          98.97,
          89.07,
          74.35,
          87.81,
          92.57,
          68.05,
          40.69000000000001,
          47.699999999999996,
          69.17999999999999,
          71.91,
          62.160000000000004,
          48.720000000000006,
          51.60000000000001,
          59.75,
          61.86,
          61.099999999999994,
          56.79,
          60.84,
          54.93,
          63.94,
          56.19,
          61.470000000000006,
          53.5,
          59.28,
          64.66,
          61.27,
          59.76,
          66.86,
          69.99,
          63.28,
          62.089999999999996,
          55.900000000000006,
          65.69,
          59.519999999999996,
          86.01999999999998,
          63.5,
          45.669999999999995,
          45.7,
          45.24,
          43.199999999999996,
          71.93,
          50.510000000000005,
          66.92999999999999,
          66.03999999999999,
          65.94999999999999,
          54.67,
          58.99,
          49.27,
          50.42999999999999,
          55.010000000000005,
          55.71000000000001,
          58.910000000000004,
          56.95,
          44.18,
          44.68000000000001,
          51.400000000000006,
          50.120000000000005,
          52.37,
          52.690000000000005,
          53.42,
          61.55,
          61.34,
          60.69000000000001,
          60.23,
          58.63,
          69.07999999999998,
          61.190000000000005,
          51.300000000000004,
          38.19,
          47.08,
          57.08,
          58.15,
          56.160000000000004,
          54.89,
          49.07,
          69.70999999999998,
          57.43000000000001,
          65.99999999999999,
          61.730000000000004,
          61.910000000000004,
          58.989999999999995,
          59.82000000000001,
          54.71,
          53.730000000000004,
          55.89,
          63.589999999999996,
          53.980000000000004,
          73.62999999999998,
          75.78999999999999,
          79.06999999999998,
          80.13999999999999,
          50.57000000000001,
          41.18,
          66.61999999999999,
          73.85,
          73.13999999999999,
          53.25,
          69.46999999999998,
          76.63999999999999,
          76.71,
          60.300000000000004,
          44.85,
          47.480000000000004,
          53.03,
          51.92,
          46.67,
          42.89,
          44.35,
          47.82,
          46.18,
          45.66,
          43,
          40.76,
          49.35000000000001,
          59.27,
          59.07000000000001,
          71.26999999999998,
          77.78999999999999,
          69.21999999999998,
          52.66,
          37.24,
          43.37,
          46.620000000000005,
          52.00000000000001,
          55.18,
          48.62,
          46.96,
          50.4,
          54.12,
          62.84,
          54.129999999999995,
          43.980000000000004,
          45.25,
          51.75,
          43.410000000000004,
          42.160000000000004,
          42.8,
          37.83,
          33.339999999999996,
          29.76,
          30.940000000000005,
          36.25,
          36.09,
          36.19,
          31.380000000000003,
          34.31,
          37.46,
          36.620000000000005,
          33.93,
          31.240000000000002,
          38.84,
          37.53,
          40.1,
          38.84,
          37.06,
          38.120000000000005,
          44.27,
          54.980000000000004,
          44.96000000000001,
          59.6,
          56.07,
          40.75,
          41.98,
          43.6,
          38.379999999999995,
          26.84,
          30.650000000000002,
          37.28,
          34.480000000000004,
          37.730000000000004,
          34.980000000000004,
          26.13,
          29.61,
          31.48,
          30.78,
          31.71,
          31.53,
          29.479999999999997,
          33.91,
          33.559999999999995,
          55.08,
          44.75,
          32.77,
          35.61,
          38.53,
          35.24000000000001,
          35.85,
          36.57,
          38.85,
          39.82,
          43.449999999999996,
          33.269999999999996,
          34.9,
          38.2,
          40.559999999999995,
          39.050000000000004,
          35.92,
          39.989999999999995,
          33.989999999999995,
          34.63999999999999,
          37.51,
          34.2,
          39.41,
          40.9,
          32.769999999999996,
          45.33,
          41.71,
          38.44,
          38.22,
          55.78,
          40.089999999999996,
          39.03000000000001,
          44.19,
          45.769999999999996,
          32.53,
          27.6,
          35.25,
          35.26,
          32.04,
          31.610000000000003,
          46.15,
          48.709999999999994,
          49.059999999999995,
          47.300000000000004,
          47.13000000000001,
          41.13,
          49.61,
          53.78,
          34.98,
          36.75,
          41.26,
          44.519999999999996,
          40.769999999999996,
          43.25,
          34.86,
          30.740000000000002,
          31.32,
          34.559999999999995,
          43.260000000000005,
          46.06999999999999,
          46.28,
          43.86,
          47.48,
          44.940000000000005,
          48.25,
          39.98,
          42.32000000000001,
          39.76,
          39.31,
          32.269999999999996,
          28.14,
          32.6,
          41.36,
          46.099999999999994,
          46.73,
          41.37,
          39.699999999999996,
          38.900000000000006,
          36.74,
          37.080000000000005,
          34.78,
          43.120000000000005,
          47.82,
          47.169999999999995,
          55.980000000000004,
          51.81,
          61.699999999999996,
          45.13,
          45.78,
          51.82,
          45.19,
          53.580000000000005,
          49.019999999999996,
          36.959999999999994,
          39.23,
          48.84,
          41.449999999999996,
          38.02,
          33.169999999999995,
          37.17999999999999,
          44.16,
          45.10999999999999,
          59.69,
          50.38,
          38.04,
          43.06,
          32.1,
          57.160000000000004,
          34.080000000000005,
          33.72,
          25.05,
          22.27,
          39.720000000000006,
          42.25,
          36.29,
          39.349999999999994,
          34.77,
          33.58,
          33.92,
          37.48,
          55.94,
          75.49,
          71.89,
          43.3,
          50.72,
          68.96,
          231.88,
          908.4000000000001,
          923.48,
          433.16,
          27,
          38.59,
          54.169999999999995,
          45.879999999999995,
          48.150000000000006,
          66.46000000000001,
          60.480000000000004,
          49.21,
          66.97999999999999,
          72.08999999999999,
          66.94,
          48.190000000000005,
          54.44,
          47.25999999999999,
          47.720000000000006,
          48.06000000000001,
          374.40000000000003,
          511.32,
          75.32,
          56.84,
          47.04,
          65.04999999999998,
          45.00999999999999,
          36.11000000000001,
          62.23,
          44.66,
          44.66,
          246.57,
          566,
          302.91,
          846.5500000000001,
          839.83,
          942.09,
          906.72,
          914.82,
          913.8900000000001,
          945.23,
          916.5200000000001,
          966.7500000000001,
          891.3000000000001,
          900.19,
          944.58,
          969.24,
          957.9300000000001,
          908.08,
          902.9300000000001,
          917.0600000000001,
          921.64,
          606.22,
          115.07,
          48.38,
          22.889999999999997,
          28.64,
          16.79,
          21.17,
          12.050000000000002,
          8.01,
          11.48,
          16.04,
          20.96,
          18.89,
          21.89,
          22.17,
          19.6,
          32.39,
          49.75000000000001,
          35.00000000000001,
          27.380000000000003,
          40.83,
          44.66,
          44.66,
          44.66,
          44.66,
          40.83,
          40.83,
          40.83,
          40.83,
          40.83,
          40.83,
          40.83,
          40.83,
          40.83,
          40.83,
          40.83,
          40.83,
          40.83,
          40.83,
          40.83,
          40.83,
          40.83,
          40.83,
          40.83,
          40.83,
          6.07,
          35.01,
          33.550000000000004,
          33.07,
          37.81,
          37.050000000000004,
          42.77,
          49.269999999999996,
          43.71000000000001,
          27.82,
          21.26,
          32.89,
          33.3,
          37.790000000000006,
          18.720000000000002,
          41.93000000000001,
          45.370000000000005,
          31.57,
          25.650000000000002,
          33.1,
          31.370000000000005,
          36.97,
          35.68,
          22.89,
          42.31,
          43.13,
          64.78999999999999,
          34.24,
          39.8,
          30.760000000000005,
          35.71,
          37.24,
          40.36,
          45.71,
          55.220000000000006,
          63.86,
          42.47,
          21.26,
          11.48,
          12.629999999999999,
          6.550000000000001,
          54.59,
          68.57,
          64.53,
          54.480000000000004,
          57.78,
          63.2,
          75.51999999999998,
          69.93999999999998,
          71.21999999999998,
          79.29999999999998,
          68.76999999999998,
          63.22,
          69.16,
          64.19,
          50.03,
          53.760000000000005,
          48.650000000000006,
          59.08,
          64.82999999999998,
          92.55999999999999,
          88.72999999999999,
          80.38,
          85.03999999999999,
          60.46000000000001,
          57.61000000000001,
          56.019999999999996,
          68.99999999999999,
          61.52,
          83.55999999999999,
          73.07,
          117.94,
          85.75,
          109.00999999999999,
          79.58999999999999,
          44.66,
          44.66,
          44.66,
          116.33999999999999,
          59.83,
          72.90999999999998,
          54.72,
          55.550000000000004,
          43.24,
          50.14,
          56.05,
          44.22,
          67.60999999999999,
          63.42,
          73.04999999999998,
          73.21,
          71.68999999999998,
          57.56,
          60.85,
          119.53999999999999,
          78.17999999999999,
          79.21,
          69.77999999999999,
          82.71,
          63.57,
          93.08,
          83.05,
          84.27,
          98.69,
          91.77999999999999,
          84.11999999999999,
          86.66999999999999,
          108.55,
          94.58,
          79.52999999999999,
          83.72999999999999,
          82.44,
          48.56,
          49.019999999999996,
          70.79999999999998,
          120.80999999999999,
          111.61999999999999,
          53.08,
          72.68999999999998,
          77.38999999999999,
          71.82999999999998,
          72.05999999999999,
          37.13,
          51.14,
          47.589999999999996,
          58.47,
          56.669999999999995,
          50.79,
          49.25,
          47.66,
          53.01,
          46.849999999999994,
          61.35,
          65.89999999999999,
          64.92999999999999,
          71.63999999999999,
          71.55999999999999,
          68.24999999999999,
          67.54999999999998,
          60.39,
          51.51,
          41.4,
          47.62,
          50.62,
          46.79,
          49.24999999999999,
          54.36,
          65.61999999999999,
          67.10999999999999,
          66.33999999999999,
          66.58999999999999,
          66.99,
          69.65999999999998,
          63.879999999999995,
          67.79999999999998,
          59.24999999999999,
          57.839999999999996,
          54.01,
          59.87,
          54.910000000000004,
          62.94,
          66.36999999999999,
          67.70999999999998,
          62.63,
          58.9,
          56.92,
          58.92,
          59.419999999999995,
          58.839999999999996,
          62.37,
          73.27999999999999,
          80.24,
          66.76999999999998,
          55.989999999999995,
          59.18,
          65.57999999999998,
          52.67,
          62.37,
          64.38999999999999,
          62.910000000000004,
          56.93,
          63.800000000000004,
          61.94,
          57.19,
          45.32,
          37.989999999999995,
          41.38999999999999,
          36.129999999999995,
          35.52,
          41.88,
          48.81,
          51.029999999999994,
          51.38999999999999,
          56.65,
          61.96999999999999,
          60.22,
          56.46,
          58.57,
          53.74999999999999,
          52.910000000000004,
          57.67,
          56.980000000000004,
          52.59,
          56.01,
          50.61,
          53.199999999999996,
          48.69,
          52.83,
          63,
          58.919999999999995,
          46.71,
          47.730000000000004,
          51.629999999999995,
          47.66,
          50.6,
          57.32,
          54.96,
          46.53,
          39.06,
          45.23,
          62,
          56.419999999999995,
          49.16,
          45.86,
          49.36,
          53.93,
          51.910000000000004,
          46.77,
          47.5,
          51.52,
          52.660000000000004,
          38.019999999999996,
          40.23,
          42.82,
          43.599999999999994,
          39.769999999999996,
          40.62,
          40.72,
          45.67,
          52.559999999999995,
          54.81999999999999,
          49.13999999999999,
          49.199999999999996,
          42.91
         ]
        }
       ],
       "layout": {
        "legend": {
         "bgcolor": "#F5F6F9",
         "font": {
          "color": "#4D5663"
         }
        },
        "paper_bgcolor": "#F5F6F9",
        "plot_bgcolor": "#F5F6F9",
        "template": {
         "data": {
          "bar": [
           {
            "error_x": {
             "color": "#2a3f5f"
            },
            "error_y": {
             "color": "#2a3f5f"
            },
            "marker": {
             "line": {
              "color": "#E5ECF6",
              "width": 0.5
             }
            },
            "type": "bar"
           }
          ],
          "barpolar": [
           {
            "marker": {
             "line": {
              "color": "#E5ECF6",
              "width": 0.5
             }
            },
            "type": "barpolar"
           }
          ],
          "carpet": [
           {
            "aaxis": {
             "endlinecolor": "#2a3f5f",
             "gridcolor": "white",
             "linecolor": "white",
             "minorgridcolor": "white",
             "startlinecolor": "#2a3f5f"
            },
            "baxis": {
             "endlinecolor": "#2a3f5f",
             "gridcolor": "white",
             "linecolor": "white",
             "minorgridcolor": "white",
             "startlinecolor": "#2a3f5f"
            },
            "type": "carpet"
           }
          ],
          "choropleth": [
           {
            "colorbar": {
             "outlinewidth": 0,
             "ticks": ""
            },
            "type": "choropleth"
           }
          ],
          "contour": [
           {
            "colorbar": {
             "outlinewidth": 0,
             "ticks": ""
            },
            "colorscale": [
             [
              0,
              "#0d0887"
             ],
             [
              0.1111111111111111,
              "#46039f"
             ],
             [
              0.2222222222222222,
              "#7201a8"
             ],
             [
              0.3333333333333333,
              "#9c179e"
             ],
             [
              0.4444444444444444,
              "#bd3786"
             ],
             [
              0.5555555555555556,
              "#d8576b"
             ],
             [
              0.6666666666666666,
              "#ed7953"
             ],
             [
              0.7777777777777778,
              "#fb9f3a"
             ],
             [
              0.8888888888888888,
              "#fdca26"
             ],
             [
              1,
              "#f0f921"
             ]
            ],
            "type": "contour"
           }
          ],
          "contourcarpet": [
           {
            "colorbar": {
             "outlinewidth": 0,
             "ticks": ""
            },
            "type": "contourcarpet"
           }
          ],
          "heatmap": [
           {
            "colorbar": {
             "outlinewidth": 0,
             "ticks": ""
            },
            "colorscale": [
             [
              0,
              "#0d0887"
             ],
             [
              0.1111111111111111,
              "#46039f"
             ],
             [
              0.2222222222222222,
              "#7201a8"
             ],
             [
              0.3333333333333333,
              "#9c179e"
             ],
             [
              0.4444444444444444,
              "#bd3786"
             ],
             [
              0.5555555555555556,
              "#d8576b"
             ],
             [
              0.6666666666666666,
              "#ed7953"
             ],
             [
              0.7777777777777778,
              "#fb9f3a"
             ],
             [
              0.8888888888888888,
              "#fdca26"
             ],
             [
              1,
              "#f0f921"
             ]
            ],
            "type": "heatmap"
           }
          ],
          "heatmapgl": [
           {
            "colorbar": {
             "outlinewidth": 0,
             "ticks": ""
            },
            "colorscale": [
             [
              0,
              "#0d0887"
             ],
             [
              0.1111111111111111,
              "#46039f"
             ],
             [
              0.2222222222222222,
              "#7201a8"
             ],
             [
              0.3333333333333333,
              "#9c179e"
             ],
             [
              0.4444444444444444,
              "#bd3786"
             ],
             [
              0.5555555555555556,
              "#d8576b"
             ],
             [
              0.6666666666666666,
              "#ed7953"
             ],
             [
              0.7777777777777778,
              "#fb9f3a"
             ],
             [
              0.8888888888888888,
              "#fdca26"
             ],
             [
              1,
              "#f0f921"
             ]
            ],
            "type": "heatmapgl"
           }
          ],
          "histogram": [
           {
            "marker": {
             "colorbar": {
              "outlinewidth": 0,
              "ticks": ""
             }
            },
            "type": "histogram"
           }
          ],
          "histogram2d": [
           {
            "colorbar": {
             "outlinewidth": 0,
             "ticks": ""
            },
            "colorscale": [
             [
              0,
              "#0d0887"
             ],
             [
              0.1111111111111111,
              "#46039f"
             ],
             [
              0.2222222222222222,
              "#7201a8"
             ],
             [
              0.3333333333333333,
              "#9c179e"
             ],
             [
              0.4444444444444444,
              "#bd3786"
             ],
             [
              0.5555555555555556,
              "#d8576b"
             ],
             [
              0.6666666666666666,
              "#ed7953"
             ],
             [
              0.7777777777777778,
              "#fb9f3a"
             ],
             [
              0.8888888888888888,
              "#fdca26"
             ],
             [
              1,
              "#f0f921"
             ]
            ],
            "type": "histogram2d"
           }
          ],
          "histogram2dcontour": [
           {
            "colorbar": {
             "outlinewidth": 0,
             "ticks": ""
            },
            "colorscale": [
             [
              0,
              "#0d0887"
             ],
             [
              0.1111111111111111,
              "#46039f"
             ],
             [
              0.2222222222222222,
              "#7201a8"
             ],
             [
              0.3333333333333333,
              "#9c179e"
             ],
             [
              0.4444444444444444,
              "#bd3786"
             ],
             [
              0.5555555555555556,
              "#d8576b"
             ],
             [
              0.6666666666666666,
              "#ed7953"
             ],
             [
              0.7777777777777778,
              "#fb9f3a"
             ],
             [
              0.8888888888888888,
              "#fdca26"
             ],
             [
              1,
              "#f0f921"
             ]
            ],
            "type": "histogram2dcontour"
           }
          ],
          "mesh3d": [
           {
            "colorbar": {
             "outlinewidth": 0,
             "ticks": ""
            },
            "type": "mesh3d"
           }
          ],
          "parcoords": [
           {
            "line": {
             "colorbar": {
              "outlinewidth": 0,
              "ticks": ""
             }
            },
            "type": "parcoords"
           }
          ],
          "pie": [
           {
            "automargin": true,
            "type": "pie"
           }
          ],
          "scatter": [
           {
            "marker": {
             "colorbar": {
              "outlinewidth": 0,
              "ticks": ""
             }
            },
            "type": "scatter"
           }
          ],
          "scatter3d": [
           {
            "line": {
             "colorbar": {
              "outlinewidth": 0,
              "ticks": ""
             }
            },
            "marker": {
             "colorbar": {
              "outlinewidth": 0,
              "ticks": ""
             }
            },
            "type": "scatter3d"
           }
          ],
          "scattercarpet": [
           {
            "marker": {
             "colorbar": {
              "outlinewidth": 0,
              "ticks": ""
             }
            },
            "type": "scattercarpet"
           }
          ],
          "scattergeo": [
           {
            "marker": {
             "colorbar": {
              "outlinewidth": 0,
              "ticks": ""
             }
            },
            "type": "scattergeo"
           }
          ],
          "scattergl": [
           {
            "marker": {
             "colorbar": {
              "outlinewidth": 0,
              "ticks": ""
             }
            },
            "type": "scattergl"
           }
          ],
          "scattermapbox": [
           {
            "marker": {
             "colorbar": {
              "outlinewidth": 0,
              "ticks": ""
             }
            },
            "type": "scattermapbox"
           }
          ],
          "scatterpolar": [
           {
            "marker": {
             "colorbar": {
              "outlinewidth": 0,
              "ticks": ""
             }
            },
            "type": "scatterpolar"
           }
          ],
          "scatterpolargl": [
           {
            "marker": {
             "colorbar": {
              "outlinewidth": 0,
              "ticks": ""
             }
            },
            "type": "scatterpolargl"
           }
          ],
          "scatterternary": [
           {
            "marker": {
             "colorbar": {
              "outlinewidth": 0,
              "ticks": ""
             }
            },
            "type": "scatterternary"
           }
          ],
          "surface": [
           {
            "colorbar": {
             "outlinewidth": 0,
             "ticks": ""
            },
            "colorscale": [
             [
              0,
              "#0d0887"
             ],
             [
              0.1111111111111111,
              "#46039f"
             ],
             [
              0.2222222222222222,
              "#7201a8"
             ],
             [
              0.3333333333333333,
              "#9c179e"
             ],
             [
              0.4444444444444444,
              "#bd3786"
             ],
             [
              0.5555555555555556,
              "#d8576b"
             ],
             [
              0.6666666666666666,
              "#ed7953"
             ],
             [
              0.7777777777777778,
              "#fb9f3a"
             ],
             [
              0.8888888888888888,
              "#fdca26"
             ],
             [
              1,
              "#f0f921"
             ]
            ],
            "type": "surface"
           }
          ],
          "table": [
           {
            "cells": {
             "fill": {
              "color": "#EBF0F8"
             },
             "line": {
              "color": "white"
             }
            },
            "header": {
             "fill": {
              "color": "#C8D4E3"
             },
             "line": {
              "color": "white"
             }
            },
            "type": "table"
           }
          ]
         },
         "layout": {
          "annotationdefaults": {
           "arrowcolor": "#2a3f5f",
           "arrowhead": 0,
           "arrowwidth": 1
          },
          "coloraxis": {
           "colorbar": {
            "outlinewidth": 0,
            "ticks": ""
           }
          },
          "colorscale": {
           "diverging": [
            [
             0,
             "#8e0152"
            ],
            [
             0.1,
             "#c51b7d"
            ],
            [
             0.2,
             "#de77ae"
            ],
            [
             0.3,
             "#f1b6da"
            ],
            [
             0.4,
             "#fde0ef"
            ],
            [
             0.5,
             "#f7f7f7"
            ],
            [
             0.6,
             "#e6f5d0"
            ],
            [
             0.7,
             "#b8e186"
            ],
            [
             0.8,
             "#7fbc41"
            ],
            [
             0.9,
             "#4d9221"
            ],
            [
             1,
             "#276419"
            ]
           ],
           "sequential": [
            [
             0,
             "#0d0887"
            ],
            [
             0.1111111111111111,
             "#46039f"
            ],
            [
             0.2222222222222222,
             "#7201a8"
            ],
            [
             0.3333333333333333,
             "#9c179e"
            ],
            [
             0.4444444444444444,
             "#bd3786"
            ],
            [
             0.5555555555555556,
             "#d8576b"
            ],
            [
             0.6666666666666666,
             "#ed7953"
            ],
            [
             0.7777777777777778,
             "#fb9f3a"
            ],
            [
             0.8888888888888888,
             "#fdca26"
            ],
            [
             1,
             "#f0f921"
            ]
           ],
           "sequentialminus": [
            [
             0,
             "#0d0887"
            ],
            [
             0.1111111111111111,
             "#46039f"
            ],
            [
             0.2222222222222222,
             "#7201a8"
            ],
            [
             0.3333333333333333,
             "#9c179e"
            ],
            [
             0.4444444444444444,
             "#bd3786"
            ],
            [
             0.5555555555555556,
             "#d8576b"
            ],
            [
             0.6666666666666666,
             "#ed7953"
            ],
            [
             0.7777777777777778,
             "#fb9f3a"
            ],
            [
             0.8888888888888888,
             "#fdca26"
            ],
            [
             1,
             "#f0f921"
            ]
           ]
          },
          "colorway": [
           "#636efa",
           "#EF553B",
           "#00cc96",
           "#ab63fa",
           "#FFA15A",
           "#19d3f3",
           "#FF6692",
           "#B6E880",
           "#FF97FF",
           "#FECB52"
          ],
          "font": {
           "color": "#2a3f5f"
          },
          "geo": {
           "bgcolor": "white",
           "lakecolor": "white",
           "landcolor": "#E5ECF6",
           "showlakes": true,
           "showland": true,
           "subunitcolor": "white"
          },
          "hoverlabel": {
           "align": "left"
          },
          "hovermode": "closest",
          "mapbox": {
           "style": "light"
          },
          "paper_bgcolor": "white",
          "plot_bgcolor": "#E5ECF6",
          "polar": {
           "angularaxis": {
            "gridcolor": "white",
            "linecolor": "white",
            "ticks": ""
           },
           "bgcolor": "#E5ECF6",
           "radialaxis": {
            "gridcolor": "white",
            "linecolor": "white",
            "ticks": ""
           }
          },
          "scene": {
           "xaxis": {
            "backgroundcolor": "#E5ECF6",
            "gridcolor": "white",
            "gridwidth": 2,
            "linecolor": "white",
            "showbackground": true,
            "ticks": "",
            "zerolinecolor": "white"
           },
           "yaxis": {
            "backgroundcolor": "#E5ECF6",
            "gridcolor": "white",
            "gridwidth": 2,
            "linecolor": "white",
            "showbackground": true,
            "ticks": "",
            "zerolinecolor": "white"
           },
           "zaxis": {
            "backgroundcolor": "#E5ECF6",
            "gridcolor": "white",
            "gridwidth": 2,
            "linecolor": "white",
            "showbackground": true,
            "ticks": "",
            "zerolinecolor": "white"
           }
          },
          "shapedefaults": {
           "line": {
            "color": "#2a3f5f"
           }
          },
          "ternary": {
           "aaxis": {
            "gridcolor": "white",
            "linecolor": "white",
            "ticks": ""
           },
           "baxis": {
            "gridcolor": "white",
            "linecolor": "white",
            "ticks": ""
           },
           "bgcolor": "#E5ECF6",
           "caxis": {
            "gridcolor": "white",
            "linecolor": "white",
            "ticks": ""
           }
          },
          "title": {
           "x": 0.05
          },
          "xaxis": {
           "automargin": true,
           "gridcolor": "white",
           "linecolor": "white",
           "ticks": "",
           "title": {
            "standoff": 15
           },
           "zerolinecolor": "white",
           "zerolinewidth": 2
          },
          "yaxis": {
           "automargin": true,
           "gridcolor": "white",
           "linecolor": "white",
           "ticks": "",
           "title": {
            "standoff": 15
           },
           "zerolinecolor": "white",
           "zerolinewidth": 2
          }
         }
        },
        "title": {
         "font": {
          "color": "#4D5663"
         },
         "text": "Industrial Pollution content"
        },
        "xaxis": {
         "gridcolor": "#E1E5ED",
         "linecolor": "black",
         "showgrid": true,
         "tickfont": {
          "color": "#4D5663"
         },
         "title": {
          "font": {
           "color": "#4D5663"
          },
          "text": "Cities"
         },
         "zerolinecolor": "#E1E5ED"
        },
        "yaxis": {
         "gridcolor": "#E1E5ED",
         "linecolor": "black",
         "showgrid": true,
         "tickfont": {
          "color": "#4D5663"
         },
         "title": {
          "font": {
           "color": "#4D5663"
          },
          "text": "Industrial Pollution content"
         },
         "zerolinecolor": "#E1E5ED"
        }
       }
      },
      "text/html": [
       "<div>\n",
       "        \n",
       "        \n",
       "            <div id=\"67e2c8ee-eba5-489b-a80b-40b1e22d20fa\" class=\"plotly-graph-div\" style=\"height:525px; width:100%;\"></div>\n",
       "            <script type=\"text/javascript\">\n",
       "                require([\"plotly\"], function(Plotly) {\n",
       "                    window.PLOTLYENV=window.PLOTLYENV || {};\n",
       "                    window.PLOTLYENV.BASE_URL='https://plot.ly';\n",
       "                    \n",
       "                if (document.getElementById(\"67e2c8ee-eba5-489b-a80b-40b1e22d20fa\")) {\n",
       "                    Plotly.newPlot(\n",
       "                        '67e2c8ee-eba5-489b-a80b-40b1e22d20fa',\n",
       "                        [{\"line\": {\"color\": \"rgba(255, 153, 51, 1.0)\", \"dash\": \"solid\", \"shape\": \"linear\", \"width\": 1.3}, \"mode\": \"lines\", \"name\": \"Industrial Pollution content\", \"text\": \"\", \"type\": \"scatter\", \"x\": [1827, 1828, 1829, 1830, 1831, 1832, 1833, 1834, 1835, 1836, 1837, 1838, 1839, 1840, 1841, 1842, 1843, 1844, 1845, 1846, 1847, 1848, 1849, 1850, 1851, 1852, 1853, 1854, 1855, 1856, 1857, 1858, 1859, 1860, 1861, 1862, 1863, 1864, 1865, 1866, 1867, 1868, 1869, 1870, 1871, 1872, 1873, 1874, 1875, 1876, 1877, 1878, 1879, 1880, 1881, 1882, 1883, 1884, 1885, 1886, 1887, 1888, 1889, 1890, 1891, 1892, 1893, 1894, 1895, 1896, 1897, 1898, 1899, 1900, 1901, 1902, 1903, 1904, 1905, 1906, 1907, 1908, 1909, 1910, 1911, 1912, 1913, 1914, 1915, 1916, 1917, 1918, 1919, 1920, 1921, 1922, 1923, 1924, 1925, 1926, 1927, 1928, 1929, 1930, 1931, 1932, 1933, 1934, 1935, 1936, 1937, 1938, 1939, 1940, 1941, 1942, 1943, 1944, 1945, 1946, 1947, 1948, 1949, 1950, 1951, 1952, 1953, 1954, 1955, 1956, 1957, 1958, 1959, 1960, 1961, 1962, 1963, 1964, 1965, 1966, 1967, 1968, 1969, 1970, 1971, 1972, 1973, 1974, 1975, 1976, 1977, 1978, 1979, 1980, 1981, 1982, 1983, 1984, 1985, 1986, 1987, 1988, 1989, 1990, 1991, 1992, 1993, 1994, 1995, 1996, 1997, 1998, 1999, 2769, 2770, 2771, 2772, 2773, 2774, 2775, 2776, 2777, 2778, 2779, 2780, 2781, 2782, 2783, 2784, 2785, 2786, 2787, 2788, 2789, 2790, 2791, 2792, 2793, 2794, 2795, 2796, 2797, 2798, 2799, 2800, 2801, 2802, 2803, 2804, 2805, 2806, 2807, 2808, 2809, 2810, 2811, 2812, 2813, 2814, 2815, 2816, 2817, 2818, 2819, 2820, 2821, 2822, 2823, 2824, 2825, 2826, 2827, 2828, 2829, 2830, 2831, 2832, 2833, 2834, 2835, 2836, 2837, 2838, 2839, 2840, 2841, 2842, 2843, 2844, 2845, 2846, 2847, 2848, 2849, 2850, 2851, 2852, 2853, 2854, 2855, 2856, 2857, 2858, 2859, 2860, 2861, 2862, 2863, 2864, 2865, 2866, 2867, 2868, 2869, 2870, 2871, 2872, 2873, 2874, 2875, 2876, 2877, 2878, 2879, 2880, 2881, 2882, 2883, 2884, 2885, 2886, 2887, 2888, 2889, 3929, 3930, 3931, 3932, 3933, 3934, 3935, 3936, 3937, 3938, 3939, 3940, 3941, 3942, 3943, 3944, 3945, 3946, 3947, 3948, 3949, 3950, 3951, 3952, 3953, 3954, 3955, 3956, 3957, 3958, 3959, 3960, 3961, 3962, 3963, 3964, 3965, 3966, 3967, 3968, 3969, 3970, 3971, 3972, 3973, 3974, 3975, 3976, 3977, 3978, 3979, 3980, 3981, 3982, 3983, 3984, 3985, 3986, 3987, 3988, 3989, 3990, 3991, 3992, 3993, 3994, 3995, 3996, 3997, 3998, 3999, 4000, 4001, 4002, 4003, 4004, 4005, 4006, 4007, 4008, 4009, 4010, 4011, 4012, 4013, 4014, 4015, 4016, 4017, 4018, 4019, 4020, 4021, 4022, 4023, 4024, 4025, 4026, 4027, 4028, 4029, 4030, 4031, 4032, 4033, 4034, 4035, 4036, 4037, 4038, 4039, 4040, 4041, 4042, 4043, 4044, 4045, 4046, 4047, 4048, 4049, 5877, 5878, 5879, 5880, 5881, 5882, 5883, 5884, 5885, 5886, 5887, 5888, 5889, 5890, 5891, 5892, 5893, 5894, 5895, 5896, 5897, 5898, 5899, 5900, 5901, 5902, 5903, 5904, 5905, 5906, 5907, 5908, 5909, 5910, 5911, 5912, 5913, 5914, 5915, 5916, 5917, 5918, 5919, 5920, 5921, 5922, 5923, 5924, 5925, 5926, 5927, 5928, 5929, 5930, 5931, 5932, 5933, 5934, 5935, 5936, 5937, 5938, 5939, 5940, 5941, 5942, 5943, 5944, 5945, 5946, 5947, 5948, 5949, 5950, 5951, 5952, 5953, 5954, 5955, 5956, 5957, 5958, 5959, 5960, 5961, 5962, 5963, 5964, 5965, 5966, 5967, 5968, 5969, 5970, 5971, 5972, 5973, 5974, 5975, 5976, 5977, 5978, 5979, 5980, 5981, 5982, 5983, 5984, 5985, 5986, 5987, 5988, 5989, 5990, 5991, 5992, 5993, 5994, 5995, 5996, 5997, 6105, 6106, 6107, 6108, 6109, 6110, 6111, 6112, 6113, 6114, 6115, 6116, 6117, 6118, 6119, 6120, 6121, 6122, 6123, 6124, 6125, 6126, 6127, 6128, 6129, 6130, 6131, 6132, 6133, 6134, 6135, 6136, 6137, 6138, 6139, 6140, 6141, 6142, 6143, 6144, 6145, 6146, 6147, 6148, 6149, 6150, 6151, 6152, 6153, 6154, 6155, 6156, 6157, 6158, 6159, 6160, 6161, 6162, 6163, 6164, 6165, 6166, 6167, 6168, 6169, 6170, 6171, 6172, 6173, 6174, 6175, 6176, 6177, 6178, 6179, 6180, 6181, 6182, 6183, 6184, 6185, 6186, 6187, 6188, 6189, 6190, 6191, 6192, 6193, 6194, 6195, 6196, 6197, 6198, 6199, 6200, 6201, 6202, 6203, 6204, 6205, 6206, 6207, 6208, 6209, 6210, 6211, 6212, 6213, 6214, 6215, 6216, 6217, 6218, 6219, 6220, 6221, 6222, 6223, 6224, 6225, 6982, 6983, 6984, 6985, 6986, 6987, 6988, 6989, 6990, 6991, 6992, 6993, 6994, 6995, 6996, 6997, 6998, 6999, 7000, 7001, 7002, 7003, 7004, 7005, 7006, 7007, 7008, 7009, 7010, 7011, 7012, 7013, 7014, 7015, 7016, 7017, 7018, 7019, 7020, 7021, 7022, 7023, 7024, 7025, 7026, 7027, 7028, 7029, 7030, 7031, 7032, 7033, 7034, 7035, 7036, 7037, 7038, 7039, 7040, 7041, 7042, 7043, 7044, 7045, 7046, 7047, 7048, 7049, 7050, 7051, 7052, 7053, 7054, 7055, 7056, 7057, 7058, 7059, 7060, 7061, 7062, 7063, 7064, 7065, 7066, 7067, 7068, 7069, 7070, 7071, 7072, 7073, 7074, 7075, 7076, 7077, 7078, 7079, 7080, 7081, 7082, 7083, 7084, 7085, 7086, 7087, 7088, 7089, 7090, 7091, 7092, 7093, 7094, 7095, 7096, 7097, 7098, 7099, 7100, 7101, 7102, 7225, 7226, 7227, 7228, 7229, 7230, 7231, 7232, 7233, 7234, 7235, 7236, 7237, 7238, 7239, 7240, 7241, 7242, 7243, 7244, 7245, 7246, 7247, 7248, 7249, 7250, 7251, 7252, 7253, 7254, 7255, 7256, 7257, 7258, 7259, 7260, 7261, 7262, 7263, 7264, 7265, 7266, 7267, 7268, 7269, 7270, 7271, 7272, 7273, 7274, 7275, 7276, 7277, 7278, 7279, 7280, 7281, 7282, 7283, 7284, 7285, 7286, 7287, 7288, 7289, 7290, 7291, 7292, 7293, 7294, 7295, 7296, 7297, 7298, 7299, 7300, 7301, 7302, 7303, 7304, 7305, 7306, 7307, 7308, 7309, 7310, 7311, 7312, 7313, 7314, 7315, 7316, 7317, 7318, 7319, 7320, 7321, 7322, 7323, 7324, 7325, 7326, 7327, 7328, 7329, 7330, 7331, 7332, 7333, 7334, 7335, 7336, 7337, 7338, 7339, 7340, 7341, 7342, 7343, 7344, 7345, 9173, 9174, 9175, 9176, 9177, 9178, 9179, 9180, 9181, 9182, 9183, 9184, 9185, 9186, 9187, 9188, 9189, 9190, 9191, 9192, 9193, 9194, 9195, 9196, 9197, 9198, 9199, 9200, 9201, 9202, 9203, 9204, 9205, 9206, 9207, 9208, 9209, 9210, 9211, 9212, 9213, 9214, 9215, 9216, 9217, 9218, 9219, 9220, 9221, 9222, 9223, 9224, 9225, 9226, 9227, 9228, 9229, 9230, 9231, 9232, 9233, 9234, 9235, 9236, 9237, 9238, 9239, 9240, 9241, 9242, 9243, 9244, 9245, 9246, 9247, 9248, 9249, 9250, 9251, 9252, 9253, 9254, 9255, 9256, 9257, 9258, 9259, 9260, 9261, 9262, 9263, 9264, 9265, 9266, 9267, 9268, 9269, 9270, 9271, 9272, 9273, 9274, 9275, 9276, 9277, 9278, 9279, 9280, 9281, 9282, 9283, 9284, 9285, 9286, 9287, 9288, 9289, 9290, 9291, 9292, 9293, 11121, 11122, 11123, 11124, 11125, 11126, 11127, 11128, 11129, 11130, 11131, 11132, 11133, 11134, 11135, 11136, 11137, 11138, 11139, 11140, 11141, 11142, 11143, 11144, 11145, 11146, 11147, 11148, 11149, 11150, 11151, 11152, 11153, 11154, 11155, 11156, 11157, 11158, 11159, 11160, 11161, 11162, 11163, 11164, 11165, 11166, 11167, 11168, 11169, 11170, 11171, 11172, 11173, 11174, 11175, 11176, 11177, 11178, 11179, 11180, 11181, 11182, 11183, 11184, 11185, 11186, 11187, 11188, 11189, 11190, 11191, 11192, 11193, 11194, 11195, 11196, 11197, 11198, 11199, 11200, 11201, 11202, 11203, 11204, 11205, 11206, 11207, 11208, 11209, 11210, 11211, 11212, 11213, 11214, 11215, 11216, 11217, 11218, 11219, 11220, 11221, 11222, 11223, 11224, 11225, 11226, 11227, 11228, 11229, 11230, 11231, 11232, 11233, 11234, 11235, 11236, 11237, 11238, 11239, 11240, 11241, 11242, 11243, 11244, 11245, 11246, 11247, 11248, 11249, 11250, 11251, 11252, 11253, 11254, 11255, 11256, 11257, 11258, 11259, 11260, 11261, 11262, 11263, 11264, 11265, 11266, 11267, 11268, 11269, 11270, 11271, 11272, 11273, 11274, 11275, 11276, 11277, 11278, 11279, 11280, 11281, 11282, 11283, 11284, 11285, 11286, 11287, 11288, 11289, 11290, 11291, 11292, 11293, 11294, 11295, 11296, 11297, 11298, 11299, 11300, 11301, 11302, 11303, 11304, 11305, 11306, 11307, 11308, 11309, 11310, 11311, 11312, 11313, 11314, 11315, 11316, 11317, 11318, 11319, 11320, 11321, 11322, 11323, 11324, 11325, 11326, 11327, 11328, 11329, 11330, 11331, 11332, 11333, 11334, 11335, 11336, 11337, 11338, 11339, 11340, 11341, 11342, 12840, 12841, 12842, 12843, 12844, 12845, 12846, 12847, 12848, 12849, 12850, 12851, 12852, 12853, 12854, 12855, 12856, 12857, 12858, 12859, 12860, 12861, 12862, 12863, 12864, 12865, 12866, 12867, 12868, 12869, 12870, 12871, 12872, 12873, 12874, 12875, 12876, 12877, 12878, 12879, 12880, 12881, 12882, 12883, 12884, 12885, 12886, 12887, 12888, 12889, 12890, 12891, 12892, 12893, 12894, 12895, 12896, 12897, 12898, 12899, 12900, 12901, 12902, 12903, 12904, 12905, 12906, 12907, 12908, 12909, 12910, 12911, 12912, 12913, 12914, 12915, 12916, 12917, 12918, 12919, 12920, 12921, 12922, 12923, 12924, 12925, 12926, 12927, 12928, 12929, 12930, 12931, 12932, 12933, 12934, 12935, 12936, 12937, 12938, 12939, 12940, 12941, 12942, 12943, 12944, 12945, 12946, 12947, 12948, 12949, 12950, 12951, 12952, 12953, 12954, 12955, 12956, 12957, 12958, 12959, 12960, 13281, 13282, 13283, 13284, 13285, 13286, 13287, 13288, 13289, 13290, 13291, 13292, 13293, 13294, 13295, 13296, 13297, 13298, 13299, 13300, 13301, 13302, 13303, 13304, 13305, 13306, 13307, 13308, 13309, 13310, 13311, 13312, 13313, 13314, 13315, 13316, 13317, 13318, 13319, 13320, 13321, 13322, 13323, 13324, 13325, 13326, 13327, 13328, 13329, 13330, 13331, 13332, 13333, 13334, 13335, 13336, 13337, 13338, 13339, 13340, 13341, 13342, 13343, 13344, 13345, 13346, 13347, 13348, 13349, 13350, 13351, 13352, 13353, 13354, 13355, 13356, 13357, 13358, 13359, 13360, 13361, 13362, 13363, 13364, 13365, 13366, 13367, 13368, 13369, 13370, 13371, 13372, 13373, 13374, 13375, 13376, 13377, 13378, 13379, 13380, 13381, 13382, 13383, 13384, 13385, 13386, 13387, 13388, 13389, 13390, 13391, 13392, 13393, 13394, 13395, 13396, 13397, 13398, 13399, 13400, 13401, 15226, 15227, 15228, 15229, 15230, 15231, 15232, 15233, 15234, 15235, 15236, 15237, 15238, 15239, 15240, 15241, 15242, 15243, 15244, 15245, 15246, 15247, 15248, 15249, 15250, 15251, 15252, 15253, 15254, 15255, 15256, 15257, 15258, 15259, 15260, 15261, 15262, 15263, 15264, 15265, 15266, 15267, 15268, 15269, 15270, 15271, 15272, 15273, 15274, 15275, 15276, 15277, 15278, 15279, 15280, 15281, 15282, 15283, 15284, 15285, 15286, 15287, 15288, 15289, 15290, 15291, 15292, 15293, 15294, 15295, 15296, 15297, 15298, 15299, 15300, 15301, 15302, 15303, 15304, 15305, 15306, 15307, 15308, 15309, 15310, 15311, 15312, 15313, 15314, 15315, 15316, 15317, 15318, 15319, 15320, 15321, 15322, 15323, 15324, 15325, 15326, 15327, 15328, 15329, 15330, 15331, 15332, 15333, 15334, 15335, 15336, 15337, 15338, 15339, 15340, 15341, 15342, 15343, 15344, 15345, 15346, 16279, 16280, 16281, 16282, 16283, 16284, 16285, 16286, 16287, 16288, 16289, 16290, 16291, 16292, 16293, 16294, 16295, 16296, 16297, 16298, 16299, 16300, 16301, 16302, 16303, 16304, 16305, 16306, 16307, 16308, 16309, 16310, 16311, 16312, 16313, 16314, 16315, 16316, 16317, 16318, 16319, 16320, 16321, 16322, 16323, 16324, 16325, 16326, 16327, 16328, 16329, 16330, 16331, 16332, 16333, 16334, 16335, 16336, 16337, 16338, 16339, 16340, 16341, 16342, 16343, 16344, 16345, 16346, 16347, 16348, 16349, 16350, 16351, 16352, 16353, 16354, 16355, 16356, 16357, 16358, 16359, 16360, 16361, 16362, 16363, 16364, 16365, 16366, 16367, 16368, 16369, 16370, 16371, 16372, 16373, 16374, 16375, 16376, 16377, 16378, 16379, 16380, 16381, 16382, 16383, 16384, 16385, 16386, 16387, 16388, 16389, 16390, 16391, 16392, 16393, 16394, 16395, 16396, 16397, 16398, 16399, 17387, 17388, 17389, 17390, 17391, 17392, 17393, 17394, 17395, 17396, 17397, 17398, 17399, 17400, 17401, 17402, 17403, 17404, 17405, 17406, 17407, 17408, 17409, 17410, 17411, 17412, 17413, 17414, 17415, 17416, 17417, 17418, 17419, 17420, 17421, 17422, 17423, 17424, 17425, 17426, 17427, 17428, 17429, 17430, 17431, 17432, 17433, 17434, 17435, 17436, 17437, 17438, 17439, 17440, 17441, 17442, 17443, 17444, 17445, 17446, 17447, 17448, 17449, 17450, 17451, 17452, 17453, 17454, 17455, 17456, 17457, 17458, 17459, 17460, 17461, 17462, 17463, 17464, 17465, 17466, 17467, 17468, 17469, 17470, 17471, 17472, 17473, 17474, 17475, 17476, 17477, 17478, 17479, 17480, 17481, 17482, 17483, 17484, 17485, 17486, 17487, 17488, 17489, 17490, 17491, 17492, 17493, 17494, 17495, 17496, 17497, 17498, 17499, 17500, 17501, 17502, 17503, 17504, 17505, 17506, 17507, 17508, 17509, 17510, 17511, 17512, 17513, 17514, 17515, 17516, 17517, 17518, 17519, 17520, 17521, 17522, 17523, 17524, 17525, 17526, 17527, 17528, 17529, 17530, 17531, 17532, 17533, 17534, 17535, 17536, 17537, 17538, 17539, 17540, 17541, 17542, 17543, 17544, 17545, 17546, 17547, 17548, 17549, 17550, 17551, 17552, 17553, 17554, 17555, 17556, 17557, 17558, 17559, 17560, 17561, 17562, 17563, 17564, 17565, 17566, 17567, 17568, 17569, 17570, 17571, 17572, 17573, 17574, 17575, 17576, 17577, 17578, 17579, 17580, 17581, 17582, 17583, 17584, 17585, 17586, 17587, 17588, 17589, 17590, 17591, 17592, 17593, 17594, 17595, 17596, 17597, 17598, 17599, 17600, 17601, 17602, 17603, 17604, 17605, 17606, 17607, 17608, 18241, 18242, 18243, 18244, 18245, 18246, 18247, 18248, 18249, 18250, 18251, 18252, 18253, 18254, 18255, 18256, 18257, 18258, 18259, 18260, 18261, 18262, 18263, 18264, 18265, 18266, 18267, 18268, 18269, 18270, 18271, 18272, 18273, 18274, 18275, 18276, 18277, 18278, 18279, 18280, 18281, 18282, 18283, 18284, 18285, 18286, 18287, 18288, 18289, 18290, 18291, 18292, 18293, 18294, 18295, 18296, 18297, 18298, 18299, 18300, 18301, 18302, 18303, 18304, 18305, 18306, 18307, 18308, 18309, 18310, 18311, 18312, 18313, 18314, 18315, 18316, 18317, 18318, 18319, 18320, 18321, 18322, 18323, 18324, 18325, 18326, 18327, 18328, 18329, 18330, 18331, 18332, 18333, 18334, 18335, 18336, 18337, 18338, 18339, 18340, 18341, 18342, 18343, 18344, 18345, 18346, 18347, 18348, 18349, 18350, 18351, 18352, 18353, 18354, 18355, 18356, 18357, 18358, 18359, 18360, 18361, 20189, 20190, 20191, 20192, 20193, 20194, 20195, 20196, 20197, 20198, 20199, 20200, 20201, 20202, 20203, 20204, 20205, 20206, 20207, 20208, 20209, 20210, 20211, 20212, 20213, 20214, 20215, 20216, 20217, 20218, 20219, 20220, 20221, 20222, 20223, 20224, 20225, 20226, 20227, 20228, 20229, 20230, 20231, 20232, 20233, 20234, 20235, 20236, 20237, 20238, 20239, 20240, 20241, 20242, 20243, 20244, 20245, 20246, 20247, 20248, 20249, 20250, 20251, 20252, 20253, 20254, 20255, 20256, 20257, 20258, 20259, 20260, 20261, 20262, 20263, 20264, 20265, 20266, 20267, 20268, 20269, 20270, 20271, 20272, 20273, 20274, 20275, 20276, 20277, 20278, 20279, 20280, 20281, 20282, 20283, 20284, 20285, 20286, 20287, 20288, 20289, 20290, 20291, 20292, 20293, 20294, 20295, 20296, 20297, 20298, 20299, 20300, 20301, 20302, 20303, 20304, 20305, 20306, 20307, 20308, 20309, 22137, 22138, 22139, 22140, 22141, 22142, 22143, 22144, 22145, 22146, 22147, 22148, 22149, 22150, 22151, 22152, 22153, 22154, 22155, 22156, 22157, 22158, 22159, 22160, 22161, 22162, 22163, 22164, 22165, 22166, 22167, 22168, 22169, 22170, 22171, 22172, 22173, 22174, 22175, 22176, 22177, 22178, 22179, 22180, 22181, 22182, 22183, 22184, 22185, 22186, 22187, 22188, 22189, 22190, 22191, 22192, 22193, 22194, 22195, 22196, 22197, 22198, 22199, 22200, 22201, 22202, 22203, 22204, 22205, 22206, 22207, 22208, 22209, 22210, 22211, 22212, 22213, 22214, 22215, 22216, 22217, 22218, 22219, 22220, 22221, 22222, 22223, 22224, 22225, 22226, 22227, 22228, 22229, 22230, 22231, 22232, 22233, 22234, 22235, 22236, 22237, 22238, 22239, 22240, 22241, 22242, 22243, 22244, 22245, 22246, 22247, 22248, 22249, 22250, 22251, 22252, 22253, 22254, 22255, 22256, 22257, 23934, 23935, 23936, 23937, 23938, 23939, 23940, 23941, 23942, 23943, 23944, 23945, 23946, 23947, 23948, 23949, 23950, 23951, 23952, 23953, 23954, 23955, 23956, 23957, 23958, 23959, 23960, 23961, 23962, 23963, 23964, 23965, 23966, 23967, 23968, 23969, 23970, 23971, 23972, 23973, 23974, 23975, 23976, 23977, 23978, 23979, 23980, 23981, 23982, 23983, 23984, 23985, 23986, 23987, 23988, 23989, 23990, 23991, 23992, 23993, 23994, 23995, 23996, 23997, 23998, 23999, 24000, 24001, 24002, 24003, 24004, 24005, 24006, 24007, 24008, 24009, 24010, 24011, 24012, 24013, 24014, 24015, 24016, 24017, 24018, 24019, 24020, 24021, 24022, 24023, 24024, 24025, 24026, 24027, 24028, 24029, 24030, 24031, 24032, 24033, 24034, 24035, 24036, 24037, 24038, 24039, 24040, 24041, 24042, 24043, 24044, 24045, 24046, 24047, 24048, 24049, 24050, 24051, 24052, 24053, 24054, 24183, 24184, 24185, 24186, 24187, 24188, 24189, 24190, 24191, 24192, 24193, 24194, 24195, 24196, 24197, 24198, 24199, 24200, 24201, 24202, 24203, 24204, 24205, 24206, 24207, 24208, 24209, 24210, 24211, 24212, 24213, 24214, 24215, 24216, 24217, 24218, 24219, 24220, 24221, 24222, 24223, 24224, 24225, 24226, 24227, 24228, 24229, 24230, 24231, 24232, 24233, 24234, 24235, 24236, 24237, 24238, 24239, 24240, 24241, 24242, 24243, 24244, 24245, 24246, 24247, 24248, 24249, 24250, 24251, 24252, 24253, 24254, 24255, 24256, 24257, 24258, 24259, 24260, 24261, 24262, 24263, 24264, 24265, 24266, 24267, 24268, 24269, 24270, 24271, 24272, 24273, 24274, 24275, 24276, 24277, 24278, 24279, 24280, 24281, 24282, 24283, 24284, 24285, 24286, 24287, 24288, 24289, 24290, 24291, 24292, 24293, 24294, 24295, 24296, 24297, 24298, 24299, 24300, 24301, 24302, 24303, 25047, 25048, 25049, 25050, 25051, 25052, 25053, 25054, 25055, 25056, 25057, 25058, 25059, 25060, 25061, 25062, 25063, 25064, 25065, 25066, 25067, 25068, 25069, 25070, 25071, 25072, 25073, 25074, 25075, 25076, 25077, 25078, 25079, 25080, 25081, 25082, 25083, 25084, 25085, 25086, 25087, 25088, 25089, 25090, 25091, 25092, 25093, 25094, 25095, 25096, 25097, 25098, 25099, 25100, 25101, 25102, 25103, 25104, 25105, 25106, 25107, 25108, 25109, 25110, 25111, 25112, 25113, 25114, 25115, 25116, 25117, 25118, 25119, 25120, 25121, 25122, 25123, 25124, 25125, 25126, 25127, 25128, 25129, 25130, 25131, 25132, 25133, 25134, 25135, 25136, 25137, 25138, 25139, 25140, 25141, 25142, 25143, 25144, 25145, 25146, 25147, 25148, 25149, 25150, 25151, 25152, 25153, 25154, 25155, 25156, 25157, 25158, 25159, 25160, 25161, 25162, 25163, 25164, 25165, 25166, 25167, 26098, 26099, 26100, 26101, 26102, 26103, 26104, 26105, 26106, 26107, 26108, 26109, 26110, 26111, 26112, 26113, 26114, 26115, 26116, 26117, 26118, 26119, 26120, 26121, 26122, 26123, 26124, 26125, 26126, 26127, 26128, 26129, 26130, 26131, 26132, 26133, 26134, 26135, 26136, 26137, 26138, 26139, 26140, 26141, 26142, 26143, 26144, 26145, 26146, 26147, 26148, 26149, 26150, 26151, 26152, 26153, 26154, 26155, 26156, 26157, 26158, 26159, 26160, 26161, 26162, 26163, 26164, 26165, 26166, 26167, 26168, 26169, 26170, 26171, 26172, 26173, 26174, 26175, 26176, 26177, 26178, 26179, 26180, 26181, 26182, 26183, 26184, 26185, 26186, 26187, 26188, 26189, 26190, 26191, 26192, 26193, 26194, 26195, 26196, 26197, 26198, 26199, 26200, 26201, 26202, 26203, 26204, 26205, 26206, 26207, 26208, 26209, 26210, 26211, 26212, 26213, 26214, 26215, 26216, 26217, 26218], \"y\": [85.0, 97.88, 100.41, 106.39999999999999, 98.16, 118.66, 90.53999999999999, 106.83, 86.74, 105.42999999999999, 119.64999999999999, 124.51, 85.42999999999999, 79.18999999999998, 70.67999999999999, 99.48, 137.76, 112.77000000000001, 106.25, 141.69, 107.46000000000002, 91.75, 83.03, 225.01, 182.89, 126.06000000000002, 99.24000000000002, 105.35, 163.08, 150.77, 136.44, 97.25, 111.84, 130.32000000000002, 135.5, 132.81, 141.53, 165.04000000000002, 98.28999999999999, 143.77, 130.92000000000002, 137.87, 132.87, 126.11999999999999, 149.89000000000001, 180.56, 157.17, 174.75, 197.46999999999997, 156.38, 125.67, 129.20999999999998, 121.97, 120.97, 143.92000000000002, 175.45, 164.88000000000002, 165.48, 167.95, 163.04, 166.31, 210.32, 147.6, 153.14999999999998, 158.26, 160.75, 114.21, 161.26999999999998, 94.14, 86.65, 121.81, 150.08999999999997, 139.39, 111.1, 132.95, 115.91999999999999, 174.75, 137.04999999999998, 90.06, 108.67999999999999, 90.96, 126.21, 123.45, 126.99, 101.13, 60.75999999999999, 86.76, 84.96000000000002, 101.53, 107.9, 80.27, 83.23, 125.25, 136.48999999999998, 148.20999999999998, 121.24000000000001, 107.04, 101.00999999999999, 109.78000000000002, 117.19000000000001, 130.5, 107.43, 106.59, 104.89, 100.52, 119.91000000000001, 82.95, 112.88, 78.47000000000001, 82.55999999999999, 78.78999999999999, 99.31, 101.93, 83.87, 69.30000000000001, 67.96, 107.53999999999999, 133.22, 125.77, 116.77, 52.76, 10.160000000000002, 7.9399999999999995, 5.46, 5.760000000000001, 5.75, 19.36, 13.280000000000001, 16.05, 17.450000000000003, 13.99, 114.83999999999999, 38.63, 137.56, 13.24, 15.080000000000002, 14.66, 15.620000000000001, 18.16, 17.4, 16.81, 16.44, 88.82, 19.12, 20.489999999999995, 20.57, 35.919999999999995, 17.89, 23.48, 19.669999999999998, 29.22, 11.82, 13.16, 30.700000000000003, 16.97, 68.47999999999999, 10.85, 15.93, 9.11, 8.409999999999998, 8.85, 18.75, 35.839999999999996, 9.23, 10.080000000000002, 9.110000000000001, 24.57, 23.23, 25.32, 52.99, 66.64, 51.25, 38.339999999999996, 75.28000000000002, 70.18, 50.18000000000001, 53.89, 69.24, 79.30999999999997, 70.91999999999999, 61.38, 61.92000000000001, 59.449999999999996, 75.88, 87.94, 76.41999999999999, 69.24000000000001, 60.57, 61.84, 49.04, 53.58, 49.85, 51.900000000000006, 57.739999999999995, 61.17999999999999, 69.8, 66.39, 58.58, 65.77, 58.22, 45.809999999999995, 53.39, 52.6, 50.43, 46.65, 46.760000000000005, 50.059999999999995, 57.03, 44.230000000000004, 55.66, 56.37, 56.17, 66.26, 75.13, 81.75, 84.32, 71.67999999999999, 88.21000000000001, 57.99, 62.419999999999995, 61.07, 59.959999999999994, 68.14, 59.870000000000005, 67.5, 60.76, 64.11, 57.46999999999999, 62.21999999999999, 68.47999999999999, 77.08, 71.29, 72.53, 74.84, 69.55, 57.68, 45.11000000000001, 48.66, 39.300000000000004, 54.74000000000001, 38.31, 50.42000000000001, 46.029999999999994, 43.559999999999995, 40.95, 49.809999999999995, 51.92, 48.94, 55.050000000000004, 48.410000000000004, 52.91000000000001, 55.01, 49.199999999999996, 51.980000000000004, 54.67, 49.870000000000005, 47.19, 49.089999999999996, 59.26, 65.92, 58.74, 68.83, 67.8, 66.55, 53.27, 49.5, 52.14, 45.15, 38.330000000000005, 35.0, 45.86, 68.7, 52.339999999999996, 42.41, 40.559999999999995, 42.34, 42.370000000000005, 44.7, 38.72, 38.690000000000005, 39.84, 38.379999999999995, 35.19, 33.720000000000006, 32.57, 31.200000000000003, 32.9, 41.14, 54.88, 47.0, 42.00999999999999, 45.38, 60.13, 57.07000000000001, 27.81, 45.83, 53.49, 50.94, 50.85, 21.62, 33.36, 50.14, 52.66, 53.75, 42.71, 37.78, 31.59, 43.910000000000004, 45.02, 45.37, 43.870000000000005, 43.730000000000004, 29.820000000000004, 43.46, 53.11000000000001, 52.01, 57.480000000000004, 60.91, 59.84, 49.72, 39.31, 41.11, 43.47, 42.64, 44.66, 44.66, 38.46, 50.92, 46.03, 53.74, 54.33, 59.83, 60.41000000000001, 56.60999999999999, 51.370000000000005, 45.25, 50.440000000000005, 53.31999999999999, 59.98, 63.11, 62.089999999999996, 67.47, 47.349999999999994, 51.419999999999995, 46.93, 46.73, 46.35, 50.99999999999999, 47.49, 45.51, 40.769999999999996, 47.27, 47.150000000000006, 56.849999999999994, 44.92999999999999, 46.269999999999996, 51.650000000000006, 49.72, 43.55, 42.839999999999996, 47.08, 44.690000000000005, 49.199999999999996, 43.86, 47.919999999999995, 49.81, 49.95, 60.029999999999994, 48.60999999999999, 46.24, 45.28, 51.919999999999995, 65.09, 55.32999999999999, 56.059999999999995, 45.910000000000004, 42.61, 39.510000000000005, 44.55, 36.75999999999999, 33.92, 33.82, 34.36, 33.879999999999995, 33.33, 33.29, 33.64, 34.74, 36.17, 44.66, 44.66, 44.66, 44.66, 44.66, 31.580000000000002, 35.58, 37.4, 32.87, 34.760000000000005, 48.86, 55.4, 53.64000000000001, 56.760000000000005, 57.57, 60.800000000000004, 57.150000000000006, 56.07, 56.36, 64.57000000000001, 61.64, 61.33, 61.86, 63.69, 63.28, 61.82, 76.75999999999999, 70.32, 81.97, 94.10999999999999, 39.089999999999996, 54.39, 71.75999999999999, 68.35, 65.75999999999999, 65.08999999999999, 63.18, 74.35, 76.22, 77.46, 69.9, 55.25, 33.65, 38.089999999999996, 43.99, 45.78, 41.02, 41.51, 40.25, 39.96, 47.49999999999999, 54.75, 62.910000000000004, 65.32, 51.58, 62.73, 57.68000000000001, 48.97, 42.7, 44.26, 48.38, 51.11, 53.59, 50.08, 48.06000000000001, 43.86, 46.809999999999995, 47.31000000000001, 45.14, 55.25999999999999, 57.61, 59.63999999999999, 54.529999999999994, 57.17, 59.55, 48.25, 49.34, 46.42999999999999, 57.12, 51.82000000000001, 58.74999999999999, 44.150000000000006, 50.02, 55.1, 55.33, 58.849999999999994, 57.25, 70.97, 61.29, 62.63, 61.99, 47.02, 49.32, 55.150000000000006, 60.33, 61.599999999999994, 58.62, 52.03, 49.74, 60.660000000000004, 47.2, 43.43, 50.760000000000005, 66.77999999999999, 63.38999999999999, 69.96, 58.550000000000004, 50.68000000000001, 48.160000000000004, 47.620000000000005, 42.25, 43.42, 44.65, 46.21999999999999, 49.99, 49.16, 48.730000000000004, 53.13, 57.349999999999994, 52.46, 49.24, 59.279999999999994, 56.15, 65.57999999999998, 60.9, 62.150000000000006, 61.18, 63.07, 71.19999999999999, 65.85999999999999, 64.39999999999999, 60.739999999999995, 57.419999999999995, 49.410000000000004, 45.9, 42.66, 41.28, 45.07, 48.07, 45.49, 42.41, 45.47, 41.76, 42.449999999999996, 38.9, 40.25, 37.67, 45.839999999999996, 52.08, 52.38999999999999, 45.48, 64.72, 67.63, 67.55, 67.05999999999999, 63.29, 75.86999999999999, 67.74, 69.10999999999999, 49.39, 43.559999999999995, 33.32, 71.42999999999999, 53.38999999999999, 60.8, 67.66, 62.13, 55.26, 71.11999999999999, 63.54, 52.129999999999995, 77.14, 76.94999999999999, 74.02999999999999, 73.22999999999999, 68.36999999999999, 71.99999999999999, 74.52, 81.13999999999999, 73.22, 69.09999999999998, 72.39999999999999, 77.37999999999998, 86.53999999999999, 88.95999999999998, 96.83999999999999, 91.47, 96.33999999999999, 92.92999999999999, 66.51999999999998, 79.64999999999999, 93.41, 79.30999999999999, 82.17999999999999, 99.69999999999999, 105.81999999999998, 135.48, 110.32, 109.38999999999999, 93.28999999999999, 90.67999999999999, 91.39999999999999, 77.35, 75.94999999999999, 105.17999999999999, 98.38, 98.61999999999999, 86.28, 88.57, 92.48, 91.13999999999999, 73.39999999999999, 90.13, 82.67999999999999, 88.49999999999999, 82.35, 82.19999999999999, 89.28, 91.19, 93.75, 81.39999999999999, 78.55999999999999, 93.19999999999999, 100.38999999999999, 89.71999999999998, 97.51999999999998, 94.0, 89.97999999999999, 82.52999999999999, 85.60999999999999, 82.36999999999999, 82.49999999999999, 52.49, 45.949999999999996, 44.66, 44.66, 44.66, 44.66, 44.66, 44.66, 44.66, 44.66, 44.66, 106.77, 72.82999999999998, 73.16999999999999, 69.96999999999998, 75.28999999999999, 85.07, 64.03, 64.91999999999999, 73.67999999999999, 68.24999999999999, 68.69999999999999, 77.89999999999999, 89.64999999999999, 85.64999999999999, 97.83999999999999, 100.11999999999999, 105.03999999999999, 81.07, 81.73999999999998, 92.17, 97.63999999999999, 104.27, 98.42999999999999, 97.96, 66.09999999999998, 117.91999999999999, 45.480000000000004, 28.26, 32.300000000000004, 33.89, 32.49, 36.25, 32.08, 25.180000000000003, 40.980000000000004, 38.68, 34.42, 101.78999999999999, 43.97, 48.300000000000004, 38.81, 38.940000000000005, 37.830000000000005, 47.08, 34.21, 36.32, 35.730000000000004, 38.010000000000005, 43.68, 43.68, 50.14, 36.39, 36.04, 42.01, 43.660000000000004, 42.120000000000005, 50.510000000000005, 42.17, 34.6, 37.25, 29.9, 32.37, 35.46, 50.56, 45.629999999999995, 48.910000000000004, 46.58, 45.910000000000004, 40.35, 47.28, 49.10999999999999, 43.480000000000004, 46.2, 44.8, 46.620000000000005, 44.82000000000001, 49.080000000000005, 53.5, 36.690000000000005, 42.43000000000001, 38.42, 44.13999999999999, 20.74, 43.68, 43.68, 43.68, 64.75, 54.64, 40.88, 33.800000000000004, 37.660000000000004, 29.900000000000002, 65.25999999999999, 40.11000000000001, 42.95, 44.73, 44.66, 44.66, 44.66, 44.66, 67.18999999999998, 59.2, 53.25, 44.66, 44.66, 44.66, 44.66, 77.20999999999998, 59.0, 67.03, 66.13, 72.16999999999999, 62.470000000000006, 73.52, 69.54999999999998, 82.28999999999999, 61.81, 71.62999999999998, 80.94999999999999, 105.08999999999999, 54.849999999999994, 68.10999999999999, 86.16, 42.74000000000001, 68.70999999999998, 82.11, 48.29, 39.830000000000005, 39.63, 39.07, 39.02, 39.03, 39.7, 39.9, 39.199999999999996, 38.940000000000005, 39.59, 39.24, 38.87, 39.64, 39.2, 38.940000000000005, 39.25, 38.64, 39.59, 39.79, 40.96000000000001, 35.98, 27.8, 24.830000000000002, 23.3, 25.060000000000002, 24.810000000000002, 23.28, 21.71, 21.759999999999998, 26.220000000000002, 23.830000000000002, 22.11, 23.1, 21.549999999999997, 20.89, 24.830000000000002, 26.139999999999997, 24.419999999999998, 29.700000000000003, 21.71, 22.76, 25.379999999999995, 18.619999999999997, 26.369999999999997, 28.43, 23.830000000000002, 16.27, 19.47, 19.75, 28.48, 26.52, 24.479999999999997, 28.300000000000004, 25.509999999999998, 23.82, 27.020000000000003, 25.819999999999997, 27.040000000000003, 31.069999999999997, 30.840000000000003, 34.4, 32.93, 30.459999999999997, 32.87, 28.759999999999998, 30.110000000000003, 30.499999999999996, 32.79, 29.179999999999996, 26.76, 33.11, 35.0, 33.36, 30.95, 30.360000000000003, 32.6, 32.24, 28.199999999999996, 26.479999999999997, 27.52, 28.81, 31.720000000000002, 28.78, 71.72, 134.45000000000002, 29.529999999999998, 30.29, 30.56, 28.430000000000003, 31.2, 32.41, 34.0, 32.19, 28.45, 29.469999999999995, 30.69, 31.350000000000005, 35.830000000000005, 35.98, 31.709999999999994, 31.62, 31.06, 29.85, 27.74, 25.130000000000003, 27.569999999999997, 32.699999999999996, 30.95, 27.7, 29.740000000000002, 32.12, 31.21, 34.6, 32.74, 40.36, 33.04, 35.22, 33.4, 34.55, 38.55, 44.29, 41.79, 47.74999999999999, 54.83, 41.39, 44.919999999999995, 41.39, 39.05, 31.500000000000004, 39.07, 37.4, 45.699999999999996, 47.85, 56.809999999999995, 43.66, 40.239999999999995, 35.099999999999994, 43.12, 37.84, 50.410000000000004, 35.989999999999995, 45.529999999999994, 43.989999999999995, 41.36, 36.15, 52.059999999999995, 52.339999999999996, 47.12, 38.82, 38.9, 41.650000000000006, 52.1, 61.28, 52.36, 54.11, 50.410000000000004, 57.24, 50.26, 45.06, 50.68, 47.82, 53.3, 53.39000000000001, 49.56, 45.72, 42.75, 44.769999999999996, 37.81, 30.810000000000002, 42.63, 39.7, 40.35, 38.02, 45.300000000000004, 46.21, 44.9, 37.519999999999996, 39.66, 46.440000000000005, 44.12, 39.97, 60.89, 46.29, 58.1, 47.46, 36.64, 33.120000000000005, 36.0, 43.080000000000005, 47.62, 26.09, 30.71, 46.70000000000001, 36.97, 42.03, 48.99, 42.199999999999996, 53.82, 58.88, 63.26, 46.65, 63.79, 44.11, 28.67, 29.669999999999998, 29.64, 29.62, 28.060000000000002, 34.480000000000004, 44.64, 37.269999999999996, 29.869999999999997, 36.03, 46.83, 41.26, 39.870000000000005, 56.91, 47.49, 38.14, 52.699999999999996, 53.330000000000005, 38.730000000000004, 42.83, 43.8, 44.61, 47.89000000000001, 28.15, 71.36999999999999, 52.24999999999999, 42.87, 43.18, 44.080000000000005, 44.47, 44.2, 43.86, 38.13999999999999, 36.16, 39.38, 38.75, 45.83, 42.67, 41.8, 45.120000000000005, 48.89, 44.13, 42.26, 40.05, 39.720000000000006, 42.620000000000005, 41.9, 44.02000000000001, 41.949999999999996, 40.0, 42.98, 47.510000000000005, 42.39, 42.67, 43.78, 50.51, 47.980000000000004, 43.459999999999994, 141.57000000000002, 119.30999999999999, 103.23, 77.2, 69.08, 64.01, 52.65, 47.089999999999996, 65.57, 76.12, 91.1, 81.14999999999999, 58.260000000000005, 70.95, 63.8, 57.06999999999999, 63.95, 51.36, 57.8, 86.28, 80.35000000000001, 53.07, 59.36000000000001, 70.50999999999999, 86.11, 85.52, 56.14, 57.77, 57.75, 60.33, 70.97999999999999, 62.85, 77.37, 111.34, 77.92000000000002, 73.25999999999999, 87.11, 74.28, 73.21, 80.32, 103.07000000000001, 84.60999999999999, 73.42999999999999, 71.75, 80.74, 87.91999999999999, 95.06, 92.5, 110.21000000000001, 85.43, 72.59, 73.55, 82.30000000000001, 72.64999999999999, 75.97, 93.94, 78.36999999999999, 68.47, 70.06000000000002, 84.07000000000001, 99.34, 92.45, 90.53999999999999, 66.77, 60.95, 70.77000000000001, 87.19, 67.58999999999999, 83.22, 70.54, 70.59, 83.47000000000001, 61.2, 78.37, 77.01, 82.21, 90.81999999999998, 99.18999999999998, 108.96000000000001, 99.59, 89.09, 80.42999999999999, 73.45, 59.6, 54.370000000000005, 51.03, 46.879999999999995, 56.730000000000004, 64.13, 64.78, 61.36, 60.04, 69.31, 65.67999999999999, 74.96000000000001, 74.83, 66.38, 67.92999999999999, 71.24, 70.06, 80.99, 73.91, 72.33, 73.29, 67.38, 77.45, 76.47, 70.51, 64.45, 65.62, 74.32000000000001, 80.22000000000001, 81.38000000000001, 82.66, 76.97, 73.47, 76.64999999999999, 86.56, 92.71000000000001, 87.92, 70.05000000000001, 36.0, 44.66, 37.21, 37.38999999999999, 37.589999999999996, 38.260000000000005, 38.949999999999996, 50.77, 46.739999999999995, 44.339999999999996, 38.550000000000004, 40.830000000000005, 37.65, 37.64999999999999, 37.419999999999995, 36.96, 40.93, 41.050000000000004, 36.61, 38.660000000000004, 39.85, 38.690000000000005, 38.24, 47.37, 40.69, 35.309999999999995, 36.82, 36.349999999999994, 39.33, 37.300000000000004, 38.28, 36.89, 36.13, 37.03, 40.089999999999996, 36.82000000000001, 41.43000000000001, 38.84000000000001, 36.550000000000004, 35.830000000000005, 37.28, 37.96, 37.60999999999999, 36.38999999999999, 39.849999999999994, 36.959999999999994, 36.29, 36.99999999999999, 36.76, 35.32, 35.730000000000004, 36.71, 36.769999999999996, 36.160000000000004, 36.47, 35.72, 36.93000000000001, 36.89, 36.18, 36.01, 34.93000000000001, 35.13, 34.85, 34.46, 34.43, 34.65, 34.75, 44.66, 34.28, 34.589999999999996, 34.410000000000004, 34.43, 34.46000000000001, 34.400000000000006, 34.39, 34.37, 34.519999999999996, 34.550000000000004, 34.34, 34.24, 34.56, 34.32000000000001, 34.63, 34.56, 34.57, 34.53, 34.45, 34.6, 34.64, 34.4, 34.61, 33.95, 34.089999999999996, 34.550000000000004, 36.3, 33.940000000000005, 33.96000000000001, 34.02, 33.94, 34.26, 33.79, 57.910000000000004, 30.27, 35.49, 39.92, 31.189999999999998, 34.86, 27.39, 37.06, 44.04, 47.32, 44.18, 39.48, 34.46, 36.92, 26.240000000000002, 32.44, 37.77, 55.67999999999999, 49.13, 46.63, 42.900000000000006, 61.04, 74.28, 59.76, 44.78, 34.21, 34.57, 41.39, 40.87, 45.029999999999994, 43.36, 46.01, 46.29, 43.55, 56.21999999999999, 60.75, 61.769999999999996, 69.58999999999999, 68.25, 63.42, 60.27, 69.66999999999999, 79.85999999999999, 80.96999999999998, 62.25000000000001, 57.47, 46.370000000000005, 43.13, 49.169999999999995, 81.79999999999998, 57.470000000000006, 42.290000000000006, 42.4, 50.559999999999995, 48.730000000000004, 52.91, 50.79, 72.14999999999999, 67.44999999999999, 69.72999999999999, 61.47, 56.24, 58.76, 74.28999999999999, 76.37, 74.69, 76.47, 77.26, 89.39000000000001, 91.82000000000001, 69.94, 65.6, 64.94999999999999, 89.17000000000002, 96.22, 110.98, 99.74000000000001, 103.4, 105.39000000000001, 103.6, 104.84, 99.93, 90.76, 84.72, 82.04, 79.48, 81.27, 99.85999999999999, 104.12, 106.47, 88.55000000000001, 84.39000000000001, 88.58, 80.44, 76.67, 77.43, 82.73, 83.51, 88.72999999999999, 72.49999999999999, 82.89, 88.08, 74.97000000000001, 69.86999999999999, 73.44000000000001, 84.58, 100.25, 96.84, 88.15000000000002, 64.98, 91.49, 88.44999999999999, 79.00000000000001, 86.33999999999999, 94.33999999999999, 82.38, 85.64, 92.35, 85.76000000000002, 89.80999999999999, 62.21, 34.29, 34.31, 34.11, 34.75, 34.5, 38.78000000000001, 90.43999999999998, 34.94, 43.01, 35.800000000000004, 36.050000000000004, 36.150000000000006, 36.1, 37.74, 40.120000000000005, 36.7, 38.720000000000006, 36.61000000000001, 37.31, 47.22, 37.89, 37.57, 51.03, 34.81, 34.96, 47.85000000000001, 35.51, 42.96, 37.470000000000006, 35.6, 36.33, 37.040000000000006, 41.66, 44.15, 41.42000000000001, 46.77, 36.43, 36.35, 35.07, 35.620000000000005, 36.400000000000006, 36.78000000000001, 38.5, 37.4, 36.870000000000005, 36.71, 36.96, 38.13, 36.160000000000004, 36.74, 36.94, 37.38, 37.55, 37.1, 35.85, 35.949999999999996, 36.5, 37.160000000000004, 51.57, 37.13, 36.96, 36.980000000000004, 36.480000000000004, 35.620000000000005, 35.65, 36.37, 36.6, 36.21000000000001, 36.31, 37.19, 36.78, 36.32, 37.28000000000001, 36.09, 37.580000000000005, 40.46, 37.56, 39.160000000000004, 42.54, 37.940000000000005, 37.370000000000005, 37.720000000000006, 37.900000000000006, 38.540000000000006, 39.21, 39.03, 39.69, 41.42, 46.480000000000004, 55.57, 60.660000000000004, 73.47, 61.720000000000006, 55.04, 63.730000000000004, 76.04999999999998, 87.02, 72.21, 63.669999999999995, 111.03999999999999, 64.88, 57.17, 61.36, 76.63, 55.97, 56.91, 45.53, 48.26, 44.89, 58.440000000000005, 50.050000000000004, 42.5, 49.33, 59.67, 60.68000000000001, 56.440000000000005, 49.800000000000004, 57.35, 46.48, 48.56, 35.010000000000005, 28.03, 30.03, 37.33, 50.84, 41.529999999999994, 34.75, 34.239999999999995, 31.01, 44.02, 48.529999999999994, 48.00000000000001, 51.440000000000005, 49.12, 42.940000000000005, 40.32000000000001, 34.16, 32.43, 30.35, 31.919999999999998, 35.22, 35.029999999999994, 33.480000000000004, 33.059999999999995, 36.879999999999995, 37.6, 38.98, 48.0, 44.44, 48.169999999999995, 43.41, 29.610000000000003, 27.62, 25.080000000000002, 29.22, 26.540000000000003, 28.470000000000002, 35.1, 28.21, 24.92, 29.52, 36.199999999999996, 38.57999999999999, 49.56, 80.64, 75.39, 65.42, 54.0, 57.769999999999996, 51.49, 42.61000000000001, 43.669999999999995, 39.91000000000001, 39.87, 41.809999999999995, 45.82, 60.18, 58.470000000000006, 55.49000000000001, 49.099999999999994, 47.76, 46.85000000000001, 42.28, 46.56999999999999, 77.75999999999999, 36.940000000000005, 42.809999999999995, 37.839999999999996, 43.58, 35.61, 40.49999999999999, 47.96000000000001, 36.53000000000001, 41.839999999999996, 44.26, 40.28, 39.39, 35.73, 59.199999999999996, 48.53999999999999, 55.92, 63.28, 43.82000000000001, 41.61, 41.06, 42.669999999999995, 41.75, 47.44, 46.809999999999995, 50.79, 53.22, 53.03, 48.51, 50.19, 47.00000000000001, 42.029999999999994, 46.21000000000001, 48.92000000000001, 54.080000000000005, 56.4, 40.77, 38.43, 38.29, 36.4, 45.32, 44.45, 42.87, 39.93, 34.64, 39.44, 37.660000000000004, 37.33, 34.48, 45.11, 33.61999999999999, 45.13000000000001, 39.14, 41.72, 31.47, 38.339999999999996, 41.61, 36.3, 87.06, 76.38999999999999, 75.41999999999999, 89.46, 68.89, 74.8, 60.27, 71.69, 79.61999999999999, 76.94, 85.47, 73.87, 70.02, 74.66, 69.55999999999999, 62.98, 62.35, 73.33999999999999, 65.67999999999999, 71.10999999999999, 74.67999999999999, 70.92999999999999, 67.1, 67.07, 67.72999999999999, 81.25, 69.32, 67.02, 61.72, 63.56, 70.94999999999999, 78.7, 79.53, 90.61999999999998, 89.87999999999998, 75.66, 85.83999999999999, 84.95, 77.75999999999999, 77.17, 90.02, 79.49999999999999, 83.63999999999999, 83.22999999999999, 82.54999999999998, 87.22, 81.51999999999998, 85.91, 104.10999999999999, 85.9, 78.39, 70.49, 82.05, 85.51, 76.35999999999999, 89.96, 93.46, 88.35, 84.52, 88.07, 91.55999999999999, 92.85, 100.1, 98.97, 92.32, 73.42999999999999, 100.50999999999999, 108.41, 117.46, 115.09999999999998, 92.00999999999999, 92.19, 106.13999999999999, 104.42, 134.69, 122.07999999999998, 120.67999999999999, 119.75, 130.31999999999996, 119.32, 127.42999999999999, 112.61, 104.12999999999998, 87.13, 72.35999999999999, 74.11, 78.35999999999999, 88.37, 88.99, 83.53999999999999, 82.85999999999999, 79.72999999999999, 85.72, 80.99, 88.41, 86.27000000000001, 87.94, 76.97, 77.96999999999998, 80.78, 74.53, 73.08999999999999, 69.19, 73.38, 70.08999999999999, 74.50999999999999, 71.84, 69.94, 79.32, 72.51, 80.00999999999999, 80.17999999999998, 66.1, 56.82000000000001, 60.78, 58.300000000000004, 62.669999999999995, 73.91999999999999, 78.55, 65.52, 41.7, 46.19, 43.12, 42.57, 52.99999999999999, 53.08, 55.66, 108.93999999999998, 190.39999999999998, 154.02999999999997, 103.30999999999999, 111.56, 89.27999999999999, 98.55, 101.90999999999998, 87.21999999999998, 83.50999999999999, 96.75999999999999, 106.25999999999999, 97.74999999999999, 84.05, 93.66999999999999, 84.33999999999999, 73.24, 81.02, 84.77, 85.40999999999998, 99.08999999999999, 75.35999999999999, 89.72999999999999, 88.83, 85.13, 77.58999999999999, 84.99, 92.11, 80.34999999999998, 112.58, 85.72999999999999, 64.85999999999999, 44.66, 77.78999999999999, 63.029999999999994, 65.02999999999999, 79.46999999999998, 64.24, 69.91999999999999, 73.92, 67.07999999999998, 88.82, 90.00999999999999, 173.60999999999999, 125.39, 95.50999999999999, 97.40999999999998, 67.88999999999999, 73.35, 78.46, 70.18999999999998, 80.12999999999998, 84.86999999999999, 83.41999999999999, 78.60999999999999, 82.74999999999999, 67.97999999999999, 61.82, 54.68, 52.71, 54.25, 70.44, 77.07, 65.92999999999999, 66.92999999999999, 74.02, 88.46999999999998, 61.07, 75.61, 119.6, 142.2, 145.32, 125.18999999999998, 95.61, 106.82, 108.60999999999999, 85.47999999999999, 88.64, 116.02999999999999, 107.75, 80.15999999999998, 87.52, 69.80999999999999, 76.99, 86.32, 110.50999999999999, 78.55999999999999, 140.32999999999998, 141.72999999999996, 77.27, 82.77999999999999, 81.75999999999999, 73.44, 89.99, 91.8, 111.94999999999999, 94.32, 84.13, 64.05999999999999, 96.28999999999999, 111.75, 70.14, 63.48, 66.32, 64.39999999999999, 59.160000000000004, 58.52, 66.17999999999999, 62.029999999999994, 57.93, 58.13, 53.309999999999995, 60.52, 68.83, 52.629999999999995, 28.500000000000004, 17.82, 17.77, 19.77, 20.03, 18.64, 17.69, 20.87, 22.790000000000003, 36.699999999999996, 38.0, 38.25, 36.76, 37.72, 24.250000000000004, 24.080000000000002, 27.560000000000002, 31.419999999999998, 36.07, 32.72, 37.87, 37.489999999999995, 36.54, 32.32, 26.22, 25.06, 33.32, 38.949999999999996, 40.55, 40.81999999999999, 37.0, 35.91, 37.419999999999995, 37.62, 36.37, 32.71, 29.3, 27.240000000000002, 31.270000000000003, 25.38, 22.459999999999997, 20.709999999999997, 21.090000000000003, 23.34, 22.69, 21.13, 22.580000000000002, 23.35, 23.82, 23.71, 23.87, 23.92, 24.330000000000002, 24.32, 23.94, 24.46, 25.64, 25.63, 26.92, 25.78, 27.8, 25.060000000000002, 21.85, 26.69, 27.94, 27.76, 27.95, 28.099999999999998, 28.200000000000003, 27.87, 26.150000000000002, 19.98, 20.24, 19.57, 19.630000000000003, 19.77, 19.86, 19.71, 19.95, 19.930000000000003, 19.790000000000003, 19.61, 19.630000000000003, 19.93, 19.81, 19.62, 20.200000000000003, 20.040000000000003, 20.01, 20.02, 16.17, 18.580000000000002, 19.51, 20.2, 19.810000000000002, 19.490000000000002, 19.84, 19.770000000000003, 19.650000000000002, 19.28, 52.05, 126.69999999999999, 89.29, 93.35000000000001, 104.33, 117.30000000000001, 115.92999999999999, 138.67, 115.68, 106.60999999999999, 106.00999999999999, 111.54, 118.96, 182.34, 200.17999999999998, 187.48, 145.13000000000002, 130.74, 106.24000000000001, 96.47, 125.11999999999999, 137.69, 124.37, 121.32000000000001, 117.91, 135.70000000000002, 107.08999999999999, 120.38, 93.08, 94.77000000000001, 104.15, 119.26, 112.74000000000001, 104.11, 119.92000000000002, 133.34, 101.00999999999999, 99.42, 88.42, 93.22, 100.83, 125.82000000000001, 136.3, 120.32, 132.29, 101.9, 100.96, 99.1, 92.82, 98.11, 91.80000000000001, 88.47999999999999, 113.46, 82.94, 80.10000000000001, 62.48, 64.58, 77.12, 88.33000000000001, 95.13999999999999, 102.45, 89.55000000000001, 83.10999999999999, 67.87, 66.48, 50.7, 55.760000000000005, 61.07000000000001, 83.61, 96.50000000000001, 91.93, 69.75999999999999, 80.22, 82.56000000000002, 73.09, 91.18, 96.73, 102.52999999999999, 108.83, 98.61, 89.39000000000001, 75.55000000000001, 83.44000000000001, 69.5, 71.67, 65.36, 84.28, 80.53000000000002, 85.67, 89.87, 86.60000000000001, 90.92000000000002, 75.38000000000001, 76.89999999999999, 96.98, 81.71, 69.21000000000001, 85.17999999999999, 76.39, 95.13, 68.8, 61.26, 59.769999999999996, 56.48, 50.0, 54.17000000000001, 55.35, 54.589999999999996, 47.62, 66.73, 45.37, 56.75, 57.129999999999995, 39.33, 50.81, 62.440000000000005, 62.56, 46.28, 43.120000000000005, 51.39999999999999, 53.75000000000001, 37.42999999999999, 93.24, 37.06, 47.24000000000001, 47.11, 64.98999999999998, 53.24999999999999, 46.09, 46.349999999999994, 50.529999999999994, 73.08999999999999, 108.93, 59.02, 64.74999999999999, 62.470000000000006, 43.89, 52.09, 46.36, 36.83, 39.1, 56.690000000000005, 56.449999999999996, 48.949999999999996, 54.779999999999994, 53.07, 46.48, 58.38999999999999, 57.330000000000005, 49.230000000000004, 41.67, 49.98, 41.4, 41.51, 44.29, 50.370000000000005, 43.78, 39.93, 48.629999999999995, 40.839999999999996, 42.46999999999999, 40.9, 44.78000000000001, 45.279999999999994, 37.86, 39.980000000000004, 38.93, 40.04, 37.96, 53.27, 60.60999999999999, 65.55999999999999, 66.42999999999999, 49.25999999999999, 58.080000000000005, 56.27, 53.580000000000005, 48.54, 52.699999999999996, 79.28999999999999, 94.99999999999999, 95.63999999999999, 89.66, 90.78, 129.44, 68.71, 59.559999999999995, 61.97, 69.99999999999999, 81.77, 74.1, 77.88, 71.07, 50.25999999999999, 55.21, 48.220000000000006, 58.38, 66.9, 74.06, 92.44999999999999, 130.0, 98.97, 89.07, 74.35, 87.81, 92.57, 68.05, 40.69000000000001, 47.699999999999996, 69.17999999999999, 71.91, 62.160000000000004, 48.720000000000006, 51.60000000000001, 59.75, 61.86, 61.099999999999994, 56.79, 60.84, 54.93, 63.94, 56.19, 61.470000000000006, 53.5, 59.28, 64.66, 61.27, 59.76, 66.86, 69.99, 63.28, 62.089999999999996, 55.900000000000006, 65.69, 59.519999999999996, 86.01999999999998, 63.5, 45.669999999999995, 45.7, 45.24, 43.199999999999996, 71.93, 50.510000000000005, 66.92999999999999, 66.03999999999999, 65.94999999999999, 54.67, 58.99, 49.27, 50.42999999999999, 55.010000000000005, 55.71000000000001, 58.910000000000004, 56.95, 44.18, 44.68000000000001, 51.400000000000006, 50.120000000000005, 52.37, 52.690000000000005, 53.42, 61.55, 61.34, 60.69000000000001, 60.23, 58.63, 69.07999999999998, 61.190000000000005, 51.300000000000004, 38.19, 47.08, 57.08, 58.15, 56.160000000000004, 54.89, 49.07, 69.70999999999998, 57.43000000000001, 65.99999999999999, 61.730000000000004, 61.910000000000004, 58.989999999999995, 59.82000000000001, 54.71, 53.730000000000004, 55.89, 63.589999999999996, 53.980000000000004, 73.62999999999998, 75.78999999999999, 79.06999999999998, 80.13999999999999, 50.57000000000001, 41.18, 66.61999999999999, 73.85, 73.13999999999999, 53.25, 69.46999999999998, 76.63999999999999, 76.71, 60.300000000000004, 44.85, 47.480000000000004, 53.03, 51.92, 46.67, 42.89, 44.35, 47.82, 46.18, 45.66, 43.0, 40.76, 49.35000000000001, 59.27, 59.07000000000001, 71.26999999999998, 77.78999999999999, 69.21999999999998, 52.66, 37.24, 43.37, 46.620000000000005, 52.00000000000001, 55.18, 48.62, 46.96, 50.4, 54.12, 62.84, 54.129999999999995, 43.980000000000004, 45.25, 51.75, 43.410000000000004, 42.160000000000004, 42.8, 37.83, 33.339999999999996, 29.76, 30.940000000000005, 36.25, 36.09, 36.19, 31.380000000000003, 34.31, 37.46, 36.620000000000005, 33.93, 31.240000000000002, 38.84, 37.53, 40.1, 38.84, 37.06, 38.120000000000005, 44.27, 54.980000000000004, 44.96000000000001, 59.6, 56.07, 40.75, 41.98, 43.6, 38.379999999999995, 26.84, 30.650000000000002, 37.28, 34.480000000000004, 37.730000000000004, 34.980000000000004, 26.13, 29.61, 31.48, 30.78, 31.71, 31.53, 29.479999999999997, 33.91, 33.559999999999995, 55.08, 44.75, 32.77, 35.61, 38.53, 35.24000000000001, 35.85, 36.57, 38.85, 39.82, 43.449999999999996, 33.269999999999996, 34.9, 38.2, 40.559999999999995, 39.050000000000004, 35.92, 39.989999999999995, 33.989999999999995, 34.63999999999999, 37.51, 34.2, 39.41, 40.9, 32.769999999999996, 45.33, 41.71, 38.44, 38.22, 55.78, 40.089999999999996, 39.03000000000001, 44.19, 45.769999999999996, 32.53, 27.6, 35.25, 35.26, 32.04, 31.610000000000003, 46.15, 48.709999999999994, 49.059999999999995, 47.300000000000004, 47.13000000000001, 41.13, 49.61, 53.78, 34.98, 36.75, 41.26, 44.519999999999996, 40.769999999999996, 43.25, 34.86, 30.740000000000002, 31.32, 34.559999999999995, 43.260000000000005, 46.06999999999999, 46.28, 43.86, 47.48, 44.940000000000005, 48.25, 39.98, 42.32000000000001, 39.76, 39.31, 32.269999999999996, 28.14, 32.6, 41.36, 46.099999999999994, 46.73, 41.37, 39.699999999999996, 38.900000000000006, 36.74, 37.080000000000005, 34.78, 43.120000000000005, 47.82, 47.169999999999995, 55.980000000000004, 51.81, 61.699999999999996, 45.13, 45.78, 51.82, 45.19, 53.580000000000005, 49.019999999999996, 36.959999999999994, 39.23, 48.84, 41.449999999999996, 38.02, 33.169999999999995, 37.17999999999999, 44.16, 45.10999999999999, 59.69, 50.38, 38.04, 43.06, 32.1, 57.160000000000004, 34.080000000000005, 33.72, 25.05, 22.27, 39.720000000000006, 42.25, 36.29, 39.349999999999994, 34.77, 33.58, 33.92, 37.48, 55.94, 75.49, 71.89, 43.3, 50.72, 68.96, 231.88, 908.4000000000001, 923.48, 433.16, 27.0, 38.59, 54.169999999999995, 45.879999999999995, 48.150000000000006, 66.46000000000001, 60.480000000000004, 49.21, 66.97999999999999, 72.08999999999999, 66.94, 48.190000000000005, 54.44, 47.25999999999999, 47.720000000000006, 48.06000000000001, 374.40000000000003, 511.32, 75.32, 56.84, 47.04, 65.04999999999998, 45.00999999999999, 36.11000000000001, 62.23, 44.66, 44.66, 246.57, 566.0, 302.91, 846.5500000000001, 839.83, 942.09, 906.72, 914.82, 913.8900000000001, 945.23, 916.5200000000001, 966.7500000000001, 891.3000000000001, 900.19, 944.58, 969.24, 957.9300000000001, 908.08, 902.9300000000001, 917.0600000000001, 921.64, 606.22, 115.07, 48.38, 22.889999999999997, 28.64, 16.79, 21.17, 12.050000000000002, 8.01, 11.48, 16.04, 20.96, 18.89, 21.89, 22.17, 19.6, 32.39, 49.75000000000001, 35.00000000000001, 27.380000000000003, 40.83, 44.66, 44.66, 44.66, 44.66, 40.83, 40.83, 40.83, 40.83, 40.83, 40.83, 40.83, 40.83, 40.83, 40.83, 40.83, 40.83, 40.83, 40.83, 40.83, 40.83, 40.83, 40.83, 40.83, 40.83, 6.07, 35.01, 33.550000000000004, 33.07, 37.81, 37.050000000000004, 42.77, 49.269999999999996, 43.71000000000001, 27.82, 21.26, 32.89, 33.3, 37.790000000000006, 18.720000000000002, 41.93000000000001, 45.370000000000005, 31.57, 25.650000000000002, 33.1, 31.370000000000005, 36.97, 35.68, 22.89, 42.31, 43.13, 64.78999999999999, 34.24, 39.8, 30.760000000000005, 35.71, 37.24, 40.36, 45.71, 55.220000000000006, 63.86, 42.47, 21.26, 11.48, 12.629999999999999, 6.550000000000001, 54.59, 68.57, 64.53, 54.480000000000004, 57.78, 63.2, 75.51999999999998, 69.93999999999998, 71.21999999999998, 79.29999999999998, 68.76999999999998, 63.22, 69.16, 64.19, 50.03, 53.760000000000005, 48.650000000000006, 59.08, 64.82999999999998, 92.55999999999999, 88.72999999999999, 80.38, 85.03999999999999, 60.46000000000001, 57.61000000000001, 56.019999999999996, 68.99999999999999, 61.52, 83.55999999999999, 73.07, 117.94, 85.75, 109.00999999999999, 79.58999999999999, 44.66, 44.66, 44.66, 116.33999999999999, 59.83, 72.90999999999998, 54.72, 55.550000000000004, 43.24, 50.14, 56.05, 44.22, 67.60999999999999, 63.42, 73.04999999999998, 73.21, 71.68999999999998, 57.56, 60.85, 119.53999999999999, 78.17999999999999, 79.21, 69.77999999999999, 82.71, 63.57, 93.08, 83.05, 84.27, 98.69, 91.77999999999999, 84.11999999999999, 86.66999999999999, 108.55, 94.58, 79.52999999999999, 83.72999999999999, 82.44, 48.56, 49.019999999999996, 70.79999999999998, 120.80999999999999, 111.61999999999999, 53.08, 72.68999999999998, 77.38999999999999, 71.82999999999998, 72.05999999999999, 37.13, 51.14, 47.589999999999996, 58.47, 56.669999999999995, 50.79, 49.25, 47.66, 53.01, 46.849999999999994, 61.35, 65.89999999999999, 64.92999999999999, 71.63999999999999, 71.55999999999999, 68.24999999999999, 67.54999999999998, 60.39, 51.51, 41.4, 47.62, 50.62, 46.79, 49.24999999999999, 54.36, 65.61999999999999, 67.10999999999999, 66.33999999999999, 66.58999999999999, 66.99, 69.65999999999998, 63.879999999999995, 67.79999999999998, 59.24999999999999, 57.839999999999996, 54.01, 59.87, 54.910000000000004, 62.94, 66.36999999999999, 67.70999999999998, 62.63, 58.9, 56.92, 58.92, 59.419999999999995, 58.839999999999996, 62.37, 73.27999999999999, 80.24, 66.76999999999998, 55.989999999999995, 59.18, 65.57999999999998, 52.67, 62.37, 64.38999999999999, 62.910000000000004, 56.93, 63.800000000000004, 61.94, 57.19, 45.32, 37.989999999999995, 41.38999999999999, 36.129999999999995, 35.52, 41.88, 48.81, 51.029999999999994, 51.38999999999999, 56.65, 61.96999999999999, 60.22, 56.46, 58.57, 53.74999999999999, 52.910000000000004, 57.67, 56.980000000000004, 52.59, 56.01, 50.61, 53.199999999999996, 48.69, 52.83, 63.0, 58.919999999999995, 46.71, 47.730000000000004, 51.629999999999995, 47.66, 50.6, 57.32, 54.96, 46.53, 39.06, 45.23, 62.0, 56.419999999999995, 49.16, 45.86, 49.36, 53.93, 51.910000000000004, 46.77, 47.5, 51.52, 52.660000000000004, 38.019999999999996, 40.23, 42.82, 43.599999999999994, 39.769999999999996, 40.62, 40.72, 45.67, 52.559999999999995, 54.81999999999999, 49.13999999999999, 49.199999999999996, 42.91]}],\n",
       "                        {\"legend\": {\"bgcolor\": \"#F5F6F9\", \"font\": {\"color\": \"#4D5663\"}}, \"paper_bgcolor\": \"#F5F6F9\", \"plot_bgcolor\": \"#F5F6F9\", \"template\": {\"data\": {\"bar\": [{\"error_x\": {\"color\": \"#2a3f5f\"}, \"error_y\": {\"color\": \"#2a3f5f\"}, \"marker\": {\"line\": {\"color\": \"#E5ECF6\", \"width\": 0.5}}, \"type\": \"bar\"}], \"barpolar\": [{\"marker\": {\"line\": {\"color\": \"#E5ECF6\", \"width\": 0.5}}, \"type\": \"barpolar\"}], \"carpet\": [{\"aaxis\": {\"endlinecolor\": \"#2a3f5f\", \"gridcolor\": \"white\", \"linecolor\": \"white\", \"minorgridcolor\": \"white\", \"startlinecolor\": \"#2a3f5f\"}, \"baxis\": {\"endlinecolor\": \"#2a3f5f\", \"gridcolor\": \"white\", \"linecolor\": \"white\", \"minorgridcolor\": \"white\", \"startlinecolor\": \"#2a3f5f\"}, \"type\": \"carpet\"}], \"choropleth\": [{\"colorbar\": {\"outlinewidth\": 0, \"ticks\": \"\"}, \"type\": \"choropleth\"}], \"contour\": [{\"colorbar\": {\"outlinewidth\": 0, \"ticks\": \"\"}, \"colorscale\": [[0.0, \"#0d0887\"], [0.1111111111111111, \"#46039f\"], [0.2222222222222222, \"#7201a8\"], [0.3333333333333333, \"#9c179e\"], [0.4444444444444444, \"#bd3786\"], [0.5555555555555556, \"#d8576b\"], [0.6666666666666666, \"#ed7953\"], [0.7777777777777778, \"#fb9f3a\"], [0.8888888888888888, \"#fdca26\"], [1.0, \"#f0f921\"]], \"type\": \"contour\"}], \"contourcarpet\": [{\"colorbar\": {\"outlinewidth\": 0, \"ticks\": \"\"}, \"type\": \"contourcarpet\"}], \"heatmap\": [{\"colorbar\": {\"outlinewidth\": 0, \"ticks\": \"\"}, \"colorscale\": [[0.0, \"#0d0887\"], [0.1111111111111111, \"#46039f\"], [0.2222222222222222, \"#7201a8\"], [0.3333333333333333, \"#9c179e\"], [0.4444444444444444, \"#bd3786\"], [0.5555555555555556, \"#d8576b\"], [0.6666666666666666, \"#ed7953\"], [0.7777777777777778, \"#fb9f3a\"], [0.8888888888888888, \"#fdca26\"], [1.0, \"#f0f921\"]], \"type\": \"heatmap\"}], \"heatmapgl\": [{\"colorbar\": {\"outlinewidth\": 0, \"ticks\": \"\"}, \"colorscale\": [[0.0, \"#0d0887\"], [0.1111111111111111, \"#46039f\"], [0.2222222222222222, \"#7201a8\"], [0.3333333333333333, \"#9c179e\"], [0.4444444444444444, \"#bd3786\"], [0.5555555555555556, \"#d8576b\"], [0.6666666666666666, \"#ed7953\"], [0.7777777777777778, \"#fb9f3a\"], [0.8888888888888888, \"#fdca26\"], [1.0, \"#f0f921\"]], \"type\": \"heatmapgl\"}], \"histogram\": [{\"marker\": {\"colorbar\": {\"outlinewidth\": 0, \"ticks\": \"\"}}, \"type\": \"histogram\"}], \"histogram2d\": [{\"colorbar\": {\"outlinewidth\": 0, \"ticks\": \"\"}, \"colorscale\": [[0.0, \"#0d0887\"], [0.1111111111111111, \"#46039f\"], [0.2222222222222222, \"#7201a8\"], [0.3333333333333333, \"#9c179e\"], [0.4444444444444444, \"#bd3786\"], [0.5555555555555556, \"#d8576b\"], [0.6666666666666666, \"#ed7953\"], [0.7777777777777778, \"#fb9f3a\"], [0.8888888888888888, \"#fdca26\"], [1.0, \"#f0f921\"]], \"type\": \"histogram2d\"}], \"histogram2dcontour\": [{\"colorbar\": {\"outlinewidth\": 0, \"ticks\": \"\"}, \"colorscale\": [[0.0, \"#0d0887\"], [0.1111111111111111, \"#46039f\"], [0.2222222222222222, \"#7201a8\"], [0.3333333333333333, \"#9c179e\"], [0.4444444444444444, \"#bd3786\"], [0.5555555555555556, \"#d8576b\"], [0.6666666666666666, \"#ed7953\"], [0.7777777777777778, \"#fb9f3a\"], [0.8888888888888888, \"#fdca26\"], [1.0, \"#f0f921\"]], \"type\": \"histogram2dcontour\"}], \"mesh3d\": [{\"colorbar\": {\"outlinewidth\": 0, \"ticks\": \"\"}, \"type\": \"mesh3d\"}], \"parcoords\": [{\"line\": {\"colorbar\": {\"outlinewidth\": 0, \"ticks\": \"\"}}, \"type\": \"parcoords\"}], \"pie\": [{\"automargin\": true, \"type\": \"pie\"}], \"scatter\": [{\"marker\": {\"colorbar\": {\"outlinewidth\": 0, \"ticks\": \"\"}}, \"type\": \"scatter\"}], \"scatter3d\": [{\"line\": {\"colorbar\": {\"outlinewidth\": 0, \"ticks\": \"\"}}, \"marker\": {\"colorbar\": {\"outlinewidth\": 0, \"ticks\": \"\"}}, \"type\": \"scatter3d\"}], \"scattercarpet\": [{\"marker\": {\"colorbar\": {\"outlinewidth\": 0, \"ticks\": \"\"}}, \"type\": \"scattercarpet\"}], \"scattergeo\": [{\"marker\": {\"colorbar\": {\"outlinewidth\": 0, \"ticks\": \"\"}}, \"type\": \"scattergeo\"}], \"scattergl\": [{\"marker\": {\"colorbar\": {\"outlinewidth\": 0, \"ticks\": \"\"}}, \"type\": \"scattergl\"}], \"scattermapbox\": [{\"marker\": {\"colorbar\": {\"outlinewidth\": 0, \"ticks\": \"\"}}, \"type\": \"scattermapbox\"}], \"scatterpolar\": [{\"marker\": {\"colorbar\": {\"outlinewidth\": 0, \"ticks\": \"\"}}, \"type\": \"scatterpolar\"}], \"scatterpolargl\": [{\"marker\": {\"colorbar\": {\"outlinewidth\": 0, \"ticks\": \"\"}}, \"type\": \"scatterpolargl\"}], \"scatterternary\": [{\"marker\": {\"colorbar\": {\"outlinewidth\": 0, \"ticks\": \"\"}}, \"type\": \"scatterternary\"}], \"surface\": [{\"colorbar\": {\"outlinewidth\": 0, \"ticks\": \"\"}, \"colorscale\": [[0.0, \"#0d0887\"], [0.1111111111111111, \"#46039f\"], [0.2222222222222222, \"#7201a8\"], [0.3333333333333333, \"#9c179e\"], [0.4444444444444444, \"#bd3786\"], [0.5555555555555556, \"#d8576b\"], [0.6666666666666666, \"#ed7953\"], [0.7777777777777778, \"#fb9f3a\"], [0.8888888888888888, \"#fdca26\"], [1.0, \"#f0f921\"]], \"type\": \"surface\"}], \"table\": [{\"cells\": {\"fill\": {\"color\": \"#EBF0F8\"}, \"line\": {\"color\": \"white\"}}, \"header\": {\"fill\": {\"color\": \"#C8D4E3\"}, \"line\": {\"color\": \"white\"}}, \"type\": \"table\"}]}, \"layout\": {\"annotationdefaults\": {\"arrowcolor\": \"#2a3f5f\", \"arrowhead\": 0, \"arrowwidth\": 1}, \"coloraxis\": {\"colorbar\": {\"outlinewidth\": 0, \"ticks\": \"\"}}, \"colorscale\": {\"diverging\": [[0, \"#8e0152\"], [0.1, \"#c51b7d\"], [0.2, \"#de77ae\"], [0.3, \"#f1b6da\"], [0.4, \"#fde0ef\"], [0.5, \"#f7f7f7\"], [0.6, \"#e6f5d0\"], [0.7, \"#b8e186\"], [0.8, \"#7fbc41\"], [0.9, \"#4d9221\"], [1, \"#276419\"]], \"sequential\": [[0.0, \"#0d0887\"], [0.1111111111111111, \"#46039f\"], [0.2222222222222222, \"#7201a8\"], [0.3333333333333333, \"#9c179e\"], [0.4444444444444444, \"#bd3786\"], [0.5555555555555556, \"#d8576b\"], [0.6666666666666666, \"#ed7953\"], [0.7777777777777778, \"#fb9f3a\"], [0.8888888888888888, \"#fdca26\"], [1.0, \"#f0f921\"]], \"sequentialminus\": [[0.0, \"#0d0887\"], [0.1111111111111111, \"#46039f\"], [0.2222222222222222, \"#7201a8\"], [0.3333333333333333, \"#9c179e\"], [0.4444444444444444, \"#bd3786\"], [0.5555555555555556, \"#d8576b\"], [0.6666666666666666, \"#ed7953\"], [0.7777777777777778, \"#fb9f3a\"], [0.8888888888888888, \"#fdca26\"], [1.0, \"#f0f921\"]]}, \"colorway\": [\"#636efa\", \"#EF553B\", \"#00cc96\", \"#ab63fa\", \"#FFA15A\", \"#19d3f3\", \"#FF6692\", \"#B6E880\", \"#FF97FF\", \"#FECB52\"], \"font\": {\"color\": \"#2a3f5f\"}, \"geo\": {\"bgcolor\": \"white\", \"lakecolor\": \"white\", \"landcolor\": \"#E5ECF6\", \"showlakes\": true, \"showland\": true, \"subunitcolor\": \"white\"}, \"hoverlabel\": {\"align\": \"left\"}, \"hovermode\": \"closest\", \"mapbox\": {\"style\": \"light\"}, \"paper_bgcolor\": \"white\", \"plot_bgcolor\": \"#E5ECF6\", \"polar\": {\"angularaxis\": {\"gridcolor\": \"white\", \"linecolor\": \"white\", \"ticks\": \"\"}, \"bgcolor\": \"#E5ECF6\", \"radialaxis\": {\"gridcolor\": \"white\", \"linecolor\": \"white\", \"ticks\": \"\"}}, \"scene\": {\"xaxis\": {\"backgroundcolor\": \"#E5ECF6\", \"gridcolor\": \"white\", \"gridwidth\": 2, \"linecolor\": \"white\", \"showbackground\": true, \"ticks\": \"\", \"zerolinecolor\": \"white\"}, \"yaxis\": {\"backgroundcolor\": \"#E5ECF6\", \"gridcolor\": \"white\", \"gridwidth\": 2, \"linecolor\": \"white\", \"showbackground\": true, \"ticks\": \"\", \"zerolinecolor\": \"white\"}, \"zaxis\": {\"backgroundcolor\": \"#E5ECF6\", \"gridcolor\": \"white\", \"gridwidth\": 2, \"linecolor\": \"white\", \"showbackground\": true, \"ticks\": \"\", \"zerolinecolor\": \"white\"}}, \"shapedefaults\": {\"line\": {\"color\": \"#2a3f5f\"}}, \"ternary\": {\"aaxis\": {\"gridcolor\": \"white\", \"linecolor\": \"white\", \"ticks\": \"\"}, \"baxis\": {\"gridcolor\": \"white\", \"linecolor\": \"white\", \"ticks\": \"\"}, \"bgcolor\": \"#E5ECF6\", \"caxis\": {\"gridcolor\": \"white\", \"linecolor\": \"white\", \"ticks\": \"\"}}, \"title\": {\"x\": 0.05}, \"xaxis\": {\"automargin\": true, \"gridcolor\": \"white\", \"linecolor\": \"white\", \"ticks\": \"\", \"title\": {\"standoff\": 15}, \"zerolinecolor\": \"white\", \"zerolinewidth\": 2}, \"yaxis\": {\"automargin\": true, \"gridcolor\": \"white\", \"linecolor\": \"white\", \"ticks\": \"\", \"title\": {\"standoff\": 15}, \"zerolinecolor\": \"white\", \"zerolinewidth\": 2}}}, \"title\": {\"font\": {\"color\": \"#4D5663\"}, \"text\": \"Industrial Pollution content\"}, \"xaxis\": {\"gridcolor\": \"#E1E5ED\", \"linecolor\": \"black\", \"showgrid\": true, \"tickfont\": {\"color\": \"#4D5663\"}, \"title\": {\"font\": {\"color\": \"#4D5663\"}, \"text\": \"Cities\"}, \"zerolinecolor\": \"#E1E5ED\"}, \"yaxis\": {\"gridcolor\": \"#E1E5ED\", \"linecolor\": \"black\", \"showgrid\": true, \"tickfont\": {\"color\": \"#4D5663\"}, \"title\": {\"font\": {\"color\": \"#4D5663\"}, \"text\": \"Industrial Pollution content\"}, \"zerolinecolor\": \"#E1E5ED\"}},\n",
       "                        {\"showLink\": true, \"linkText\": \"Export to plot.ly\", \"plotlyServerURL\": \"https://plot.ly\", \"responsive\": true}\n",
       "                    ).then(function(){\n",
       "                            \n",
       "var gd = document.getElementById('67e2c8ee-eba5-489b-a80b-40b1e22d20fa');\n",
       "var x = new MutationObserver(function (mutations, observer) {{\n",
       "        var display = window.getComputedStyle(gd).display;\n",
       "        if (!display || display === 'none') {{\n",
       "            console.log([gd, 'removed!']);\n",
       "            Plotly.purge(gd);\n",
       "            observer.disconnect();\n",
       "        }}\n",
       "}});\n",
       "\n",
       "// Listen for the removal of the full notebook cells\n",
       "var notebookContainer = gd.closest('#notebook-container');\n",
       "if (notebookContainer) {{\n",
       "    x.observe(notebookContainer, {childList: true});\n",
       "}}\n",
       "\n",
       "// Listen for the clearing of the current output cell\n",
       "var outputEl = gd.closest('.output');\n",
       "if (outputEl) {{\n",
       "    x.observe(outputEl, {childList: true});\n",
       "}}\n",
       "\n",
       "                        })\n",
       "                };\n",
       "                });\n",
       "            </script>\n",
       "        </div>"
      ]
     },
     "metadata": {},
     "output_type": "display_data"
    }
   ],
   "source": [
    "def ploting(var):\n",
    "    df[var].iplot(title=var,xTitle='Cities',yTitle=var, linecolor='black', )\n",
    "    plt.show()\n",
    "ploting('Vehicular Pollution content')\n",
    "ploting('Industrial Pollution content')"
   ]
  },
  {
   "cell_type": "code",
   "execution_count": 13,
   "metadata": {
    "execution": {
     "iopub.execute_input": "2020-10-30T04:22:48.791160Z",
     "iopub.status.busy": "2020-10-30T04:22:48.790159Z",
     "iopub.status.idle": "2020-10-30T04:22:48.883579Z",
     "shell.execute_reply": "2020-10-30T04:22:48.882965Z"
    },
    "papermill": {
     "duration": 0.468992,
     "end_time": "2020-10-30T04:22:48.883703",
     "exception": false,
     "start_time": "2020-10-30T04:22:48.414711",
     "status": "completed"
    },
    "tags": []
   },
   "outputs": [
    {
     "data": {
      "application/vnd.plotly.v1+json": {
       "config": {
        "linkText": "Export to plot.ly",
        "plotlyServerURL": "https://plot.ly",
        "showLink": true
       },
       "data": [
        {
         "marker": {
          "color": "rgba(255, 153, 51, 0.6)",
          "line": {
           "color": "rgba(255, 153, 51, 1.0)",
           "width": 1
          }
         },
         "name": "Industrial Pollution content",
         "orientation": "v",
         "text": "",
         "type": "bar",
         "x": [
          "Amaravati",
          "Lucknow",
          "Talcher",
          "Gurugram",
          "Delhi",
          "Bhopal",
          "Jaipur",
          "Jorapokhar",
          "Kolkata",
          "Ahmedabad"
         ],
         "y": [
          54.88,
          56.79,
          59.83,
          69.66999999999999,
          73.55,
          77.89999999999999,
          79.61999999999999,
          81.75999999999999,
          90.92000000000002,
          118.66
         ]
        }
       ],
       "layout": {
        "legend": {
         "bgcolor": "#F5F6F9",
         "font": {
          "color": "#4D5663"
         }
        },
        "paper_bgcolor": "#F5F6F9",
        "plot_bgcolor": "#F5F6F9",
        "template": {
         "data": {
          "bar": [
           {
            "error_x": {
             "color": "#2a3f5f"
            },
            "error_y": {
             "color": "#2a3f5f"
            },
            "marker": {
             "line": {
              "color": "#E5ECF6",
              "width": 0.5
             }
            },
            "type": "bar"
           }
          ],
          "barpolar": [
           {
            "marker": {
             "line": {
              "color": "#E5ECF6",
              "width": 0.5
             }
            },
            "type": "barpolar"
           }
          ],
          "carpet": [
           {
            "aaxis": {
             "endlinecolor": "#2a3f5f",
             "gridcolor": "white",
             "linecolor": "white",
             "minorgridcolor": "white",
             "startlinecolor": "#2a3f5f"
            },
            "baxis": {
             "endlinecolor": "#2a3f5f",
             "gridcolor": "white",
             "linecolor": "white",
             "minorgridcolor": "white",
             "startlinecolor": "#2a3f5f"
            },
            "type": "carpet"
           }
          ],
          "choropleth": [
           {
            "colorbar": {
             "outlinewidth": 0,
             "ticks": ""
            },
            "type": "choropleth"
           }
          ],
          "contour": [
           {
            "colorbar": {
             "outlinewidth": 0,
             "ticks": ""
            },
            "colorscale": [
             [
              0,
              "#0d0887"
             ],
             [
              0.1111111111111111,
              "#46039f"
             ],
             [
              0.2222222222222222,
              "#7201a8"
             ],
             [
              0.3333333333333333,
              "#9c179e"
             ],
             [
              0.4444444444444444,
              "#bd3786"
             ],
             [
              0.5555555555555556,
              "#d8576b"
             ],
             [
              0.6666666666666666,
              "#ed7953"
             ],
             [
              0.7777777777777778,
              "#fb9f3a"
             ],
             [
              0.8888888888888888,
              "#fdca26"
             ],
             [
              1,
              "#f0f921"
             ]
            ],
            "type": "contour"
           }
          ],
          "contourcarpet": [
           {
            "colorbar": {
             "outlinewidth": 0,
             "ticks": ""
            },
            "type": "contourcarpet"
           }
          ],
          "heatmap": [
           {
            "colorbar": {
             "outlinewidth": 0,
             "ticks": ""
            },
            "colorscale": [
             [
              0,
              "#0d0887"
             ],
             [
              0.1111111111111111,
              "#46039f"
             ],
             [
              0.2222222222222222,
              "#7201a8"
             ],
             [
              0.3333333333333333,
              "#9c179e"
             ],
             [
              0.4444444444444444,
              "#bd3786"
             ],
             [
              0.5555555555555556,
              "#d8576b"
             ],
             [
              0.6666666666666666,
              "#ed7953"
             ],
             [
              0.7777777777777778,
              "#fb9f3a"
             ],
             [
              0.8888888888888888,
              "#fdca26"
             ],
             [
              1,
              "#f0f921"
             ]
            ],
            "type": "heatmap"
           }
          ],
          "heatmapgl": [
           {
            "colorbar": {
             "outlinewidth": 0,
             "ticks": ""
            },
            "colorscale": [
             [
              0,
              "#0d0887"
             ],
             [
              0.1111111111111111,
              "#46039f"
             ],
             [
              0.2222222222222222,
              "#7201a8"
             ],
             [
              0.3333333333333333,
              "#9c179e"
             ],
             [
              0.4444444444444444,
              "#bd3786"
             ],
             [
              0.5555555555555556,
              "#d8576b"
             ],
             [
              0.6666666666666666,
              "#ed7953"
             ],
             [
              0.7777777777777778,
              "#fb9f3a"
             ],
             [
              0.8888888888888888,
              "#fdca26"
             ],
             [
              1,
              "#f0f921"
             ]
            ],
            "type": "heatmapgl"
           }
          ],
          "histogram": [
           {
            "marker": {
             "colorbar": {
              "outlinewidth": 0,
              "ticks": ""
             }
            },
            "type": "histogram"
           }
          ],
          "histogram2d": [
           {
            "colorbar": {
             "outlinewidth": 0,
             "ticks": ""
            },
            "colorscale": [
             [
              0,
              "#0d0887"
             ],
             [
              0.1111111111111111,
              "#46039f"
             ],
             [
              0.2222222222222222,
              "#7201a8"
             ],
             [
              0.3333333333333333,
              "#9c179e"
             ],
             [
              0.4444444444444444,
              "#bd3786"
             ],
             [
              0.5555555555555556,
              "#d8576b"
             ],
             [
              0.6666666666666666,
              "#ed7953"
             ],
             [
              0.7777777777777778,
              "#fb9f3a"
             ],
             [
              0.8888888888888888,
              "#fdca26"
             ],
             [
              1,
              "#f0f921"
             ]
            ],
            "type": "histogram2d"
           }
          ],
          "histogram2dcontour": [
           {
            "colorbar": {
             "outlinewidth": 0,
             "ticks": ""
            },
            "colorscale": [
             [
              0,
              "#0d0887"
             ],
             [
              0.1111111111111111,
              "#46039f"
             ],
             [
              0.2222222222222222,
              "#7201a8"
             ],
             [
              0.3333333333333333,
              "#9c179e"
             ],
             [
              0.4444444444444444,
              "#bd3786"
             ],
             [
              0.5555555555555556,
              "#d8576b"
             ],
             [
              0.6666666666666666,
              "#ed7953"
             ],
             [
              0.7777777777777778,
              "#fb9f3a"
             ],
             [
              0.8888888888888888,
              "#fdca26"
             ],
             [
              1,
              "#f0f921"
             ]
            ],
            "type": "histogram2dcontour"
           }
          ],
          "mesh3d": [
           {
            "colorbar": {
             "outlinewidth": 0,
             "ticks": ""
            },
            "type": "mesh3d"
           }
          ],
          "parcoords": [
           {
            "line": {
             "colorbar": {
              "outlinewidth": 0,
              "ticks": ""
             }
            },
            "type": "parcoords"
           }
          ],
          "pie": [
           {
            "automargin": true,
            "type": "pie"
           }
          ],
          "scatter": [
           {
            "marker": {
             "colorbar": {
              "outlinewidth": 0,
              "ticks": ""
             }
            },
            "type": "scatter"
           }
          ],
          "scatter3d": [
           {
            "line": {
             "colorbar": {
              "outlinewidth": 0,
              "ticks": ""
             }
            },
            "marker": {
             "colorbar": {
              "outlinewidth": 0,
              "ticks": ""
             }
            },
            "type": "scatter3d"
           }
          ],
          "scattercarpet": [
           {
            "marker": {
             "colorbar": {
              "outlinewidth": 0,
              "ticks": ""
             }
            },
            "type": "scattercarpet"
           }
          ],
          "scattergeo": [
           {
            "marker": {
             "colorbar": {
              "outlinewidth": 0,
              "ticks": ""
             }
            },
            "type": "scattergeo"
           }
          ],
          "scattergl": [
           {
            "marker": {
             "colorbar": {
              "outlinewidth": 0,
              "ticks": ""
             }
            },
            "type": "scattergl"
           }
          ],
          "scattermapbox": [
           {
            "marker": {
             "colorbar": {
              "outlinewidth": 0,
              "ticks": ""
             }
            },
            "type": "scattermapbox"
           }
          ],
          "scatterpolar": [
           {
            "marker": {
             "colorbar": {
              "outlinewidth": 0,
              "ticks": ""
             }
            },
            "type": "scatterpolar"
           }
          ],
          "scatterpolargl": [
           {
            "marker": {
             "colorbar": {
              "outlinewidth": 0,
              "ticks": ""
             }
            },
            "type": "scatterpolargl"
           }
          ],
          "scatterternary": [
           {
            "marker": {
             "colorbar": {
              "outlinewidth": 0,
              "ticks": ""
             }
            },
            "type": "scatterternary"
           }
          ],
          "surface": [
           {
            "colorbar": {
             "outlinewidth": 0,
             "ticks": ""
            },
            "colorscale": [
             [
              0,
              "#0d0887"
             ],
             [
              0.1111111111111111,
              "#46039f"
             ],
             [
              0.2222222222222222,
              "#7201a8"
             ],
             [
              0.3333333333333333,
              "#9c179e"
             ],
             [
              0.4444444444444444,
              "#bd3786"
             ],
             [
              0.5555555555555556,
              "#d8576b"
             ],
             [
              0.6666666666666666,
              "#ed7953"
             ],
             [
              0.7777777777777778,
              "#fb9f3a"
             ],
             [
              0.8888888888888888,
              "#fdca26"
             ],
             [
              1,
              "#f0f921"
             ]
            ],
            "type": "surface"
           }
          ],
          "table": [
           {
            "cells": {
             "fill": {
              "color": "#EBF0F8"
             },
             "line": {
              "color": "white"
             }
            },
            "header": {
             "fill": {
              "color": "#C8D4E3"
             },
             "line": {
              "color": "white"
             }
            },
            "type": "table"
           }
          ]
         },
         "layout": {
          "annotationdefaults": {
           "arrowcolor": "#2a3f5f",
           "arrowhead": 0,
           "arrowwidth": 1
          },
          "coloraxis": {
           "colorbar": {
            "outlinewidth": 0,
            "ticks": ""
           }
          },
          "colorscale": {
           "diverging": [
            [
             0,
             "#8e0152"
            ],
            [
             0.1,
             "#c51b7d"
            ],
            [
             0.2,
             "#de77ae"
            ],
            [
             0.3,
             "#f1b6da"
            ],
            [
             0.4,
             "#fde0ef"
            ],
            [
             0.5,
             "#f7f7f7"
            ],
            [
             0.6,
             "#e6f5d0"
            ],
            [
             0.7,
             "#b8e186"
            ],
            [
             0.8,
             "#7fbc41"
            ],
            [
             0.9,
             "#4d9221"
            ],
            [
             1,
             "#276419"
            ]
           ],
           "sequential": [
            [
             0,
             "#0d0887"
            ],
            [
             0.1111111111111111,
             "#46039f"
            ],
            [
             0.2222222222222222,
             "#7201a8"
            ],
            [
             0.3333333333333333,
             "#9c179e"
            ],
            [
             0.4444444444444444,
             "#bd3786"
            ],
            [
             0.5555555555555556,
             "#d8576b"
            ],
            [
             0.6666666666666666,
             "#ed7953"
            ],
            [
             0.7777777777777778,
             "#fb9f3a"
            ],
            [
             0.8888888888888888,
             "#fdca26"
            ],
            [
             1,
             "#f0f921"
            ]
           ],
           "sequentialminus": [
            [
             0,
             "#0d0887"
            ],
            [
             0.1111111111111111,
             "#46039f"
            ],
            [
             0.2222222222222222,
             "#7201a8"
            ],
            [
             0.3333333333333333,
             "#9c179e"
            ],
            [
             0.4444444444444444,
             "#bd3786"
            ],
            [
             0.5555555555555556,
             "#d8576b"
            ],
            [
             0.6666666666666666,
             "#ed7953"
            ],
            [
             0.7777777777777778,
             "#fb9f3a"
            ],
            [
             0.8888888888888888,
             "#fdca26"
            ],
            [
             1,
             "#f0f921"
            ]
           ]
          },
          "colorway": [
           "#636efa",
           "#EF553B",
           "#00cc96",
           "#ab63fa",
           "#FFA15A",
           "#19d3f3",
           "#FF6692",
           "#B6E880",
           "#FF97FF",
           "#FECB52"
          ],
          "font": {
           "color": "#2a3f5f"
          },
          "geo": {
           "bgcolor": "white",
           "lakecolor": "white",
           "landcolor": "#E5ECF6",
           "showlakes": true,
           "showland": true,
           "subunitcolor": "white"
          },
          "hoverlabel": {
           "align": "left"
          },
          "hovermode": "closest",
          "mapbox": {
           "style": "light"
          },
          "paper_bgcolor": "white",
          "plot_bgcolor": "#E5ECF6",
          "polar": {
           "angularaxis": {
            "gridcolor": "white",
            "linecolor": "white",
            "ticks": ""
           },
           "bgcolor": "#E5ECF6",
           "radialaxis": {
            "gridcolor": "white",
            "linecolor": "white",
            "ticks": ""
           }
          },
          "scene": {
           "xaxis": {
            "backgroundcolor": "#E5ECF6",
            "gridcolor": "white",
            "gridwidth": 2,
            "linecolor": "white",
            "showbackground": true,
            "ticks": "",
            "zerolinecolor": "white"
           },
           "yaxis": {
            "backgroundcolor": "#E5ECF6",
            "gridcolor": "white",
            "gridwidth": 2,
            "linecolor": "white",
            "showbackground": true,
            "ticks": "",
            "zerolinecolor": "white"
           },
           "zaxis": {
            "backgroundcolor": "#E5ECF6",
            "gridcolor": "white",
            "gridwidth": 2,
            "linecolor": "white",
            "showbackground": true,
            "ticks": "",
            "zerolinecolor": "white"
           }
          },
          "shapedefaults": {
           "line": {
            "color": "#2a3f5f"
           }
          },
          "ternary": {
           "aaxis": {
            "gridcolor": "white",
            "linecolor": "white",
            "ticks": ""
           },
           "baxis": {
            "gridcolor": "white",
            "linecolor": "white",
            "ticks": ""
           },
           "bgcolor": "#E5ECF6",
           "caxis": {
            "gridcolor": "white",
            "linecolor": "white",
            "ticks": ""
           }
          },
          "title": {
           "x": 0.05
          },
          "xaxis": {
           "automargin": true,
           "gridcolor": "white",
           "linecolor": "white",
           "ticks": "",
           "title": {
            "standoff": 15
           },
           "zerolinecolor": "white",
           "zerolinewidth": 2
          },
          "yaxis": {
           "automargin": true,
           "gridcolor": "white",
           "linecolor": "white",
           "ticks": "",
           "title": {
            "standoff": 15
           },
           "zerolinecolor": "white",
           "zerolinewidth": 2
          }
         }
        },
        "title": {
         "font": {
          "color": "#4D5663"
         },
         "text": " Most polluted cities( Industrial Pollution content )"
        },
        "xaxis": {
         "gridcolor": "#E1E5ED",
         "linecolor": "black",
         "showgrid": true,
         "tickfont": {
          "color": "#4D5663"
         },
         "title": {
          "font": {
           "color": "#4D5663"
          },
          "text": "Cities"
         },
         "zerolinecolor": "#E1E5ED"
        },
        "yaxis": {
         "gridcolor": "#E1E5ED",
         "linecolor": "black",
         "showgrid": true,
         "tickfont": {
          "color": "#4D5663"
         },
         "title": {
          "font": {
           "color": "#4D5663"
          },
          "text": "Industrial Pollution content"
         },
         "zerolinecolor": "#E1E5ED"
        }
       }
      },
      "text/html": [
       "<div>\n",
       "        \n",
       "        \n",
       "            <div id=\"3b3994d4-9e53-4e52-8573-30d835d55c9f\" class=\"plotly-graph-div\" style=\"height:525px; width:100%;\"></div>\n",
       "            <script type=\"text/javascript\">\n",
       "                require([\"plotly\"], function(Plotly) {\n",
       "                    window.PLOTLYENV=window.PLOTLYENV || {};\n",
       "                    window.PLOTLYENV.BASE_URL='https://plot.ly';\n",
       "                    \n",
       "                if (document.getElementById(\"3b3994d4-9e53-4e52-8573-30d835d55c9f\")) {\n",
       "                    Plotly.newPlot(\n",
       "                        '3b3994d4-9e53-4e52-8573-30d835d55c9f',\n",
       "                        [{\"marker\": {\"color\": \"rgba(255, 153, 51, 0.6)\", \"line\": {\"color\": \"rgba(255, 153, 51, 1.0)\", \"width\": 1}}, \"name\": \"Industrial Pollution content\", \"orientation\": \"v\", \"text\": \"\", \"type\": \"bar\", \"x\": [\"Amaravati\", \"Lucknow\", \"Talcher\", \"Gurugram\", \"Delhi\", \"Bhopal\", \"Jaipur\", \"Jorapokhar\", \"Kolkata\", \"Ahmedabad\"], \"y\": [54.88, 56.79, 59.83, 69.66999999999999, 73.55, 77.89999999999999, 79.61999999999999, 81.75999999999999, 90.92000000000002, 118.66]}],\n",
       "                        {\"legend\": {\"bgcolor\": \"#F5F6F9\", \"font\": {\"color\": \"#4D5663\"}}, \"paper_bgcolor\": \"#F5F6F9\", \"plot_bgcolor\": \"#F5F6F9\", \"template\": {\"data\": {\"bar\": [{\"error_x\": {\"color\": \"#2a3f5f\"}, \"error_y\": {\"color\": \"#2a3f5f\"}, \"marker\": {\"line\": {\"color\": \"#E5ECF6\", \"width\": 0.5}}, \"type\": \"bar\"}], \"barpolar\": [{\"marker\": {\"line\": {\"color\": \"#E5ECF6\", \"width\": 0.5}}, \"type\": \"barpolar\"}], \"carpet\": [{\"aaxis\": {\"endlinecolor\": \"#2a3f5f\", \"gridcolor\": \"white\", \"linecolor\": \"white\", \"minorgridcolor\": \"white\", \"startlinecolor\": \"#2a3f5f\"}, \"baxis\": {\"endlinecolor\": \"#2a3f5f\", \"gridcolor\": \"white\", \"linecolor\": \"white\", \"minorgridcolor\": \"white\", \"startlinecolor\": \"#2a3f5f\"}, \"type\": \"carpet\"}], \"choropleth\": [{\"colorbar\": {\"outlinewidth\": 0, \"ticks\": \"\"}, \"type\": \"choropleth\"}], \"contour\": [{\"colorbar\": {\"outlinewidth\": 0, \"ticks\": \"\"}, \"colorscale\": [[0.0, \"#0d0887\"], [0.1111111111111111, \"#46039f\"], [0.2222222222222222, \"#7201a8\"], [0.3333333333333333, \"#9c179e\"], [0.4444444444444444, \"#bd3786\"], [0.5555555555555556, \"#d8576b\"], [0.6666666666666666, \"#ed7953\"], [0.7777777777777778, \"#fb9f3a\"], [0.8888888888888888, \"#fdca26\"], [1.0, \"#f0f921\"]], \"type\": \"contour\"}], \"contourcarpet\": [{\"colorbar\": {\"outlinewidth\": 0, \"ticks\": \"\"}, \"type\": \"contourcarpet\"}], \"heatmap\": [{\"colorbar\": {\"outlinewidth\": 0, \"ticks\": \"\"}, \"colorscale\": [[0.0, \"#0d0887\"], [0.1111111111111111, \"#46039f\"], [0.2222222222222222, \"#7201a8\"], [0.3333333333333333, \"#9c179e\"], [0.4444444444444444, \"#bd3786\"], [0.5555555555555556, \"#d8576b\"], [0.6666666666666666, \"#ed7953\"], [0.7777777777777778, \"#fb9f3a\"], [0.8888888888888888, \"#fdca26\"], [1.0, \"#f0f921\"]], \"type\": \"heatmap\"}], \"heatmapgl\": [{\"colorbar\": {\"outlinewidth\": 0, \"ticks\": \"\"}, \"colorscale\": [[0.0, \"#0d0887\"], [0.1111111111111111, \"#46039f\"], [0.2222222222222222, \"#7201a8\"], [0.3333333333333333, \"#9c179e\"], [0.4444444444444444, \"#bd3786\"], [0.5555555555555556, \"#d8576b\"], [0.6666666666666666, \"#ed7953\"], [0.7777777777777778, \"#fb9f3a\"], [0.8888888888888888, \"#fdca26\"], [1.0, \"#f0f921\"]], \"type\": \"heatmapgl\"}], \"histogram\": [{\"marker\": {\"colorbar\": {\"outlinewidth\": 0, \"ticks\": \"\"}}, \"type\": \"histogram\"}], \"histogram2d\": [{\"colorbar\": {\"outlinewidth\": 0, \"ticks\": \"\"}, \"colorscale\": [[0.0, \"#0d0887\"], [0.1111111111111111, \"#46039f\"], [0.2222222222222222, \"#7201a8\"], [0.3333333333333333, \"#9c179e\"], [0.4444444444444444, \"#bd3786\"], [0.5555555555555556, \"#d8576b\"], [0.6666666666666666, \"#ed7953\"], [0.7777777777777778, \"#fb9f3a\"], [0.8888888888888888, \"#fdca26\"], [1.0, \"#f0f921\"]], \"type\": \"histogram2d\"}], \"histogram2dcontour\": [{\"colorbar\": {\"outlinewidth\": 0, \"ticks\": \"\"}, \"colorscale\": [[0.0, \"#0d0887\"], [0.1111111111111111, \"#46039f\"], [0.2222222222222222, \"#7201a8\"], [0.3333333333333333, \"#9c179e\"], [0.4444444444444444, \"#bd3786\"], [0.5555555555555556, \"#d8576b\"], [0.6666666666666666, \"#ed7953\"], [0.7777777777777778, \"#fb9f3a\"], [0.8888888888888888, \"#fdca26\"], [1.0, \"#f0f921\"]], \"type\": \"histogram2dcontour\"}], \"mesh3d\": [{\"colorbar\": {\"outlinewidth\": 0, \"ticks\": \"\"}, \"type\": \"mesh3d\"}], \"parcoords\": [{\"line\": {\"colorbar\": {\"outlinewidth\": 0, \"ticks\": \"\"}}, \"type\": \"parcoords\"}], \"pie\": [{\"automargin\": true, \"type\": \"pie\"}], \"scatter\": [{\"marker\": {\"colorbar\": {\"outlinewidth\": 0, \"ticks\": \"\"}}, \"type\": \"scatter\"}], \"scatter3d\": [{\"line\": {\"colorbar\": {\"outlinewidth\": 0, \"ticks\": \"\"}}, \"marker\": {\"colorbar\": {\"outlinewidth\": 0, \"ticks\": \"\"}}, \"type\": \"scatter3d\"}], \"scattercarpet\": [{\"marker\": {\"colorbar\": {\"outlinewidth\": 0, \"ticks\": \"\"}}, \"type\": \"scattercarpet\"}], \"scattergeo\": [{\"marker\": {\"colorbar\": {\"outlinewidth\": 0, \"ticks\": \"\"}}, \"type\": \"scattergeo\"}], \"scattergl\": [{\"marker\": {\"colorbar\": {\"outlinewidth\": 0, \"ticks\": \"\"}}, \"type\": \"scattergl\"}], \"scattermapbox\": [{\"marker\": {\"colorbar\": {\"outlinewidth\": 0, \"ticks\": \"\"}}, \"type\": \"scattermapbox\"}], \"scatterpolar\": [{\"marker\": {\"colorbar\": {\"outlinewidth\": 0, \"ticks\": \"\"}}, \"type\": \"scatterpolar\"}], \"scatterpolargl\": [{\"marker\": {\"colorbar\": {\"outlinewidth\": 0, \"ticks\": \"\"}}, \"type\": \"scatterpolargl\"}], \"scatterternary\": [{\"marker\": {\"colorbar\": {\"outlinewidth\": 0, \"ticks\": \"\"}}, \"type\": \"scatterternary\"}], \"surface\": [{\"colorbar\": {\"outlinewidth\": 0, \"ticks\": \"\"}, \"colorscale\": [[0.0, \"#0d0887\"], [0.1111111111111111, \"#46039f\"], [0.2222222222222222, \"#7201a8\"], [0.3333333333333333, \"#9c179e\"], [0.4444444444444444, \"#bd3786\"], [0.5555555555555556, \"#d8576b\"], [0.6666666666666666, \"#ed7953\"], [0.7777777777777778, \"#fb9f3a\"], [0.8888888888888888, \"#fdca26\"], [1.0, \"#f0f921\"]], \"type\": \"surface\"}], \"table\": [{\"cells\": {\"fill\": {\"color\": \"#EBF0F8\"}, \"line\": {\"color\": \"white\"}}, \"header\": {\"fill\": {\"color\": \"#C8D4E3\"}, \"line\": {\"color\": \"white\"}}, \"type\": \"table\"}]}, \"layout\": {\"annotationdefaults\": {\"arrowcolor\": \"#2a3f5f\", \"arrowhead\": 0, \"arrowwidth\": 1}, \"coloraxis\": {\"colorbar\": {\"outlinewidth\": 0, \"ticks\": \"\"}}, \"colorscale\": {\"diverging\": [[0, \"#8e0152\"], [0.1, \"#c51b7d\"], [0.2, \"#de77ae\"], [0.3, \"#f1b6da\"], [0.4, \"#fde0ef\"], [0.5, \"#f7f7f7\"], [0.6, \"#e6f5d0\"], [0.7, \"#b8e186\"], [0.8, \"#7fbc41\"], [0.9, \"#4d9221\"], [1, \"#276419\"]], \"sequential\": [[0.0, \"#0d0887\"], [0.1111111111111111, \"#46039f\"], [0.2222222222222222, \"#7201a8\"], [0.3333333333333333, \"#9c179e\"], [0.4444444444444444, \"#bd3786\"], [0.5555555555555556, \"#d8576b\"], [0.6666666666666666, \"#ed7953\"], [0.7777777777777778, \"#fb9f3a\"], [0.8888888888888888, \"#fdca26\"], [1.0, \"#f0f921\"]], \"sequentialminus\": [[0.0, \"#0d0887\"], [0.1111111111111111, \"#46039f\"], [0.2222222222222222, \"#7201a8\"], [0.3333333333333333, \"#9c179e\"], [0.4444444444444444, \"#bd3786\"], [0.5555555555555556, \"#d8576b\"], [0.6666666666666666, \"#ed7953\"], [0.7777777777777778, \"#fb9f3a\"], [0.8888888888888888, \"#fdca26\"], [1.0, \"#f0f921\"]]}, \"colorway\": [\"#636efa\", \"#EF553B\", \"#00cc96\", \"#ab63fa\", \"#FFA15A\", \"#19d3f3\", \"#FF6692\", \"#B6E880\", \"#FF97FF\", \"#FECB52\"], \"font\": {\"color\": \"#2a3f5f\"}, \"geo\": {\"bgcolor\": \"white\", \"lakecolor\": \"white\", \"landcolor\": \"#E5ECF6\", \"showlakes\": true, \"showland\": true, \"subunitcolor\": \"white\"}, \"hoverlabel\": {\"align\": \"left\"}, \"hovermode\": \"closest\", \"mapbox\": {\"style\": \"light\"}, \"paper_bgcolor\": \"white\", \"plot_bgcolor\": \"#E5ECF6\", \"polar\": {\"angularaxis\": {\"gridcolor\": \"white\", \"linecolor\": \"white\", \"ticks\": \"\"}, \"bgcolor\": \"#E5ECF6\", \"radialaxis\": {\"gridcolor\": \"white\", \"linecolor\": \"white\", \"ticks\": \"\"}}, \"scene\": {\"xaxis\": {\"backgroundcolor\": \"#E5ECF6\", \"gridcolor\": \"white\", \"gridwidth\": 2, \"linecolor\": \"white\", \"showbackground\": true, \"ticks\": \"\", \"zerolinecolor\": \"white\"}, \"yaxis\": {\"backgroundcolor\": \"#E5ECF6\", \"gridcolor\": \"white\", \"gridwidth\": 2, \"linecolor\": \"white\", \"showbackground\": true, \"ticks\": \"\", \"zerolinecolor\": \"white\"}, \"zaxis\": {\"backgroundcolor\": \"#E5ECF6\", \"gridcolor\": \"white\", \"gridwidth\": 2, \"linecolor\": \"white\", \"showbackground\": true, \"ticks\": \"\", \"zerolinecolor\": \"white\"}}, \"shapedefaults\": {\"line\": {\"color\": \"#2a3f5f\"}}, \"ternary\": {\"aaxis\": {\"gridcolor\": \"white\", \"linecolor\": \"white\", \"ticks\": \"\"}, \"baxis\": {\"gridcolor\": \"white\", \"linecolor\": \"white\", \"ticks\": \"\"}, \"bgcolor\": \"#E5ECF6\", \"caxis\": {\"gridcolor\": \"white\", \"linecolor\": \"white\", \"ticks\": \"\"}}, \"title\": {\"x\": 0.05}, \"xaxis\": {\"automargin\": true, \"gridcolor\": \"white\", \"linecolor\": \"white\", \"ticks\": \"\", \"title\": {\"standoff\": 15}, \"zerolinecolor\": \"white\", \"zerolinewidth\": 2}, \"yaxis\": {\"automargin\": true, \"gridcolor\": \"white\", \"linecolor\": \"white\", \"ticks\": \"\", \"title\": {\"standoff\": 15}, \"zerolinecolor\": \"white\", \"zerolinewidth\": 2}}}, \"title\": {\"font\": {\"color\": \"#4D5663\"}, \"text\": \" Most polluted cities( Industrial Pollution content )\"}, \"xaxis\": {\"gridcolor\": \"#E1E5ED\", \"linecolor\": \"black\", \"showgrid\": true, \"tickfont\": {\"color\": \"#4D5663\"}, \"title\": {\"font\": {\"color\": \"#4D5663\"}, \"text\": \"Cities\"}, \"zerolinecolor\": \"#E1E5ED\"}, \"yaxis\": {\"gridcolor\": \"#E1E5ED\", \"linecolor\": \"black\", \"showgrid\": true, \"tickfont\": {\"color\": \"#4D5663\"}, \"title\": {\"font\": {\"color\": \"#4D5663\"}, \"text\": \"Industrial Pollution content\"}, \"zerolinecolor\": \"#E1E5ED\"}},\n",
       "                        {\"showLink\": true, \"linkText\": \"Export to plot.ly\", \"plotlyServerURL\": \"https://plot.ly\", \"responsive\": true}\n",
       "                    ).then(function(){\n",
       "                            \n",
       "var gd = document.getElementById('3b3994d4-9e53-4e52-8573-30d835d55c9f');\n",
       "var x = new MutationObserver(function (mutations, observer) {{\n",
       "        var display = window.getComputedStyle(gd).display;\n",
       "        if (!display || display === 'none') {{\n",
       "            console.log([gd, 'removed!']);\n",
       "            Plotly.purge(gd);\n",
       "            observer.disconnect();\n",
       "        }}\n",
       "}});\n",
       "\n",
       "// Listen for the removal of the full notebook cells\n",
       "var notebookContainer = gd.closest('#notebook-container');\n",
       "if (notebookContainer) {{\n",
       "    x.observe(notebookContainer, {childList: true});\n",
       "}}\n",
       "\n",
       "// Listen for the clearing of the current output cell\n",
       "var outputEl = gd.closest('.output');\n",
       "if (outputEl) {{\n",
       "    x.observe(outputEl, {childList: true});\n",
       "}}\n",
       "\n",
       "                        })\n",
       "                };\n",
       "                });\n",
       "            </script>\n",
       "        </div>"
      ]
     },
     "metadata": {},
     "output_type": "display_data"
    },
    {
     "data": {
      "application/vnd.plotly.v1+json": {
       "config": {
        "linkText": "Export to plot.ly",
        "plotlyServerURL": "https://plot.ly",
        "showLink": true
       },
       "data": [
        {
         "marker": {
          "color": "rgba(255, 153, 51, 0.6)",
          "line": {
           "color": "rgba(255, 153, 51, 1.0)",
           "width": 1
          }
         },
         "name": "Vehicular Pollution content",
         "orientation": "v",
         "text": "",
         "type": "bar",
         "x": [
          "Jaipur",
          "Lucknow",
          "Gurugram",
          "Mumbai",
          "Brajrajnagar",
          "Kolkata",
          "Kochi",
          "Delhi",
          "Guwahati",
          "Patna"
         ],
         "y": [
          249.81000000000003,
          263.32,
          284.46000000000004,
          289.84,
          301.34999999999997,
          311.86999999999995,
          317.76,
          374.88,
          389.3,
          395.88000000000005
         ]
        }
       ],
       "layout": {
        "legend": {
         "bgcolor": "#F5F6F9",
         "font": {
          "color": "#4D5663"
         }
        },
        "paper_bgcolor": "#F5F6F9",
        "plot_bgcolor": "#F5F6F9",
        "template": {
         "data": {
          "bar": [
           {
            "error_x": {
             "color": "#2a3f5f"
            },
            "error_y": {
             "color": "#2a3f5f"
            },
            "marker": {
             "line": {
              "color": "#E5ECF6",
              "width": 0.5
             }
            },
            "type": "bar"
           }
          ],
          "barpolar": [
           {
            "marker": {
             "line": {
              "color": "#E5ECF6",
              "width": 0.5
             }
            },
            "type": "barpolar"
           }
          ],
          "carpet": [
           {
            "aaxis": {
             "endlinecolor": "#2a3f5f",
             "gridcolor": "white",
             "linecolor": "white",
             "minorgridcolor": "white",
             "startlinecolor": "#2a3f5f"
            },
            "baxis": {
             "endlinecolor": "#2a3f5f",
             "gridcolor": "white",
             "linecolor": "white",
             "minorgridcolor": "white",
             "startlinecolor": "#2a3f5f"
            },
            "type": "carpet"
           }
          ],
          "choropleth": [
           {
            "colorbar": {
             "outlinewidth": 0,
             "ticks": ""
            },
            "type": "choropleth"
           }
          ],
          "contour": [
           {
            "colorbar": {
             "outlinewidth": 0,
             "ticks": ""
            },
            "colorscale": [
             [
              0,
              "#0d0887"
             ],
             [
              0.1111111111111111,
              "#46039f"
             ],
             [
              0.2222222222222222,
              "#7201a8"
             ],
             [
              0.3333333333333333,
              "#9c179e"
             ],
             [
              0.4444444444444444,
              "#bd3786"
             ],
             [
              0.5555555555555556,
              "#d8576b"
             ],
             [
              0.6666666666666666,
              "#ed7953"
             ],
             [
              0.7777777777777778,
              "#fb9f3a"
             ],
             [
              0.8888888888888888,
              "#fdca26"
             ],
             [
              1,
              "#f0f921"
             ]
            ],
            "type": "contour"
           }
          ],
          "contourcarpet": [
           {
            "colorbar": {
             "outlinewidth": 0,
             "ticks": ""
            },
            "type": "contourcarpet"
           }
          ],
          "heatmap": [
           {
            "colorbar": {
             "outlinewidth": 0,
             "ticks": ""
            },
            "colorscale": [
             [
              0,
              "#0d0887"
             ],
             [
              0.1111111111111111,
              "#46039f"
             ],
             [
              0.2222222222222222,
              "#7201a8"
             ],
             [
              0.3333333333333333,
              "#9c179e"
             ],
             [
              0.4444444444444444,
              "#bd3786"
             ],
             [
              0.5555555555555556,
              "#d8576b"
             ],
             [
              0.6666666666666666,
              "#ed7953"
             ],
             [
              0.7777777777777778,
              "#fb9f3a"
             ],
             [
              0.8888888888888888,
              "#fdca26"
             ],
             [
              1,
              "#f0f921"
             ]
            ],
            "type": "heatmap"
           }
          ],
          "heatmapgl": [
           {
            "colorbar": {
             "outlinewidth": 0,
             "ticks": ""
            },
            "colorscale": [
             [
              0,
              "#0d0887"
             ],
             [
              0.1111111111111111,
              "#46039f"
             ],
             [
              0.2222222222222222,
              "#7201a8"
             ],
             [
              0.3333333333333333,
              "#9c179e"
             ],
             [
              0.4444444444444444,
              "#bd3786"
             ],
             [
              0.5555555555555556,
              "#d8576b"
             ],
             [
              0.6666666666666666,
              "#ed7953"
             ],
             [
              0.7777777777777778,
              "#fb9f3a"
             ],
             [
              0.8888888888888888,
              "#fdca26"
             ],
             [
              1,
              "#f0f921"
             ]
            ],
            "type": "heatmapgl"
           }
          ],
          "histogram": [
           {
            "marker": {
             "colorbar": {
              "outlinewidth": 0,
              "ticks": ""
             }
            },
            "type": "histogram"
           }
          ],
          "histogram2d": [
           {
            "colorbar": {
             "outlinewidth": 0,
             "ticks": ""
            },
            "colorscale": [
             [
              0,
              "#0d0887"
             ],
             [
              0.1111111111111111,
              "#46039f"
             ],
             [
              0.2222222222222222,
              "#7201a8"
             ],
             [
              0.3333333333333333,
              "#9c179e"
             ],
             [
              0.4444444444444444,
              "#bd3786"
             ],
             [
              0.5555555555555556,
              "#d8576b"
             ],
             [
              0.6666666666666666,
              "#ed7953"
             ],
             [
              0.7777777777777778,
              "#fb9f3a"
             ],
             [
              0.8888888888888888,
              "#fdca26"
             ],
             [
              1,
              "#f0f921"
             ]
            ],
            "type": "histogram2d"
           }
          ],
          "histogram2dcontour": [
           {
            "colorbar": {
             "outlinewidth": 0,
             "ticks": ""
            },
            "colorscale": [
             [
              0,
              "#0d0887"
             ],
             [
              0.1111111111111111,
              "#46039f"
             ],
             [
              0.2222222222222222,
              "#7201a8"
             ],
             [
              0.3333333333333333,
              "#9c179e"
             ],
             [
              0.4444444444444444,
              "#bd3786"
             ],
             [
              0.5555555555555556,
              "#d8576b"
             ],
             [
              0.6666666666666666,
              "#ed7953"
             ],
             [
              0.7777777777777778,
              "#fb9f3a"
             ],
             [
              0.8888888888888888,
              "#fdca26"
             ],
             [
              1,
              "#f0f921"
             ]
            ],
            "type": "histogram2dcontour"
           }
          ],
          "mesh3d": [
           {
            "colorbar": {
             "outlinewidth": 0,
             "ticks": ""
            },
            "type": "mesh3d"
           }
          ],
          "parcoords": [
           {
            "line": {
             "colorbar": {
              "outlinewidth": 0,
              "ticks": ""
             }
            },
            "type": "parcoords"
           }
          ],
          "pie": [
           {
            "automargin": true,
            "type": "pie"
           }
          ],
          "scatter": [
           {
            "marker": {
             "colorbar": {
              "outlinewidth": 0,
              "ticks": ""
             }
            },
            "type": "scatter"
           }
          ],
          "scatter3d": [
           {
            "line": {
             "colorbar": {
              "outlinewidth": 0,
              "ticks": ""
             }
            },
            "marker": {
             "colorbar": {
              "outlinewidth": 0,
              "ticks": ""
             }
            },
            "type": "scatter3d"
           }
          ],
          "scattercarpet": [
           {
            "marker": {
             "colorbar": {
              "outlinewidth": 0,
              "ticks": ""
             }
            },
            "type": "scattercarpet"
           }
          ],
          "scattergeo": [
           {
            "marker": {
             "colorbar": {
              "outlinewidth": 0,
              "ticks": ""
             }
            },
            "type": "scattergeo"
           }
          ],
          "scattergl": [
           {
            "marker": {
             "colorbar": {
              "outlinewidth": 0,
              "ticks": ""
             }
            },
            "type": "scattergl"
           }
          ],
          "scattermapbox": [
           {
            "marker": {
             "colorbar": {
              "outlinewidth": 0,
              "ticks": ""
             }
            },
            "type": "scattermapbox"
           }
          ],
          "scatterpolar": [
           {
            "marker": {
             "colorbar": {
              "outlinewidth": 0,
              "ticks": ""
             }
            },
            "type": "scatterpolar"
           }
          ],
          "scatterpolargl": [
           {
            "marker": {
             "colorbar": {
              "outlinewidth": 0,
              "ticks": ""
             }
            },
            "type": "scatterpolargl"
           }
          ],
          "scatterternary": [
           {
            "marker": {
             "colorbar": {
              "outlinewidth": 0,
              "ticks": ""
             }
            },
            "type": "scatterternary"
           }
          ],
          "surface": [
           {
            "colorbar": {
             "outlinewidth": 0,
             "ticks": ""
            },
            "colorscale": [
             [
              0,
              "#0d0887"
             ],
             [
              0.1111111111111111,
              "#46039f"
             ],
             [
              0.2222222222222222,
              "#7201a8"
             ],
             [
              0.3333333333333333,
              "#9c179e"
             ],
             [
              0.4444444444444444,
              "#bd3786"
             ],
             [
              0.5555555555555556,
              "#d8576b"
             ],
             [
              0.6666666666666666,
              "#ed7953"
             ],
             [
              0.7777777777777778,
              "#fb9f3a"
             ],
             [
              0.8888888888888888,
              "#fdca26"
             ],
             [
              1,
              "#f0f921"
             ]
            ],
            "type": "surface"
           }
          ],
          "table": [
           {
            "cells": {
             "fill": {
              "color": "#EBF0F8"
             },
             "line": {
              "color": "white"
             }
            },
            "header": {
             "fill": {
              "color": "#C8D4E3"
             },
             "line": {
              "color": "white"
             }
            },
            "type": "table"
           }
          ]
         },
         "layout": {
          "annotationdefaults": {
           "arrowcolor": "#2a3f5f",
           "arrowhead": 0,
           "arrowwidth": 1
          },
          "coloraxis": {
           "colorbar": {
            "outlinewidth": 0,
            "ticks": ""
           }
          },
          "colorscale": {
           "diverging": [
            [
             0,
             "#8e0152"
            ],
            [
             0.1,
             "#c51b7d"
            ],
            [
             0.2,
             "#de77ae"
            ],
            [
             0.3,
             "#f1b6da"
            ],
            [
             0.4,
             "#fde0ef"
            ],
            [
             0.5,
             "#f7f7f7"
            ],
            [
             0.6,
             "#e6f5d0"
            ],
            [
             0.7,
             "#b8e186"
            ],
            [
             0.8,
             "#7fbc41"
            ],
            [
             0.9,
             "#4d9221"
            ],
            [
             1,
             "#276419"
            ]
           ],
           "sequential": [
            [
             0,
             "#0d0887"
            ],
            [
             0.1111111111111111,
             "#46039f"
            ],
            [
             0.2222222222222222,
             "#7201a8"
            ],
            [
             0.3333333333333333,
             "#9c179e"
            ],
            [
             0.4444444444444444,
             "#bd3786"
            ],
            [
             0.5555555555555556,
             "#d8576b"
            ],
            [
             0.6666666666666666,
             "#ed7953"
            ],
            [
             0.7777777777777778,
             "#fb9f3a"
            ],
            [
             0.8888888888888888,
             "#fdca26"
            ],
            [
             1,
             "#f0f921"
            ]
           ],
           "sequentialminus": [
            [
             0,
             "#0d0887"
            ],
            [
             0.1111111111111111,
             "#46039f"
            ],
            [
             0.2222222222222222,
             "#7201a8"
            ],
            [
             0.3333333333333333,
             "#9c179e"
            ],
            [
             0.4444444444444444,
             "#bd3786"
            ],
            [
             0.5555555555555556,
             "#d8576b"
            ],
            [
             0.6666666666666666,
             "#ed7953"
            ],
            [
             0.7777777777777778,
             "#fb9f3a"
            ],
            [
             0.8888888888888888,
             "#fdca26"
            ],
            [
             1,
             "#f0f921"
            ]
           ]
          },
          "colorway": [
           "#636efa",
           "#EF553B",
           "#00cc96",
           "#ab63fa",
           "#FFA15A",
           "#19d3f3",
           "#FF6692",
           "#B6E880",
           "#FF97FF",
           "#FECB52"
          ],
          "font": {
           "color": "#2a3f5f"
          },
          "geo": {
           "bgcolor": "white",
           "lakecolor": "white",
           "landcolor": "#E5ECF6",
           "showlakes": true,
           "showland": true,
           "subunitcolor": "white"
          },
          "hoverlabel": {
           "align": "left"
          },
          "hovermode": "closest",
          "mapbox": {
           "style": "light"
          },
          "paper_bgcolor": "white",
          "plot_bgcolor": "#E5ECF6",
          "polar": {
           "angularaxis": {
            "gridcolor": "white",
            "linecolor": "white",
            "ticks": ""
           },
           "bgcolor": "#E5ECF6",
           "radialaxis": {
            "gridcolor": "white",
            "linecolor": "white",
            "ticks": ""
           }
          },
          "scene": {
           "xaxis": {
            "backgroundcolor": "#E5ECF6",
            "gridcolor": "white",
            "gridwidth": 2,
            "linecolor": "white",
            "showbackground": true,
            "ticks": "",
            "zerolinecolor": "white"
           },
           "yaxis": {
            "backgroundcolor": "#E5ECF6",
            "gridcolor": "white",
            "gridwidth": 2,
            "linecolor": "white",
            "showbackground": true,
            "ticks": "",
            "zerolinecolor": "white"
           },
           "zaxis": {
            "backgroundcolor": "#E5ECF6",
            "gridcolor": "white",
            "gridwidth": 2,
            "linecolor": "white",
            "showbackground": true,
            "ticks": "",
            "zerolinecolor": "white"
           }
          },
          "shapedefaults": {
           "line": {
            "color": "#2a3f5f"
           }
          },
          "ternary": {
           "aaxis": {
            "gridcolor": "white",
            "linecolor": "white",
            "ticks": ""
           },
           "baxis": {
            "gridcolor": "white",
            "linecolor": "white",
            "ticks": ""
           },
           "bgcolor": "#E5ECF6",
           "caxis": {
            "gridcolor": "white",
            "linecolor": "white",
            "ticks": ""
           }
          },
          "title": {
           "x": 0.05
          },
          "xaxis": {
           "automargin": true,
           "gridcolor": "white",
           "linecolor": "white",
           "ticks": "",
           "title": {
            "standoff": 15
           },
           "zerolinecolor": "white",
           "zerolinewidth": 2
          },
          "yaxis": {
           "automargin": true,
           "gridcolor": "white",
           "linecolor": "white",
           "ticks": "",
           "title": {
            "standoff": 15
           },
           "zerolinecolor": "white",
           "zerolinewidth": 2
          }
         }
        },
        "title": {
         "font": {
          "color": "#4D5663"
         },
         "text": " Most polluted cities( Vehicular Pollution content )"
        },
        "xaxis": {
         "gridcolor": "#E1E5ED",
         "linecolor": "black",
         "showgrid": true,
         "tickfont": {
          "color": "#4D5663"
         },
         "title": {
          "font": {
           "color": "#4D5663"
          },
          "text": "Cities"
         },
         "zerolinecolor": "#E1E5ED"
        },
        "yaxis": {
         "gridcolor": "#E1E5ED",
         "linecolor": "black",
         "showgrid": true,
         "tickfont": {
          "color": "#4D5663"
         },
         "title": {
          "font": {
           "color": "#4D5663"
          },
          "text": "Vehicular Pollution content"
         },
         "zerolinecolor": "#E1E5ED"
        }
       }
      },
      "text/html": [
       "<div>\n",
       "        \n",
       "        \n",
       "            <div id=\"1052e7e9-853f-43fa-a5f4-41e37e5182fc\" class=\"plotly-graph-div\" style=\"height:525px; width:100%;\"></div>\n",
       "            <script type=\"text/javascript\">\n",
       "                require([\"plotly\"], function(Plotly) {\n",
       "                    window.PLOTLYENV=window.PLOTLYENV || {};\n",
       "                    window.PLOTLYENV.BASE_URL='https://plot.ly';\n",
       "                    \n",
       "                if (document.getElementById(\"1052e7e9-853f-43fa-a5f4-41e37e5182fc\")) {\n",
       "                    Plotly.newPlot(\n",
       "                        '1052e7e9-853f-43fa-a5f4-41e37e5182fc',\n",
       "                        [{\"marker\": {\"color\": \"rgba(255, 153, 51, 0.6)\", \"line\": {\"color\": \"rgba(255, 153, 51, 1.0)\", \"width\": 1}}, \"name\": \"Vehicular Pollution content\", \"orientation\": \"v\", \"text\": \"\", \"type\": \"bar\", \"x\": [\"Jaipur\", \"Lucknow\", \"Gurugram\", \"Mumbai\", \"Brajrajnagar\", \"Kolkata\", \"Kochi\", \"Delhi\", \"Guwahati\", \"Patna\"], \"y\": [249.81000000000003, 263.32, 284.46000000000004, 289.84, 301.34999999999997, 311.86999999999995, 317.76, 374.88, 389.3, 395.88000000000005]}],\n",
       "                        {\"legend\": {\"bgcolor\": \"#F5F6F9\", \"font\": {\"color\": \"#4D5663\"}}, \"paper_bgcolor\": \"#F5F6F9\", \"plot_bgcolor\": \"#F5F6F9\", \"template\": {\"data\": {\"bar\": [{\"error_x\": {\"color\": \"#2a3f5f\"}, \"error_y\": {\"color\": \"#2a3f5f\"}, \"marker\": {\"line\": {\"color\": \"#E5ECF6\", \"width\": 0.5}}, \"type\": \"bar\"}], \"barpolar\": [{\"marker\": {\"line\": {\"color\": \"#E5ECF6\", \"width\": 0.5}}, \"type\": \"barpolar\"}], \"carpet\": [{\"aaxis\": {\"endlinecolor\": \"#2a3f5f\", \"gridcolor\": \"white\", \"linecolor\": \"white\", \"minorgridcolor\": \"white\", \"startlinecolor\": \"#2a3f5f\"}, \"baxis\": {\"endlinecolor\": \"#2a3f5f\", \"gridcolor\": \"white\", \"linecolor\": \"white\", \"minorgridcolor\": \"white\", \"startlinecolor\": \"#2a3f5f\"}, \"type\": \"carpet\"}], \"choropleth\": [{\"colorbar\": {\"outlinewidth\": 0, \"ticks\": \"\"}, \"type\": \"choropleth\"}], \"contour\": [{\"colorbar\": {\"outlinewidth\": 0, \"ticks\": \"\"}, \"colorscale\": [[0.0, \"#0d0887\"], [0.1111111111111111, \"#46039f\"], [0.2222222222222222, \"#7201a8\"], [0.3333333333333333, \"#9c179e\"], [0.4444444444444444, \"#bd3786\"], [0.5555555555555556, \"#d8576b\"], [0.6666666666666666, \"#ed7953\"], [0.7777777777777778, \"#fb9f3a\"], [0.8888888888888888, \"#fdca26\"], [1.0, \"#f0f921\"]], \"type\": \"contour\"}], \"contourcarpet\": [{\"colorbar\": {\"outlinewidth\": 0, \"ticks\": \"\"}, \"type\": \"contourcarpet\"}], \"heatmap\": [{\"colorbar\": {\"outlinewidth\": 0, \"ticks\": \"\"}, \"colorscale\": [[0.0, \"#0d0887\"], [0.1111111111111111, \"#46039f\"], [0.2222222222222222, \"#7201a8\"], [0.3333333333333333, \"#9c179e\"], [0.4444444444444444, \"#bd3786\"], [0.5555555555555556, \"#d8576b\"], [0.6666666666666666, \"#ed7953\"], [0.7777777777777778, \"#fb9f3a\"], [0.8888888888888888, \"#fdca26\"], [1.0, \"#f0f921\"]], \"type\": \"heatmap\"}], \"heatmapgl\": [{\"colorbar\": {\"outlinewidth\": 0, \"ticks\": \"\"}, \"colorscale\": [[0.0, \"#0d0887\"], [0.1111111111111111, \"#46039f\"], [0.2222222222222222, \"#7201a8\"], [0.3333333333333333, \"#9c179e\"], [0.4444444444444444, \"#bd3786\"], [0.5555555555555556, \"#d8576b\"], [0.6666666666666666, \"#ed7953\"], [0.7777777777777778, \"#fb9f3a\"], [0.8888888888888888, \"#fdca26\"], [1.0, \"#f0f921\"]], \"type\": \"heatmapgl\"}], \"histogram\": [{\"marker\": {\"colorbar\": {\"outlinewidth\": 0, \"ticks\": \"\"}}, \"type\": \"histogram\"}], \"histogram2d\": [{\"colorbar\": {\"outlinewidth\": 0, \"ticks\": \"\"}, \"colorscale\": [[0.0, \"#0d0887\"], [0.1111111111111111, \"#46039f\"], [0.2222222222222222, \"#7201a8\"], [0.3333333333333333, \"#9c179e\"], [0.4444444444444444, \"#bd3786\"], [0.5555555555555556, \"#d8576b\"], [0.6666666666666666, \"#ed7953\"], [0.7777777777777778, \"#fb9f3a\"], [0.8888888888888888, \"#fdca26\"], [1.0, \"#f0f921\"]], \"type\": \"histogram2d\"}], \"histogram2dcontour\": [{\"colorbar\": {\"outlinewidth\": 0, \"ticks\": \"\"}, \"colorscale\": [[0.0, \"#0d0887\"], [0.1111111111111111, \"#46039f\"], [0.2222222222222222, \"#7201a8\"], [0.3333333333333333, \"#9c179e\"], [0.4444444444444444, \"#bd3786\"], [0.5555555555555556, \"#d8576b\"], [0.6666666666666666, \"#ed7953\"], [0.7777777777777778, \"#fb9f3a\"], [0.8888888888888888, \"#fdca26\"], [1.0, \"#f0f921\"]], \"type\": \"histogram2dcontour\"}], \"mesh3d\": [{\"colorbar\": {\"outlinewidth\": 0, \"ticks\": \"\"}, \"type\": \"mesh3d\"}], \"parcoords\": [{\"line\": {\"colorbar\": {\"outlinewidth\": 0, \"ticks\": \"\"}}, \"type\": \"parcoords\"}], \"pie\": [{\"automargin\": true, \"type\": \"pie\"}], \"scatter\": [{\"marker\": {\"colorbar\": {\"outlinewidth\": 0, \"ticks\": \"\"}}, \"type\": \"scatter\"}], \"scatter3d\": [{\"line\": {\"colorbar\": {\"outlinewidth\": 0, \"ticks\": \"\"}}, \"marker\": {\"colorbar\": {\"outlinewidth\": 0, \"ticks\": \"\"}}, \"type\": \"scatter3d\"}], \"scattercarpet\": [{\"marker\": {\"colorbar\": {\"outlinewidth\": 0, \"ticks\": \"\"}}, \"type\": \"scattercarpet\"}], \"scattergeo\": [{\"marker\": {\"colorbar\": {\"outlinewidth\": 0, \"ticks\": \"\"}}, \"type\": \"scattergeo\"}], \"scattergl\": [{\"marker\": {\"colorbar\": {\"outlinewidth\": 0, \"ticks\": \"\"}}, \"type\": \"scattergl\"}], \"scattermapbox\": [{\"marker\": {\"colorbar\": {\"outlinewidth\": 0, \"ticks\": \"\"}}, \"type\": \"scattermapbox\"}], \"scatterpolar\": [{\"marker\": {\"colorbar\": {\"outlinewidth\": 0, \"ticks\": \"\"}}, \"type\": \"scatterpolar\"}], \"scatterpolargl\": [{\"marker\": {\"colorbar\": {\"outlinewidth\": 0, \"ticks\": \"\"}}, \"type\": \"scatterpolargl\"}], \"scatterternary\": [{\"marker\": {\"colorbar\": {\"outlinewidth\": 0, \"ticks\": \"\"}}, \"type\": \"scatterternary\"}], \"surface\": [{\"colorbar\": {\"outlinewidth\": 0, \"ticks\": \"\"}, \"colorscale\": [[0.0, \"#0d0887\"], [0.1111111111111111, \"#46039f\"], [0.2222222222222222, \"#7201a8\"], [0.3333333333333333, \"#9c179e\"], [0.4444444444444444, \"#bd3786\"], [0.5555555555555556, \"#d8576b\"], [0.6666666666666666, \"#ed7953\"], [0.7777777777777778, \"#fb9f3a\"], [0.8888888888888888, \"#fdca26\"], [1.0, \"#f0f921\"]], \"type\": \"surface\"}], \"table\": [{\"cells\": {\"fill\": {\"color\": \"#EBF0F8\"}, \"line\": {\"color\": \"white\"}}, \"header\": {\"fill\": {\"color\": \"#C8D4E3\"}, \"line\": {\"color\": \"white\"}}, \"type\": \"table\"}]}, \"layout\": {\"annotationdefaults\": {\"arrowcolor\": \"#2a3f5f\", \"arrowhead\": 0, \"arrowwidth\": 1}, \"coloraxis\": {\"colorbar\": {\"outlinewidth\": 0, \"ticks\": \"\"}}, \"colorscale\": {\"diverging\": [[0, \"#8e0152\"], [0.1, \"#c51b7d\"], [0.2, \"#de77ae\"], [0.3, \"#f1b6da\"], [0.4, \"#fde0ef\"], [0.5, \"#f7f7f7\"], [0.6, \"#e6f5d0\"], [0.7, \"#b8e186\"], [0.8, \"#7fbc41\"], [0.9, \"#4d9221\"], [1, \"#276419\"]], \"sequential\": [[0.0, \"#0d0887\"], [0.1111111111111111, \"#46039f\"], [0.2222222222222222, \"#7201a8\"], [0.3333333333333333, \"#9c179e\"], [0.4444444444444444, \"#bd3786\"], [0.5555555555555556, \"#d8576b\"], [0.6666666666666666, \"#ed7953\"], [0.7777777777777778, \"#fb9f3a\"], [0.8888888888888888, \"#fdca26\"], [1.0, \"#f0f921\"]], \"sequentialminus\": [[0.0, \"#0d0887\"], [0.1111111111111111, \"#46039f\"], [0.2222222222222222, \"#7201a8\"], [0.3333333333333333, \"#9c179e\"], [0.4444444444444444, \"#bd3786\"], [0.5555555555555556, \"#d8576b\"], [0.6666666666666666, \"#ed7953\"], [0.7777777777777778, \"#fb9f3a\"], [0.8888888888888888, \"#fdca26\"], [1.0, \"#f0f921\"]]}, \"colorway\": [\"#636efa\", \"#EF553B\", \"#00cc96\", \"#ab63fa\", \"#FFA15A\", \"#19d3f3\", \"#FF6692\", \"#B6E880\", \"#FF97FF\", \"#FECB52\"], \"font\": {\"color\": \"#2a3f5f\"}, \"geo\": {\"bgcolor\": \"white\", \"lakecolor\": \"white\", \"landcolor\": \"#E5ECF6\", \"showlakes\": true, \"showland\": true, \"subunitcolor\": \"white\"}, \"hoverlabel\": {\"align\": \"left\"}, \"hovermode\": \"closest\", \"mapbox\": {\"style\": \"light\"}, \"paper_bgcolor\": \"white\", \"plot_bgcolor\": \"#E5ECF6\", \"polar\": {\"angularaxis\": {\"gridcolor\": \"white\", \"linecolor\": \"white\", \"ticks\": \"\"}, \"bgcolor\": \"#E5ECF6\", \"radialaxis\": {\"gridcolor\": \"white\", \"linecolor\": \"white\", \"ticks\": \"\"}}, \"scene\": {\"xaxis\": {\"backgroundcolor\": \"#E5ECF6\", \"gridcolor\": \"white\", \"gridwidth\": 2, \"linecolor\": \"white\", \"showbackground\": true, \"ticks\": \"\", \"zerolinecolor\": \"white\"}, \"yaxis\": {\"backgroundcolor\": \"#E5ECF6\", \"gridcolor\": \"white\", \"gridwidth\": 2, \"linecolor\": \"white\", \"showbackground\": true, \"ticks\": \"\", \"zerolinecolor\": \"white\"}, \"zaxis\": {\"backgroundcolor\": \"#E5ECF6\", \"gridcolor\": \"white\", \"gridwidth\": 2, \"linecolor\": \"white\", \"showbackground\": true, \"ticks\": \"\", \"zerolinecolor\": \"white\"}}, \"shapedefaults\": {\"line\": {\"color\": \"#2a3f5f\"}}, \"ternary\": {\"aaxis\": {\"gridcolor\": \"white\", \"linecolor\": \"white\", \"ticks\": \"\"}, \"baxis\": {\"gridcolor\": \"white\", \"linecolor\": \"white\", \"ticks\": \"\"}, \"bgcolor\": \"#E5ECF6\", \"caxis\": {\"gridcolor\": \"white\", \"linecolor\": \"white\", \"ticks\": \"\"}}, \"title\": {\"x\": 0.05}, \"xaxis\": {\"automargin\": true, \"gridcolor\": \"white\", \"linecolor\": \"white\", \"ticks\": \"\", \"title\": {\"standoff\": 15}, \"zerolinecolor\": \"white\", \"zerolinewidth\": 2}, \"yaxis\": {\"automargin\": true, \"gridcolor\": \"white\", \"linecolor\": \"white\", \"ticks\": \"\", \"title\": {\"standoff\": 15}, \"zerolinecolor\": \"white\", \"zerolinewidth\": 2}}}, \"title\": {\"font\": {\"color\": \"#4D5663\"}, \"text\": \" Most polluted cities( Vehicular Pollution content )\"}, \"xaxis\": {\"gridcolor\": \"#E1E5ED\", \"linecolor\": \"black\", \"showgrid\": true, \"tickfont\": {\"color\": \"#4D5663\"}, \"title\": {\"font\": {\"color\": \"#4D5663\"}, \"text\": \"Cities\"}, \"zerolinecolor\": \"#E1E5ED\"}, \"yaxis\": {\"gridcolor\": \"#E1E5ED\", \"linecolor\": \"black\", \"showgrid\": true, \"tickfont\": {\"color\": \"#4D5663\"}, \"title\": {\"font\": {\"color\": \"#4D5663\"}, \"text\": \"Vehicular Pollution content\"}, \"zerolinecolor\": \"#E1E5ED\"}},\n",
       "                        {\"showLink\": true, \"linkText\": \"Export to plot.ly\", \"plotlyServerURL\": \"https://plot.ly\", \"responsive\": true}\n",
       "                    ).then(function(){\n",
       "                            \n",
       "var gd = document.getElementById('1052e7e9-853f-43fa-a5f4-41e37e5182fc');\n",
       "var x = new MutationObserver(function (mutations, observer) {{\n",
       "        var display = window.getComputedStyle(gd).display;\n",
       "        if (!display || display === 'none') {{\n",
       "            console.log([gd, 'removed!']);\n",
       "            Plotly.purge(gd);\n",
       "            observer.disconnect();\n",
       "        }}\n",
       "}});\n",
       "\n",
       "// Listen for the removal of the full notebook cells\n",
       "var notebookContainer = gd.closest('#notebook-container');\n",
       "if (notebookContainer) {{\n",
       "    x.observe(notebookContainer, {childList: true});\n",
       "}}\n",
       "\n",
       "// Listen for the clearing of the current output cell\n",
       "var outputEl = gd.closest('.output');\n",
       "if (outputEl) {{\n",
       "    x.observe(outputEl, {childList: true});\n",
       "}}\n",
       "\n",
       "                        })\n",
       "                };\n",
       "                });\n",
       "            </script>\n",
       "        </div>"
      ]
     },
     "metadata": {},
     "output_type": "display_data"
    }
   ],
   "source": [
    "def max_bar_plot(var):\n",
    "    x1 = df[['City',var]].groupby([\"City\"]).median().sort_values(by = var,\n",
    "    ascending = True).tail(10).iplot(kind='bar', xTitle='Cities',yTitle=var, \n",
    "                                     linecolor='black', title='{2} {1} {0}'.format(\")\",var,' Most polluted cities('))\n",
    "\n",
    "p1 = max_bar_plot('Industrial Pollution content')\n",
    "p2 = max_bar_plot('Vehicular Pollution content')"
   ]
  },
  {
   "cell_type": "code",
   "execution_count": 14,
   "metadata": {
    "execution": {
     "iopub.execute_input": "2020-10-30T04:22:49.641074Z",
     "iopub.status.busy": "2020-10-30T04:22:49.639957Z",
     "iopub.status.idle": "2020-10-30T04:22:49.727856Z",
     "shell.execute_reply": "2020-10-30T04:22:49.728410Z"
    },
    "papermill": {
     "duration": 0.448001,
     "end_time": "2020-10-30T04:22:49.728572",
     "exception": false,
     "start_time": "2020-10-30T04:22:49.280571",
     "status": "completed"
    },
    "tags": []
   },
   "outputs": [
    {
     "data": {
      "application/vnd.plotly.v1+json": {
       "config": {
        "linkText": "Export to plot.ly",
        "plotlyServerURL": "https://plot.ly",
        "showLink": true
       },
       "data": [
        {
         "marker": {
          "color": "rgba(255, 153, 51, 0.6)",
          "line": {
           "color": "rgba(255, 153, 51, 1.0)",
           "width": 1
          }
         },
         "name": "Industrial Pollution content",
         "orientation": "v",
         "text": "",
         "type": "bar",
         "x": [
          "Kochi",
          "Aizawl",
          "Chandigarh",
          "Ernakulam",
          "Patna",
          "Hyderabad",
          "Chennai",
          "Guwahati",
          "Brajrajnagar",
          "Amritsar"
         ],
         "y": [
          25.915643564356436,
          26.31634615384615,
          32.42876033057849,
          36.87683168316831,
          40.18413223140497,
          42.76818181818182,
          43.991735537190074,
          44.193801652892574,
          47.55107438016526,
          47.74892561983468
         ]
        }
       ],
       "layout": {
        "legend": {
         "bgcolor": "#F5F6F9",
         "font": {
          "color": "#4D5663"
         }
        },
        "paper_bgcolor": "#F5F6F9",
        "plot_bgcolor": "#F5F6F9",
        "template": {
         "data": {
          "bar": [
           {
            "error_x": {
             "color": "#2a3f5f"
            },
            "error_y": {
             "color": "#2a3f5f"
            },
            "marker": {
             "line": {
              "color": "#E5ECF6",
              "width": 0.5
             }
            },
            "type": "bar"
           }
          ],
          "barpolar": [
           {
            "marker": {
             "line": {
              "color": "#E5ECF6",
              "width": 0.5
             }
            },
            "type": "barpolar"
           }
          ],
          "carpet": [
           {
            "aaxis": {
             "endlinecolor": "#2a3f5f",
             "gridcolor": "white",
             "linecolor": "white",
             "minorgridcolor": "white",
             "startlinecolor": "#2a3f5f"
            },
            "baxis": {
             "endlinecolor": "#2a3f5f",
             "gridcolor": "white",
             "linecolor": "white",
             "minorgridcolor": "white",
             "startlinecolor": "#2a3f5f"
            },
            "type": "carpet"
           }
          ],
          "choropleth": [
           {
            "colorbar": {
             "outlinewidth": 0,
             "ticks": ""
            },
            "type": "choropleth"
           }
          ],
          "contour": [
           {
            "colorbar": {
             "outlinewidth": 0,
             "ticks": ""
            },
            "colorscale": [
             [
              0,
              "#0d0887"
             ],
             [
              0.1111111111111111,
              "#46039f"
             ],
             [
              0.2222222222222222,
              "#7201a8"
             ],
             [
              0.3333333333333333,
              "#9c179e"
             ],
             [
              0.4444444444444444,
              "#bd3786"
             ],
             [
              0.5555555555555556,
              "#d8576b"
             ],
             [
              0.6666666666666666,
              "#ed7953"
             ],
             [
              0.7777777777777778,
              "#fb9f3a"
             ],
             [
              0.8888888888888888,
              "#fdca26"
             ],
             [
              1,
              "#f0f921"
             ]
            ],
            "type": "contour"
           }
          ],
          "contourcarpet": [
           {
            "colorbar": {
             "outlinewidth": 0,
             "ticks": ""
            },
            "type": "contourcarpet"
           }
          ],
          "heatmap": [
           {
            "colorbar": {
             "outlinewidth": 0,
             "ticks": ""
            },
            "colorscale": [
             [
              0,
              "#0d0887"
             ],
             [
              0.1111111111111111,
              "#46039f"
             ],
             [
              0.2222222222222222,
              "#7201a8"
             ],
             [
              0.3333333333333333,
              "#9c179e"
             ],
             [
              0.4444444444444444,
              "#bd3786"
             ],
             [
              0.5555555555555556,
              "#d8576b"
             ],
             [
              0.6666666666666666,
              "#ed7953"
             ],
             [
              0.7777777777777778,
              "#fb9f3a"
             ],
             [
              0.8888888888888888,
              "#fdca26"
             ],
             [
              1,
              "#f0f921"
             ]
            ],
            "type": "heatmap"
           }
          ],
          "heatmapgl": [
           {
            "colorbar": {
             "outlinewidth": 0,
             "ticks": ""
            },
            "colorscale": [
             [
              0,
              "#0d0887"
             ],
             [
              0.1111111111111111,
              "#46039f"
             ],
             [
              0.2222222222222222,
              "#7201a8"
             ],
             [
              0.3333333333333333,
              "#9c179e"
             ],
             [
              0.4444444444444444,
              "#bd3786"
             ],
             [
              0.5555555555555556,
              "#d8576b"
             ],
             [
              0.6666666666666666,
              "#ed7953"
             ],
             [
              0.7777777777777778,
              "#fb9f3a"
             ],
             [
              0.8888888888888888,
              "#fdca26"
             ],
             [
              1,
              "#f0f921"
             ]
            ],
            "type": "heatmapgl"
           }
          ],
          "histogram": [
           {
            "marker": {
             "colorbar": {
              "outlinewidth": 0,
              "ticks": ""
             }
            },
            "type": "histogram"
           }
          ],
          "histogram2d": [
           {
            "colorbar": {
             "outlinewidth": 0,
             "ticks": ""
            },
            "colorscale": [
             [
              0,
              "#0d0887"
             ],
             [
              0.1111111111111111,
              "#46039f"
             ],
             [
              0.2222222222222222,
              "#7201a8"
             ],
             [
              0.3333333333333333,
              "#9c179e"
             ],
             [
              0.4444444444444444,
              "#bd3786"
             ],
             [
              0.5555555555555556,
              "#d8576b"
             ],
             [
              0.6666666666666666,
              "#ed7953"
             ],
             [
              0.7777777777777778,
              "#fb9f3a"
             ],
             [
              0.8888888888888888,
              "#fdca26"
             ],
             [
              1,
              "#f0f921"
             ]
            ],
            "type": "histogram2d"
           }
          ],
          "histogram2dcontour": [
           {
            "colorbar": {
             "outlinewidth": 0,
             "ticks": ""
            },
            "colorscale": [
             [
              0,
              "#0d0887"
             ],
             [
              0.1111111111111111,
              "#46039f"
             ],
             [
              0.2222222222222222,
              "#7201a8"
             ],
             [
              0.3333333333333333,
              "#9c179e"
             ],
             [
              0.4444444444444444,
              "#bd3786"
             ],
             [
              0.5555555555555556,
              "#d8576b"
             ],
             [
              0.6666666666666666,
              "#ed7953"
             ],
             [
              0.7777777777777778,
              "#fb9f3a"
             ],
             [
              0.8888888888888888,
              "#fdca26"
             ],
             [
              1,
              "#f0f921"
             ]
            ],
            "type": "histogram2dcontour"
           }
          ],
          "mesh3d": [
           {
            "colorbar": {
             "outlinewidth": 0,
             "ticks": ""
            },
            "type": "mesh3d"
           }
          ],
          "parcoords": [
           {
            "line": {
             "colorbar": {
              "outlinewidth": 0,
              "ticks": ""
             }
            },
            "type": "parcoords"
           }
          ],
          "pie": [
           {
            "automargin": true,
            "type": "pie"
           }
          ],
          "scatter": [
           {
            "marker": {
             "colorbar": {
              "outlinewidth": 0,
              "ticks": ""
             }
            },
            "type": "scatter"
           }
          ],
          "scatter3d": [
           {
            "line": {
             "colorbar": {
              "outlinewidth": 0,
              "ticks": ""
             }
            },
            "marker": {
             "colorbar": {
              "outlinewidth": 0,
              "ticks": ""
             }
            },
            "type": "scatter3d"
           }
          ],
          "scattercarpet": [
           {
            "marker": {
             "colorbar": {
              "outlinewidth": 0,
              "ticks": ""
             }
            },
            "type": "scattercarpet"
           }
          ],
          "scattergeo": [
           {
            "marker": {
             "colorbar": {
              "outlinewidth": 0,
              "ticks": ""
             }
            },
            "type": "scattergeo"
           }
          ],
          "scattergl": [
           {
            "marker": {
             "colorbar": {
              "outlinewidth": 0,
              "ticks": ""
             }
            },
            "type": "scattergl"
           }
          ],
          "scattermapbox": [
           {
            "marker": {
             "colorbar": {
              "outlinewidth": 0,
              "ticks": ""
             }
            },
            "type": "scattermapbox"
           }
          ],
          "scatterpolar": [
           {
            "marker": {
             "colorbar": {
              "outlinewidth": 0,
              "ticks": ""
             }
            },
            "type": "scatterpolar"
           }
          ],
          "scatterpolargl": [
           {
            "marker": {
             "colorbar": {
              "outlinewidth": 0,
              "ticks": ""
             }
            },
            "type": "scatterpolargl"
           }
          ],
          "scatterternary": [
           {
            "marker": {
             "colorbar": {
              "outlinewidth": 0,
              "ticks": ""
             }
            },
            "type": "scatterternary"
           }
          ],
          "surface": [
           {
            "colorbar": {
             "outlinewidth": 0,
             "ticks": ""
            },
            "colorscale": [
             [
              0,
              "#0d0887"
             ],
             [
              0.1111111111111111,
              "#46039f"
             ],
             [
              0.2222222222222222,
              "#7201a8"
             ],
             [
              0.3333333333333333,
              "#9c179e"
             ],
             [
              0.4444444444444444,
              "#bd3786"
             ],
             [
              0.5555555555555556,
              "#d8576b"
             ],
             [
              0.6666666666666666,
              "#ed7953"
             ],
             [
              0.7777777777777778,
              "#fb9f3a"
             ],
             [
              0.8888888888888888,
              "#fdca26"
             ],
             [
              1,
              "#f0f921"
             ]
            ],
            "type": "surface"
           }
          ],
          "table": [
           {
            "cells": {
             "fill": {
              "color": "#EBF0F8"
             },
             "line": {
              "color": "white"
             }
            },
            "header": {
             "fill": {
              "color": "#C8D4E3"
             },
             "line": {
              "color": "white"
             }
            },
            "type": "table"
           }
          ]
         },
         "layout": {
          "annotationdefaults": {
           "arrowcolor": "#2a3f5f",
           "arrowhead": 0,
           "arrowwidth": 1
          },
          "coloraxis": {
           "colorbar": {
            "outlinewidth": 0,
            "ticks": ""
           }
          },
          "colorscale": {
           "diverging": [
            [
             0,
             "#8e0152"
            ],
            [
             0.1,
             "#c51b7d"
            ],
            [
             0.2,
             "#de77ae"
            ],
            [
             0.3,
             "#f1b6da"
            ],
            [
             0.4,
             "#fde0ef"
            ],
            [
             0.5,
             "#f7f7f7"
            ],
            [
             0.6,
             "#e6f5d0"
            ],
            [
             0.7,
             "#b8e186"
            ],
            [
             0.8,
             "#7fbc41"
            ],
            [
             0.9,
             "#4d9221"
            ],
            [
             1,
             "#276419"
            ]
           ],
           "sequential": [
            [
             0,
             "#0d0887"
            ],
            [
             0.1111111111111111,
             "#46039f"
            ],
            [
             0.2222222222222222,
             "#7201a8"
            ],
            [
             0.3333333333333333,
             "#9c179e"
            ],
            [
             0.4444444444444444,
             "#bd3786"
            ],
            [
             0.5555555555555556,
             "#d8576b"
            ],
            [
             0.6666666666666666,
             "#ed7953"
            ],
            [
             0.7777777777777778,
             "#fb9f3a"
            ],
            [
             0.8888888888888888,
             "#fdca26"
            ],
            [
             1,
             "#f0f921"
            ]
           ],
           "sequentialminus": [
            [
             0,
             "#0d0887"
            ],
            [
             0.1111111111111111,
             "#46039f"
            ],
            [
             0.2222222222222222,
             "#7201a8"
            ],
            [
             0.3333333333333333,
             "#9c179e"
            ],
            [
             0.4444444444444444,
             "#bd3786"
            ],
            [
             0.5555555555555556,
             "#d8576b"
            ],
            [
             0.6666666666666666,
             "#ed7953"
            ],
            [
             0.7777777777777778,
             "#fb9f3a"
            ],
            [
             0.8888888888888888,
             "#fdca26"
            ],
            [
             1,
             "#f0f921"
            ]
           ]
          },
          "colorway": [
           "#636efa",
           "#EF553B",
           "#00cc96",
           "#ab63fa",
           "#FFA15A",
           "#19d3f3",
           "#FF6692",
           "#B6E880",
           "#FF97FF",
           "#FECB52"
          ],
          "font": {
           "color": "#2a3f5f"
          },
          "geo": {
           "bgcolor": "white",
           "lakecolor": "white",
           "landcolor": "#E5ECF6",
           "showlakes": true,
           "showland": true,
           "subunitcolor": "white"
          },
          "hoverlabel": {
           "align": "left"
          },
          "hovermode": "closest",
          "mapbox": {
           "style": "light"
          },
          "paper_bgcolor": "white",
          "plot_bgcolor": "#E5ECF6",
          "polar": {
           "angularaxis": {
            "gridcolor": "white",
            "linecolor": "white",
            "ticks": ""
           },
           "bgcolor": "#E5ECF6",
           "radialaxis": {
            "gridcolor": "white",
            "linecolor": "white",
            "ticks": ""
           }
          },
          "scene": {
           "xaxis": {
            "backgroundcolor": "#E5ECF6",
            "gridcolor": "white",
            "gridwidth": 2,
            "linecolor": "white",
            "showbackground": true,
            "ticks": "",
            "zerolinecolor": "white"
           },
           "yaxis": {
            "backgroundcolor": "#E5ECF6",
            "gridcolor": "white",
            "gridwidth": 2,
            "linecolor": "white",
            "showbackground": true,
            "ticks": "",
            "zerolinecolor": "white"
           },
           "zaxis": {
            "backgroundcolor": "#E5ECF6",
            "gridcolor": "white",
            "gridwidth": 2,
            "linecolor": "white",
            "showbackground": true,
            "ticks": "",
            "zerolinecolor": "white"
           }
          },
          "shapedefaults": {
           "line": {
            "color": "#2a3f5f"
           }
          },
          "ternary": {
           "aaxis": {
            "gridcolor": "white",
            "linecolor": "white",
            "ticks": ""
           },
           "baxis": {
            "gridcolor": "white",
            "linecolor": "white",
            "ticks": ""
           },
           "bgcolor": "#E5ECF6",
           "caxis": {
            "gridcolor": "white",
            "linecolor": "white",
            "ticks": ""
           }
          },
          "title": {
           "x": 0.05
          },
          "xaxis": {
           "automargin": true,
           "gridcolor": "white",
           "linecolor": "white",
           "ticks": "",
           "title": {
            "standoff": 15
           },
           "zerolinecolor": "white",
           "zerolinewidth": 2
          },
          "yaxis": {
           "automargin": true,
           "gridcolor": "white",
           "linecolor": "white",
           "ticks": "",
           "title": {
            "standoff": 15
           },
           "zerolinecolor": "white",
           "zerolinewidth": 2
          }
         }
        },
        "title": {
         "font": {
          "color": "#4D5663"
         },
         "text": " Minimum polluted cities( Industrial Pollution content )"
        },
        "xaxis": {
         "gridcolor": "#E1E5ED",
         "linecolor": "black",
         "showgrid": true,
         "tickfont": {
          "color": "#4D5663"
         },
         "title": {
          "font": {
           "color": "#4D5663"
          },
          "text": "Industrial Pollution content"
         },
         "zerolinecolor": "#E1E5ED"
        },
        "yaxis": {
         "gridcolor": "#E1E5ED",
         "linecolor": "black",
         "showgrid": true,
         "tickfont": {
          "color": "#4D5663"
         },
         "title": {
          "font": {
           "color": "#4D5663"
          },
          "text": "Cities"
         },
         "zerolinecolor": "#E1E5ED"
        }
       }
      },
      "text/html": [
       "<div>\n",
       "        \n",
       "        \n",
       "            <div id=\"16e2694b-f412-4fb8-a712-bd5e9c9de4bd\" class=\"plotly-graph-div\" style=\"height:525px; width:100%;\"></div>\n",
       "            <script type=\"text/javascript\">\n",
       "                require([\"plotly\"], function(Plotly) {\n",
       "                    window.PLOTLYENV=window.PLOTLYENV || {};\n",
       "                    window.PLOTLYENV.BASE_URL='https://plot.ly';\n",
       "                    \n",
       "                if (document.getElementById(\"16e2694b-f412-4fb8-a712-bd5e9c9de4bd\")) {\n",
       "                    Plotly.newPlot(\n",
       "                        '16e2694b-f412-4fb8-a712-bd5e9c9de4bd',\n",
       "                        [{\"marker\": {\"color\": \"rgba(255, 153, 51, 0.6)\", \"line\": {\"color\": \"rgba(255, 153, 51, 1.0)\", \"width\": 1}}, \"name\": \"Industrial Pollution content\", \"orientation\": \"v\", \"text\": \"\", \"type\": \"bar\", \"x\": [\"Kochi\", \"Aizawl\", \"Chandigarh\", \"Ernakulam\", \"Patna\", \"Hyderabad\", \"Chennai\", \"Guwahati\", \"Brajrajnagar\", \"Amritsar\"], \"y\": [25.915643564356436, 26.31634615384615, 32.42876033057849, 36.87683168316831, 40.18413223140497, 42.76818181818182, 43.991735537190074, 44.193801652892574, 47.55107438016526, 47.74892561983468]}],\n",
       "                        {\"legend\": {\"bgcolor\": \"#F5F6F9\", \"font\": {\"color\": \"#4D5663\"}}, \"paper_bgcolor\": \"#F5F6F9\", \"plot_bgcolor\": \"#F5F6F9\", \"template\": {\"data\": {\"bar\": [{\"error_x\": {\"color\": \"#2a3f5f\"}, \"error_y\": {\"color\": \"#2a3f5f\"}, \"marker\": {\"line\": {\"color\": \"#E5ECF6\", \"width\": 0.5}}, \"type\": \"bar\"}], \"barpolar\": [{\"marker\": {\"line\": {\"color\": \"#E5ECF6\", \"width\": 0.5}}, \"type\": \"barpolar\"}], \"carpet\": [{\"aaxis\": {\"endlinecolor\": \"#2a3f5f\", \"gridcolor\": \"white\", \"linecolor\": \"white\", \"minorgridcolor\": \"white\", \"startlinecolor\": \"#2a3f5f\"}, \"baxis\": {\"endlinecolor\": \"#2a3f5f\", \"gridcolor\": \"white\", \"linecolor\": \"white\", \"minorgridcolor\": \"white\", \"startlinecolor\": \"#2a3f5f\"}, \"type\": \"carpet\"}], \"choropleth\": [{\"colorbar\": {\"outlinewidth\": 0, \"ticks\": \"\"}, \"type\": \"choropleth\"}], \"contour\": [{\"colorbar\": {\"outlinewidth\": 0, \"ticks\": \"\"}, \"colorscale\": [[0.0, \"#0d0887\"], [0.1111111111111111, \"#46039f\"], [0.2222222222222222, \"#7201a8\"], [0.3333333333333333, \"#9c179e\"], [0.4444444444444444, \"#bd3786\"], [0.5555555555555556, \"#d8576b\"], [0.6666666666666666, \"#ed7953\"], [0.7777777777777778, \"#fb9f3a\"], [0.8888888888888888, \"#fdca26\"], [1.0, \"#f0f921\"]], \"type\": \"contour\"}], \"contourcarpet\": [{\"colorbar\": {\"outlinewidth\": 0, \"ticks\": \"\"}, \"type\": \"contourcarpet\"}], \"heatmap\": [{\"colorbar\": {\"outlinewidth\": 0, \"ticks\": \"\"}, \"colorscale\": [[0.0, \"#0d0887\"], [0.1111111111111111, \"#46039f\"], [0.2222222222222222, \"#7201a8\"], [0.3333333333333333, \"#9c179e\"], [0.4444444444444444, \"#bd3786\"], [0.5555555555555556, \"#d8576b\"], [0.6666666666666666, \"#ed7953\"], [0.7777777777777778, \"#fb9f3a\"], [0.8888888888888888, \"#fdca26\"], [1.0, \"#f0f921\"]], \"type\": \"heatmap\"}], \"heatmapgl\": [{\"colorbar\": {\"outlinewidth\": 0, \"ticks\": \"\"}, \"colorscale\": [[0.0, \"#0d0887\"], [0.1111111111111111, \"#46039f\"], [0.2222222222222222, \"#7201a8\"], [0.3333333333333333, \"#9c179e\"], [0.4444444444444444, \"#bd3786\"], [0.5555555555555556, \"#d8576b\"], [0.6666666666666666, \"#ed7953\"], [0.7777777777777778, \"#fb9f3a\"], [0.8888888888888888, \"#fdca26\"], [1.0, \"#f0f921\"]], \"type\": \"heatmapgl\"}], \"histogram\": [{\"marker\": {\"colorbar\": {\"outlinewidth\": 0, \"ticks\": \"\"}}, \"type\": \"histogram\"}], \"histogram2d\": [{\"colorbar\": {\"outlinewidth\": 0, \"ticks\": \"\"}, \"colorscale\": [[0.0, \"#0d0887\"], [0.1111111111111111, \"#46039f\"], [0.2222222222222222, \"#7201a8\"], [0.3333333333333333, \"#9c179e\"], [0.4444444444444444, \"#bd3786\"], [0.5555555555555556, \"#d8576b\"], [0.6666666666666666, \"#ed7953\"], [0.7777777777777778, \"#fb9f3a\"], [0.8888888888888888, \"#fdca26\"], [1.0, \"#f0f921\"]], \"type\": \"histogram2d\"}], \"histogram2dcontour\": [{\"colorbar\": {\"outlinewidth\": 0, \"ticks\": \"\"}, \"colorscale\": [[0.0, \"#0d0887\"], [0.1111111111111111, \"#46039f\"], [0.2222222222222222, \"#7201a8\"], [0.3333333333333333, \"#9c179e\"], [0.4444444444444444, \"#bd3786\"], [0.5555555555555556, \"#d8576b\"], [0.6666666666666666, \"#ed7953\"], [0.7777777777777778, \"#fb9f3a\"], [0.8888888888888888, \"#fdca26\"], [1.0, \"#f0f921\"]], \"type\": \"histogram2dcontour\"}], \"mesh3d\": [{\"colorbar\": {\"outlinewidth\": 0, \"ticks\": \"\"}, \"type\": \"mesh3d\"}], \"parcoords\": [{\"line\": {\"colorbar\": {\"outlinewidth\": 0, \"ticks\": \"\"}}, \"type\": \"parcoords\"}], \"pie\": [{\"automargin\": true, \"type\": \"pie\"}], \"scatter\": [{\"marker\": {\"colorbar\": {\"outlinewidth\": 0, \"ticks\": \"\"}}, \"type\": \"scatter\"}], \"scatter3d\": [{\"line\": {\"colorbar\": {\"outlinewidth\": 0, \"ticks\": \"\"}}, \"marker\": {\"colorbar\": {\"outlinewidth\": 0, \"ticks\": \"\"}}, \"type\": \"scatter3d\"}], \"scattercarpet\": [{\"marker\": {\"colorbar\": {\"outlinewidth\": 0, \"ticks\": \"\"}}, \"type\": \"scattercarpet\"}], \"scattergeo\": [{\"marker\": {\"colorbar\": {\"outlinewidth\": 0, \"ticks\": \"\"}}, \"type\": \"scattergeo\"}], \"scattergl\": [{\"marker\": {\"colorbar\": {\"outlinewidth\": 0, \"ticks\": \"\"}}, \"type\": \"scattergl\"}], \"scattermapbox\": [{\"marker\": {\"colorbar\": {\"outlinewidth\": 0, \"ticks\": \"\"}}, \"type\": \"scattermapbox\"}], \"scatterpolar\": [{\"marker\": {\"colorbar\": {\"outlinewidth\": 0, \"ticks\": \"\"}}, \"type\": \"scatterpolar\"}], \"scatterpolargl\": [{\"marker\": {\"colorbar\": {\"outlinewidth\": 0, \"ticks\": \"\"}}, \"type\": \"scatterpolargl\"}], \"scatterternary\": [{\"marker\": {\"colorbar\": {\"outlinewidth\": 0, \"ticks\": \"\"}}, \"type\": \"scatterternary\"}], \"surface\": [{\"colorbar\": {\"outlinewidth\": 0, \"ticks\": \"\"}, \"colorscale\": [[0.0, \"#0d0887\"], [0.1111111111111111, \"#46039f\"], [0.2222222222222222, \"#7201a8\"], [0.3333333333333333, \"#9c179e\"], [0.4444444444444444, \"#bd3786\"], [0.5555555555555556, \"#d8576b\"], [0.6666666666666666, \"#ed7953\"], [0.7777777777777778, \"#fb9f3a\"], [0.8888888888888888, \"#fdca26\"], [1.0, \"#f0f921\"]], \"type\": \"surface\"}], \"table\": [{\"cells\": {\"fill\": {\"color\": \"#EBF0F8\"}, \"line\": {\"color\": \"white\"}}, \"header\": {\"fill\": {\"color\": \"#C8D4E3\"}, \"line\": {\"color\": \"white\"}}, \"type\": \"table\"}]}, \"layout\": {\"annotationdefaults\": {\"arrowcolor\": \"#2a3f5f\", \"arrowhead\": 0, \"arrowwidth\": 1}, \"coloraxis\": {\"colorbar\": {\"outlinewidth\": 0, \"ticks\": \"\"}}, \"colorscale\": {\"diverging\": [[0, \"#8e0152\"], [0.1, \"#c51b7d\"], [0.2, \"#de77ae\"], [0.3, \"#f1b6da\"], [0.4, \"#fde0ef\"], [0.5, \"#f7f7f7\"], [0.6, \"#e6f5d0\"], [0.7, \"#b8e186\"], [0.8, \"#7fbc41\"], [0.9, \"#4d9221\"], [1, \"#276419\"]], \"sequential\": [[0.0, \"#0d0887\"], [0.1111111111111111, \"#46039f\"], [0.2222222222222222, \"#7201a8\"], [0.3333333333333333, \"#9c179e\"], [0.4444444444444444, \"#bd3786\"], [0.5555555555555556, \"#d8576b\"], [0.6666666666666666, \"#ed7953\"], [0.7777777777777778, \"#fb9f3a\"], [0.8888888888888888, \"#fdca26\"], [1.0, \"#f0f921\"]], \"sequentialminus\": [[0.0, \"#0d0887\"], [0.1111111111111111, \"#46039f\"], [0.2222222222222222, \"#7201a8\"], [0.3333333333333333, \"#9c179e\"], [0.4444444444444444, \"#bd3786\"], [0.5555555555555556, \"#d8576b\"], [0.6666666666666666, \"#ed7953\"], [0.7777777777777778, \"#fb9f3a\"], [0.8888888888888888, \"#fdca26\"], [1.0, \"#f0f921\"]]}, \"colorway\": [\"#636efa\", \"#EF553B\", \"#00cc96\", \"#ab63fa\", \"#FFA15A\", \"#19d3f3\", \"#FF6692\", \"#B6E880\", \"#FF97FF\", \"#FECB52\"], \"font\": {\"color\": \"#2a3f5f\"}, \"geo\": {\"bgcolor\": \"white\", \"lakecolor\": \"white\", \"landcolor\": \"#E5ECF6\", \"showlakes\": true, \"showland\": true, \"subunitcolor\": \"white\"}, \"hoverlabel\": {\"align\": \"left\"}, \"hovermode\": \"closest\", \"mapbox\": {\"style\": \"light\"}, \"paper_bgcolor\": \"white\", \"plot_bgcolor\": \"#E5ECF6\", \"polar\": {\"angularaxis\": {\"gridcolor\": \"white\", \"linecolor\": \"white\", \"ticks\": \"\"}, \"bgcolor\": \"#E5ECF6\", \"radialaxis\": {\"gridcolor\": \"white\", \"linecolor\": \"white\", \"ticks\": \"\"}}, \"scene\": {\"xaxis\": {\"backgroundcolor\": \"#E5ECF6\", \"gridcolor\": \"white\", \"gridwidth\": 2, \"linecolor\": \"white\", \"showbackground\": true, \"ticks\": \"\", \"zerolinecolor\": \"white\"}, \"yaxis\": {\"backgroundcolor\": \"#E5ECF6\", \"gridcolor\": \"white\", \"gridwidth\": 2, \"linecolor\": \"white\", \"showbackground\": true, \"ticks\": \"\", \"zerolinecolor\": \"white\"}, \"zaxis\": {\"backgroundcolor\": \"#E5ECF6\", \"gridcolor\": \"white\", \"gridwidth\": 2, \"linecolor\": \"white\", \"showbackground\": true, \"ticks\": \"\", \"zerolinecolor\": \"white\"}}, \"shapedefaults\": {\"line\": {\"color\": \"#2a3f5f\"}}, \"ternary\": {\"aaxis\": {\"gridcolor\": \"white\", \"linecolor\": \"white\", \"ticks\": \"\"}, \"baxis\": {\"gridcolor\": \"white\", \"linecolor\": \"white\", \"ticks\": \"\"}, \"bgcolor\": \"#E5ECF6\", \"caxis\": {\"gridcolor\": \"white\", \"linecolor\": \"white\", \"ticks\": \"\"}}, \"title\": {\"x\": 0.05}, \"xaxis\": {\"automargin\": true, \"gridcolor\": \"white\", \"linecolor\": \"white\", \"ticks\": \"\", \"title\": {\"standoff\": 15}, \"zerolinecolor\": \"white\", \"zerolinewidth\": 2}, \"yaxis\": {\"automargin\": true, \"gridcolor\": \"white\", \"linecolor\": \"white\", \"ticks\": \"\", \"title\": {\"standoff\": 15}, \"zerolinecolor\": \"white\", \"zerolinewidth\": 2}}}, \"title\": {\"font\": {\"color\": \"#4D5663\"}, \"text\": \" Minimum polluted cities( Industrial Pollution content )\"}, \"xaxis\": {\"gridcolor\": \"#E1E5ED\", \"linecolor\": \"black\", \"showgrid\": true, \"tickfont\": {\"color\": \"#4D5663\"}, \"title\": {\"font\": {\"color\": \"#4D5663\"}, \"text\": \"Industrial Pollution content\"}, \"zerolinecolor\": \"#E1E5ED\"}, \"yaxis\": {\"gridcolor\": \"#E1E5ED\", \"linecolor\": \"black\", \"showgrid\": true, \"tickfont\": {\"color\": \"#4D5663\"}, \"title\": {\"font\": {\"color\": \"#4D5663\"}, \"text\": \"Cities\"}, \"zerolinecolor\": \"#E1E5ED\"}},\n",
       "                        {\"showLink\": true, \"linkText\": \"Export to plot.ly\", \"plotlyServerURL\": \"https://plot.ly\", \"responsive\": true}\n",
       "                    ).then(function(){\n",
       "                            \n",
       "var gd = document.getElementById('16e2694b-f412-4fb8-a712-bd5e9c9de4bd');\n",
       "var x = new MutationObserver(function (mutations, observer) {{\n",
       "        var display = window.getComputedStyle(gd).display;\n",
       "        if (!display || display === 'none') {{\n",
       "            console.log([gd, 'removed!']);\n",
       "            Plotly.purge(gd);\n",
       "            observer.disconnect();\n",
       "        }}\n",
       "}});\n",
       "\n",
       "// Listen for the removal of the full notebook cells\n",
       "var notebookContainer = gd.closest('#notebook-container');\n",
       "if (notebookContainer) {{\n",
       "    x.observe(notebookContainer, {childList: true});\n",
       "}}\n",
       "\n",
       "// Listen for the clearing of the current output cell\n",
       "var outputEl = gd.closest('.output');\n",
       "if (outputEl) {{\n",
       "    x.observe(outputEl, {childList: true});\n",
       "}}\n",
       "\n",
       "                        })\n",
       "                };\n",
       "                });\n",
       "            </script>\n",
       "        </div>"
      ]
     },
     "metadata": {},
     "output_type": "display_data"
    },
    {
     "data": {
      "application/vnd.plotly.v1+json": {
       "config": {
        "linkText": "Export to plot.ly",
        "plotlyServerURL": "https://plot.ly",
        "showLink": true
       },
       "data": [
        {
         "marker": {
          "color": "rgba(255, 153, 51, 0.6)",
          "line": {
           "color": "rgba(255, 153, 51, 1.0)",
           "width": 1
          }
         },
         "name": "Vehicular Pollution content",
         "orientation": "v",
         "text": "",
         "type": "bar",
         "x": [
          "Aizawl",
          "Amaravati",
          "Shillong",
          "Thiruvananthapuram",
          "Bengaluru",
          "Chandigarh",
          "Ernakulam",
          "Chennai",
          "Amritsar",
          "Hyderabad"
         ],
         "y": [
          105.21923076923076,
          115.48710743801652,
          127.58231404958671,
          141.14239669421482,
          182.2079338842976,
          183.84661157024794,
          188.39188118811887,
          196.13057851239674,
          197.8861983471075,
          203.12322314049587
         ]
        }
       ],
       "layout": {
        "legend": {
         "bgcolor": "#F5F6F9",
         "font": {
          "color": "#4D5663"
         }
        },
        "paper_bgcolor": "#F5F6F9",
        "plot_bgcolor": "#F5F6F9",
        "template": {
         "data": {
          "bar": [
           {
            "error_x": {
             "color": "#2a3f5f"
            },
            "error_y": {
             "color": "#2a3f5f"
            },
            "marker": {
             "line": {
              "color": "#E5ECF6",
              "width": 0.5
             }
            },
            "type": "bar"
           }
          ],
          "barpolar": [
           {
            "marker": {
             "line": {
              "color": "#E5ECF6",
              "width": 0.5
             }
            },
            "type": "barpolar"
           }
          ],
          "carpet": [
           {
            "aaxis": {
             "endlinecolor": "#2a3f5f",
             "gridcolor": "white",
             "linecolor": "white",
             "minorgridcolor": "white",
             "startlinecolor": "#2a3f5f"
            },
            "baxis": {
             "endlinecolor": "#2a3f5f",
             "gridcolor": "white",
             "linecolor": "white",
             "minorgridcolor": "white",
             "startlinecolor": "#2a3f5f"
            },
            "type": "carpet"
           }
          ],
          "choropleth": [
           {
            "colorbar": {
             "outlinewidth": 0,
             "ticks": ""
            },
            "type": "choropleth"
           }
          ],
          "contour": [
           {
            "colorbar": {
             "outlinewidth": 0,
             "ticks": ""
            },
            "colorscale": [
             [
              0,
              "#0d0887"
             ],
             [
              0.1111111111111111,
              "#46039f"
             ],
             [
              0.2222222222222222,
              "#7201a8"
             ],
             [
              0.3333333333333333,
              "#9c179e"
             ],
             [
              0.4444444444444444,
              "#bd3786"
             ],
             [
              0.5555555555555556,
              "#d8576b"
             ],
             [
              0.6666666666666666,
              "#ed7953"
             ],
             [
              0.7777777777777778,
              "#fb9f3a"
             ],
             [
              0.8888888888888888,
              "#fdca26"
             ],
             [
              1,
              "#f0f921"
             ]
            ],
            "type": "contour"
           }
          ],
          "contourcarpet": [
           {
            "colorbar": {
             "outlinewidth": 0,
             "ticks": ""
            },
            "type": "contourcarpet"
           }
          ],
          "heatmap": [
           {
            "colorbar": {
             "outlinewidth": 0,
             "ticks": ""
            },
            "colorscale": [
             [
              0,
              "#0d0887"
             ],
             [
              0.1111111111111111,
              "#46039f"
             ],
             [
              0.2222222222222222,
              "#7201a8"
             ],
             [
              0.3333333333333333,
              "#9c179e"
             ],
             [
              0.4444444444444444,
              "#bd3786"
             ],
             [
              0.5555555555555556,
              "#d8576b"
             ],
             [
              0.6666666666666666,
              "#ed7953"
             ],
             [
              0.7777777777777778,
              "#fb9f3a"
             ],
             [
              0.8888888888888888,
              "#fdca26"
             ],
             [
              1,
              "#f0f921"
             ]
            ],
            "type": "heatmap"
           }
          ],
          "heatmapgl": [
           {
            "colorbar": {
             "outlinewidth": 0,
             "ticks": ""
            },
            "colorscale": [
             [
              0,
              "#0d0887"
             ],
             [
              0.1111111111111111,
              "#46039f"
             ],
             [
              0.2222222222222222,
              "#7201a8"
             ],
             [
              0.3333333333333333,
              "#9c179e"
             ],
             [
              0.4444444444444444,
              "#bd3786"
             ],
             [
              0.5555555555555556,
              "#d8576b"
             ],
             [
              0.6666666666666666,
              "#ed7953"
             ],
             [
              0.7777777777777778,
              "#fb9f3a"
             ],
             [
              0.8888888888888888,
              "#fdca26"
             ],
             [
              1,
              "#f0f921"
             ]
            ],
            "type": "heatmapgl"
           }
          ],
          "histogram": [
           {
            "marker": {
             "colorbar": {
              "outlinewidth": 0,
              "ticks": ""
             }
            },
            "type": "histogram"
           }
          ],
          "histogram2d": [
           {
            "colorbar": {
             "outlinewidth": 0,
             "ticks": ""
            },
            "colorscale": [
             [
              0,
              "#0d0887"
             ],
             [
              0.1111111111111111,
              "#46039f"
             ],
             [
              0.2222222222222222,
              "#7201a8"
             ],
             [
              0.3333333333333333,
              "#9c179e"
             ],
             [
              0.4444444444444444,
              "#bd3786"
             ],
             [
              0.5555555555555556,
              "#d8576b"
             ],
             [
              0.6666666666666666,
              "#ed7953"
             ],
             [
              0.7777777777777778,
              "#fb9f3a"
             ],
             [
              0.8888888888888888,
              "#fdca26"
             ],
             [
              1,
              "#f0f921"
             ]
            ],
            "type": "histogram2d"
           }
          ],
          "histogram2dcontour": [
           {
            "colorbar": {
             "outlinewidth": 0,
             "ticks": ""
            },
            "colorscale": [
             [
              0,
              "#0d0887"
             ],
             [
              0.1111111111111111,
              "#46039f"
             ],
             [
              0.2222222222222222,
              "#7201a8"
             ],
             [
              0.3333333333333333,
              "#9c179e"
             ],
             [
              0.4444444444444444,
              "#bd3786"
             ],
             [
              0.5555555555555556,
              "#d8576b"
             ],
             [
              0.6666666666666666,
              "#ed7953"
             ],
             [
              0.7777777777777778,
              "#fb9f3a"
             ],
             [
              0.8888888888888888,
              "#fdca26"
             ],
             [
              1,
              "#f0f921"
             ]
            ],
            "type": "histogram2dcontour"
           }
          ],
          "mesh3d": [
           {
            "colorbar": {
             "outlinewidth": 0,
             "ticks": ""
            },
            "type": "mesh3d"
           }
          ],
          "parcoords": [
           {
            "line": {
             "colorbar": {
              "outlinewidth": 0,
              "ticks": ""
             }
            },
            "type": "parcoords"
           }
          ],
          "pie": [
           {
            "automargin": true,
            "type": "pie"
           }
          ],
          "scatter": [
           {
            "marker": {
             "colorbar": {
              "outlinewidth": 0,
              "ticks": ""
             }
            },
            "type": "scatter"
           }
          ],
          "scatter3d": [
           {
            "line": {
             "colorbar": {
              "outlinewidth": 0,
              "ticks": ""
             }
            },
            "marker": {
             "colorbar": {
              "outlinewidth": 0,
              "ticks": ""
             }
            },
            "type": "scatter3d"
           }
          ],
          "scattercarpet": [
           {
            "marker": {
             "colorbar": {
              "outlinewidth": 0,
              "ticks": ""
             }
            },
            "type": "scattercarpet"
           }
          ],
          "scattergeo": [
           {
            "marker": {
             "colorbar": {
              "outlinewidth": 0,
              "ticks": ""
             }
            },
            "type": "scattergeo"
           }
          ],
          "scattergl": [
           {
            "marker": {
             "colorbar": {
              "outlinewidth": 0,
              "ticks": ""
             }
            },
            "type": "scattergl"
           }
          ],
          "scattermapbox": [
           {
            "marker": {
             "colorbar": {
              "outlinewidth": 0,
              "ticks": ""
             }
            },
            "type": "scattermapbox"
           }
          ],
          "scatterpolar": [
           {
            "marker": {
             "colorbar": {
              "outlinewidth": 0,
              "ticks": ""
             }
            },
            "type": "scatterpolar"
           }
          ],
          "scatterpolargl": [
           {
            "marker": {
             "colorbar": {
              "outlinewidth": 0,
              "ticks": ""
             }
            },
            "type": "scatterpolargl"
           }
          ],
          "scatterternary": [
           {
            "marker": {
             "colorbar": {
              "outlinewidth": 0,
              "ticks": ""
             }
            },
            "type": "scatterternary"
           }
          ],
          "surface": [
           {
            "colorbar": {
             "outlinewidth": 0,
             "ticks": ""
            },
            "colorscale": [
             [
              0,
              "#0d0887"
             ],
             [
              0.1111111111111111,
              "#46039f"
             ],
             [
              0.2222222222222222,
              "#7201a8"
             ],
             [
              0.3333333333333333,
              "#9c179e"
             ],
             [
              0.4444444444444444,
              "#bd3786"
             ],
             [
              0.5555555555555556,
              "#d8576b"
             ],
             [
              0.6666666666666666,
              "#ed7953"
             ],
             [
              0.7777777777777778,
              "#fb9f3a"
             ],
             [
              0.8888888888888888,
              "#fdca26"
             ],
             [
              1,
              "#f0f921"
             ]
            ],
            "type": "surface"
           }
          ],
          "table": [
           {
            "cells": {
             "fill": {
              "color": "#EBF0F8"
             },
             "line": {
              "color": "white"
             }
            },
            "header": {
             "fill": {
              "color": "#C8D4E3"
             },
             "line": {
              "color": "white"
             }
            },
            "type": "table"
           }
          ]
         },
         "layout": {
          "annotationdefaults": {
           "arrowcolor": "#2a3f5f",
           "arrowhead": 0,
           "arrowwidth": 1
          },
          "coloraxis": {
           "colorbar": {
            "outlinewidth": 0,
            "ticks": ""
           }
          },
          "colorscale": {
           "diverging": [
            [
             0,
             "#8e0152"
            ],
            [
             0.1,
             "#c51b7d"
            ],
            [
             0.2,
             "#de77ae"
            ],
            [
             0.3,
             "#f1b6da"
            ],
            [
             0.4,
             "#fde0ef"
            ],
            [
             0.5,
             "#f7f7f7"
            ],
            [
             0.6,
             "#e6f5d0"
            ],
            [
             0.7,
             "#b8e186"
            ],
            [
             0.8,
             "#7fbc41"
            ],
            [
             0.9,
             "#4d9221"
            ],
            [
             1,
             "#276419"
            ]
           ],
           "sequential": [
            [
             0,
             "#0d0887"
            ],
            [
             0.1111111111111111,
             "#46039f"
            ],
            [
             0.2222222222222222,
             "#7201a8"
            ],
            [
             0.3333333333333333,
             "#9c179e"
            ],
            [
             0.4444444444444444,
             "#bd3786"
            ],
            [
             0.5555555555555556,
             "#d8576b"
            ],
            [
             0.6666666666666666,
             "#ed7953"
            ],
            [
             0.7777777777777778,
             "#fb9f3a"
            ],
            [
             0.8888888888888888,
             "#fdca26"
            ],
            [
             1,
             "#f0f921"
            ]
           ],
           "sequentialminus": [
            [
             0,
             "#0d0887"
            ],
            [
             0.1111111111111111,
             "#46039f"
            ],
            [
             0.2222222222222222,
             "#7201a8"
            ],
            [
             0.3333333333333333,
             "#9c179e"
            ],
            [
             0.4444444444444444,
             "#bd3786"
            ],
            [
             0.5555555555555556,
             "#d8576b"
            ],
            [
             0.6666666666666666,
             "#ed7953"
            ],
            [
             0.7777777777777778,
             "#fb9f3a"
            ],
            [
             0.8888888888888888,
             "#fdca26"
            ],
            [
             1,
             "#f0f921"
            ]
           ]
          },
          "colorway": [
           "#636efa",
           "#EF553B",
           "#00cc96",
           "#ab63fa",
           "#FFA15A",
           "#19d3f3",
           "#FF6692",
           "#B6E880",
           "#FF97FF",
           "#FECB52"
          ],
          "font": {
           "color": "#2a3f5f"
          },
          "geo": {
           "bgcolor": "white",
           "lakecolor": "white",
           "landcolor": "#E5ECF6",
           "showlakes": true,
           "showland": true,
           "subunitcolor": "white"
          },
          "hoverlabel": {
           "align": "left"
          },
          "hovermode": "closest",
          "mapbox": {
           "style": "light"
          },
          "paper_bgcolor": "white",
          "plot_bgcolor": "#E5ECF6",
          "polar": {
           "angularaxis": {
            "gridcolor": "white",
            "linecolor": "white",
            "ticks": ""
           },
           "bgcolor": "#E5ECF6",
           "radialaxis": {
            "gridcolor": "white",
            "linecolor": "white",
            "ticks": ""
           }
          },
          "scene": {
           "xaxis": {
            "backgroundcolor": "#E5ECF6",
            "gridcolor": "white",
            "gridwidth": 2,
            "linecolor": "white",
            "showbackground": true,
            "ticks": "",
            "zerolinecolor": "white"
           },
           "yaxis": {
            "backgroundcolor": "#E5ECF6",
            "gridcolor": "white",
            "gridwidth": 2,
            "linecolor": "white",
            "showbackground": true,
            "ticks": "",
            "zerolinecolor": "white"
           },
           "zaxis": {
            "backgroundcolor": "#E5ECF6",
            "gridcolor": "white",
            "gridwidth": 2,
            "linecolor": "white",
            "showbackground": true,
            "ticks": "",
            "zerolinecolor": "white"
           }
          },
          "shapedefaults": {
           "line": {
            "color": "#2a3f5f"
           }
          },
          "ternary": {
           "aaxis": {
            "gridcolor": "white",
            "linecolor": "white",
            "ticks": ""
           },
           "baxis": {
            "gridcolor": "white",
            "linecolor": "white",
            "ticks": ""
           },
           "bgcolor": "#E5ECF6",
           "caxis": {
            "gridcolor": "white",
            "linecolor": "white",
            "ticks": ""
           }
          },
          "title": {
           "x": 0.05
          },
          "xaxis": {
           "automargin": true,
           "gridcolor": "white",
           "linecolor": "white",
           "ticks": "",
           "title": {
            "standoff": 15
           },
           "zerolinecolor": "white",
           "zerolinewidth": 2
          },
          "yaxis": {
           "automargin": true,
           "gridcolor": "white",
           "linecolor": "white",
           "ticks": "",
           "title": {
            "standoff": 15
           },
           "zerolinecolor": "white",
           "zerolinewidth": 2
          }
         }
        },
        "title": {
         "font": {
          "color": "#4D5663"
         },
         "text": " Minimum polluted cities( Vehicular Pollution content )"
        },
        "xaxis": {
         "gridcolor": "#E1E5ED",
         "linecolor": "black",
         "showgrid": true,
         "tickfont": {
          "color": "#4D5663"
         },
         "title": {
          "font": {
           "color": "#4D5663"
          },
          "text": "Vehicular Pollution content"
         },
         "zerolinecolor": "#E1E5ED"
        },
        "yaxis": {
         "gridcolor": "#E1E5ED",
         "linecolor": "black",
         "showgrid": true,
         "tickfont": {
          "color": "#4D5663"
         },
         "title": {
          "font": {
           "color": "#4D5663"
          },
          "text": "Cities"
         },
         "zerolinecolor": "#E1E5ED"
        }
       }
      },
      "text/html": [
       "<div>\n",
       "        \n",
       "        \n",
       "            <div id=\"2306dd53-50a0-46f5-90d0-928160a53d6d\" class=\"plotly-graph-div\" style=\"height:525px; width:100%;\"></div>\n",
       "            <script type=\"text/javascript\">\n",
       "                require([\"plotly\"], function(Plotly) {\n",
       "                    window.PLOTLYENV=window.PLOTLYENV || {};\n",
       "                    window.PLOTLYENV.BASE_URL='https://plot.ly';\n",
       "                    \n",
       "                if (document.getElementById(\"2306dd53-50a0-46f5-90d0-928160a53d6d\")) {\n",
       "                    Plotly.newPlot(\n",
       "                        '2306dd53-50a0-46f5-90d0-928160a53d6d',\n",
       "                        [{\"marker\": {\"color\": \"rgba(255, 153, 51, 0.6)\", \"line\": {\"color\": \"rgba(255, 153, 51, 1.0)\", \"width\": 1}}, \"name\": \"Vehicular Pollution content\", \"orientation\": \"v\", \"text\": \"\", \"type\": \"bar\", \"x\": [\"Aizawl\", \"Amaravati\", \"Shillong\", \"Thiruvananthapuram\", \"Bengaluru\", \"Chandigarh\", \"Ernakulam\", \"Chennai\", \"Amritsar\", \"Hyderabad\"], \"y\": [105.21923076923076, 115.48710743801652, 127.58231404958671, 141.14239669421482, 182.2079338842976, 183.84661157024794, 188.39188118811887, 196.13057851239674, 197.8861983471075, 203.12322314049587]}],\n",
       "                        {\"legend\": {\"bgcolor\": \"#F5F6F9\", \"font\": {\"color\": \"#4D5663\"}}, \"paper_bgcolor\": \"#F5F6F9\", \"plot_bgcolor\": \"#F5F6F9\", \"template\": {\"data\": {\"bar\": [{\"error_x\": {\"color\": \"#2a3f5f\"}, \"error_y\": {\"color\": \"#2a3f5f\"}, \"marker\": {\"line\": {\"color\": \"#E5ECF6\", \"width\": 0.5}}, \"type\": \"bar\"}], \"barpolar\": [{\"marker\": {\"line\": {\"color\": \"#E5ECF6\", \"width\": 0.5}}, \"type\": \"barpolar\"}], \"carpet\": [{\"aaxis\": {\"endlinecolor\": \"#2a3f5f\", \"gridcolor\": \"white\", \"linecolor\": \"white\", \"minorgridcolor\": \"white\", \"startlinecolor\": \"#2a3f5f\"}, \"baxis\": {\"endlinecolor\": \"#2a3f5f\", \"gridcolor\": \"white\", \"linecolor\": \"white\", \"minorgridcolor\": \"white\", \"startlinecolor\": \"#2a3f5f\"}, \"type\": \"carpet\"}], \"choropleth\": [{\"colorbar\": {\"outlinewidth\": 0, \"ticks\": \"\"}, \"type\": \"choropleth\"}], \"contour\": [{\"colorbar\": {\"outlinewidth\": 0, \"ticks\": \"\"}, \"colorscale\": [[0.0, \"#0d0887\"], [0.1111111111111111, \"#46039f\"], [0.2222222222222222, \"#7201a8\"], [0.3333333333333333, \"#9c179e\"], [0.4444444444444444, \"#bd3786\"], [0.5555555555555556, \"#d8576b\"], [0.6666666666666666, \"#ed7953\"], [0.7777777777777778, \"#fb9f3a\"], [0.8888888888888888, \"#fdca26\"], [1.0, \"#f0f921\"]], \"type\": \"contour\"}], \"contourcarpet\": [{\"colorbar\": {\"outlinewidth\": 0, \"ticks\": \"\"}, \"type\": \"contourcarpet\"}], \"heatmap\": [{\"colorbar\": {\"outlinewidth\": 0, \"ticks\": \"\"}, \"colorscale\": [[0.0, \"#0d0887\"], [0.1111111111111111, \"#46039f\"], [0.2222222222222222, \"#7201a8\"], [0.3333333333333333, \"#9c179e\"], [0.4444444444444444, \"#bd3786\"], [0.5555555555555556, \"#d8576b\"], [0.6666666666666666, \"#ed7953\"], [0.7777777777777778, \"#fb9f3a\"], [0.8888888888888888, \"#fdca26\"], [1.0, \"#f0f921\"]], \"type\": \"heatmap\"}], \"heatmapgl\": [{\"colorbar\": {\"outlinewidth\": 0, \"ticks\": \"\"}, \"colorscale\": [[0.0, \"#0d0887\"], [0.1111111111111111, \"#46039f\"], [0.2222222222222222, \"#7201a8\"], [0.3333333333333333, \"#9c179e\"], [0.4444444444444444, \"#bd3786\"], [0.5555555555555556, \"#d8576b\"], [0.6666666666666666, \"#ed7953\"], [0.7777777777777778, \"#fb9f3a\"], [0.8888888888888888, \"#fdca26\"], [1.0, \"#f0f921\"]], \"type\": \"heatmapgl\"}], \"histogram\": [{\"marker\": {\"colorbar\": {\"outlinewidth\": 0, \"ticks\": \"\"}}, \"type\": \"histogram\"}], \"histogram2d\": [{\"colorbar\": {\"outlinewidth\": 0, \"ticks\": \"\"}, \"colorscale\": [[0.0, \"#0d0887\"], [0.1111111111111111, \"#46039f\"], [0.2222222222222222, \"#7201a8\"], [0.3333333333333333, \"#9c179e\"], [0.4444444444444444, \"#bd3786\"], [0.5555555555555556, \"#d8576b\"], [0.6666666666666666, \"#ed7953\"], [0.7777777777777778, \"#fb9f3a\"], [0.8888888888888888, \"#fdca26\"], [1.0, \"#f0f921\"]], \"type\": \"histogram2d\"}], \"histogram2dcontour\": [{\"colorbar\": {\"outlinewidth\": 0, \"ticks\": \"\"}, \"colorscale\": [[0.0, \"#0d0887\"], [0.1111111111111111, \"#46039f\"], [0.2222222222222222, \"#7201a8\"], [0.3333333333333333, \"#9c179e\"], [0.4444444444444444, \"#bd3786\"], [0.5555555555555556, \"#d8576b\"], [0.6666666666666666, \"#ed7953\"], [0.7777777777777778, \"#fb9f3a\"], [0.8888888888888888, \"#fdca26\"], [1.0, \"#f0f921\"]], \"type\": \"histogram2dcontour\"}], \"mesh3d\": [{\"colorbar\": {\"outlinewidth\": 0, \"ticks\": \"\"}, \"type\": \"mesh3d\"}], \"parcoords\": [{\"line\": {\"colorbar\": {\"outlinewidth\": 0, \"ticks\": \"\"}}, \"type\": \"parcoords\"}], \"pie\": [{\"automargin\": true, \"type\": \"pie\"}], \"scatter\": [{\"marker\": {\"colorbar\": {\"outlinewidth\": 0, \"ticks\": \"\"}}, \"type\": \"scatter\"}], \"scatter3d\": [{\"line\": {\"colorbar\": {\"outlinewidth\": 0, \"ticks\": \"\"}}, \"marker\": {\"colorbar\": {\"outlinewidth\": 0, \"ticks\": \"\"}}, \"type\": \"scatter3d\"}], \"scattercarpet\": [{\"marker\": {\"colorbar\": {\"outlinewidth\": 0, \"ticks\": \"\"}}, \"type\": \"scattercarpet\"}], \"scattergeo\": [{\"marker\": {\"colorbar\": {\"outlinewidth\": 0, \"ticks\": \"\"}}, \"type\": \"scattergeo\"}], \"scattergl\": [{\"marker\": {\"colorbar\": {\"outlinewidth\": 0, \"ticks\": \"\"}}, \"type\": \"scattergl\"}], \"scattermapbox\": [{\"marker\": {\"colorbar\": {\"outlinewidth\": 0, \"ticks\": \"\"}}, \"type\": \"scattermapbox\"}], \"scatterpolar\": [{\"marker\": {\"colorbar\": {\"outlinewidth\": 0, \"ticks\": \"\"}}, \"type\": \"scatterpolar\"}], \"scatterpolargl\": [{\"marker\": {\"colorbar\": {\"outlinewidth\": 0, \"ticks\": \"\"}}, \"type\": \"scatterpolargl\"}], \"scatterternary\": [{\"marker\": {\"colorbar\": {\"outlinewidth\": 0, \"ticks\": \"\"}}, \"type\": \"scatterternary\"}], \"surface\": [{\"colorbar\": {\"outlinewidth\": 0, \"ticks\": \"\"}, \"colorscale\": [[0.0, \"#0d0887\"], [0.1111111111111111, \"#46039f\"], [0.2222222222222222, \"#7201a8\"], [0.3333333333333333, \"#9c179e\"], [0.4444444444444444, \"#bd3786\"], [0.5555555555555556, \"#d8576b\"], [0.6666666666666666, \"#ed7953\"], [0.7777777777777778, \"#fb9f3a\"], [0.8888888888888888, \"#fdca26\"], [1.0, \"#f0f921\"]], \"type\": \"surface\"}], \"table\": [{\"cells\": {\"fill\": {\"color\": \"#EBF0F8\"}, \"line\": {\"color\": \"white\"}}, \"header\": {\"fill\": {\"color\": \"#C8D4E3\"}, \"line\": {\"color\": \"white\"}}, \"type\": \"table\"}]}, \"layout\": {\"annotationdefaults\": {\"arrowcolor\": \"#2a3f5f\", \"arrowhead\": 0, \"arrowwidth\": 1}, \"coloraxis\": {\"colorbar\": {\"outlinewidth\": 0, \"ticks\": \"\"}}, \"colorscale\": {\"diverging\": [[0, \"#8e0152\"], [0.1, \"#c51b7d\"], [0.2, \"#de77ae\"], [0.3, \"#f1b6da\"], [0.4, \"#fde0ef\"], [0.5, \"#f7f7f7\"], [0.6, \"#e6f5d0\"], [0.7, \"#b8e186\"], [0.8, \"#7fbc41\"], [0.9, \"#4d9221\"], [1, \"#276419\"]], \"sequential\": [[0.0, \"#0d0887\"], [0.1111111111111111, \"#46039f\"], [0.2222222222222222, \"#7201a8\"], [0.3333333333333333, \"#9c179e\"], [0.4444444444444444, \"#bd3786\"], [0.5555555555555556, \"#d8576b\"], [0.6666666666666666, \"#ed7953\"], [0.7777777777777778, \"#fb9f3a\"], [0.8888888888888888, \"#fdca26\"], [1.0, \"#f0f921\"]], \"sequentialminus\": [[0.0, \"#0d0887\"], [0.1111111111111111, \"#46039f\"], [0.2222222222222222, \"#7201a8\"], [0.3333333333333333, \"#9c179e\"], [0.4444444444444444, \"#bd3786\"], [0.5555555555555556, \"#d8576b\"], [0.6666666666666666, \"#ed7953\"], [0.7777777777777778, \"#fb9f3a\"], [0.8888888888888888, \"#fdca26\"], [1.0, \"#f0f921\"]]}, \"colorway\": [\"#636efa\", \"#EF553B\", \"#00cc96\", \"#ab63fa\", \"#FFA15A\", \"#19d3f3\", \"#FF6692\", \"#B6E880\", \"#FF97FF\", \"#FECB52\"], \"font\": {\"color\": \"#2a3f5f\"}, \"geo\": {\"bgcolor\": \"white\", \"lakecolor\": \"white\", \"landcolor\": \"#E5ECF6\", \"showlakes\": true, \"showland\": true, \"subunitcolor\": \"white\"}, \"hoverlabel\": {\"align\": \"left\"}, \"hovermode\": \"closest\", \"mapbox\": {\"style\": \"light\"}, \"paper_bgcolor\": \"white\", \"plot_bgcolor\": \"#E5ECF6\", \"polar\": {\"angularaxis\": {\"gridcolor\": \"white\", \"linecolor\": \"white\", \"ticks\": \"\"}, \"bgcolor\": \"#E5ECF6\", \"radialaxis\": {\"gridcolor\": \"white\", \"linecolor\": \"white\", \"ticks\": \"\"}}, \"scene\": {\"xaxis\": {\"backgroundcolor\": \"#E5ECF6\", \"gridcolor\": \"white\", \"gridwidth\": 2, \"linecolor\": \"white\", \"showbackground\": true, \"ticks\": \"\", \"zerolinecolor\": \"white\"}, \"yaxis\": {\"backgroundcolor\": \"#E5ECF6\", \"gridcolor\": \"white\", \"gridwidth\": 2, \"linecolor\": \"white\", \"showbackground\": true, \"ticks\": \"\", \"zerolinecolor\": \"white\"}, \"zaxis\": {\"backgroundcolor\": \"#E5ECF6\", \"gridcolor\": \"white\", \"gridwidth\": 2, \"linecolor\": \"white\", \"showbackground\": true, \"ticks\": \"\", \"zerolinecolor\": \"white\"}}, \"shapedefaults\": {\"line\": {\"color\": \"#2a3f5f\"}}, \"ternary\": {\"aaxis\": {\"gridcolor\": \"white\", \"linecolor\": \"white\", \"ticks\": \"\"}, \"baxis\": {\"gridcolor\": \"white\", \"linecolor\": \"white\", \"ticks\": \"\"}, \"bgcolor\": \"#E5ECF6\", \"caxis\": {\"gridcolor\": \"white\", \"linecolor\": \"white\", \"ticks\": \"\"}}, \"title\": {\"x\": 0.05}, \"xaxis\": {\"automargin\": true, \"gridcolor\": \"white\", \"linecolor\": \"white\", \"ticks\": \"\", \"title\": {\"standoff\": 15}, \"zerolinecolor\": \"white\", \"zerolinewidth\": 2}, \"yaxis\": {\"automargin\": true, \"gridcolor\": \"white\", \"linecolor\": \"white\", \"ticks\": \"\", \"title\": {\"standoff\": 15}, \"zerolinecolor\": \"white\", \"zerolinewidth\": 2}}}, \"title\": {\"font\": {\"color\": \"#4D5663\"}, \"text\": \" Minimum polluted cities( Vehicular Pollution content )\"}, \"xaxis\": {\"gridcolor\": \"#E1E5ED\", \"linecolor\": \"black\", \"showgrid\": true, \"tickfont\": {\"color\": \"#4D5663\"}, \"title\": {\"font\": {\"color\": \"#4D5663\"}, \"text\": \"Vehicular Pollution content\"}, \"zerolinecolor\": \"#E1E5ED\"}, \"yaxis\": {\"gridcolor\": \"#E1E5ED\", \"linecolor\": \"black\", \"showgrid\": true, \"tickfont\": {\"color\": \"#4D5663\"}, \"title\": {\"font\": {\"color\": \"#4D5663\"}, \"text\": \"Cities\"}, \"zerolinecolor\": \"#E1E5ED\"}},\n",
       "                        {\"showLink\": true, \"linkText\": \"Export to plot.ly\", \"plotlyServerURL\": \"https://plot.ly\", \"responsive\": true}\n",
       "                    ).then(function(){\n",
       "                            \n",
       "var gd = document.getElementById('2306dd53-50a0-46f5-90d0-928160a53d6d');\n",
       "var x = new MutationObserver(function (mutations, observer) {{\n",
       "        var display = window.getComputedStyle(gd).display;\n",
       "        if (!display || display === 'none') {{\n",
       "            console.log([gd, 'removed!']);\n",
       "            Plotly.purge(gd);\n",
       "            observer.disconnect();\n",
       "        }}\n",
       "}});\n",
       "\n",
       "// Listen for the removal of the full notebook cells\n",
       "var notebookContainer = gd.closest('#notebook-container');\n",
       "if (notebookContainer) {{\n",
       "    x.observe(notebookContainer, {childList: true});\n",
       "}}\n",
       "\n",
       "// Listen for the clearing of the current output cell\n",
       "var outputEl = gd.closest('.output');\n",
       "if (outputEl) {{\n",
       "    x.observe(outputEl, {childList: true});\n",
       "}}\n",
       "\n",
       "                        })\n",
       "                };\n",
       "                });\n",
       "            </script>\n",
       "        </div>"
      ]
     },
     "metadata": {},
     "output_type": "display_data"
    }
   ],
   "source": [
    "def min_bar_plot(var):\n",
    "    x1 = df[['City',var]].groupby([\"City\"]).mean().sort_values(by = var,\n",
    "    ascending = True).head(10).iplot(kind='bar', yTitle='Cities',xTitle=var, linecolor='black',title='{2} {1} {0}'.format(\")\",var,' Minimum polluted cities('))\n",
    "p1 = min_bar_plot('Industrial Pollution content')\n",
    "p2 = min_bar_plot('Vehicular Pollution content')"
   ]
  },
  {
   "cell_type": "code",
   "execution_count": 15,
   "metadata": {
    "execution": {
     "iopub.execute_input": "2020-10-30T04:22:50.459080Z",
     "iopub.status.busy": "2020-10-30T04:22:50.458290Z",
     "iopub.status.idle": "2020-10-30T04:22:50.538716Z",
     "shell.execute_reply": "2020-10-30T04:22:50.539252Z"
    },
    "papermill": {
     "duration": 0.448984,
     "end_time": "2020-10-30T04:22:50.539401",
     "exception": false,
     "start_time": "2020-10-30T04:22:50.090417",
     "status": "completed"
    },
    "tags": []
   },
   "outputs": [
    {
     "data": {
      "application/vnd.plotly.v1+json": {
       "config": {
        "linkText": "Export to plot.ly",
        "plotlyServerURL": "https://plot.ly",
        "showLink": true
       },
       "data": [
        {
         "marker": {
          "color": "rgba(255, 153, 51, 0.6)",
          "line": {
           "color": "rgba(255, 153, 51, 1.0)",
           "width": 1
          }
         },
         "name": "Ahmedabad",
         "orientation": "v",
         "text": "",
         "type": "bar",
         "x": [
          "Moderate",
          "Satisfactory",
          "Good"
         ],
         "y": [
          63,
          37,
          ""
         ]
        },
        {
         "marker": {
          "color": "rgba(55, 128, 191, 0.6)",
          "line": {
           "color": "rgba(55, 128, 191, 1.0)",
           "width": 1
          }
         },
         "name": "Delhi",
         "orientation": "v",
         "text": "",
         "type": "bar",
         "x": [
          "Moderate",
          "Satisfactory",
          "Good"
         ],
         "y": [
          73,
          27,
          ""
         ]
        },
        {
         "marker": {
          "color": "rgba(50, 171, 96, 0.6)",
          "line": {
           "color": "rgba(50, 171, 96, 1.0)",
           "width": 1
          }
         },
         "name": "Kolkata",
         "orientation": "v",
         "text": "",
         "type": "bar",
         "x": [
          "Moderate",
          "Satisfactory",
          "Good"
         ],
         "y": [
          7,
          73,
          20
         ]
        },
        {
         "marker": {
          "color": "rgba(128, 0, 128, 0.6)",
          "line": {
           "color": "rgba(128, 0, 128, 1.0)",
           "width": 1
          }
         },
         "name": "Mumbai",
         "orientation": "v",
         "text": "",
         "type": "bar",
         "x": [
          "Moderate",
          "Satisfactory",
          "Good"
         ],
         "y": [
          "",
          100,
          ""
         ]
        },
        {
         "marker": {
          "color": "rgba(219, 64, 82, 0.6)",
          "line": {
           "color": "rgba(219, 64, 82, 1.0)",
           "width": 1
          }
         },
         "name": "Bengaluru",
         "orientation": "v",
         "text": "",
         "type": "bar",
         "x": [
          "Moderate",
          "Satisfactory",
          "Good"
         ],
         "y": [
          "",
          100,
          ""
         ]
        }
       ],
       "layout": {
        "legend": {
         "bgcolor": "#F5F6F9",
         "font": {
          "color": "#4D5663"
         }
        },
        "paper_bgcolor": "#F5F6F9",
        "plot_bgcolor": "#F5F6F9",
        "template": {
         "data": {
          "bar": [
           {
            "error_x": {
             "color": "#2a3f5f"
            },
            "error_y": {
             "color": "#2a3f5f"
            },
            "marker": {
             "line": {
              "color": "#E5ECF6",
              "width": 0.5
             }
            },
            "type": "bar"
           }
          ],
          "barpolar": [
           {
            "marker": {
             "line": {
              "color": "#E5ECF6",
              "width": 0.5
             }
            },
            "type": "barpolar"
           }
          ],
          "carpet": [
           {
            "aaxis": {
             "endlinecolor": "#2a3f5f",
             "gridcolor": "white",
             "linecolor": "white",
             "minorgridcolor": "white",
             "startlinecolor": "#2a3f5f"
            },
            "baxis": {
             "endlinecolor": "#2a3f5f",
             "gridcolor": "white",
             "linecolor": "white",
             "minorgridcolor": "white",
             "startlinecolor": "#2a3f5f"
            },
            "type": "carpet"
           }
          ],
          "choropleth": [
           {
            "colorbar": {
             "outlinewidth": 0,
             "ticks": ""
            },
            "type": "choropleth"
           }
          ],
          "contour": [
           {
            "colorbar": {
             "outlinewidth": 0,
             "ticks": ""
            },
            "colorscale": [
             [
              0,
              "#0d0887"
             ],
             [
              0.1111111111111111,
              "#46039f"
             ],
             [
              0.2222222222222222,
              "#7201a8"
             ],
             [
              0.3333333333333333,
              "#9c179e"
             ],
             [
              0.4444444444444444,
              "#bd3786"
             ],
             [
              0.5555555555555556,
              "#d8576b"
             ],
             [
              0.6666666666666666,
              "#ed7953"
             ],
             [
              0.7777777777777778,
              "#fb9f3a"
             ],
             [
              0.8888888888888888,
              "#fdca26"
             ],
             [
              1,
              "#f0f921"
             ]
            ],
            "type": "contour"
           }
          ],
          "contourcarpet": [
           {
            "colorbar": {
             "outlinewidth": 0,
             "ticks": ""
            },
            "type": "contourcarpet"
           }
          ],
          "heatmap": [
           {
            "colorbar": {
             "outlinewidth": 0,
             "ticks": ""
            },
            "colorscale": [
             [
              0,
              "#0d0887"
             ],
             [
              0.1111111111111111,
              "#46039f"
             ],
             [
              0.2222222222222222,
              "#7201a8"
             ],
             [
              0.3333333333333333,
              "#9c179e"
             ],
             [
              0.4444444444444444,
              "#bd3786"
             ],
             [
              0.5555555555555556,
              "#d8576b"
             ],
             [
              0.6666666666666666,
              "#ed7953"
             ],
             [
              0.7777777777777778,
              "#fb9f3a"
             ],
             [
              0.8888888888888888,
              "#fdca26"
             ],
             [
              1,
              "#f0f921"
             ]
            ],
            "type": "heatmap"
           }
          ],
          "heatmapgl": [
           {
            "colorbar": {
             "outlinewidth": 0,
             "ticks": ""
            },
            "colorscale": [
             [
              0,
              "#0d0887"
             ],
             [
              0.1111111111111111,
              "#46039f"
             ],
             [
              0.2222222222222222,
              "#7201a8"
             ],
             [
              0.3333333333333333,
              "#9c179e"
             ],
             [
              0.4444444444444444,
              "#bd3786"
             ],
             [
              0.5555555555555556,
              "#d8576b"
             ],
             [
              0.6666666666666666,
              "#ed7953"
             ],
             [
              0.7777777777777778,
              "#fb9f3a"
             ],
             [
              0.8888888888888888,
              "#fdca26"
             ],
             [
              1,
              "#f0f921"
             ]
            ],
            "type": "heatmapgl"
           }
          ],
          "histogram": [
           {
            "marker": {
             "colorbar": {
              "outlinewidth": 0,
              "ticks": ""
             }
            },
            "type": "histogram"
           }
          ],
          "histogram2d": [
           {
            "colorbar": {
             "outlinewidth": 0,
             "ticks": ""
            },
            "colorscale": [
             [
              0,
              "#0d0887"
             ],
             [
              0.1111111111111111,
              "#46039f"
             ],
             [
              0.2222222222222222,
              "#7201a8"
             ],
             [
              0.3333333333333333,
              "#9c179e"
             ],
             [
              0.4444444444444444,
              "#bd3786"
             ],
             [
              0.5555555555555556,
              "#d8576b"
             ],
             [
              0.6666666666666666,
              "#ed7953"
             ],
             [
              0.7777777777777778,
              "#fb9f3a"
             ],
             [
              0.8888888888888888,
              "#fdca26"
             ],
             [
              1,
              "#f0f921"
             ]
            ],
            "type": "histogram2d"
           }
          ],
          "histogram2dcontour": [
           {
            "colorbar": {
             "outlinewidth": 0,
             "ticks": ""
            },
            "colorscale": [
             [
              0,
              "#0d0887"
             ],
             [
              0.1111111111111111,
              "#46039f"
             ],
             [
              0.2222222222222222,
              "#7201a8"
             ],
             [
              0.3333333333333333,
              "#9c179e"
             ],
             [
              0.4444444444444444,
              "#bd3786"
             ],
             [
              0.5555555555555556,
              "#d8576b"
             ],
             [
              0.6666666666666666,
              "#ed7953"
             ],
             [
              0.7777777777777778,
              "#fb9f3a"
             ],
             [
              0.8888888888888888,
              "#fdca26"
             ],
             [
              1,
              "#f0f921"
             ]
            ],
            "type": "histogram2dcontour"
           }
          ],
          "mesh3d": [
           {
            "colorbar": {
             "outlinewidth": 0,
             "ticks": ""
            },
            "type": "mesh3d"
           }
          ],
          "parcoords": [
           {
            "line": {
             "colorbar": {
              "outlinewidth": 0,
              "ticks": ""
             }
            },
            "type": "parcoords"
           }
          ],
          "pie": [
           {
            "automargin": true,
            "type": "pie"
           }
          ],
          "scatter": [
           {
            "marker": {
             "colorbar": {
              "outlinewidth": 0,
              "ticks": ""
             }
            },
            "type": "scatter"
           }
          ],
          "scatter3d": [
           {
            "line": {
             "colorbar": {
              "outlinewidth": 0,
              "ticks": ""
             }
            },
            "marker": {
             "colorbar": {
              "outlinewidth": 0,
              "ticks": ""
             }
            },
            "type": "scatter3d"
           }
          ],
          "scattercarpet": [
           {
            "marker": {
             "colorbar": {
              "outlinewidth": 0,
              "ticks": ""
             }
            },
            "type": "scattercarpet"
           }
          ],
          "scattergeo": [
           {
            "marker": {
             "colorbar": {
              "outlinewidth": 0,
              "ticks": ""
             }
            },
            "type": "scattergeo"
           }
          ],
          "scattergl": [
           {
            "marker": {
             "colorbar": {
              "outlinewidth": 0,
              "ticks": ""
             }
            },
            "type": "scattergl"
           }
          ],
          "scattermapbox": [
           {
            "marker": {
             "colorbar": {
              "outlinewidth": 0,
              "ticks": ""
             }
            },
            "type": "scattermapbox"
           }
          ],
          "scatterpolar": [
           {
            "marker": {
             "colorbar": {
              "outlinewidth": 0,
              "ticks": ""
             }
            },
            "type": "scatterpolar"
           }
          ],
          "scatterpolargl": [
           {
            "marker": {
             "colorbar": {
              "outlinewidth": 0,
              "ticks": ""
             }
            },
            "type": "scatterpolargl"
           }
          ],
          "scatterternary": [
           {
            "marker": {
             "colorbar": {
              "outlinewidth": 0,
              "ticks": ""
             }
            },
            "type": "scatterternary"
           }
          ],
          "surface": [
           {
            "colorbar": {
             "outlinewidth": 0,
             "ticks": ""
            },
            "colorscale": [
             [
              0,
              "#0d0887"
             ],
             [
              0.1111111111111111,
              "#46039f"
             ],
             [
              0.2222222222222222,
              "#7201a8"
             ],
             [
              0.3333333333333333,
              "#9c179e"
             ],
             [
              0.4444444444444444,
              "#bd3786"
             ],
             [
              0.5555555555555556,
              "#d8576b"
             ],
             [
              0.6666666666666666,
              "#ed7953"
             ],
             [
              0.7777777777777778,
              "#fb9f3a"
             ],
             [
              0.8888888888888888,
              "#fdca26"
             ],
             [
              1,
              "#f0f921"
             ]
            ],
            "type": "surface"
           }
          ],
          "table": [
           {
            "cells": {
             "fill": {
              "color": "#EBF0F8"
             },
             "line": {
              "color": "white"
             }
            },
            "header": {
             "fill": {
              "color": "#C8D4E3"
             },
             "line": {
              "color": "white"
             }
            },
            "type": "table"
           }
          ]
         },
         "layout": {
          "annotationdefaults": {
           "arrowcolor": "#2a3f5f",
           "arrowhead": 0,
           "arrowwidth": 1
          },
          "coloraxis": {
           "colorbar": {
            "outlinewidth": 0,
            "ticks": ""
           }
          },
          "colorscale": {
           "diverging": [
            [
             0,
             "#8e0152"
            ],
            [
             0.1,
             "#c51b7d"
            ],
            [
             0.2,
             "#de77ae"
            ],
            [
             0.3,
             "#f1b6da"
            ],
            [
             0.4,
             "#fde0ef"
            ],
            [
             0.5,
             "#f7f7f7"
            ],
            [
             0.6,
             "#e6f5d0"
            ],
            [
             0.7,
             "#b8e186"
            ],
            [
             0.8,
             "#7fbc41"
            ],
            [
             0.9,
             "#4d9221"
            ],
            [
             1,
             "#276419"
            ]
           ],
           "sequential": [
            [
             0,
             "#0d0887"
            ],
            [
             0.1111111111111111,
             "#46039f"
            ],
            [
             0.2222222222222222,
             "#7201a8"
            ],
            [
             0.3333333333333333,
             "#9c179e"
            ],
            [
             0.4444444444444444,
             "#bd3786"
            ],
            [
             0.5555555555555556,
             "#d8576b"
            ],
            [
             0.6666666666666666,
             "#ed7953"
            ],
            [
             0.7777777777777778,
             "#fb9f3a"
            ],
            [
             0.8888888888888888,
             "#fdca26"
            ],
            [
             1,
             "#f0f921"
            ]
           ],
           "sequentialminus": [
            [
             0,
             "#0d0887"
            ],
            [
             0.1111111111111111,
             "#46039f"
            ],
            [
             0.2222222222222222,
             "#7201a8"
            ],
            [
             0.3333333333333333,
             "#9c179e"
            ],
            [
             0.4444444444444444,
             "#bd3786"
            ],
            [
             0.5555555555555556,
             "#d8576b"
            ],
            [
             0.6666666666666666,
             "#ed7953"
            ],
            [
             0.7777777777777778,
             "#fb9f3a"
            ],
            [
             0.8888888888888888,
             "#fdca26"
            ],
            [
             1,
             "#f0f921"
            ]
           ]
          },
          "colorway": [
           "#636efa",
           "#EF553B",
           "#00cc96",
           "#ab63fa",
           "#FFA15A",
           "#19d3f3",
           "#FF6692",
           "#B6E880",
           "#FF97FF",
           "#FECB52"
          ],
          "font": {
           "color": "#2a3f5f"
          },
          "geo": {
           "bgcolor": "white",
           "lakecolor": "white",
           "landcolor": "#E5ECF6",
           "showlakes": true,
           "showland": true,
           "subunitcolor": "white"
          },
          "hoverlabel": {
           "align": "left"
          },
          "hovermode": "closest",
          "mapbox": {
           "style": "light"
          },
          "paper_bgcolor": "white",
          "plot_bgcolor": "#E5ECF6",
          "polar": {
           "angularaxis": {
            "gridcolor": "white",
            "linecolor": "white",
            "ticks": ""
           },
           "bgcolor": "#E5ECF6",
           "radialaxis": {
            "gridcolor": "white",
            "linecolor": "white",
            "ticks": ""
           }
          },
          "scene": {
           "xaxis": {
            "backgroundcolor": "#E5ECF6",
            "gridcolor": "white",
            "gridwidth": 2,
            "linecolor": "white",
            "showbackground": true,
            "ticks": "",
            "zerolinecolor": "white"
           },
           "yaxis": {
            "backgroundcolor": "#E5ECF6",
            "gridcolor": "white",
            "gridwidth": 2,
            "linecolor": "white",
            "showbackground": true,
            "ticks": "",
            "zerolinecolor": "white"
           },
           "zaxis": {
            "backgroundcolor": "#E5ECF6",
            "gridcolor": "white",
            "gridwidth": 2,
            "linecolor": "white",
            "showbackground": true,
            "ticks": "",
            "zerolinecolor": "white"
           }
          },
          "shapedefaults": {
           "line": {
            "color": "#2a3f5f"
           }
          },
          "ternary": {
           "aaxis": {
            "gridcolor": "white",
            "linecolor": "white",
            "ticks": ""
           },
           "baxis": {
            "gridcolor": "white",
            "linecolor": "white",
            "ticks": ""
           },
           "bgcolor": "#E5ECF6",
           "caxis": {
            "gridcolor": "white",
            "linecolor": "white",
            "ticks": ""
           }
          },
          "title": {
           "x": 0.05
          },
          "xaxis": {
           "automargin": true,
           "gridcolor": "white",
           "linecolor": "white",
           "ticks": "",
           "title": {
            "standoff": 15
           },
           "zerolinecolor": "white",
           "zerolinewidth": 2
          },
          "yaxis": {
           "automargin": true,
           "gridcolor": "white",
           "linecolor": "white",
           "ticks": "",
           "title": {
            "standoff": 15
           },
           "zerolinecolor": "white",
           "zerolinewidth": 2
          }
         }
        },
        "title": {
         "font": {
          "color": "#4D5663"
         },
         "text": "Satisfaction level of people(Post COVID19)"
        },
        "xaxis": {
         "gridcolor": "#E1E5ED",
         "linecolor": "black",
         "showgrid": true,
         "tickfont": {
          "color": "#4D5663"
         },
         "title": {
          "font": {
           "color": "#4D5663"
          },
          "text": "Satisfaction level"
         },
         "zerolinecolor": "#E1E5ED"
        },
        "yaxis": {
         "gridcolor": "#E1E5ED",
         "linecolor": "black",
         "showgrid": true,
         "tickfont": {
          "color": "#4D5663"
         },
         "title": {
          "font": {
           "color": "#4D5663"
          },
          "text": "percentage of satisfaction"
         },
         "zerolinecolor": "#E1E5ED"
        }
       }
      },
      "text/html": [
       "<div>\n",
       "        \n",
       "        \n",
       "            <div id=\"87bfd120-48bd-45d0-a2bd-991e12425724\" class=\"plotly-graph-div\" style=\"height:525px; width:100%;\"></div>\n",
       "            <script type=\"text/javascript\">\n",
       "                require([\"plotly\"], function(Plotly) {\n",
       "                    window.PLOTLYENV=window.PLOTLYENV || {};\n",
       "                    window.PLOTLYENV.BASE_URL='https://plot.ly';\n",
       "                    \n",
       "                if (document.getElementById(\"87bfd120-48bd-45d0-a2bd-991e12425724\")) {\n",
       "                    Plotly.newPlot(\n",
       "                        '87bfd120-48bd-45d0-a2bd-991e12425724',\n",
       "                        [{\"marker\": {\"color\": \"rgba(255, 153, 51, 0.6)\", \"line\": {\"color\": \"rgba(255, 153, 51, 1.0)\", \"width\": 1}}, \"name\": \"Ahmedabad\", \"orientation\": \"v\", \"text\": \"\", \"type\": \"bar\", \"x\": [\"Moderate\", \"Satisfactory\", \"Good\"], \"y\": [63.0, 37.0, \"\"]}, {\"marker\": {\"color\": \"rgba(55, 128, 191, 0.6)\", \"line\": {\"color\": \"rgba(55, 128, 191, 1.0)\", \"width\": 1}}, \"name\": \"Delhi\", \"orientation\": \"v\", \"text\": \"\", \"type\": \"bar\", \"x\": [\"Moderate\", \"Satisfactory\", \"Good\"], \"y\": [73.0, 27.0, \"\"]}, {\"marker\": {\"color\": \"rgba(50, 171, 96, 0.6)\", \"line\": {\"color\": \"rgba(50, 171, 96, 1.0)\", \"width\": 1}}, \"name\": \"Kolkata\", \"orientation\": \"v\", \"text\": \"\", \"type\": \"bar\", \"x\": [\"Moderate\", \"Satisfactory\", \"Good\"], \"y\": [7.0, 73.0, 20.0]}, {\"marker\": {\"color\": \"rgba(128, 0, 128, 0.6)\", \"line\": {\"color\": \"rgba(128, 0, 128, 1.0)\", \"width\": 1}}, \"name\": \"Mumbai\", \"orientation\": \"v\", \"text\": \"\", \"type\": \"bar\", \"x\": [\"Moderate\", \"Satisfactory\", \"Good\"], \"y\": [\"\", 100.0, \"\"]}, {\"marker\": {\"color\": \"rgba(219, 64, 82, 0.6)\", \"line\": {\"color\": \"rgba(219, 64, 82, 1.0)\", \"width\": 1}}, \"name\": \"Bengaluru\", \"orientation\": \"v\", \"text\": \"\", \"type\": \"bar\", \"x\": [\"Moderate\", \"Satisfactory\", \"Good\"], \"y\": [\"\", 100.0, \"\"]}],\n",
       "                        {\"legend\": {\"bgcolor\": \"#F5F6F9\", \"font\": {\"color\": \"#4D5663\"}}, \"paper_bgcolor\": \"#F5F6F9\", \"plot_bgcolor\": \"#F5F6F9\", \"template\": {\"data\": {\"bar\": [{\"error_x\": {\"color\": \"#2a3f5f\"}, \"error_y\": {\"color\": \"#2a3f5f\"}, \"marker\": {\"line\": {\"color\": \"#E5ECF6\", \"width\": 0.5}}, \"type\": \"bar\"}], \"barpolar\": [{\"marker\": {\"line\": {\"color\": \"#E5ECF6\", \"width\": 0.5}}, \"type\": \"barpolar\"}], \"carpet\": [{\"aaxis\": {\"endlinecolor\": \"#2a3f5f\", \"gridcolor\": \"white\", \"linecolor\": \"white\", \"minorgridcolor\": \"white\", \"startlinecolor\": \"#2a3f5f\"}, \"baxis\": {\"endlinecolor\": \"#2a3f5f\", \"gridcolor\": \"white\", \"linecolor\": \"white\", \"minorgridcolor\": \"white\", \"startlinecolor\": \"#2a3f5f\"}, \"type\": \"carpet\"}], \"choropleth\": [{\"colorbar\": {\"outlinewidth\": 0, \"ticks\": \"\"}, \"type\": \"choropleth\"}], \"contour\": [{\"colorbar\": {\"outlinewidth\": 0, \"ticks\": \"\"}, \"colorscale\": [[0.0, \"#0d0887\"], [0.1111111111111111, \"#46039f\"], [0.2222222222222222, \"#7201a8\"], [0.3333333333333333, \"#9c179e\"], [0.4444444444444444, \"#bd3786\"], [0.5555555555555556, \"#d8576b\"], [0.6666666666666666, \"#ed7953\"], [0.7777777777777778, \"#fb9f3a\"], [0.8888888888888888, \"#fdca26\"], [1.0, \"#f0f921\"]], \"type\": \"contour\"}], \"contourcarpet\": [{\"colorbar\": {\"outlinewidth\": 0, \"ticks\": \"\"}, \"type\": \"contourcarpet\"}], \"heatmap\": [{\"colorbar\": {\"outlinewidth\": 0, \"ticks\": \"\"}, \"colorscale\": [[0.0, \"#0d0887\"], [0.1111111111111111, \"#46039f\"], [0.2222222222222222, \"#7201a8\"], [0.3333333333333333, \"#9c179e\"], [0.4444444444444444, \"#bd3786\"], [0.5555555555555556, \"#d8576b\"], [0.6666666666666666, \"#ed7953\"], [0.7777777777777778, \"#fb9f3a\"], [0.8888888888888888, \"#fdca26\"], [1.0, \"#f0f921\"]], \"type\": \"heatmap\"}], \"heatmapgl\": [{\"colorbar\": {\"outlinewidth\": 0, \"ticks\": \"\"}, \"colorscale\": [[0.0, \"#0d0887\"], [0.1111111111111111, \"#46039f\"], [0.2222222222222222, \"#7201a8\"], [0.3333333333333333, \"#9c179e\"], [0.4444444444444444, \"#bd3786\"], [0.5555555555555556, \"#d8576b\"], [0.6666666666666666, \"#ed7953\"], [0.7777777777777778, \"#fb9f3a\"], [0.8888888888888888, \"#fdca26\"], [1.0, \"#f0f921\"]], \"type\": \"heatmapgl\"}], \"histogram\": [{\"marker\": {\"colorbar\": {\"outlinewidth\": 0, \"ticks\": \"\"}}, \"type\": \"histogram\"}], \"histogram2d\": [{\"colorbar\": {\"outlinewidth\": 0, \"ticks\": \"\"}, \"colorscale\": [[0.0, \"#0d0887\"], [0.1111111111111111, \"#46039f\"], [0.2222222222222222, \"#7201a8\"], [0.3333333333333333, \"#9c179e\"], [0.4444444444444444, \"#bd3786\"], [0.5555555555555556, \"#d8576b\"], [0.6666666666666666, \"#ed7953\"], [0.7777777777777778, \"#fb9f3a\"], [0.8888888888888888, \"#fdca26\"], [1.0, \"#f0f921\"]], \"type\": \"histogram2d\"}], \"histogram2dcontour\": [{\"colorbar\": {\"outlinewidth\": 0, \"ticks\": \"\"}, \"colorscale\": [[0.0, \"#0d0887\"], [0.1111111111111111, \"#46039f\"], [0.2222222222222222, \"#7201a8\"], [0.3333333333333333, \"#9c179e\"], [0.4444444444444444, \"#bd3786\"], [0.5555555555555556, \"#d8576b\"], [0.6666666666666666, \"#ed7953\"], [0.7777777777777778, \"#fb9f3a\"], [0.8888888888888888, \"#fdca26\"], [1.0, \"#f0f921\"]], \"type\": \"histogram2dcontour\"}], \"mesh3d\": [{\"colorbar\": {\"outlinewidth\": 0, \"ticks\": \"\"}, \"type\": \"mesh3d\"}], \"parcoords\": [{\"line\": {\"colorbar\": {\"outlinewidth\": 0, \"ticks\": \"\"}}, \"type\": \"parcoords\"}], \"pie\": [{\"automargin\": true, \"type\": \"pie\"}], \"scatter\": [{\"marker\": {\"colorbar\": {\"outlinewidth\": 0, \"ticks\": \"\"}}, \"type\": \"scatter\"}], \"scatter3d\": [{\"line\": {\"colorbar\": {\"outlinewidth\": 0, \"ticks\": \"\"}}, \"marker\": {\"colorbar\": {\"outlinewidth\": 0, \"ticks\": \"\"}}, \"type\": \"scatter3d\"}], \"scattercarpet\": [{\"marker\": {\"colorbar\": {\"outlinewidth\": 0, \"ticks\": \"\"}}, \"type\": \"scattercarpet\"}], \"scattergeo\": [{\"marker\": {\"colorbar\": {\"outlinewidth\": 0, \"ticks\": \"\"}}, \"type\": \"scattergeo\"}], \"scattergl\": [{\"marker\": {\"colorbar\": {\"outlinewidth\": 0, \"ticks\": \"\"}}, \"type\": \"scattergl\"}], \"scattermapbox\": [{\"marker\": {\"colorbar\": {\"outlinewidth\": 0, \"ticks\": \"\"}}, \"type\": \"scattermapbox\"}], \"scatterpolar\": [{\"marker\": {\"colorbar\": {\"outlinewidth\": 0, \"ticks\": \"\"}}, \"type\": \"scatterpolar\"}], \"scatterpolargl\": [{\"marker\": {\"colorbar\": {\"outlinewidth\": 0, \"ticks\": \"\"}}, \"type\": \"scatterpolargl\"}], \"scatterternary\": [{\"marker\": {\"colorbar\": {\"outlinewidth\": 0, \"ticks\": \"\"}}, \"type\": \"scatterternary\"}], \"surface\": [{\"colorbar\": {\"outlinewidth\": 0, \"ticks\": \"\"}, \"colorscale\": [[0.0, \"#0d0887\"], [0.1111111111111111, \"#46039f\"], [0.2222222222222222, \"#7201a8\"], [0.3333333333333333, \"#9c179e\"], [0.4444444444444444, \"#bd3786\"], [0.5555555555555556, \"#d8576b\"], [0.6666666666666666, \"#ed7953\"], [0.7777777777777778, \"#fb9f3a\"], [0.8888888888888888, \"#fdca26\"], [1.0, \"#f0f921\"]], \"type\": \"surface\"}], \"table\": [{\"cells\": {\"fill\": {\"color\": \"#EBF0F8\"}, \"line\": {\"color\": \"white\"}}, \"header\": {\"fill\": {\"color\": \"#C8D4E3\"}, \"line\": {\"color\": \"white\"}}, \"type\": \"table\"}]}, \"layout\": {\"annotationdefaults\": {\"arrowcolor\": \"#2a3f5f\", \"arrowhead\": 0, \"arrowwidth\": 1}, \"coloraxis\": {\"colorbar\": {\"outlinewidth\": 0, \"ticks\": \"\"}}, \"colorscale\": {\"diverging\": [[0, \"#8e0152\"], [0.1, \"#c51b7d\"], [0.2, \"#de77ae\"], [0.3, \"#f1b6da\"], [0.4, \"#fde0ef\"], [0.5, \"#f7f7f7\"], [0.6, \"#e6f5d0\"], [0.7, \"#b8e186\"], [0.8, \"#7fbc41\"], [0.9, \"#4d9221\"], [1, \"#276419\"]], \"sequential\": [[0.0, \"#0d0887\"], [0.1111111111111111, \"#46039f\"], [0.2222222222222222, \"#7201a8\"], [0.3333333333333333, \"#9c179e\"], [0.4444444444444444, \"#bd3786\"], [0.5555555555555556, \"#d8576b\"], [0.6666666666666666, \"#ed7953\"], [0.7777777777777778, \"#fb9f3a\"], [0.8888888888888888, \"#fdca26\"], [1.0, \"#f0f921\"]], \"sequentialminus\": [[0.0, \"#0d0887\"], [0.1111111111111111, \"#46039f\"], [0.2222222222222222, \"#7201a8\"], [0.3333333333333333, \"#9c179e\"], [0.4444444444444444, \"#bd3786\"], [0.5555555555555556, \"#d8576b\"], [0.6666666666666666, \"#ed7953\"], [0.7777777777777778, \"#fb9f3a\"], [0.8888888888888888, \"#fdca26\"], [1.0, \"#f0f921\"]]}, \"colorway\": [\"#636efa\", \"#EF553B\", \"#00cc96\", \"#ab63fa\", \"#FFA15A\", \"#19d3f3\", \"#FF6692\", \"#B6E880\", \"#FF97FF\", \"#FECB52\"], \"font\": {\"color\": \"#2a3f5f\"}, \"geo\": {\"bgcolor\": \"white\", \"lakecolor\": \"white\", \"landcolor\": \"#E5ECF6\", \"showlakes\": true, \"showland\": true, \"subunitcolor\": \"white\"}, \"hoverlabel\": {\"align\": \"left\"}, \"hovermode\": \"closest\", \"mapbox\": {\"style\": \"light\"}, \"paper_bgcolor\": \"white\", \"plot_bgcolor\": \"#E5ECF6\", \"polar\": {\"angularaxis\": {\"gridcolor\": \"white\", \"linecolor\": \"white\", \"ticks\": \"\"}, \"bgcolor\": \"#E5ECF6\", \"radialaxis\": {\"gridcolor\": \"white\", \"linecolor\": \"white\", \"ticks\": \"\"}}, \"scene\": {\"xaxis\": {\"backgroundcolor\": \"#E5ECF6\", \"gridcolor\": \"white\", \"gridwidth\": 2, \"linecolor\": \"white\", \"showbackground\": true, \"ticks\": \"\", \"zerolinecolor\": \"white\"}, \"yaxis\": {\"backgroundcolor\": \"#E5ECF6\", \"gridcolor\": \"white\", \"gridwidth\": 2, \"linecolor\": \"white\", \"showbackground\": true, \"ticks\": \"\", \"zerolinecolor\": \"white\"}, \"zaxis\": {\"backgroundcolor\": \"#E5ECF6\", \"gridcolor\": \"white\", \"gridwidth\": 2, \"linecolor\": \"white\", \"showbackground\": true, \"ticks\": \"\", \"zerolinecolor\": \"white\"}}, \"shapedefaults\": {\"line\": {\"color\": \"#2a3f5f\"}}, \"ternary\": {\"aaxis\": {\"gridcolor\": \"white\", \"linecolor\": \"white\", \"ticks\": \"\"}, \"baxis\": {\"gridcolor\": \"white\", \"linecolor\": \"white\", \"ticks\": \"\"}, \"bgcolor\": \"#E5ECF6\", \"caxis\": {\"gridcolor\": \"white\", \"linecolor\": \"white\", \"ticks\": \"\"}}, \"title\": {\"x\": 0.05}, \"xaxis\": {\"automargin\": true, \"gridcolor\": \"white\", \"linecolor\": \"white\", \"ticks\": \"\", \"title\": {\"standoff\": 15}, \"zerolinecolor\": \"white\", \"zerolinewidth\": 2}, \"yaxis\": {\"automargin\": true, \"gridcolor\": \"white\", \"linecolor\": \"white\", \"ticks\": \"\", \"title\": {\"standoff\": 15}, \"zerolinecolor\": \"white\", \"zerolinewidth\": 2}}}, \"title\": {\"font\": {\"color\": \"#4D5663\"}, \"text\": \"Satisfaction level of people(Post COVID19)\"}, \"xaxis\": {\"gridcolor\": \"#E1E5ED\", \"linecolor\": \"black\", \"showgrid\": true, \"tickfont\": {\"color\": \"#4D5663\"}, \"title\": {\"font\": {\"color\": \"#4D5663\"}, \"text\": \"Satisfaction level\"}, \"zerolinecolor\": \"#E1E5ED\"}, \"yaxis\": {\"gridcolor\": \"#E1E5ED\", \"linecolor\": \"black\", \"showgrid\": true, \"tickfont\": {\"color\": \"#4D5663\"}, \"title\": {\"font\": {\"color\": \"#4D5663\"}, \"text\": \"percentage of satisfaction\"}, \"zerolinecolor\": \"#E1E5ED\"}},\n",
       "                        {\"showLink\": true, \"linkText\": \"Export to plot.ly\", \"plotlyServerURL\": \"https://plot.ly\", \"responsive\": true}\n",
       "                    ).then(function(){\n",
       "                            \n",
       "var gd = document.getElementById('87bfd120-48bd-45d0-a2bd-991e12425724');\n",
       "var x = new MutationObserver(function (mutations, observer) {{\n",
       "        var display = window.getComputedStyle(gd).display;\n",
       "        if (!display || display === 'none') {{\n",
       "            console.log([gd, 'removed!']);\n",
       "            Plotly.purge(gd);\n",
       "            observer.disconnect();\n",
       "        }}\n",
       "}});\n",
       "\n",
       "// Listen for the removal of the full notebook cells\n",
       "var notebookContainer = gd.closest('#notebook-container');\n",
       "if (notebookContainer) {{\n",
       "    x.observe(notebookContainer, {childList: true});\n",
       "}}\n",
       "\n",
       "// Listen for the clearing of the current output cell\n",
       "var outputEl = gd.closest('.output');\n",
       "if (outputEl) {{\n",
       "    x.observe(outputEl, {childList: true});\n",
       "}}\n",
       "\n",
       "                        })\n",
       "                };\n",
       "                });\n",
       "            </script>\n",
       "        </div>"
      ]
     },
     "metadata": {},
     "output_type": "display_data"
    }
   ],
   "source": [
    "def al(var):\n",
    "    cities = [var]\n",
    "    filtered_city_day = df1[df1['Date'] > '2020-04-01']\n",
    "    AQI = filtered_city_day[filtered_city_day.City.isin(cities)][['City','Air_quality']]\n",
    "    AQI[var] = AQI['Air_quality']\n",
    "    k = AQI[var].value_counts()\n",
    "    m = pd.DataFrame((round((k/sum(k))*100)))\n",
    "    return m\n",
    "c11 = al('Ahmedabad')\n",
    "c22 = al('Delhi')\n",
    "c33 = al('Kolkata')\n",
    "c44 = al('Mumbai')\n",
    "c55 = al('Bengaluru')\n",
    "df_row = pd.concat([c11,c22,c33,c44,c55],axis=1)\n",
    "df_row.iplot(kind='bar', align='center',xTitle='Satisfaction level', yTitle='percentage of satisfaction' ,linecolor='black', title='Satisfaction level of people(Post COVID19)')"
   ]
  },
  {
   "cell_type": "markdown",
   "metadata": {
    "papermill": {
     "duration": 0.364983,
     "end_time": "2020-10-30T04:22:51.266637",
     "exception": false,
     "start_time": "2020-10-30T04:22:50.901654",
     "status": "completed"
    },
    "tags": []
   },
   "source": [
    "## Preprocessing"
   ]
  },
  {
   "cell_type": "code",
   "execution_count": 16,
   "metadata": {
    "execution": {
     "iopub.execute_input": "2020-10-30T04:22:52.002502Z",
     "iopub.status.busy": "2020-10-30T04:22:51.997272Z",
     "iopub.status.idle": "2020-10-30T04:22:52.028536Z",
     "shell.execute_reply": "2020-10-30T04:22:52.027674Z"
    },
    "papermill": {
     "duration": 0.401541,
     "end_time": "2020-10-30T04:22:52.028688",
     "exception": false,
     "start_time": "2020-10-30T04:22:51.627147",
     "status": "completed"
    },
    "tags": []
   },
   "outputs": [
    {
     "name": "stdout",
     "output_type": "stream",
     "text": [
      "categorical_attributes ['City', 'Air_quality']\n",
      "<class 'pandas.core.frame.DataFrame'>\n",
      "RangeIndex: 26219 entries, 0 to 26218\n",
      "Data columns (total 16 columns):\n",
      " #   Column       Non-Null Count  Dtype         \n",
      "---  ------       --------------  -----         \n",
      " 0   City         26219 non-null  int64         \n",
      " 1   Date         26219 non-null  datetime64[ns]\n",
      " 2   PM2.5        26219 non-null  float64       \n",
      " 3   PM10         26219 non-null  float64       \n",
      " 4   NO           26219 non-null  float64       \n",
      " 5   NO2          26219 non-null  float64       \n",
      " 6   NOx          26219 non-null  float64       \n",
      " 7   NH3          26219 non-null  float64       \n",
      " 8   CO           26219 non-null  float64       \n",
      " 9   SO2          26219 non-null  float64       \n",
      " 10  O3           26219 non-null  float64       \n",
      " 11  Benzene      26219 non-null  float64       \n",
      " 12  Toluene      26219 non-null  float64       \n",
      " 13  Xylene       26219 non-null  float64       \n",
      " 14  AQI          26219 non-null  float64       \n",
      " 15  Air_quality  26219 non-null  int64         \n",
      "dtypes: datetime64[ns](1), float64(13), int64(2)\n",
      "memory usage: 3.2 MB\n"
     ]
    }
   ],
   "source": [
    "categorical_attributes = list(df1.select_dtypes(include=['object']).columns)\n",
    "print(\"categorical_attributes\",categorical_attributes)\n",
    "le=LabelEncoder()\n",
    "df1['City']=le.fit_transform(df1['City'].astype(str))\n",
    "df1['Air_quality']=le.fit_transform(df1['Air_quality'].astype(str))\n",
    "df1.info()"
   ]
  },
  {
   "cell_type": "code",
   "execution_count": 17,
   "metadata": {
    "execution": {
     "iopub.execute_input": "2020-10-30T04:22:52.827379Z",
     "iopub.status.busy": "2020-10-30T04:22:52.826414Z",
     "iopub.status.idle": "2020-10-30T04:22:53.018506Z",
     "shell.execute_reply": "2020-10-30T04:22:53.019218Z"
    },
    "papermill": {
     "duration": 0.615368,
     "end_time": "2020-10-30T04:22:53.019419",
     "exception": false,
     "start_time": "2020-10-30T04:22:52.404051",
     "status": "completed"
    },
    "tags": []
   },
   "outputs": [
    {
     "data": {
      "text/html": [
       "<style  type=\"text/css\" >\n",
       "    #T_93e246c0_1a67_11eb_90f6_0242ac130202row0_col0 {\n",
       "            background-color:  #b40426;\n",
       "            color:  #f1f1f1;\n",
       "        }    #T_93e246c0_1a67_11eb_90f6_0242ac130202row0_col1 {\n",
       "            background-color:  #4c66d6;\n",
       "            color:  #000000;\n",
       "        }    #T_93e246c0_1a67_11eb_90f6_0242ac130202row0_col2 {\n",
       "            background-color:  #3b4cc0;\n",
       "            color:  #f1f1f1;\n",
       "        }    #T_93e246c0_1a67_11eb_90f6_0242ac130202row0_col3 {\n",
       "            background-color:  #4055c8;\n",
       "            color:  #f1f1f1;\n",
       "        }    #T_93e246c0_1a67_11eb_90f6_0242ac130202row0_col4 {\n",
       "            background-color:  #3b4cc0;\n",
       "            color:  #f1f1f1;\n",
       "        }    #T_93e246c0_1a67_11eb_90f6_0242ac130202row0_col5 {\n",
       "            background-color:  #3b4cc0;\n",
       "            color:  #f1f1f1;\n",
       "        }    #T_93e246c0_1a67_11eb_90f6_0242ac130202row0_col6 {\n",
       "            background-color:  #3b4cc0;\n",
       "            color:  #f1f1f1;\n",
       "        }    #T_93e246c0_1a67_11eb_90f6_0242ac130202row0_col7 {\n",
       "            background-color:  #3b4cc0;\n",
       "            color:  #f1f1f1;\n",
       "        }    #T_93e246c0_1a67_11eb_90f6_0242ac130202row0_col8 {\n",
       "            background-color:  #3b4cc0;\n",
       "            color:  #f1f1f1;\n",
       "        }    #T_93e246c0_1a67_11eb_90f6_0242ac130202row0_col9 {\n",
       "            background-color:  #3b4cc0;\n",
       "            color:  #f1f1f1;\n",
       "        }    #T_93e246c0_1a67_11eb_90f6_0242ac130202row0_col10 {\n",
       "            background-color:  #3b4cc0;\n",
       "            color:  #f1f1f1;\n",
       "        }    #T_93e246c0_1a67_11eb_90f6_0242ac130202row0_col11 {\n",
       "            background-color:  #3b4cc0;\n",
       "            color:  #f1f1f1;\n",
       "        }    #T_93e246c0_1a67_11eb_90f6_0242ac130202row0_col12 {\n",
       "            background-color:  #3b4cc0;\n",
       "            color:  #f1f1f1;\n",
       "        }    #T_93e246c0_1a67_11eb_90f6_0242ac130202row0_col13 {\n",
       "            background-color:  #3b4cc0;\n",
       "            color:  #f1f1f1;\n",
       "        }    #T_93e246c0_1a67_11eb_90f6_0242ac130202row0_col14 {\n",
       "            background-color:  #3b4cc0;\n",
       "            color:  #f1f1f1;\n",
       "        }    #T_93e246c0_1a67_11eb_90f6_0242ac130202row1_col0 {\n",
       "            background-color:  #97b8ff;\n",
       "            color:  #000000;\n",
       "        }    #T_93e246c0_1a67_11eb_90f6_0242ac130202row1_col1 {\n",
       "            background-color:  #b40426;\n",
       "            color:  #f1f1f1;\n",
       "        }    #T_93e246c0_1a67_11eb_90f6_0242ac130202row1_col2 {\n",
       "            background-color:  #e3d9d3;\n",
       "            color:  #000000;\n",
       "        }    #T_93e246c0_1a67_11eb_90f6_0242ac130202row1_col3 {\n",
       "            background-color:  #c7d7f0;\n",
       "            color:  #000000;\n",
       "        }    #T_93e246c0_1a67_11eb_90f6_0242ac130202row1_col4 {\n",
       "            background-color:  #c7d7f0;\n",
       "            color:  #000000;\n",
       "        }    #T_93e246c0_1a67_11eb_90f6_0242ac130202row1_col5 {\n",
       "            background-color:  #afcafc;\n",
       "            color:  #000000;\n",
       "        }    #T_93e246c0_1a67_11eb_90f6_0242ac130202row1_col6 {\n",
       "            background-color:  #92b4fe;\n",
       "            color:  #000000;\n",
       "        }    #T_93e246c0_1a67_11eb_90f6_0242ac130202row1_col7 {\n",
       "            background-color:  #96b7ff;\n",
       "            color:  #000000;\n",
       "        }    #T_93e246c0_1a67_11eb_90f6_0242ac130202row1_col8 {\n",
       "            background-color:  #7a9df8;\n",
       "            color:  #000000;\n",
       "        }    #T_93e246c0_1a67_11eb_90f6_0242ac130202row1_col9 {\n",
       "            background-color:  #6f92f3;\n",
       "            color:  #000000;\n",
       "        }    #T_93e246c0_1a67_11eb_90f6_0242ac130202row1_col10 {\n",
       "            background-color:  #445acc;\n",
       "            color:  #f1f1f1;\n",
       "        }    #T_93e246c0_1a67_11eb_90f6_0242ac130202row1_col11 {\n",
       "            background-color:  #799cf8;\n",
       "            color:  #000000;\n",
       "        }    #T_93e246c0_1a67_11eb_90f6_0242ac130202row1_col12 {\n",
       "            background-color:  #6a8bef;\n",
       "            color:  #000000;\n",
       "        }    #T_93e246c0_1a67_11eb_90f6_0242ac130202row1_col13 {\n",
       "            background-color:  #f7ba9f;\n",
       "            color:  #000000;\n",
       "        }    #T_93e246c0_1a67_11eb_90f6_0242ac130202row1_col14 {\n",
       "            background-color:  #ccd9ed;\n",
       "            color:  #000000;\n",
       "        }    #T_93e246c0_1a67_11eb_90f6_0242ac130202row2_col0 {\n",
       "            background-color:  #7699f6;\n",
       "            color:  #000000;\n",
       "        }    #T_93e246c0_1a67_11eb_90f6_0242ac130202row2_col1 {\n",
       "            background-color:  #dcdddd;\n",
       "            color:  #000000;\n",
       "        }    #T_93e246c0_1a67_11eb_90f6_0242ac130202row2_col2 {\n",
       "            background-color:  #b40426;\n",
       "            color:  #f1f1f1;\n",
       "        }    #T_93e246c0_1a67_11eb_90f6_0242ac130202row2_col3 {\n",
       "            background-color:  #cad8ef;\n",
       "            color:  #000000;\n",
       "        }    #T_93e246c0_1a67_11eb_90f6_0242ac130202row2_col4 {\n",
       "            background-color:  #c6d6f1;\n",
       "            color:  #000000;\n",
       "        }    #T_93e246c0_1a67_11eb_90f6_0242ac130202row2_col5 {\n",
       "            background-color:  #bfd3f6;\n",
       "            color:  #000000;\n",
       "        }    #T_93e246c0_1a67_11eb_90f6_0242ac130202row2_col6 {\n",
       "            background-color:  #9ebeff;\n",
       "            color:  #000000;\n",
       "        }    #T_93e246c0_1a67_11eb_90f6_0242ac130202row2_col7 {\n",
       "            background-color:  #84a7fc;\n",
       "            color:  #000000;\n",
       "        }    #T_93e246c0_1a67_11eb_90f6_0242ac130202row2_col8 {\n",
       "            background-color:  #8badfd;\n",
       "            color:  #000000;\n",
       "        }    #T_93e246c0_1a67_11eb_90f6_0242ac130202row2_col9 {\n",
       "            background-color:  #7ea1fa;\n",
       "            color:  #000000;\n",
       "        }    #T_93e246c0_1a67_11eb_90f6_0242ac130202row2_col10 {\n",
       "            background-color:  #4358cb;\n",
       "            color:  #f1f1f1;\n",
       "        }    #T_93e246c0_1a67_11eb_90f6_0242ac130202row2_col11 {\n",
       "            background-color:  #7699f6;\n",
       "            color:  #000000;\n",
       "        }    #T_93e246c0_1a67_11eb_90f6_0242ac130202row2_col12 {\n",
       "            background-color:  #5572df;\n",
       "            color:  #000000;\n",
       "        }    #T_93e246c0_1a67_11eb_90f6_0242ac130202row2_col13 {\n",
       "            background-color:  #dcdddd;\n",
       "            color:  #000000;\n",
       "        }    #T_93e246c0_1a67_11eb_90f6_0242ac130202row2_col14 {\n",
       "            background-color:  #8caffe;\n",
       "            color:  #000000;\n",
       "        }    #T_93e246c0_1a67_11eb_90f6_0242ac130202row3_col0 {\n",
       "            background-color:  #8fb1fe;\n",
       "            color:  #000000;\n",
       "        }    #T_93e246c0_1a67_11eb_90f6_0242ac130202row3_col1 {\n",
       "            background-color:  #c9d7f0;\n",
       "            color:  #000000;\n",
       "        }    #T_93e246c0_1a67_11eb_90f6_0242ac130202row3_col2 {\n",
       "            background-color:  #d4dbe6;\n",
       "            color:  #000000;\n",
       "        }    #T_93e246c0_1a67_11eb_90f6_0242ac130202row3_col3 {\n",
       "            background-color:  #b40426;\n",
       "            color:  #f1f1f1;\n",
       "        }    #T_93e246c0_1a67_11eb_90f6_0242ac130202row3_col4 {\n",
       "            background-color:  #e8d6cc;\n",
       "            color:  #000000;\n",
       "        }    #T_93e246c0_1a67_11eb_90f6_0242ac130202row3_col5 {\n",
       "            background-color:  #f59d7e;\n",
       "            color:  #000000;\n",
       "        }    #T_93e246c0_1a67_11eb_90f6_0242ac130202row3_col6 {\n",
       "            background-color:  #92b4fe;\n",
       "            color:  #000000;\n",
       "        }    #T_93e246c0_1a67_11eb_90f6_0242ac130202row3_col7 {\n",
       "            background-color:  #bcd2f7;\n",
       "            color:  #000000;\n",
       "        }    #T_93e246c0_1a67_11eb_90f6_0242ac130202row3_col8 {\n",
       "            background-color:  #8fb1fe;\n",
       "            color:  #000000;\n",
       "        }    #T_93e246c0_1a67_11eb_90f6_0242ac130202row3_col9 {\n",
       "            background-color:  #485fd1;\n",
       "            color:  #f1f1f1;\n",
       "        }    #T_93e246c0_1a67_11eb_90f6_0242ac130202row3_col10 {\n",
       "            background-color:  #4a63d3;\n",
       "            color:  #f1f1f1;\n",
       "        }    #T_93e246c0_1a67_11eb_90f6_0242ac130202row3_col11 {\n",
       "            background-color:  #82a6fb;\n",
       "            color:  #000000;\n",
       "        }    #T_93e246c0_1a67_11eb_90f6_0242ac130202row3_col12 {\n",
       "            background-color:  #688aef;\n",
       "            color:  #000000;\n",
       "        }    #T_93e246c0_1a67_11eb_90f6_0242ac130202row3_col13 {\n",
       "            background-color:  #dedcdb;\n",
       "            color:  #000000;\n",
       "        }    #T_93e246c0_1a67_11eb_90f6_0242ac130202row3_col14 {\n",
       "            background-color:  #9fbfff;\n",
       "            color:  #000000;\n",
       "        }    #T_93e246c0_1a67_11eb_90f6_0242ac130202row4_col0 {\n",
       "            background-color:  #5d7ce6;\n",
       "            color:  #000000;\n",
       "        }    #T_93e246c0_1a67_11eb_90f6_0242ac130202row4_col1 {\n",
       "            background-color:  #a9c6fd;\n",
       "            color:  #000000;\n",
       "        }    #T_93e246c0_1a67_11eb_90f6_0242ac130202row4_col2 {\n",
       "            background-color:  #b5cdfa;\n",
       "            color:  #000000;\n",
       "        }    #T_93e246c0_1a67_11eb_90f6_0242ac130202row4_col3 {\n",
       "            background-color:  #d5dbe5;\n",
       "            color:  #000000;\n",
       "        }    #T_93e246c0_1a67_11eb_90f6_0242ac130202row4_col4 {\n",
       "            background-color:  #b40426;\n",
       "            color:  #f1f1f1;\n",
       "        }    #T_93e246c0_1a67_11eb_90f6_0242ac130202row4_col5 {\n",
       "            background-color:  #ecd3c5;\n",
       "            color:  #000000;\n",
       "        }    #T_93e246c0_1a67_11eb_90f6_0242ac130202row4_col6 {\n",
       "            background-color:  #94b6ff;\n",
       "            color:  #000000;\n",
       "        }    #T_93e246c0_1a67_11eb_90f6_0242ac130202row4_col7 {\n",
       "            background-color:  #dddcdc;\n",
       "            color:  #000000;\n",
       "        }    #T_93e246c0_1a67_11eb_90f6_0242ac130202row4_col8 {\n",
       "            background-color:  #d1dae9;\n",
       "            color:  #000000;\n",
       "        }    #T_93e246c0_1a67_11eb_90f6_0242ac130202row4_col9 {\n",
       "            background-color:  #a3c2fe;\n",
       "            color:  #000000;\n",
       "        }    #T_93e246c0_1a67_11eb_90f6_0242ac130202row4_col10 {\n",
       "            background-color:  #485fd1;\n",
       "            color:  #f1f1f1;\n",
       "        }    #T_93e246c0_1a67_11eb_90f6_0242ac130202row4_col11 {\n",
       "            background-color:  #afcafc;\n",
       "            color:  #000000;\n",
       "        }    #T_93e246c0_1a67_11eb_90f6_0242ac130202row4_col12 {\n",
       "            background-color:  #89acfd;\n",
       "            color:  #000000;\n",
       "        }    #T_93e246c0_1a67_11eb_90f6_0242ac130202row4_col13 {\n",
       "            background-color:  #f0cdbb;\n",
       "            color:  #000000;\n",
       "        }    #T_93e246c0_1a67_11eb_90f6_0242ac130202row4_col14 {\n",
       "            background-color:  #9ebeff;\n",
       "            color:  #000000;\n",
       "        }    #T_93e246c0_1a67_11eb_90f6_0242ac130202row5_col0 {\n",
       "            background-color:  #88abfd;\n",
       "            color:  #000000;\n",
       "        }    #T_93e246c0_1a67_11eb_90f6_0242ac130202row5_col1 {\n",
       "            background-color:  #b1cbfc;\n",
       "            color:  #000000;\n",
       "        }    #T_93e246c0_1a67_11eb_90f6_0242ac130202row5_col2 {\n",
       "            background-color:  #cbd8ee;\n",
       "            color:  #000000;\n",
       "        }    #T_93e246c0_1a67_11eb_90f6_0242ac130202row5_col3 {\n",
       "            background-color:  #f59d7e;\n",
       "            color:  #000000;\n",
       "        }    #T_93e246c0_1a67_11eb_90f6_0242ac130202row5_col4 {\n",
       "            background-color:  #f5c4ac;\n",
       "            color:  #000000;\n",
       "        }    #T_93e246c0_1a67_11eb_90f6_0242ac130202row5_col5 {\n",
       "            background-color:  #b40426;\n",
       "            color:  #f1f1f1;\n",
       "        }    #T_93e246c0_1a67_11eb_90f6_0242ac130202row5_col6 {\n",
       "            background-color:  #88abfd;\n",
       "            color:  #000000;\n",
       "        }    #T_93e246c0_1a67_11eb_90f6_0242ac130202row5_col7 {\n",
       "            background-color:  #bed2f6;\n",
       "            color:  #000000;\n",
       "        }    #T_93e246c0_1a67_11eb_90f6_0242ac130202row5_col8 {\n",
       "            background-color:  #98b9ff;\n",
       "            color:  #000000;\n",
       "        }    #T_93e246c0_1a67_11eb_90f6_0242ac130202row5_col9 {\n",
       "            background-color:  #5d7ce6;\n",
       "            color:  #000000;\n",
       "        }    #T_93e246c0_1a67_11eb_90f6_0242ac130202row5_col10 {\n",
       "            background-color:  #4a63d3;\n",
       "            color:  #f1f1f1;\n",
       "        }    #T_93e246c0_1a67_11eb_90f6_0242ac130202row5_col11 {\n",
       "            background-color:  #8badfd;\n",
       "            color:  #000000;\n",
       "        }    #T_93e246c0_1a67_11eb_90f6_0242ac130202row5_col12 {\n",
       "            background-color:  #6788ee;\n",
       "            color:  #000000;\n",
       "        }    #T_93e246c0_1a67_11eb_90f6_0242ac130202row5_col13 {\n",
       "            background-color:  #dbdcde;\n",
       "            color:  #000000;\n",
       "        }    #T_93e246c0_1a67_11eb_90f6_0242ac130202row5_col14 {\n",
       "            background-color:  #89acfd;\n",
       "            color:  #000000;\n",
       "        }    #T_93e246c0_1a67_11eb_90f6_0242ac130202row6_col0 {\n",
       "            background-color:  #5572df;\n",
       "            color:  #000000;\n",
       "        }    #T_93e246c0_1a67_11eb_90f6_0242ac130202row6_col1 {\n",
       "            background-color:  #6282ea;\n",
       "            color:  #000000;\n",
       "        }    #T_93e246c0_1a67_11eb_90f6_0242ac130202row6_col2 {\n",
       "            background-color:  #80a3fa;\n",
       "            color:  #000000;\n",
       "        }    #T_93e246c0_1a67_11eb_90f6_0242ac130202row6_col3 {\n",
       "            background-color:  #5f7fe8;\n",
       "            color:  #000000;\n",
       "        }    #T_93e246c0_1a67_11eb_90f6_0242ac130202row6_col4 {\n",
       "            background-color:  #8db0fe;\n",
       "            color:  #000000;\n",
       "        }    #T_93e246c0_1a67_11eb_90f6_0242ac130202row6_col5 {\n",
       "            background-color:  #5572df;\n",
       "            color:  #000000;\n",
       "        }    #T_93e246c0_1a67_11eb_90f6_0242ac130202row6_col6 {\n",
       "            background-color:  #b40426;\n",
       "            color:  #f1f1f1;\n",
       "        }    #T_93e246c0_1a67_11eb_90f6_0242ac130202row6_col7 {\n",
       "            background-color:  #7a9df8;\n",
       "            color:  #000000;\n",
       "        }    #T_93e246c0_1a67_11eb_90f6_0242ac130202row6_col8 {\n",
       "            background-color:  #4a63d3;\n",
       "            color:  #f1f1f1;\n",
       "        }    #T_93e246c0_1a67_11eb_90f6_0242ac130202row6_col9 {\n",
       "            background-color:  #5572df;\n",
       "            color:  #000000;\n",
       "        }    #T_93e246c0_1a67_11eb_90f6_0242ac130202row6_col10 {\n",
       "            background-color:  #3d50c3;\n",
       "            color:  #f1f1f1;\n",
       "        }    #T_93e246c0_1a67_11eb_90f6_0242ac130202row6_col11 {\n",
       "            background-color:  #5673e0;\n",
       "            color:  #000000;\n",
       "        }    #T_93e246c0_1a67_11eb_90f6_0242ac130202row6_col12 {\n",
       "            background-color:  #465ecf;\n",
       "            color:  #f1f1f1;\n",
       "        }    #T_93e246c0_1a67_11eb_90f6_0242ac130202row6_col13 {\n",
       "            background-color:  #7597f6;\n",
       "            color:  #000000;\n",
       "        }    #T_93e246c0_1a67_11eb_90f6_0242ac130202row6_col14 {\n",
       "            background-color:  #5a78e4;\n",
       "            color:  #000000;\n",
       "        }    #T_93e246c0_1a67_11eb_90f6_0242ac130202row7_col0 {\n",
       "            background-color:  #3b4cc0;\n",
       "            color:  #f1f1f1;\n",
       "        }    #T_93e246c0_1a67_11eb_90f6_0242ac130202row7_col1 {\n",
       "            background-color:  #4a63d3;\n",
       "            color:  #f1f1f1;\n",
       "        }    #T_93e246c0_1a67_11eb_90f6_0242ac130202row7_col2 {\n",
       "            background-color:  #485fd1;\n",
       "            color:  #f1f1f1;\n",
       "        }    #T_93e246c0_1a67_11eb_90f6_0242ac130202row7_col3 {\n",
       "            background-color:  #7a9df8;\n",
       "            color:  #000000;\n",
       "        }    #T_93e246c0_1a67_11eb_90f6_0242ac130202row7_col4 {\n",
       "            background-color:  #ccd9ed;\n",
       "            color:  #000000;\n",
       "        }    #T_93e246c0_1a67_11eb_90f6_0242ac130202row7_col5 {\n",
       "            background-color:  #7b9ff9;\n",
       "            color:  #000000;\n",
       "        }    #T_93e246c0_1a67_11eb_90f6_0242ac130202row7_col6 {\n",
       "            background-color:  #5f7fe8;\n",
       "            color:  #000000;\n",
       "        }    #T_93e246c0_1a67_11eb_90f6_0242ac130202row7_col7 {\n",
       "            background-color:  #b40426;\n",
       "            color:  #f1f1f1;\n",
       "        }    #T_93e246c0_1a67_11eb_90f6_0242ac130202row7_col8 {\n",
       "            background-color:  #e4d9d2;\n",
       "            color:  #000000;\n",
       "        }    #T_93e246c0_1a67_11eb_90f6_0242ac130202row7_col9 {\n",
       "            background-color:  #4b64d5;\n",
       "            color:  #f1f1f1;\n",
       "        }    #T_93e246c0_1a67_11eb_90f6_0242ac130202row7_col10 {\n",
       "            background-color:  #506bda;\n",
       "            color:  #000000;\n",
       "        }    #T_93e246c0_1a67_11eb_90f6_0242ac130202row7_col11 {\n",
       "            background-color:  #adc9fd;\n",
       "            color:  #000000;\n",
       "        }    #T_93e246c0_1a67_11eb_90f6_0242ac130202row7_col12 {\n",
       "            background-color:  #8caffe;\n",
       "            color:  #000000;\n",
       "        }    #T_93e246c0_1a67_11eb_90f6_0242ac130202row7_col13 {\n",
       "            background-color:  #f7b093;\n",
       "            color:  #000000;\n",
       "        }    #T_93e246c0_1a67_11eb_90f6_0242ac130202row7_col14 {\n",
       "            background-color:  #8caffe;\n",
       "            color:  #000000;\n",
       "        }    #T_93e246c0_1a67_11eb_90f6_0242ac130202row8_col0 {\n",
       "            background-color:  #6180e9;\n",
       "            color:  #000000;\n",
       "        }    #T_93e246c0_1a67_11eb_90f6_0242ac130202row8_col1 {\n",
       "            background-color:  #5470de;\n",
       "            color:  #000000;\n",
       "        }    #T_93e246c0_1a67_11eb_90f6_0242ac130202row8_col2 {\n",
       "            background-color:  #7699f6;\n",
       "            color:  #000000;\n",
       "        }    #T_93e246c0_1a67_11eb_90f6_0242ac130202row8_col3 {\n",
       "            background-color:  #6788ee;\n",
       "            color:  #000000;\n",
       "        }    #T_93e246c0_1a67_11eb_90f6_0242ac130202row8_col4 {\n",
       "            background-color:  #d3dbe7;\n",
       "            color:  #000000;\n",
       "        }    #T_93e246c0_1a67_11eb_90f6_0242ac130202row8_col5 {\n",
       "            background-color:  #7295f4;\n",
       "            color:  #000000;\n",
       "        }    #T_93e246c0_1a67_11eb_90f6_0242ac130202row8_col6 {\n",
       "            background-color:  #5673e0;\n",
       "            color:  #000000;\n",
       "        }    #T_93e246c0_1a67_11eb_90f6_0242ac130202row8_col7 {\n",
       "            background-color:  #f0cdbb;\n",
       "            color:  #000000;\n",
       "        }    #T_93e246c0_1a67_11eb_90f6_0242ac130202row8_col8 {\n",
       "            background-color:  #b40426;\n",
       "            color:  #f1f1f1;\n",
       "        }    #T_93e246c0_1a67_11eb_90f6_0242ac130202row8_col9 {\n",
       "            background-color:  #7597f6;\n",
       "            color:  #000000;\n",
       "        }    #T_93e246c0_1a67_11eb_90f6_0242ac130202row8_col10 {\n",
       "            background-color:  #485fd1;\n",
       "            color:  #f1f1f1;\n",
       "        }    #T_93e246c0_1a67_11eb_90f6_0242ac130202row8_col11 {\n",
       "            background-color:  #a9c6fd;\n",
       "            color:  #000000;\n",
       "        }    #T_93e246c0_1a67_11eb_90f6_0242ac130202row8_col12 {\n",
       "            background-color:  #a2c1ff;\n",
       "            color:  #000000;\n",
       "        }    #T_93e246c0_1a67_11eb_90f6_0242ac130202row8_col13 {\n",
       "            background-color:  #e0dbd8;\n",
       "            color:  #000000;\n",
       "        }    #T_93e246c0_1a67_11eb_90f6_0242ac130202row8_col14 {\n",
       "            background-color:  #7b9ff9;\n",
       "            color:  #000000;\n",
       "        }    #T_93e246c0_1a67_11eb_90f6_0242ac130202row9_col0 {\n",
       "            background-color:  #7b9ff9;\n",
       "            color:  #000000;\n",
       "        }    #T_93e246c0_1a67_11eb_90f6_0242ac130202row9_col1 {\n",
       "            background-color:  #6485ec;\n",
       "            color:  #000000;\n",
       "        }    #T_93e246c0_1a67_11eb_90f6_0242ac130202row9_col2 {\n",
       "            background-color:  #84a7fc;\n",
       "            color:  #000000;\n",
       "        }    #T_93e246c0_1a67_11eb_90f6_0242ac130202row9_col3 {\n",
       "            background-color:  #3b4cc0;\n",
       "            color:  #f1f1f1;\n",
       "        }    #T_93e246c0_1a67_11eb_90f6_0242ac130202row9_col4 {\n",
       "            background-color:  #bbd1f8;\n",
       "            color:  #000000;\n",
       "        }    #T_93e246c0_1a67_11eb_90f6_0242ac130202row9_col5 {\n",
       "            background-color:  #4f69d9;\n",
       "            color:  #000000;\n",
       "        }    #T_93e246c0_1a67_11eb_90f6_0242ac130202row9_col6 {\n",
       "            background-color:  #7b9ff9;\n",
       "            color:  #000000;\n",
       "        }    #T_93e246c0_1a67_11eb_90f6_0242ac130202row9_col7 {\n",
       "            background-color:  #8caffe;\n",
       "            color:  #000000;\n",
       "        }    #T_93e246c0_1a67_11eb_90f6_0242ac130202row9_col8 {\n",
       "            background-color:  #8fb1fe;\n",
       "            color:  #000000;\n",
       "        }    #T_93e246c0_1a67_11eb_90f6_0242ac130202row9_col9 {\n",
       "            background-color:  #b40426;\n",
       "            color:  #f1f1f1;\n",
       "        }    #T_93e246c0_1a67_11eb_90f6_0242ac130202row9_col10 {\n",
       "            background-color:  #445acc;\n",
       "            color:  #f1f1f1;\n",
       "        }    #T_93e246c0_1a67_11eb_90f6_0242ac130202row9_col11 {\n",
       "            background-color:  #80a3fa;\n",
       "            color:  #000000;\n",
       "        }    #T_93e246c0_1a67_11eb_90f6_0242ac130202row9_col12 {\n",
       "            background-color:  #6b8df0;\n",
       "            color:  #000000;\n",
       "        }    #T_93e246c0_1a67_11eb_90f6_0242ac130202row9_col13 {\n",
       "            background-color:  #98b9ff;\n",
       "            color:  #000000;\n",
       "        }    #T_93e246c0_1a67_11eb_90f6_0242ac130202row9_col14 {\n",
       "            background-color:  #506bda;\n",
       "            color:  #000000;\n",
       "        }    #T_93e246c0_1a67_11eb_90f6_0242ac130202row10_col0 {\n",
       "            background-color:  #7da0f9;\n",
       "            color:  #000000;\n",
       "        }    #T_93e246c0_1a67_11eb_90f6_0242ac130202row10_col1 {\n",
       "            background-color:  #3b4cc0;\n",
       "            color:  #f1f1f1;\n",
       "        }    #T_93e246c0_1a67_11eb_90f6_0242ac130202row10_col2 {\n",
       "            background-color:  #4a63d3;\n",
       "            color:  #f1f1f1;\n",
       "        }    #T_93e246c0_1a67_11eb_90f6_0242ac130202row10_col3 {\n",
       "            background-color:  #3e51c5;\n",
       "            color:  #f1f1f1;\n",
       "        }    #T_93e246c0_1a67_11eb_90f6_0242ac130202row10_col4 {\n",
       "            background-color:  #6a8bef;\n",
       "            color:  #000000;\n",
       "        }    #T_93e246c0_1a67_11eb_90f6_0242ac130202row10_col5 {\n",
       "            background-color:  #3e51c5;\n",
       "            color:  #f1f1f1;\n",
       "        }    #T_93e246c0_1a67_11eb_90f6_0242ac130202row10_col6 {\n",
       "            background-color:  #6687ed;\n",
       "            color:  #000000;\n",
       "        }    #T_93e246c0_1a67_11eb_90f6_0242ac130202row10_col7 {\n",
       "            background-color:  #92b4fe;\n",
       "            color:  #000000;\n",
       "        }    #T_93e246c0_1a67_11eb_90f6_0242ac130202row10_col8 {\n",
       "            background-color:  #6485ec;\n",
       "            color:  #000000;\n",
       "        }    #T_93e246c0_1a67_11eb_90f6_0242ac130202row10_col9 {\n",
       "            background-color:  #455cce;\n",
       "            color:  #f1f1f1;\n",
       "        }    #T_93e246c0_1a67_11eb_90f6_0242ac130202row10_col10 {\n",
       "            background-color:  #b40426;\n",
       "            color:  #f1f1f1;\n",
       "        }    #T_93e246c0_1a67_11eb_90f6_0242ac130202row10_col11 {\n",
       "            background-color:  #f7a688;\n",
       "            color:  #000000;\n",
       "        }    #T_93e246c0_1a67_11eb_90f6_0242ac130202row10_col12 {\n",
       "            background-color:  #6b8df0;\n",
       "            color:  #000000;\n",
       "        }    #T_93e246c0_1a67_11eb_90f6_0242ac130202row10_col13 {\n",
       "            background-color:  #6b8df0;\n",
       "            color:  #000000;\n",
       "        }    #T_93e246c0_1a67_11eb_90f6_0242ac130202row10_col14 {\n",
       "            background-color:  #516ddb;\n",
       "            color:  #000000;\n",
       "        }    #T_93e246c0_1a67_11eb_90f6_0242ac130202row11_col0 {\n",
       "            background-color:  #688aef;\n",
       "            color:  #000000;\n",
       "        }    #T_93e246c0_1a67_11eb_90f6_0242ac130202row11_col1 {\n",
       "            background-color:  #5a78e4;\n",
       "            color:  #000000;\n",
       "        }    #T_93e246c0_1a67_11eb_90f6_0242ac130202row11_col2 {\n",
       "            background-color:  #688aef;\n",
       "            color:  #000000;\n",
       "        }    #T_93e246c0_1a67_11eb_90f6_0242ac130202row11_col3 {\n",
       "            background-color:  #6282ea;\n",
       "            color:  #000000;\n",
       "        }    #T_93e246c0_1a67_11eb_90f6_0242ac130202row11_col4 {\n",
       "            background-color:  #b9d0f9;\n",
       "            color:  #000000;\n",
       "        }    #T_93e246c0_1a67_11eb_90f6_0242ac130202row11_col5 {\n",
       "            background-color:  #6c8ff1;\n",
       "            color:  #000000;\n",
       "        }    #T_93e246c0_1a67_11eb_90f6_0242ac130202row11_col6 {\n",
       "            background-color:  #6a8bef;\n",
       "            color:  #000000;\n",
       "        }    #T_93e246c0_1a67_11eb_90f6_0242ac130202row11_col7 {\n",
       "            background-color:  #ccd9ed;\n",
       "            color:  #000000;\n",
       "        }    #T_93e246c0_1a67_11eb_90f6_0242ac130202row11_col8 {\n",
       "            background-color:  #aec9fc;\n",
       "            color:  #000000;\n",
       "        }    #T_93e246c0_1a67_11eb_90f6_0242ac130202row11_col9 {\n",
       "            background-color:  #6c8ff1;\n",
       "            color:  #000000;\n",
       "        }    #T_93e246c0_1a67_11eb_90f6_0242ac130202row11_col10 {\n",
       "            background-color:  #f7ad90;\n",
       "            color:  #000000;\n",
       "        }    #T_93e246c0_1a67_11eb_90f6_0242ac130202row11_col11 {\n",
       "            background-color:  #b40426;\n",
       "            color:  #f1f1f1;\n",
       "        }    #T_93e246c0_1a67_11eb_90f6_0242ac130202row11_col12 {\n",
       "            background-color:  #aec9fc;\n",
       "            color:  #000000;\n",
       "        }    #T_93e246c0_1a67_11eb_90f6_0242ac130202row11_col13 {\n",
       "            background-color:  #b5cdfa;\n",
       "            color:  #000000;\n",
       "        }    #T_93e246c0_1a67_11eb_90f6_0242ac130202row11_col14 {\n",
       "            background-color:  #7b9ff9;\n",
       "            color:  #000000;\n",
       "        }    #T_93e246c0_1a67_11eb_90f6_0242ac130202row12_col0 {\n",
       "            background-color:  #6b8df0;\n",
       "            color:  #000000;\n",
       "        }    #T_93e246c0_1a67_11eb_90f6_0242ac130202row12_col1 {\n",
       "            background-color:  #4e68d8;\n",
       "            color:  #000000;\n",
       "        }    #T_93e246c0_1a67_11eb_90f6_0242ac130202row12_col2 {\n",
       "            background-color:  #4a63d3;\n",
       "            color:  #f1f1f1;\n",
       "        }    #T_93e246c0_1a67_11eb_90f6_0242ac130202row12_col3 {\n",
       "            background-color:  #4961d2;\n",
       "            color:  #f1f1f1;\n",
       "        }    #T_93e246c0_1a67_11eb_90f6_0242ac130202row12_col4 {\n",
       "            background-color:  #97b8ff;\n",
       "            color:  #000000;\n",
       "        }    #T_93e246c0_1a67_11eb_90f6_0242ac130202row12_col5 {\n",
       "            background-color:  #4961d2;\n",
       "            color:  #f1f1f1;\n",
       "        }    #T_93e246c0_1a67_11eb_90f6_0242ac130202row12_col6 {\n",
       "            background-color:  #5d7ce6;\n",
       "            color:  #000000;\n",
       "        }    #T_93e246c0_1a67_11eb_90f6_0242ac130202row12_col7 {\n",
       "            background-color:  #b5cdfa;\n",
       "            color:  #000000;\n",
       "        }    #T_93e246c0_1a67_11eb_90f6_0242ac130202row12_col8 {\n",
       "            background-color:  #aac7fd;\n",
       "            color:  #000000;\n",
       "        }    #T_93e246c0_1a67_11eb_90f6_0242ac130202row12_col9 {\n",
       "            background-color:  #5a78e4;\n",
       "            color:  #000000;\n",
       "        }    #T_93e246c0_1a67_11eb_90f6_0242ac130202row12_col10 {\n",
       "            background-color:  #5977e3;\n",
       "            color:  #000000;\n",
       "        }    #T_93e246c0_1a67_11eb_90f6_0242ac130202row12_col11 {\n",
       "            background-color:  #afcafc;\n",
       "            color:  #000000;\n",
       "        }    #T_93e246c0_1a67_11eb_90f6_0242ac130202row12_col12 {\n",
       "            background-color:  #b40426;\n",
       "            color:  #f1f1f1;\n",
       "        }    #T_93e246c0_1a67_11eb_90f6_0242ac130202row12_col13 {\n",
       "            background-color:  #9abbff;\n",
       "            color:  #000000;\n",
       "        }    #T_93e246c0_1a67_11eb_90f6_0242ac130202row12_col14 {\n",
       "            background-color:  #6485ec;\n",
       "            color:  #000000;\n",
       "        }    #T_93e246c0_1a67_11eb_90f6_0242ac130202row13_col0 {\n",
       "            background-color:  #5e7de7;\n",
       "            color:  #000000;\n",
       "        }    #T_93e246c0_1a67_11eb_90f6_0242ac130202row13_col1 {\n",
       "            background-color:  #f2c9b4;\n",
       "            color:  #000000;\n",
       "        }    #T_93e246c0_1a67_11eb_90f6_0242ac130202row13_col2 {\n",
       "            background-color:  #cfdaea;\n",
       "            color:  #000000;\n",
       "        }    #T_93e246c0_1a67_11eb_90f6_0242ac130202row13_col3 {\n",
       "            background-color:  #c9d7f0;\n",
       "            color:  #000000;\n",
       "        }    #T_93e246c0_1a67_11eb_90f6_0242ac130202row13_col4 {\n",
       "            background-color:  #f0cdbb;\n",
       "            color:  #000000;\n",
       "        }    #T_93e246c0_1a67_11eb_90f6_0242ac130202row13_col5 {\n",
       "            background-color:  #c5d6f2;\n",
       "            color:  #000000;\n",
       "        }    #T_93e246c0_1a67_11eb_90f6_0242ac130202row13_col6 {\n",
       "            background-color:  #7ea1fa;\n",
       "            color:  #000000;\n",
       "        }    #T_93e246c0_1a67_11eb_90f6_0242ac130202row13_col7 {\n",
       "            background-color:  #f6a283;\n",
       "            color:  #000000;\n",
       "        }    #T_93e246c0_1a67_11eb_90f6_0242ac130202row13_col8 {\n",
       "            background-color:  #dfdbd9;\n",
       "            color:  #000000;\n",
       "        }    #T_93e246c0_1a67_11eb_90f6_0242ac130202row13_col9 {\n",
       "            background-color:  #7da0f9;\n",
       "            color:  #000000;\n",
       "        }    #T_93e246c0_1a67_11eb_90f6_0242ac130202row13_col10 {\n",
       "            background-color:  #4b64d5;\n",
       "            color:  #f1f1f1;\n",
       "        }    #T_93e246c0_1a67_11eb_90f6_0242ac130202row13_col11 {\n",
       "            background-color:  #adc9fd;\n",
       "            color:  #000000;\n",
       "        }    #T_93e246c0_1a67_11eb_90f6_0242ac130202row13_col12 {\n",
       "            background-color:  #8db0fe;\n",
       "            color:  #000000;\n",
       "        }    #T_93e246c0_1a67_11eb_90f6_0242ac130202row13_col13 {\n",
       "            background-color:  #b40426;\n",
       "            color:  #f1f1f1;\n",
       "        }    #T_93e246c0_1a67_11eb_90f6_0242ac130202row13_col14 {\n",
       "            background-color:  #dddcdc;\n",
       "            color:  #000000;\n",
       "        }    #T_93e246c0_1a67_11eb_90f6_0242ac130202row14_col0 {\n",
       "            background-color:  #7597f6;\n",
       "            color:  #000000;\n",
       "        }    #T_93e246c0_1a67_11eb_90f6_0242ac130202row14_col1 {\n",
       "            background-color:  #c1d4f4;\n",
       "            color:  #000000;\n",
       "        }    #T_93e246c0_1a67_11eb_90f6_0242ac130202row14_col2 {\n",
       "            background-color:  #8badfd;\n",
       "            color:  #000000;\n",
       "        }    #T_93e246c0_1a67_11eb_90f6_0242ac130202row14_col3 {\n",
       "            background-color:  #8db0fe;\n",
       "            color:  #000000;\n",
       "        }    #T_93e246c0_1a67_11eb_90f6_0242ac130202row14_col4 {\n",
       "            background-color:  #b1cbfc;\n",
       "            color:  #000000;\n",
       "        }    #T_93e246c0_1a67_11eb_90f6_0242ac130202row14_col5 {\n",
       "            background-color:  #7699f6;\n",
       "            color:  #000000;\n",
       "        }    #T_93e246c0_1a67_11eb_90f6_0242ac130202row14_col6 {\n",
       "            background-color:  #799cf8;\n",
       "            color:  #000000;\n",
       "        }    #T_93e246c0_1a67_11eb_90f6_0242ac130202row14_col7 {\n",
       "            background-color:  #bbd1f8;\n",
       "            color:  #000000;\n",
       "        }    #T_93e246c0_1a67_11eb_90f6_0242ac130202row14_col8 {\n",
       "            background-color:  #8fb1fe;\n",
       "            color:  #000000;\n",
       "        }    #T_93e246c0_1a67_11eb_90f6_0242ac130202row14_col9 {\n",
       "            background-color:  #4961d2;\n",
       "            color:  #f1f1f1;\n",
       "        }    #T_93e246c0_1a67_11eb_90f6_0242ac130202row14_col10 {\n",
       "            background-color:  #4961d2;\n",
       "            color:  #f1f1f1;\n",
       "        }    #T_93e246c0_1a67_11eb_90f6_0242ac130202row14_col11 {\n",
       "            background-color:  #86a9fc;\n",
       "            color:  #000000;\n",
       "        }    #T_93e246c0_1a67_11eb_90f6_0242ac130202row14_col12 {\n",
       "            background-color:  #6e90f2;\n",
       "            color:  #000000;\n",
       "        }    #T_93e246c0_1a67_11eb_90f6_0242ac130202row14_col13 {\n",
       "            background-color:  #e6d7cf;\n",
       "            color:  #000000;\n",
       "        }    #T_93e246c0_1a67_11eb_90f6_0242ac130202row14_col14 {\n",
       "            background-color:  #b40426;\n",
       "            color:  #f1f1f1;\n",
       "        }</style><table id=\"T_93e246c0_1a67_11eb_90f6_0242ac130202\" ><thead>    <tr>        <th class=\"blank level0\" ></th>        <th class=\"col_heading level0 col0\" >City</th>        <th class=\"col_heading level0 col1\" >PM2.5</th>        <th class=\"col_heading level0 col2\" >PM10</th>        <th class=\"col_heading level0 col3\" >NO</th>        <th class=\"col_heading level0 col4\" >NO2</th>        <th class=\"col_heading level0 col5\" >NOx</th>        <th class=\"col_heading level0 col6\" >NH3</th>        <th class=\"col_heading level0 col7\" >CO</th>        <th class=\"col_heading level0 col8\" >SO2</th>        <th class=\"col_heading level0 col9\" >O3</th>        <th class=\"col_heading level0 col10\" >Benzene</th>        <th class=\"col_heading level0 col11\" >Toluene</th>        <th class=\"col_heading level0 col12\" >Xylene</th>        <th class=\"col_heading level0 col13\" >AQI</th>        <th class=\"col_heading level0 col14\" >Air_quality</th>    </tr></thead><tbody>\n",
       "                <tr>\n",
       "                        <th id=\"T_93e246c0_1a67_11eb_90f6_0242ac130202level0_row0\" class=\"row_heading level0 row0\" >City</th>\n",
       "                        <td id=\"T_93e246c0_1a67_11eb_90f6_0242ac130202row0_col0\" class=\"data row0 col0\" >1.000000</td>\n",
       "                        <td id=\"T_93e246c0_1a67_11eb_90f6_0242ac130202row0_col1\" class=\"data row0 col1\" >0.086778</td>\n",
       "                        <td id=\"T_93e246c0_1a67_11eb_90f6_0242ac130202row0_col2\" class=\"data row0 col2\" >-0.029781</td>\n",
       "                        <td id=\"T_93e246c0_1a67_11eb_90f6_0242ac130202row0_col3\" class=\"data row0 col3\" >0.055428</td>\n",
       "                        <td id=\"T_93e246c0_1a67_11eb_90f6_0242ac130202row0_col4\" class=\"data row0 col4\" >-0.127084</td>\n",
       "                        <td id=\"T_93e246c0_1a67_11eb_90f6_0242ac130202row0_col5\" class=\"data row0 col5\" >0.034389</td>\n",
       "                        <td id=\"T_93e246c0_1a67_11eb_90f6_0242ac130202row0_col6\" class=\"data row0 col6\" >-0.154963</td>\n",
       "                        <td id=\"T_93e246c0_1a67_11eb_90f6_0242ac130202row0_col7\" class=\"data row0 col7\" >-0.267223</td>\n",
       "                        <td id=\"T_93e246c0_1a67_11eb_90f6_0242ac130202row0_col8\" class=\"data row0 col8\" >-0.109597</td>\n",
       "                        <td id=\"T_93e246c0_1a67_11eb_90f6_0242ac130202row0_col9\" class=\"data row0 col9\" >-0.010628</td>\n",
       "                        <td id=\"T_93e246c0_1a67_11eb_90f6_0242ac130202row0_col10\" class=\"data row0 col10\" >-0.005597</td>\n",
       "                        <td id=\"T_93e246c0_1a67_11eb_90f6_0242ac130202row0_col11\" class=\"data row0 col11\" >-0.079653</td>\n",
       "                        <td id=\"T_93e246c0_1a67_11eb_90f6_0242ac130202row0_col12\" class=\"data row0 col12\" >-0.070967</td>\n",
       "                        <td id=\"T_93e246c0_1a67_11eb_90f6_0242ac130202row0_col13\" class=\"data row0 col13\" >-0.119162</td>\n",
       "                        <td id=\"T_93e246c0_1a67_11eb_90f6_0242ac130202row0_col14\" class=\"data row0 col14\" >-0.036262</td>\n",
       "            </tr>\n",
       "            <tr>\n",
       "                        <th id=\"T_93e246c0_1a67_11eb_90f6_0242ac130202level0_row1\" class=\"row_heading level0 row1\" >PM2.5</th>\n",
       "                        <td id=\"T_93e246c0_1a67_11eb_90f6_0242ac130202row1_col0\" class=\"data row1 col0\" >0.086778</td>\n",
       "                        <td id=\"T_93e246c0_1a67_11eb_90f6_0242ac130202row1_col1\" class=\"data row1 col1\" >1.000000</td>\n",
       "                        <td id=\"T_93e246c0_1a67_11eb_90f6_0242ac130202row1_col2\" class=\"data row1 col2\" >0.512106</td>\n",
       "                        <td id=\"T_93e246c0_1a67_11eb_90f6_0242ac130202row1_col3\" class=\"data row1 col3\" >0.445142</td>\n",
       "                        <td id=\"T_93e246c0_1a67_11eb_90f6_0242ac130202row1_col4\" class=\"data row1 col4\" >0.350113</td>\n",
       "                        <td id=\"T_93e246c0_1a67_11eb_90f6_0242ac130202row1_col5\" class=\"data row1 col5\" >0.371157</td>\n",
       "                        <td id=\"T_93e246c0_1a67_11eb_90f6_0242ac130202row1_col6\" class=\"data row1 col6\" >0.151714</td>\n",
       "                        <td id=\"T_93e246c0_1a67_11eb_90f6_0242ac130202row1_col7\" class=\"data row1 col7\" >0.081443</td>\n",
       "                        <td id=\"T_93e246c0_1a67_11eb_90f6_0242ac130202row1_col8\" class=\"data row1 col8\" >0.110820</td>\n",
       "                        <td id=\"T_93e246c0_1a67_11eb_90f6_0242ac130202row1_col9\" class=\"data row1 col9\" >0.158501</td>\n",
       "                        <td id=\"T_93e246c0_1a67_11eb_90f6_0242ac130202row1_col10\" class=\"data row1 col10\" >0.028943</td>\n",
       "                        <td id=\"T_93e246c0_1a67_11eb_90f6_0242ac130202row1_col11\" class=\"data row1 col11\" >0.128363</td>\n",
       "                        <td id=\"T_93e246c0_1a67_11eb_90f6_0242ac130202row1_col12\" class=\"data row1 col12\" >0.090379</td>\n",
       "                        <td id=\"T_93e246c0_1a67_11eb_90f6_0242ac130202row1_col13\" class=\"data row1 col13\" >0.619049</td>\n",
       "                        <td id=\"T_93e246c0_1a67_11eb_90f6_0242ac130202row1_col14\" class=\"data row1 col14\" >0.420532</td>\n",
       "            </tr>\n",
       "            <tr>\n",
       "                        <th id=\"T_93e246c0_1a67_11eb_90f6_0242ac130202level0_row2\" class=\"row_heading level0 row2\" >PM10</th>\n",
       "                        <td id=\"T_93e246c0_1a67_11eb_90f6_0242ac130202row2_col0\" class=\"data row2 col0\" >-0.029781</td>\n",
       "                        <td id=\"T_93e246c0_1a67_11eb_90f6_0242ac130202row2_col1\" class=\"data row2 col1\" >0.512106</td>\n",
       "                        <td id=\"T_93e246c0_1a67_11eb_90f6_0242ac130202row2_col2\" class=\"data row2 col2\" >1.000000</td>\n",
       "                        <td id=\"T_93e246c0_1a67_11eb_90f6_0242ac130202row2_col3\" class=\"data row2 col3\" >0.450666</td>\n",
       "                        <td id=\"T_93e246c0_1a67_11eb_90f6_0242ac130202row2_col4\" class=\"data row2 col4\" >0.345000</td>\n",
       "                        <td id=\"T_93e246c0_1a67_11eb_90f6_0242ac130202row2_col5\" class=\"data row2 col5\" >0.419094</td>\n",
       "                        <td id=\"T_93e246c0_1a67_11eb_90f6_0242ac130202row2_col6\" class=\"data row2 col6\" >0.189825</td>\n",
       "                        <td id=\"T_93e246c0_1a67_11eb_90f6_0242ac130202row2_col7\" class=\"data row2 col7\" >0.018488</td>\n",
       "                        <td id=\"T_93e246c0_1a67_11eb_90f6_0242ac130202row2_col8\" class=\"data row2 col8\" >0.160203</td>\n",
       "                        <td id=\"T_93e246c0_1a67_11eb_90f6_0242ac130202row2_col9\" class=\"data row2 col9\" >0.199737</td>\n",
       "                        <td id=\"T_93e246c0_1a67_11eb_90f6_0242ac130202row2_col10\" class=\"data row2 col10\" >0.024012</td>\n",
       "                        <td id=\"T_93e246c0_1a67_11eb_90f6_0242ac130202row2_col11\" class=\"data row2 col11\" >0.119933</td>\n",
       "                        <td id=\"T_93e246c0_1a67_11eb_90f6_0242ac130202row2_col12\" class=\"data row2 col12\" >0.025211</td>\n",
       "                        <td id=\"T_93e246c0_1a67_11eb_90f6_0242ac130202row2_col13\" class=\"data row2 col13\" >0.436605</td>\n",
       "                        <td id=\"T_93e246c0_1a67_11eb_90f6_0242ac130202row2_col14\" class=\"data row2 col14\" >0.220225</td>\n",
       "            </tr>\n",
       "            <tr>\n",
       "                        <th id=\"T_93e246c0_1a67_11eb_90f6_0242ac130202level0_row3\" class=\"row_heading level0 row3\" >NO</th>\n",
       "                        <td id=\"T_93e246c0_1a67_11eb_90f6_0242ac130202row3_col0\" class=\"data row3 col0\" >0.055428</td>\n",
       "                        <td id=\"T_93e246c0_1a67_11eb_90f6_0242ac130202row3_col1\" class=\"data row3 col1\" >0.445142</td>\n",
       "                        <td id=\"T_93e246c0_1a67_11eb_90f6_0242ac130202row3_col2\" class=\"data row3 col2\" >0.450666</td>\n",
       "                        <td id=\"T_93e246c0_1a67_11eb_90f6_0242ac130202row3_col3\" class=\"data row3 col3\" >1.000000</td>\n",
       "                        <td id=\"T_93e246c0_1a67_11eb_90f6_0242ac130202row3_col4\" class=\"data row3 col4\" >0.487730</td>\n",
       "                        <td id=\"T_93e246c0_1a67_11eb_90f6_0242ac130202row3_col5\" class=\"data row3 col5\" >0.748641</td>\n",
       "                        <td id=\"T_93e246c0_1a67_11eb_90f6_0242ac130202row3_col6\" class=\"data row3 col6\" >0.150606</td>\n",
       "                        <td id=\"T_93e246c0_1a67_11eb_90f6_0242ac130202row3_col7\" class=\"data row3 col7\" >0.225386</td>\n",
       "                        <td id=\"T_93e246c0_1a67_11eb_90f6_0242ac130202row3_col8\" class=\"data row3 col8\" >0.174288</td>\n",
       "                        <td id=\"T_93e246c0_1a67_11eb_90f6_0242ac130202row3_col9\" class=\"data row3 col9\" >0.035620</td>\n",
       "                        <td id=\"T_93e246c0_1a67_11eb_90f6_0242ac130202row3_col10\" class=\"data row3 col10\" >0.047622</td>\n",
       "                        <td id=\"T_93e246c0_1a67_11eb_90f6_0242ac130202row3_col11\" class=\"data row3 col11\" >0.158014</td>\n",
       "                        <td id=\"T_93e246c0_1a67_11eb_90f6_0242ac130202row3_col12\" class=\"data row3 col12\" >0.084178</td>\n",
       "                        <td id=\"T_93e246c0_1a67_11eb_90f6_0242ac130202row3_col13\" class=\"data row3 col13\" >0.447853</td>\n",
       "                        <td id=\"T_93e246c0_1a67_11eb_90f6_0242ac130202row3_col14\" class=\"data row3 col14\" >0.276824</td>\n",
       "            </tr>\n",
       "            <tr>\n",
       "                        <th id=\"T_93e246c0_1a67_11eb_90f6_0242ac130202level0_row4\" class=\"row_heading level0 row4\" >NO2</th>\n",
       "                        <td id=\"T_93e246c0_1a67_11eb_90f6_0242ac130202row4_col0\" class=\"data row4 col0\" >-0.127084</td>\n",
       "                        <td id=\"T_93e246c0_1a67_11eb_90f6_0242ac130202row4_col1\" class=\"data row4 col1\" >0.350113</td>\n",
       "                        <td id=\"T_93e246c0_1a67_11eb_90f6_0242ac130202row4_col2\" class=\"data row4 col2\" >0.345000</td>\n",
       "                        <td id=\"T_93e246c0_1a67_11eb_90f6_0242ac130202row4_col3\" class=\"data row4 col3\" >0.487730</td>\n",
       "                        <td id=\"T_93e246c0_1a67_11eb_90f6_0242ac130202row4_col4\" class=\"data row4 col4\" >1.000000</td>\n",
       "                        <td id=\"T_93e246c0_1a67_11eb_90f6_0242ac130202row4_col5\" class=\"data row4 col5\" >0.579207</td>\n",
       "                        <td id=\"T_93e246c0_1a67_11eb_90f6_0242ac130202row4_col6\" class=\"data row4 col6\" >0.157345</td>\n",
       "                        <td id=\"T_93e246c0_1a67_11eb_90f6_0242ac130202row4_col7\" class=\"data row4 col7\" >0.369663</td>\n",
       "                        <td id=\"T_93e246c0_1a67_11eb_90f6_0242ac130202row4_col8\" class=\"data row4 col8\" >0.394567</td>\n",
       "                        <td id=\"T_93e246c0_1a67_11eb_90f6_0242ac130202row4_col9\" class=\"data row4 col9\" >0.308769</td>\n",
       "                        <td id=\"T_93e246c0_1a67_11eb_90f6_0242ac130202row4_col10\" class=\"data row4 col10\" >0.040419</td>\n",
       "                        <td id=\"T_93e246c0_1a67_11eb_90f6_0242ac130202row4_col11\" class=\"data row4 col11\" >0.299835</td>\n",
       "                        <td id=\"T_93e246c0_1a67_11eb_90f6_0242ac130202row4_col12\" class=\"data row4 col12\" >0.186598</td>\n",
       "                        <td id=\"T_93e246c0_1a67_11eb_90f6_0242ac130202row4_col13\" class=\"data row4 col13\" >0.537277</td>\n",
       "                        <td id=\"T_93e246c0_1a67_11eb_90f6_0242ac130202row4_col14\" class=\"data row4 col14\" >0.271704</td>\n",
       "            </tr>\n",
       "            <tr>\n",
       "                        <th id=\"T_93e246c0_1a67_11eb_90f6_0242ac130202level0_row5\" class=\"row_heading level0 row5\" >NOx</th>\n",
       "                        <td id=\"T_93e246c0_1a67_11eb_90f6_0242ac130202row5_col0\" class=\"data row5 col0\" >0.034389</td>\n",
       "                        <td id=\"T_93e246c0_1a67_11eb_90f6_0242ac130202row5_col1\" class=\"data row5 col1\" >0.371157</td>\n",
       "                        <td id=\"T_93e246c0_1a67_11eb_90f6_0242ac130202row5_col2\" class=\"data row5 col2\" >0.419094</td>\n",
       "                        <td id=\"T_93e246c0_1a67_11eb_90f6_0242ac130202row5_col3\" class=\"data row5 col3\" >0.748641</td>\n",
       "                        <td id=\"T_93e246c0_1a67_11eb_90f6_0242ac130202row5_col4\" class=\"data row5 col4\" >0.579207</td>\n",
       "                        <td id=\"T_93e246c0_1a67_11eb_90f6_0242ac130202row5_col5\" class=\"data row5 col5\" >1.000000</td>\n",
       "                        <td id=\"T_93e246c0_1a67_11eb_90f6_0242ac130202row5_col6\" class=\"data row5 col6\" >0.119993</td>\n",
       "                        <td id=\"T_93e246c0_1a67_11eb_90f6_0242ac130202row5_col7\" class=\"data row5 col7\" >0.230434</td>\n",
       "                        <td id=\"T_93e246c0_1a67_11eb_90f6_0242ac130202row5_col8\" class=\"data row5 col8\" >0.202624</td>\n",
       "                        <td id=\"T_93e246c0_1a67_11eb_90f6_0242ac130202row5_col9\" class=\"data row5 col9\" >0.102013</td>\n",
       "                        <td id=\"T_93e246c0_1a67_11eb_90f6_0242ac130202row5_col10\" class=\"data row5 col10\" >0.049306</td>\n",
       "                        <td id=\"T_93e246c0_1a67_11eb_90f6_0242ac130202row5_col11\" class=\"data row5 col11\" >0.185469</td>\n",
       "                        <td id=\"T_93e246c0_1a67_11eb_90f6_0242ac130202row5_col12\" class=\"data row5 col12\" >0.080719</td>\n",
       "                        <td id=\"T_93e246c0_1a67_11eb_90f6_0242ac130202row5_col13\" class=\"data row5 col13\" >0.434976</td>\n",
       "                        <td id=\"T_93e246c0_1a67_11eb_90f6_0242ac130202row5_col14\" class=\"data row5 col14\" >0.212622</td>\n",
       "            </tr>\n",
       "            <tr>\n",
       "                        <th id=\"T_93e246c0_1a67_11eb_90f6_0242ac130202level0_row6\" class=\"row_heading level0 row6\" >NH3</th>\n",
       "                        <td id=\"T_93e246c0_1a67_11eb_90f6_0242ac130202row6_col0\" class=\"data row6 col0\" >-0.154963</td>\n",
       "                        <td id=\"T_93e246c0_1a67_11eb_90f6_0242ac130202row6_col1\" class=\"data row6 col1\" >0.151714</td>\n",
       "                        <td id=\"T_93e246c0_1a67_11eb_90f6_0242ac130202row6_col2\" class=\"data row6 col2\" >0.189825</td>\n",
       "                        <td id=\"T_93e246c0_1a67_11eb_90f6_0242ac130202row6_col3\" class=\"data row6 col3\" >0.150606</td>\n",
       "                        <td id=\"T_93e246c0_1a67_11eb_90f6_0242ac130202row6_col4\" class=\"data row6 col4\" >0.157345</td>\n",
       "                        <td id=\"T_93e246c0_1a67_11eb_90f6_0242ac130202row6_col5\" class=\"data row6 col5\" >0.119993</td>\n",
       "                        <td id=\"T_93e246c0_1a67_11eb_90f6_0242ac130202row6_col6\" class=\"data row6 col6\" >1.000000</td>\n",
       "                        <td id=\"T_93e246c0_1a67_11eb_90f6_0242ac130202row6_col7\" class=\"data row6 col7\" >-0.015794</td>\n",
       "                        <td id=\"T_93e246c0_1a67_11eb_90f6_0242ac130202row6_col8\" class=\"data row6 col8\" >-0.050047</td>\n",
       "                        <td id=\"T_93e246c0_1a67_11eb_90f6_0242ac130202row6_col9\" class=\"data row6 col9\" >0.077762</td>\n",
       "                        <td id=\"T_93e246c0_1a67_11eb_90f6_0242ac130202row6_col10\" class=\"data row6 col10\" >0.002948</td>\n",
       "                        <td id=\"T_93e246c0_1a67_11eb_90f6_0242ac130202row6_col11\" class=\"data row6 col11\" >0.019276</td>\n",
       "                        <td id=\"T_93e246c0_1a67_11eb_90f6_0242ac130202row6_col12\" class=\"data row6 col12\" >-0.026703</td>\n",
       "                        <td id=\"T_93e246c0_1a67_11eb_90f6_0242ac130202row6_col13\" class=\"data row6 col13\" >0.086308</td>\n",
       "                        <td id=\"T_93e246c0_1a67_11eb_90f6_0242ac130202row6_col14\" class=\"data row6 col14\" >0.069953</td>\n",
       "            </tr>\n",
       "            <tr>\n",
       "                        <th id=\"T_93e246c0_1a67_11eb_90f6_0242ac130202level0_row7\" class=\"row_heading level0 row7\" >CO</th>\n",
       "                        <td id=\"T_93e246c0_1a67_11eb_90f6_0242ac130202row7_col0\" class=\"data row7 col0\" >-0.267223</td>\n",
       "                        <td id=\"T_93e246c0_1a67_11eb_90f6_0242ac130202row7_col1\" class=\"data row7 col1\" >0.081443</td>\n",
       "                        <td id=\"T_93e246c0_1a67_11eb_90f6_0242ac130202row7_col2\" class=\"data row7 col2\" >0.018488</td>\n",
       "                        <td id=\"T_93e246c0_1a67_11eb_90f6_0242ac130202row7_col3\" class=\"data row7 col3\" >0.225386</td>\n",
       "                        <td id=\"T_93e246c0_1a67_11eb_90f6_0242ac130202row7_col4\" class=\"data row7 col4\" >0.369663</td>\n",
       "                        <td id=\"T_93e246c0_1a67_11eb_90f6_0242ac130202row7_col5\" class=\"data row7 col5\" >0.230434</td>\n",
       "                        <td id=\"T_93e246c0_1a67_11eb_90f6_0242ac130202row7_col6\" class=\"data row7 col6\" >-0.015794</td>\n",
       "                        <td id=\"T_93e246c0_1a67_11eb_90f6_0242ac130202row7_col7\" class=\"data row7 col7\" >1.000000</td>\n",
       "                        <td id=\"T_93e246c0_1a67_11eb_90f6_0242ac130202row7_col8\" class=\"data row7 col8\" >0.478073</td>\n",
       "                        <td id=\"T_93e246c0_1a67_11eb_90f6_0242ac130202row7_col9\" class=\"data row7 col9\" >0.047047</td>\n",
       "                        <td id=\"T_93e246c0_1a67_11eb_90f6_0242ac130202row7_col10\" class=\"data row7 col10\" >0.067161</td>\n",
       "                        <td id=\"T_93e246c0_1a67_11eb_90f6_0242ac130202row7_col11\" class=\"data row7 col11\" >0.288368</td>\n",
       "                        <td id=\"T_93e246c0_1a67_11eb_90f6_0242ac130202row7_col12\" class=\"data row7 col12\" >0.193229</td>\n",
       "                        <td id=\"T_93e246c0_1a67_11eb_90f6_0242ac130202row7_col13\" class=\"data row7 col13\" >0.653542</td>\n",
       "                        <td id=\"T_93e246c0_1a67_11eb_90f6_0242ac130202row7_col14\" class=\"data row7 col14\" >0.219298</td>\n",
       "            </tr>\n",
       "            <tr>\n",
       "                        <th id=\"T_93e246c0_1a67_11eb_90f6_0242ac130202level0_row8\" class=\"row_heading level0 row8\" >SO2</th>\n",
       "                        <td id=\"T_93e246c0_1a67_11eb_90f6_0242ac130202row8_col0\" class=\"data row8 col0\" >-0.109597</td>\n",
       "                        <td id=\"T_93e246c0_1a67_11eb_90f6_0242ac130202row8_col1\" class=\"data row8 col1\" >0.110820</td>\n",
       "                        <td id=\"T_93e246c0_1a67_11eb_90f6_0242ac130202row8_col2\" class=\"data row8 col2\" >0.160203</td>\n",
       "                        <td id=\"T_93e246c0_1a67_11eb_90f6_0242ac130202row8_col3\" class=\"data row8 col3\" >0.174288</td>\n",
       "                        <td id=\"T_93e246c0_1a67_11eb_90f6_0242ac130202row8_col4\" class=\"data row8 col4\" >0.394567</td>\n",
       "                        <td id=\"T_93e246c0_1a67_11eb_90f6_0242ac130202row8_col5\" class=\"data row8 col5\" >0.202624</td>\n",
       "                        <td id=\"T_93e246c0_1a67_11eb_90f6_0242ac130202row8_col6\" class=\"data row8 col6\" >-0.050047</td>\n",
       "                        <td id=\"T_93e246c0_1a67_11eb_90f6_0242ac130202row8_col7\" class=\"data row8 col7\" >0.478073</td>\n",
       "                        <td id=\"T_93e246c0_1a67_11eb_90f6_0242ac130202row8_col8\" class=\"data row8 col8\" >1.000000</td>\n",
       "                        <td id=\"T_93e246c0_1a67_11eb_90f6_0242ac130202row8_col9\" class=\"data row8 col9\" >0.173674</td>\n",
       "                        <td id=\"T_93e246c0_1a67_11eb_90f6_0242ac130202row8_col10\" class=\"data row8 col10\" >0.038739</td>\n",
       "                        <td id=\"T_93e246c0_1a67_11eb_90f6_0242ac130202row8_col11\" class=\"data row8 col11\" >0.275231</td>\n",
       "                        <td id=\"T_93e246c0_1a67_11eb_90f6_0242ac130202row8_col12\" class=\"data row8 col12\" >0.260678</td>\n",
       "                        <td id=\"T_93e246c0_1a67_11eb_90f6_0242ac130202row8_col13\" class=\"data row8 col13\" >0.454992</td>\n",
       "                        <td id=\"T_93e246c0_1a67_11eb_90f6_0242ac130202row8_col14\" class=\"data row8 col14\" >0.174140</td>\n",
       "            </tr>\n",
       "            <tr>\n",
       "                        <th id=\"T_93e246c0_1a67_11eb_90f6_0242ac130202level0_row9\" class=\"row_heading level0 row9\" >O3</th>\n",
       "                        <td id=\"T_93e246c0_1a67_11eb_90f6_0242ac130202row9_col0\" class=\"data row9 col0\" >-0.010628</td>\n",
       "                        <td id=\"T_93e246c0_1a67_11eb_90f6_0242ac130202row9_col1\" class=\"data row9 col1\" >0.158501</td>\n",
       "                        <td id=\"T_93e246c0_1a67_11eb_90f6_0242ac130202row9_col2\" class=\"data row9 col2\" >0.199737</td>\n",
       "                        <td id=\"T_93e246c0_1a67_11eb_90f6_0242ac130202row9_col3\" class=\"data row9 col3\" >0.035620</td>\n",
       "                        <td id=\"T_93e246c0_1a67_11eb_90f6_0242ac130202row9_col4\" class=\"data row9 col4\" >0.308769</td>\n",
       "                        <td id=\"T_93e246c0_1a67_11eb_90f6_0242ac130202row9_col5\" class=\"data row9 col5\" >0.102013</td>\n",
       "                        <td id=\"T_93e246c0_1a67_11eb_90f6_0242ac130202row9_col6\" class=\"data row9 col6\" >0.077762</td>\n",
       "                        <td id=\"T_93e246c0_1a67_11eb_90f6_0242ac130202row9_col7\" class=\"data row9 col7\" >0.047047</td>\n",
       "                        <td id=\"T_93e246c0_1a67_11eb_90f6_0242ac130202row9_col8\" class=\"data row9 col8\" >0.173674</td>\n",
       "                        <td id=\"T_93e246c0_1a67_11eb_90f6_0242ac130202row9_col9\" class=\"data row9 col9\" >1.000000</td>\n",
       "                        <td id=\"T_93e246c0_1a67_11eb_90f6_0242ac130202row9_col10\" class=\"data row9 col10\" >0.026266</td>\n",
       "                        <td id=\"T_93e246c0_1a67_11eb_90f6_0242ac130202row9_col11\" class=\"data row9 col11\" >0.148649</td>\n",
       "                        <td id=\"T_93e246c0_1a67_11eb_90f6_0242ac130202row9_col12\" class=\"data row9 col12\" >0.094369</td>\n",
       "                        <td id=\"T_93e246c0_1a67_11eb_90f6_0242ac130202row9_col13\" class=\"data row9 col13\" >0.196508</td>\n",
       "                        <td id=\"T_93e246c0_1a67_11eb_90f6_0242ac130202row9_col14\" class=\"data row9 col14\" >0.036906</td>\n",
       "            </tr>\n",
       "            <tr>\n",
       "                        <th id=\"T_93e246c0_1a67_11eb_90f6_0242ac130202level0_row10\" class=\"row_heading level0 row10\" >Benzene</th>\n",
       "                        <td id=\"T_93e246c0_1a67_11eb_90f6_0242ac130202row10_col0\" class=\"data row10 col0\" >-0.005597</td>\n",
       "                        <td id=\"T_93e246c0_1a67_11eb_90f6_0242ac130202row10_col1\" class=\"data row10 col1\" >0.028943</td>\n",
       "                        <td id=\"T_93e246c0_1a67_11eb_90f6_0242ac130202row10_col2\" class=\"data row10 col2\" >0.024012</td>\n",
       "                        <td id=\"T_93e246c0_1a67_11eb_90f6_0242ac130202row10_col3\" class=\"data row10 col3\" >0.047622</td>\n",
       "                        <td id=\"T_93e246c0_1a67_11eb_90f6_0242ac130202row10_col4\" class=\"data row10 col4\" >0.040419</td>\n",
       "                        <td id=\"T_93e246c0_1a67_11eb_90f6_0242ac130202row10_col5\" class=\"data row10 col5\" >0.049306</td>\n",
       "                        <td id=\"T_93e246c0_1a67_11eb_90f6_0242ac130202row10_col6\" class=\"data row10 col6\" >0.002948</td>\n",
       "                        <td id=\"T_93e246c0_1a67_11eb_90f6_0242ac130202row10_col7\" class=\"data row10 col7\" >0.067161</td>\n",
       "                        <td id=\"T_93e246c0_1a67_11eb_90f6_0242ac130202row10_col8\" class=\"data row10 col8\" >0.038739</td>\n",
       "                        <td id=\"T_93e246c0_1a67_11eb_90f6_0242ac130202row10_col9\" class=\"data row10 col9\" >0.026266</td>\n",
       "                        <td id=\"T_93e246c0_1a67_11eb_90f6_0242ac130202row10_col10\" class=\"data row10 col10\" >1.000000</td>\n",
       "                        <td id=\"T_93e246c0_1a67_11eb_90f6_0242ac130202row10_col11\" class=\"data row10 col11\" >0.695039</td>\n",
       "                        <td id=\"T_93e246c0_1a67_11eb_90f6_0242ac130202row10_col12\" class=\"data row10 col12\" >0.093247</td>\n",
       "                        <td id=\"T_93e246c0_1a67_11eb_90f6_0242ac130202row10_col13\" class=\"data row10 col13\" >0.052615</td>\n",
       "                        <td id=\"T_93e246c0_1a67_11eb_90f6_0242ac130202row10_col14\" class=\"data row10 col14\" >0.043216</td>\n",
       "            </tr>\n",
       "            <tr>\n",
       "                        <th id=\"T_93e246c0_1a67_11eb_90f6_0242ac130202level0_row11\" class=\"row_heading level0 row11\" >Toluene</th>\n",
       "                        <td id=\"T_93e246c0_1a67_11eb_90f6_0242ac130202row11_col0\" class=\"data row11 col0\" >-0.079653</td>\n",
       "                        <td id=\"T_93e246c0_1a67_11eb_90f6_0242ac130202row11_col1\" class=\"data row11 col1\" >0.128363</td>\n",
       "                        <td id=\"T_93e246c0_1a67_11eb_90f6_0242ac130202row11_col2\" class=\"data row11 col2\" >0.119933</td>\n",
       "                        <td id=\"T_93e246c0_1a67_11eb_90f6_0242ac130202row11_col3\" class=\"data row11 col3\" >0.158014</td>\n",
       "                        <td id=\"T_93e246c0_1a67_11eb_90f6_0242ac130202row11_col4\" class=\"data row11 col4\" >0.299835</td>\n",
       "                        <td id=\"T_93e246c0_1a67_11eb_90f6_0242ac130202row11_col5\" class=\"data row11 col5\" >0.185469</td>\n",
       "                        <td id=\"T_93e246c0_1a67_11eb_90f6_0242ac130202row11_col6\" class=\"data row11 col6\" >0.019276</td>\n",
       "                        <td id=\"T_93e246c0_1a67_11eb_90f6_0242ac130202row11_col7\" class=\"data row11 col7\" >0.288368</td>\n",
       "                        <td id=\"T_93e246c0_1a67_11eb_90f6_0242ac130202row11_col8\" class=\"data row11 col8\" >0.275231</td>\n",
       "                        <td id=\"T_93e246c0_1a67_11eb_90f6_0242ac130202row11_col9\" class=\"data row11 col9\" >0.148649</td>\n",
       "                        <td id=\"T_93e246c0_1a67_11eb_90f6_0242ac130202row11_col10\" class=\"data row11 col10\" >0.695039</td>\n",
       "                        <td id=\"T_93e246c0_1a67_11eb_90f6_0242ac130202row11_col11\" class=\"data row11 col11\" >1.000000</td>\n",
       "                        <td id=\"T_93e246c0_1a67_11eb_90f6_0242ac130202row11_col12\" class=\"data row11 col12\" >0.298762</td>\n",
       "                        <td id=\"T_93e246c0_1a67_11eb_90f6_0242ac130202row11_col13\" class=\"data row11 col13\" >0.291283</td>\n",
       "                        <td id=\"T_93e246c0_1a67_11eb_90f6_0242ac130202row11_col14\" class=\"data row11 col14\" >0.172481</td>\n",
       "            </tr>\n",
       "            <tr>\n",
       "                        <th id=\"T_93e246c0_1a67_11eb_90f6_0242ac130202level0_row12\" class=\"row_heading level0 row12\" >Xylene</th>\n",
       "                        <td id=\"T_93e246c0_1a67_11eb_90f6_0242ac130202row12_col0\" class=\"data row12 col0\" >-0.070967</td>\n",
       "                        <td id=\"T_93e246c0_1a67_11eb_90f6_0242ac130202row12_col1\" class=\"data row12 col1\" >0.090379</td>\n",
       "                        <td id=\"T_93e246c0_1a67_11eb_90f6_0242ac130202row12_col2\" class=\"data row12 col2\" >0.025211</td>\n",
       "                        <td id=\"T_93e246c0_1a67_11eb_90f6_0242ac130202row12_col3\" class=\"data row12 col3\" >0.084178</td>\n",
       "                        <td id=\"T_93e246c0_1a67_11eb_90f6_0242ac130202row12_col4\" class=\"data row12 col4\" >0.186598</td>\n",
       "                        <td id=\"T_93e246c0_1a67_11eb_90f6_0242ac130202row12_col5\" class=\"data row12 col5\" >0.080719</td>\n",
       "                        <td id=\"T_93e246c0_1a67_11eb_90f6_0242ac130202row12_col6\" class=\"data row12 col6\" >-0.026703</td>\n",
       "                        <td id=\"T_93e246c0_1a67_11eb_90f6_0242ac130202row12_col7\" class=\"data row12 col7\" >0.193229</td>\n",
       "                        <td id=\"T_93e246c0_1a67_11eb_90f6_0242ac130202row12_col8\" class=\"data row12 col8\" >0.260678</td>\n",
       "                        <td id=\"T_93e246c0_1a67_11eb_90f6_0242ac130202row12_col9\" class=\"data row12 col9\" >0.094369</td>\n",
       "                        <td id=\"T_93e246c0_1a67_11eb_90f6_0242ac130202row12_col10\" class=\"data row12 col10\" >0.093247</td>\n",
       "                        <td id=\"T_93e246c0_1a67_11eb_90f6_0242ac130202row12_col11\" class=\"data row12 col11\" >0.298762</td>\n",
       "                        <td id=\"T_93e246c0_1a67_11eb_90f6_0242ac130202row12_col12\" class=\"data row12 col12\" >1.000000</td>\n",
       "                        <td id=\"T_93e246c0_1a67_11eb_90f6_0242ac130202row12_col13\" class=\"data row12 col13\" >0.200583</td>\n",
       "                        <td id=\"T_93e246c0_1a67_11eb_90f6_0242ac130202row12_col14\" class=\"data row12 col14\" >0.102928</td>\n",
       "            </tr>\n",
       "            <tr>\n",
       "                        <th id=\"T_93e246c0_1a67_11eb_90f6_0242ac130202level0_row13\" class=\"row_heading level0 row13\" >AQI</th>\n",
       "                        <td id=\"T_93e246c0_1a67_11eb_90f6_0242ac130202row13_col0\" class=\"data row13 col0\" >-0.119162</td>\n",
       "                        <td id=\"T_93e246c0_1a67_11eb_90f6_0242ac130202row13_col1\" class=\"data row13 col1\" >0.619049</td>\n",
       "                        <td id=\"T_93e246c0_1a67_11eb_90f6_0242ac130202row13_col2\" class=\"data row13 col2\" >0.436605</td>\n",
       "                        <td id=\"T_93e246c0_1a67_11eb_90f6_0242ac130202row13_col3\" class=\"data row13 col3\" >0.447853</td>\n",
       "                        <td id=\"T_93e246c0_1a67_11eb_90f6_0242ac130202row13_col4\" class=\"data row13 col4\" >0.537277</td>\n",
       "                        <td id=\"T_93e246c0_1a67_11eb_90f6_0242ac130202row13_col5\" class=\"data row13 col5\" >0.434976</td>\n",
       "                        <td id=\"T_93e246c0_1a67_11eb_90f6_0242ac130202row13_col6\" class=\"data row13 col6\" >0.086308</td>\n",
       "                        <td id=\"T_93e246c0_1a67_11eb_90f6_0242ac130202row13_col7\" class=\"data row13 col7\" >0.653542</td>\n",
       "                        <td id=\"T_93e246c0_1a67_11eb_90f6_0242ac130202row13_col8\" class=\"data row13 col8\" >0.454992</td>\n",
       "                        <td id=\"T_93e246c0_1a67_11eb_90f6_0242ac130202row13_col9\" class=\"data row13 col9\" >0.196508</td>\n",
       "                        <td id=\"T_93e246c0_1a67_11eb_90f6_0242ac130202row13_col10\" class=\"data row13 col10\" >0.052615</td>\n",
       "                        <td id=\"T_93e246c0_1a67_11eb_90f6_0242ac130202row13_col11\" class=\"data row13 col11\" >0.291283</td>\n",
       "                        <td id=\"T_93e246c0_1a67_11eb_90f6_0242ac130202row13_col12\" class=\"data row13 col12\" >0.200583</td>\n",
       "                        <td id=\"T_93e246c0_1a67_11eb_90f6_0242ac130202row13_col13\" class=\"data row13 col13\" >1.000000</td>\n",
       "                        <td id=\"T_93e246c0_1a67_11eb_90f6_0242ac130202row13_col14\" class=\"data row13 col14\" >0.482287</td>\n",
       "            </tr>\n",
       "            <tr>\n",
       "                        <th id=\"T_93e246c0_1a67_11eb_90f6_0242ac130202level0_row14\" class=\"row_heading level0 row14\" >Air_quality</th>\n",
       "                        <td id=\"T_93e246c0_1a67_11eb_90f6_0242ac130202row14_col0\" class=\"data row14 col0\" >-0.036262</td>\n",
       "                        <td id=\"T_93e246c0_1a67_11eb_90f6_0242ac130202row14_col1\" class=\"data row14 col1\" >0.420532</td>\n",
       "                        <td id=\"T_93e246c0_1a67_11eb_90f6_0242ac130202row14_col2\" class=\"data row14 col2\" >0.220225</td>\n",
       "                        <td id=\"T_93e246c0_1a67_11eb_90f6_0242ac130202row14_col3\" class=\"data row14 col3\" >0.276824</td>\n",
       "                        <td id=\"T_93e246c0_1a67_11eb_90f6_0242ac130202row14_col4\" class=\"data row14 col4\" >0.271704</td>\n",
       "                        <td id=\"T_93e246c0_1a67_11eb_90f6_0242ac130202row14_col5\" class=\"data row14 col5\" >0.212622</td>\n",
       "                        <td id=\"T_93e246c0_1a67_11eb_90f6_0242ac130202row14_col6\" class=\"data row14 col6\" >0.069953</td>\n",
       "                        <td id=\"T_93e246c0_1a67_11eb_90f6_0242ac130202row14_col7\" class=\"data row14 col7\" >0.219298</td>\n",
       "                        <td id=\"T_93e246c0_1a67_11eb_90f6_0242ac130202row14_col8\" class=\"data row14 col8\" >0.174140</td>\n",
       "                        <td id=\"T_93e246c0_1a67_11eb_90f6_0242ac130202row14_col9\" class=\"data row14 col9\" >0.036906</td>\n",
       "                        <td id=\"T_93e246c0_1a67_11eb_90f6_0242ac130202row14_col10\" class=\"data row14 col10\" >0.043216</td>\n",
       "                        <td id=\"T_93e246c0_1a67_11eb_90f6_0242ac130202row14_col11\" class=\"data row14 col11\" >0.172481</td>\n",
       "                        <td id=\"T_93e246c0_1a67_11eb_90f6_0242ac130202row14_col12\" class=\"data row14 col12\" >0.102928</td>\n",
       "                        <td id=\"T_93e246c0_1a67_11eb_90f6_0242ac130202row14_col13\" class=\"data row14 col13\" >0.482287</td>\n",
       "                        <td id=\"T_93e246c0_1a67_11eb_90f6_0242ac130202row14_col14\" class=\"data row14 col14\" >1.000000</td>\n",
       "            </tr>\n",
       "    </tbody></table>"
      ],
      "text/plain": [
       "<pandas.io.formats.style.Styler at 0x7ff0ee0b9210>"
      ]
     },
     "execution_count": 17,
     "metadata": {},
     "output_type": "execute_result"
    }
   ],
   "source": [
    "cor = df1.corr()\n",
    "cor.style.background_gradient(cmap='coolwarm')"
   ]
  },
  {
   "cell_type": "code",
   "execution_count": 18,
   "metadata": {
    "execution": {
     "iopub.execute_input": "2020-10-30T04:22:53.774498Z",
     "iopub.status.busy": "2020-10-30T04:22:53.773512Z",
     "iopub.status.idle": "2020-10-30T04:22:53.784413Z",
     "shell.execute_reply": "2020-10-30T04:22:53.784891Z"
    },
    "papermill": {
     "duration": 0.387046,
     "end_time": "2020-10-30T04:22:53.785047",
     "exception": false,
     "start_time": "2020-10-30T04:22:53.398001",
     "status": "completed"
    },
    "tags": []
   },
   "outputs": [],
   "source": [
    "y = df1[\"Air_quality\"]\n",
    "x = df1[['City', 'PM2.5', 'PM10', 'NO', 'NO2', 'NOx', 'NH3', 'CO', 'SO2',\n",
    "       'O3', 'Benzene', 'Toluene', 'Xylene', 'AQI']]\n",
    "X_train, X_test, y_train, y_test = train_test_split(x, y, test_size = 0.3, random_state = 0)"
   ]
  },
  {
   "cell_type": "code",
   "execution_count": 19,
   "metadata": {
    "execution": {
     "iopub.execute_input": "2020-10-30T04:22:54.570990Z",
     "iopub.status.busy": "2020-10-30T04:22:54.570204Z",
     "iopub.status.idle": "2020-10-30T04:22:54.573221Z",
     "shell.execute_reply": "2020-10-30T04:22:54.573695Z"
    },
    "papermill": {
     "duration": 0.420434,
     "end_time": "2020-10-30T04:22:54.573835",
     "exception": false,
     "start_time": "2020-10-30T04:22:54.153401",
     "status": "completed"
    },
    "tags": []
   },
   "outputs": [
    {
     "name": "stdout",
     "output_type": "stream",
     "text": [
      "Classes and number of values in trainset Counter({1: 8397, 3: 4835, 2: 1873, 5: 1641, 4: 935, 0: 672})\n"
     ]
    }
   ],
   "source": [
    "print('Classes and number of values in trainset',Counter(y_train))"
   ]
  },
  {
   "cell_type": "code",
   "execution_count": 20,
   "metadata": {
    "execution": {
     "iopub.execute_input": "2020-10-30T04:22:56.047629Z",
     "iopub.status.busy": "2020-10-30T04:22:56.046601Z",
     "iopub.status.idle": "2020-10-30T04:22:56.657803Z",
     "shell.execute_reply": "2020-10-30T04:22:56.657235Z"
    },
    "papermill": {
     "duration": 0.990075,
     "end_time": "2020-10-30T04:22:56.657919",
     "exception": false,
     "start_time": "2020-10-30T04:22:55.667844",
     "status": "completed"
    },
    "tags": []
   },
   "outputs": [
    {
     "name": "stdout",
     "output_type": "stream",
     "text": [
      "Classes and number of values in trainset after SMOTE: Counter({1: 8397, 4: 8397, 3: 8397, 0: 8397, 5: 8397, 2: 8397})\n"
     ]
    }
   ],
   "source": [
    "from imblearn.over_sampling import SMOTE\n",
    "oversample = SMOTE()\n",
    "X_train,y_train = oversample.fit_resample(X_train,y_train)\n",
    "print('Classes and number of values in trainset after SMOTE:',Counter(y_train))"
   ]
  },
  {
   "cell_type": "markdown",
   "metadata": {
    "papermill": {
     "duration": 0.371516,
     "end_time": "2020-10-30T04:22:57.400435",
     "exception": false,
     "start_time": "2020-10-30T04:22:57.028919",
     "status": "completed"
    },
    "tags": []
   },
   "source": [
    "## Classification"
   ]
  },
  {
   "cell_type": "code",
   "execution_count": 21,
   "metadata": {
    "execution": {
     "iopub.execute_input": "2020-10-30T04:22:58.155143Z",
     "iopub.status.busy": "2020-10-30T04:22:58.154442Z",
     "iopub.status.idle": "2020-10-30T04:23:09.812414Z",
     "shell.execute_reply": "2020-10-30T04:23:09.811403Z"
    },
    "papermill": {
     "duration": 12.036503,
     "end_time": "2020-10-30T04:23:09.812635",
     "exception": false,
     "start_time": "2020-10-30T04:22:57.776132",
     "status": "completed"
    },
    "tags": []
   },
   "outputs": [
    {
     "name": "stdout",
     "output_type": "stream",
     "text": [
      "confussion matrix\n",
      "[[ 256    0    0    2    0    0]\n",
      " [   0 3516   61  121    0    0]\n",
      " [   0    0  794    0    0   24]\n",
      " [  96    5    0 1911    0    0]\n",
      " [   0    0    0    0  399    3]\n",
      " [   0    0    0    0   12  666]]\n",
      "\n",
      "\n",
      "accuracy 95.88100686498856\n"
     ]
    }
   ],
   "source": [
    "cls=SVC()\n",
    "cls.fit(X_train,y_train)\n",
    "svmpred=cls.predict(X_test)\n",
    "svmpred\n",
    "cm=confusion_matrix(y_test,svmpred)\n",
    "print(\"confussion matrix\")\n",
    "print(cm)\n",
    "print(\"\\n\")\n",
    "accuracy=accuracy_score(y_test,svmpred)\n",
    "print(\"accuracy\",accuracy*100)"
   ]
  },
  {
   "cell_type": "code",
   "execution_count": 22,
   "metadata": {
    "execution": {
     "iopub.execute_input": "2020-10-30T04:23:10.544231Z",
     "iopub.status.busy": "2020-10-30T04:23:10.543050Z",
     "iopub.status.idle": "2020-10-30T04:23:12.653735Z",
     "shell.execute_reply": "2020-10-30T04:23:12.653038Z"
    },
    "papermill": {
     "duration": 2.477741,
     "end_time": "2020-10-30T04:23:12.653849",
     "exception": false,
     "start_time": "2020-10-30T04:23:10.176108",
     "status": "completed"
    },
    "tags": []
   },
   "outputs": [
    {
     "name": "stdout",
     "output_type": "stream",
     "text": [
      "confussion matrix\n",
      "[[ 258    0    0    0    0    0]\n",
      " [   0 3697    1    0    0    0]\n",
      " [   0    1  817    0    0    0]\n",
      " [   0    1    0 2011    0    0]\n",
      " [   0    0    0    0  402    0]\n",
      " [   0    0    1    0    1  676]]\n",
      "\n",
      "\n",
      "accuracy 99.93643529112637\n"
     ]
    }
   ],
   "source": [
    "rf = RandomForestClassifier(n_estimators=20, random_state=23)\n",
    "rf.fit(X_train, y_train)\n",
    "rf_predict=rf.predict(X_test)\n",
    "rf_predict1=rf.predict(X_train)\n",
    "rf_conf_matrix = confusion_matrix(y_test, rf_predict)\n",
    "rf_acc_score = accuracy_score(y_test, rf_predict)\n",
    "print(\"confussion matrix\")\n",
    "print(rf_conf_matrix)\n",
    "print(\"\\n\")\n",
    "print(\"accuracy\",rf_acc_score*100)"
   ]
  },
  {
   "cell_type": "code",
   "execution_count": 23,
   "metadata": {
    "execution": {
     "iopub.execute_input": "2020-10-30T04:23:13.386771Z",
     "iopub.status.busy": "2020-10-30T04:23:13.386055Z",
     "iopub.status.idle": "2020-10-30T04:23:19.024294Z",
     "shell.execute_reply": "2020-10-30T04:23:19.024897Z"
    },
    "papermill": {
     "duration": 6.010596,
     "end_time": "2020-10-30T04:23:19.025066",
     "exception": false,
     "start_time": "2020-10-30T04:23:13.014470",
     "status": "completed"
    },
    "tags": []
   },
   "outputs": [
    {
     "name": "stdout",
     "output_type": "stream",
     "text": [
      "confussion matrix\n",
      "[[ 258    0    0    0    0    0]\n",
      " [   0 3698    0    0    0    0]\n",
      " [   0    0  818    0    0    0]\n",
      " [   0    0    0 2012    0    0]\n",
      " [   0    0    0    0  402    0]\n",
      " [   0    0    0    0    0  678]]\n",
      "\n",
      "\n",
      "accuracy 100.0\n"
     ]
    }
   ],
   "source": [
    "gbc=XGBClassifier(learning_rate =0.01,n_estimators=100,max_depth=1,\n",
    "                  min_child_weight=6,subsample=0.8,seed=13)\n",
    "gbc.fit(X_train,y_train)\n",
    "pred = gbc.predict(X_test)\n",
    "xgb_conf_matrix = confusion_matrix(y_test, pred)\n",
    "accuracy = accuracy_score(y_test, pred)*100\n",
    "print(\"confussion matrix\")\n",
    "print(xgb_conf_matrix)\n",
    "print(\"\\n\")\n",
    "print(\"accuracy\",accuracy)"
   ]
  },
  {
   "cell_type": "markdown",
   "metadata": {
    "papermill": {
     "duration": 0.406518,
     "end_time": "2020-10-30T04:23:19.838089",
     "exception": false,
     "start_time": "2020-10-30T04:23:19.431571",
     "status": "completed"
    },
    "tags": []
   },
   "source": [
    "## Conclusion\n",
    "\n",
    ">1. Vehicular pollution contents are more related to air quality index.\n",
    ">2. Delhi is the most polluted city in terms of vehicular pollution contents.\n",
    ">3. Ahmadabad is the most polluted city in terms of industrial pollution content.\n",
    ">4. After COVID19 pandemic there is gradual dicrease in vehicular pollution contents, industrial pollution content.\n",
    ">5. Extra Gradient Boost classifier 100% accurately classify the target variable."
   ]
  },
  {
   "cell_type": "code",
   "execution_count": null,
   "metadata": {
    "papermill": {
     "duration": 0.361751,
     "end_time": "2020-10-30T04:23:21.290772",
     "exception": false,
     "start_time": "2020-10-30T04:23:20.929021",
     "status": "completed"
    },
    "tags": []
   },
   "outputs": [],
   "source": []
  }
 ],
 "metadata": {
  "kernelspec": {
   "display_name": "Python 3",
   "language": "python",
   "name": "python3"
  },
  "language_info": {
   "codemirror_mode": {
    "name": "ipython",
    "version": 3
   },
   "file_extension": ".py",
   "mimetype": "text/x-python",
   "name": "python",
   "nbconvert_exporter": "python",
   "pygments_lexer": "ipython3",
   "version": "3.8.15"
  },
  "papermill": {
   "duration": 63.695203,
   "end_time": "2020-10-30T04:23:21.770185",
   "environment_variables": {},
   "exception": null,
   "input_path": "__notebook__.ipynb",
   "output_path": "__notebook__.ipynb",
   "parameters": {},
   "start_time": "2020-10-30T04:22:18.074982",
   "version": "2.1.0"
  }
 },
 "nbformat": 4,
 "nbformat_minor": 4
}
